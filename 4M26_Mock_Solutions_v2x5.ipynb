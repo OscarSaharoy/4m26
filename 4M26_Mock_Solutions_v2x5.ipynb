{
 "cells": [
  {
   "cell_type": "markdown",
   "metadata": {},
   "source": [
    "<b>CANDIDATE NUMBER:</b>"
   ]
  },
  {
   "cell_type": "markdown",
   "metadata": {},
   "source": [
    "<div style=\"border-width:2px;border-style:solid;border-color:black;\">[TO FILL]</div>"
   ]
  },
  {
   "cell_type": "markdown",
   "metadata": {},
   "source": [
    "<hr>\n",
    "Version: IB/2"
   ]
  },
  {
   "cell_type": "markdown",
   "metadata": {},
   "source": [
    "EGT3<br>\n",
    "ENGINEERING TRIPOS PART IIB\n",
    "\n",
    "<br>\n",
    "\n",
    "<hr>\n",
    "<b>Thursday 16 March 2023 &emsp; 4 to 6.30</b>\n",
    "<hr>\n",
    "\n",
    "<b>Module 4M26</b> <br>\n",
    "\n",
    "<b>ALGORITHMS AND DATA STRUCTURES</b><br>\n",
    "\n",
    "<i>Answer not more than <b>three</b> questions.</i>\n",
    "\n",
    "<i>All questions carry the same number of marks.</i>\n",
    "\n",
    "<i>The <b>approximate</b> percentage of marks allocated to each part of a question is indicated in the right margin.</i>\n",
    "\n",
    "<i>Write your candidate number  <b><u>not</u></b> your name on the cover sheet.</i>\n",
    "\n",
    "<i>The runtime of a successful test case should be no longer than 10 seconds when run on a standard DPO machine.</i>\n",
    "\n",
    "<i>No access to internet or other resources is permitted.</i>\n",
    "\n",
    "<i>Solutions should not use and import any python libraries. Only default Python data structures are to be used.</i> <br>\n",
    "\n",
    "<b>STATIONERY REQUIREMENTS</b> <br>\n",
    "Single-sided script paper<br>\n",
    "\n",
    "<b>SPECIAL REQUIREMENTS TO BE SUPPLIED FOR THIS EXAM</b> <br>\n",
    "CUED approved calculator allowed<br>\n",
    "Engineering Data Book<br>\n",
    "DPO computer<br>\n",
    "\n",
    "<b>10 minutes reading time is allowed for this paper at the start of\n",
    "the test.</b><br>\n",
    "\n",
    "<b>You may not start to read the questions printed on the subsequent pages of this question paper until instructed to do so.</b><br>\n",
    "\n",
    "<b>You may not remove any stationery from the Examination Room.</b>"
   ]
  },
  {
   "cell_type": "markdown",
   "metadata": {},
   "source": [
    "<hr>\n",
    "<br>\n",
    "<br>\n",
    "<br>\n",
    "<br>\n",
    "<br>\n",
    "<br>"
   ]
  },
  {
   "cell_type": "markdown",
   "metadata": {},
   "source": [
    "<h1> 1.</h1> "
   ]
  },
  {
   "cell_type": "markdown",
   "metadata": {},
   "source": [
    "(a) Let $S=\\{a_1,a_2,\\cdots,a_n\\}$ be a set of $n$ activities that wish to use a resource (e.g. a lecture hall), which can serve only one activity at a time. The set of activities satisfies the following properties:<br><br>\n",
    "\n",
    "&emsp; (i) each activity, $a_i$, has a start time, $s_i$, and a finish time, $f_i$; <br>\n",
    "&emsp; (ii) if selected, activity, $a_i$, takes place during the half-open time interval $[s_i,f_i)$; <br>\n",
    "&emsp; (iii) activities, $a_i$ and $a_j$, are compatible if the intervals, $[s_i,f_i)$ and $[s_j,f_j)$, do not overlap.  <br><br>\n",
    "\n",
    "Write the function, **activity_selection**($A$), which takes in a list of lists, $A$, such that $A[i][0]=s_i$, $A[i][1]=f_i$, as an input and outputs the size of the maximum subset of mutually compatible activities.<br><br>\n",
    "\n",
    "Your solution should have $\\Theta(n \\log n)$ run time.\n",
    "<div style=\"text-align: right\">[30%]</div>"
   ]
  },
  {
   "cell_type": "markdown",
   "metadata": {},
   "source": [
    "### Examples:"
   ]
  },
  {
   "cell_type": "markdown",
   "metadata": {},
   "source": [
    "**Input:** `[[1,3],[1,8],[2,6],[7,10]]` <br>\n",
    "**Output:** `2`"
   ]
  },
  {
   "cell_type": "markdown",
   "metadata": {},
   "source": [
    "**Input:** `[[0,11],[2,6],[4,7],[5,10],[7,11],[10,13],[12,14]]` <br>\n",
    "**Output:** `3`"
   ]
  },
  {
   "cell_type": "markdown",
   "metadata": {},
   "source": [
    "### Constraints:\n",
    "\n",
    "- $1 \\leq n \\leq 1000$.\n",
    "- $0\\leq s_i < f_i \\leq 10^6$."
   ]
  },
  {
   "cell_type": "markdown",
   "metadata": {},
   "source": [
    "### Code:"
   ]
  },
  {
   "cell_type": "code",
   "execution_count": 1,
   "metadata": {},
   "outputs": [],
   "source": [
    "def merge(arr, l, r, pivot, attribute): \n",
    "    \n",
    "    temp = [arr[i] for i in range(l,r+1)]\n",
    "    \n",
    "    c, i, j = 0, l, pivot+1\n",
    "\n",
    "    while c <= r - l:\n",
    "        if j<= r and (i>pivot or arr[i][attribute]>arr[j][attribute]):\n",
    "            temp[c]=arr[j]\n",
    "            j += 1\n",
    "            c += 1\n",
    "        else:\n",
    "            temp[c]=arr[i]\n",
    "            i += 1\n",
    "            c += 1\n",
    "            \n",
    "    for i in range(len(temp)):\n",
    "        arr[l+i]=temp[i]\n",
    "            \n",
    "\n",
    "def merge_sort(arr, l, r, attribute):\n",
    "\n",
    "    if l>=r:\n",
    "        return\n",
    "    pivot = (l+r)//2\n",
    "    merge_sort(arr, l, pivot, attribute)\n",
    "    merge_sort(arr, pivot+1, r, attribute)\n",
    "    merge(arr, l, r, pivot, attribute)    \n",
    "\n",
    "def activity_selection(A):\n",
    "    \n",
    "    # Insert code here\n",
    "\n",
    "    merge_sort(A, 0, len(A) - 1, 1) # Sorting the array of list in increasing finish time order.\n",
    "\n",
    "    last_time =0\n",
    "    count =0\n",
    "\n",
    "    for i in range(0, len(A)):\n",
    "        if A[i][0] >=last_time:\n",
    "            count+= 1\n",
    "            last_time=A[i][1]\n",
    "    return count"
   ]
  },
  {
   "cell_type": "markdown",
   "metadata": {},
   "source": [
    "### Tests:"
   ]
  },
  {
   "cell_type": "markdown",
   "metadata": {},
   "source": [
    "##### Run example test case 1:"
   ]
  },
  {
   "cell_type": "code",
   "execution_count": 2,
   "metadata": {},
   "outputs": [
    {
     "name": "stdout",
     "output_type": "stream",
     "text": [
      "2\n"
     ]
    }
   ],
   "source": [
    "input_value = [[1,3],[1,8],[2,6],[7,10]]\n",
    "print (activity_selection(input_value))"
   ]
  },
  {
   "cell_type": "markdown",
   "metadata": {},
   "source": [
    "##### Run example test case 2:"
   ]
  },
  {
   "cell_type": "code",
   "execution_count": 3,
   "metadata": {},
   "outputs": [
    {
     "name": "stdout",
     "output_type": "stream",
     "text": [
      "3\n"
     ]
    }
   ],
   "source": [
    "input_value = [[0,11],[2,6],[4,7],[5,10],[7,11],[10,13],[12,14]]\n",
    "print (activity_selection(input_value))"
   ]
  },
  {
   "cell_type": "markdown",
   "metadata": {},
   "source": [
    "#### Automatic Evaluation:"
   ]
  },
  {
   "cell_type": "markdown",
   "metadata": {},
   "source": [
    "<i><b><font color='red'>Do not forget to run on all test cases when your final implementation is finished!</font></b></i>"
   ]
  },
  {
   "cell_type": "code",
   "execution_count": 4,
   "metadata": {},
   "outputs": [
    {
     "name": "stdout",
     "output_type": "stream",
     "text": [
      "----------------------------------\n",
      "Evaluating question 1, part a\n",
      "Running question 1, part a, test id: 1\n",
      "Input:\n",
      "[[1, 3], [1, 8], [2, 6], [7, 10]]\n",
      "Obtained output:\n",
      "2\n",
      "<<CORRECT>>\n",
      "Running question 1, part a, test id: 2\n",
      "Input:\n",
      "[[0, 11], [2, 6], [4, 7], [5, 10], [7, 11], [10, 13], [12, 14]]\n",
      "Obtained output:\n",
      "3\n",
      "<<CORRECT>>\n",
      "Running question 1, part a, test id: 3\n",
      "Input:\n",
      "[[1, 100]]\n",
      "Obtained output:\n",
      "1\n",
      "<<CORRECT>>\n",
      "Running question 1, part a, test id: 4\n",
      "Input:\n",
      "[[1, 3], [7, 9], [6, 8], [2, 4], [4, 6], [5, 7], [3, 5]]\n",
      "Obtained output:\n",
      "4\n",
      "<<CORRECT>>\n",
      "Running question 1, part a, test id: 5\n",
      "Input:\n",
      "[[1, 2], [1, 3], [1, 4], [1, 5], [1, 6], [2, 3], [1, 7], [1, 8], [1, 9], [1, 10], [1, 11], [1, 12], [1, 13]]\n",
      "Obtained output:\n",
      "2\n",
      "<<CORRECT>>\n",
      "-----------------\n",
      "Total correct outputs:\n",
      "5 out of 5\n",
      "----------------------------------\n"
     ]
    }
   ],
   "source": [
    "#DO NOT EDIT THIS CODE!\n",
    "from evaluation_script import evaluate_solution \n",
    "evaluate_solution(question_id=1,question_part_id='a',function=activity_selection,\n",
    "                  test_case_list=[1,2,3,4,5],verbose=True)"
   ]
  },
  {
   "cell_type": "markdown",
   "metadata": {},
   "source": [
    "(b) Explain why your algorithm described in Part (a) is correct. Derive its run time complexity in detail. <div style=\"text-align: right\">[15%]</div>"
   ]
  },
  {
   "cell_type": "markdown",
   "metadata": {},
   "source": [
    "<div style=\"border-width:2px;border-style:solid;border-color:black;\">\n",
    "The solution written in Part (a) has two steps: (1) sorting of the activities by their finish time in an non-decreasing order and (2) iteratively selecting the earliest (in terms of finish time) possible activity which is mutually compatible with previously selected activities.<br><br>\n",
    "\n",
    "\n",
    "<b>Step-1.</b> The correctness of MergeSort can be proven by considering mathematical induction on the length of the array. It is straight forward to show that MergeSort gives a correct result for $n=1$ as its base case. Lets assume that it is correct for any array of length, $n>1$. Since $n>1$ then two subsequent recursive $MergeSort$ calls on $arr[:n//2]$ and $arr[n//2:]$ will obtain the correctly sorted arrays. Furthermore <b>merge</b> step maintains the loop invariant that after each step of the loop, $temp[:c]$, is sorted. Hence the whole procedure obtains a sorted array of length $n+1$. <br><br>\n",
    "    \n",
    "The computation time of the MergeSort can be described using the following recursive relationship: <br><br>\n",
    "    \n",
    "$T(n)=\\begin{cases}\n",
    "    2*T(\\lfloor n/2\\rfloor)+\\Theta(n), & \\text{if } n > 1\\\\\n",
    "    \\Theta(1), & \\text{otherwise}\n",
    "\\end{cases}$ <br><br>\n",
    "    \n",
    "The substitution method can be used. Lets guess that $T(n)=O(n\\log_2 n)$. In such case $T(\\lfloor n/2\\rfloor)\\leq c \\lfloor n/2 \\rfloor log_2(\\lfloor n/2 \\rfloor)$. <br><br>\n",
    "    \n",
    "Hence $T(n)\\leq 2(c \\lfloor n/2 \\rfloor \\log_2 (\\lfloor n/2\\rfloor))+ cn\\leq \\\\ \\leq cn \\log_2(n/2)+cn = cn \\log_2 n - cn +cn=cn\\log_2 n.$ Similarly, one can prove that $T(n)=\\Omega(n \\log_2 n)$. Hence $T(n)=\\Theta(n \\log_2 n)$.<br><br>\n",
    "\n",
    "<b>Step-2.</b>  If we formulate the activity selection problem as a sequence of decisions whether to select or not to select a particular activity starting from the activity with the earliest finishing time, we realise that if at any point of selection we can choose between two or more mutually compatible activities then the solution which choses the activity with an earlier finish time is always is equally good or better than alternative solutions (ie. we can simply replace the activity with later finish time with activity which has an earlier finish time). The runtime of this procedure is $O(n)$ since it performs a constant amount of steps for each activity. Total runtime is $\\Theta(n \\log n)$.\n",
    "    \n",
    "</div>"
   ]
  },
  {
   "cell_type": "markdown",
   "metadata": {},
   "source": [
    "(c) Give brief answers to the following questions."
   ]
  },
  {
   "cell_type": "markdown",
   "metadata": {},
   "source": [
    "&emsp; (i) A set of items are held in a linked list. The list is (already) sorted, and it contains $n$ items. What are the best, worst and average case costs of looking up an item that is already present in the list, and what are the costs of verifying that an item is not present?   <div style=\"text-align: right\">[10%]</div>"
   ]
  },
  {
   "cell_type": "markdown",
   "metadata": {},
   "source": [
    "<div style=\"border-width:2px;border-style:solid;border-color:black;\">\n",
    "The best, worst, and average costs of looking up an item that is already present in a sorted linked list of $n$ items are as follows. Note, that we assume that the list is traversed using the python code below. <br><br>\n",
    "\n",
    "<b>Best case cost:</b> $O(1)$ - in the best-case scenario, the item being searched is located at the head of the linked list. This means that only two comparisons are needed to determine that the item is present in the list. <br><br>\n",
    "\n",
    "<b>Worst case cost:</b> $O(n)$ - in the worst-case scenario, the item being searched is located at the tail of the linked list. In this case, $n+1$ comparisons are needed. <br><br>\n",
    "\n",
    "<b>Average case cost:</b> $O(\\frac{n}{2})=O(n)$ - in the average case scenario, it is assumed that the items in the linked list are uniformly distributed, and the probability of any item being searched is the same. In this case, the average number of comparisons needed to find the item will be $\\lfloor\\frac{n}{2}\\rfloor+1$. <br><br>\n",
    "\n",
    "The best, average and worst case costs of verifying that an item is not present in the linked list is the same as when an element is present. Ie. best and worst cases happens when the item search for is smaller than the first element or larger than the last element respectively. On average, under similar assumptions (ie. that the value search for is drawn from the same uniform distribution as the elements of the linked list) as before, runtime is also $O(n)$.\n",
    "</div>"
   ]
  },
  {
   "cell_type": "code",
   "execution_count": 5,
   "metadata": {},
   "outputs": [
    {
     "name": "stdout",
     "output_type": "stream",
     "text": [
      "<__main__.Element object at 0x106f60040>\n"
     ]
    }
   ],
   "source": [
    "class LinkedList:\n",
    "    def __init__(self):\n",
    "        self.head = None\n",
    "    def append(self, element):\n",
    "        if self.head is None:\n",
    "            self.head = element\n",
    "        else:\n",
    "            start = self.head\n",
    "            while not(start.next is None):\n",
    "                start = start.next\n",
    "            start.next = element\n",
    "    def find(self, val):\n",
    "        start = self.head\n",
    "        while not (start is None) and val>start.val:\n",
    "            start = start.next\n",
    "        if start is None or start.val!=val:\n",
    "            return None\n",
    "        else:\n",
    "            return start\n",
    "class Element:\n",
    "    def __init__(self, val):\n",
    "        self.val = val\n",
    "        self.next = None\n",
    "mylist = LinkedList()\n",
    "for i in range(10):\n",
    "    mylist.append(Element(i))\n",
    "print(mylist.find(1))"
   ]
  },
  {
   "cell_type": "markdown",
   "metadata": {},
   "source": [
    "&emsp; (ii) Show that the solution to the recurrence $f(n)=\\begin{cases}  1 & n \\leq 2, \\\\2f(\\lfloor\\frac{n}{2}\\rfloor+1)+n & n>2 \\end{cases}$ is asymptotically bounded by $O(n\\log n)$. <div style=\"text-align: right\">[10%]</div>"
   ]
  },
  {
   "cell_type": "markdown",
   "metadata": {},
   "source": [
    "<div style=\"border-width:2px;border-style:solid;border-color:black;\">\n",
    "Choose $n_1$ such that $n\\geq n_1$ implies $\\frac{n}{2}+1\\leq \\frac{2n}{3}$. We'll find $c$ and $d$ such that $T(n)\\leq c n\\log n -d$. <br><br>\n",
    "    $T(n)=2T(\\lfloor\\frac{n}{2}\\rfloor+1)+n \\leq \\\\ \\leq 2(c(\\frac{n}{2}+1)\\log (\\frac{n}{2} +1)-d)+n \\leq \\\\ \\leq cn \\log(\\frac{n}{2}+1)+ 2c \\log(\\frac{n}{2}+1)-2d+n \\leq \\\\ \\leq cn\\log (\\frac{2n}{3})+2 c \\log(\\frac{2n}{3})-2d+n = \\\\ = cn \\log n - d +cn\\log(\\frac{2}{3})+ 2c\\log(\\frac{2n}{3})-d+n.$ <br><br>\n",
    "    \n",
    "If we take $c=-\\frac{2}{\\log \\frac{2}{3}}$ and $d=-4$. Then we have $T(n)\\leq cn\\log n -d + 2 c \\log(n) -n$. Since  there exists $n_2$ such that $n\\geq n_2$ implies $n\\geq 2 c \\log (n)$. Letting $n_0=\\max(n_1,n_2)$ we have that $n\\geq n_0$ implies $T(n)\\leq cn \\log n -d$. Therefore $T(n)=O(n\\log n)$.\n",
    "    \n",
    "</div>"
   ]
  },
  {
   "cell_type": "markdown",
   "metadata": {},
   "source": [
    "&emsp; (iii) Explain the differences (if any) in the run time performance and/or memory requirements between a recursive solution with memoization and a dynamic programming solution. In your answer use an example of a concrete algorithm. <div style=\"text-align: right\">[10%]</div>"
   ]
  },
  {
   "cell_type": "markdown",
   "metadata": {},
   "source": [
    "<div style=\"border-width:2px;border-style:solid;border-color:black;\">\n",
    "Memoization technique allows to improve the performance of recursive algorithms. When using memoization, the solutions to subproblems solved by the recursive algorithm are stored in an array, and are loaded from such array instead of performing a recursive call if they had been computed before. This improves performance over standard recursive solution as solutions to subproblems are never computed twice. <br><br>\n",
    "    \n",
    "In a typical bottom-up dynamic programming approach, solutions to problems are constructed from solutions to smaller subproblems stored in a table. This approach is slightly less intuitive than memoisation, however it has less overhead as it does not require recursive calls of functions and is usually implemented via nested for loops. <br><br>\n",
    "    \n",
    "If a solution to a problem with some particular input requires one to examine a sparse set of subproblems (e.g. solving 0-1 knapsack problem where all weights are integers divisible by 5) then the memoized solution may be significantly more efficient both in terms of memory usage and run time than a straight-forward bottom up dynamic programming implementation.\n",
    "</div>"
   ]
  },
  {
   "cell_type": "markdown",
   "metadata": {},
   "source": [
    "(d) Write the function **lcs**($L$), which takes a list, $L$, as an input. This list contains three strings. The function should output the longest common sub-sequence string which is present in all three given strings. If no common subsequence exist, an empty string should be returned. <br>\n",
    "\n",
    "Note, a subsequence string is a string that can be derived from another string by deleting some or no elements without changing the order of the remaining elements.\n",
    "\n",
    " <div style=\"text-align: right\">[25%]</div>"
   ]
  },
  {
   "cell_type": "markdown",
   "metadata": {},
   "source": [
    "### Examples:"
   ]
  },
  {
   "cell_type": "markdown",
   "metadata": {},
   "source": [
    "**Input:** `[\"le2ap\",\"3le2apto\",\"l1eaptoleap\"]` <br>\n",
    "**Output:** `\"leap\"`"
   ]
  },
  {
   "cell_type": "markdown",
   "metadata": {},
   "source": [
    "**Input:** `[\"xyzk1e2\",\"xc17ef\",\"xx1ex\"]` <br>\n",
    "**Output:** `\"x1e\"`"
   ]
  },
  {
   "cell_type": "markdown",
   "metadata": {},
   "source": [
    "### Constraints:\n",
    "\n",
    "- $1\\leq \\text{len}(L[i]) \\leq 100$ for $i\\in\\{0,1,2\\}$."
   ]
  },
  {
   "cell_type": "markdown",
   "metadata": {},
   "source": [
    "### Code:"
   ]
  },
  {
   "cell_type": "code",
   "execution_count": 6,
   "metadata": {},
   "outputs": [],
   "source": [
    "def lcs(L):\n",
    "    \n",
    "    # Insert code here\n",
    "    \n",
    "    X, Y, Z = L[0], L[1], L[2]\n",
    "\n",
    "    m, n, o = len(X), len(Y), len(Z)\n",
    "    L = [[[0 for i in range(o+1)] for j in range(n+1)]\n",
    "         for k in range(m+1)]\n",
    "    P = [[['' for i in range(o+1)] for j in range(n+1)]\n",
    "         for k in range(m+1)]\n",
    "\n",
    "    for i in range(m+1):\n",
    "        for j in range(n+1):\n",
    "            for k in range(o+1):\n",
    "                if (i == 0 or j == 0 or k == 0):\n",
    "                    L[i][j][k] = 0        \n",
    "                elif (X[i-1] == Y[j-1] and\n",
    "                      X[i-1] == Z[k-1]):\n",
    "                    L[i][j][k] = L[i-1][j-1][k-1] + 1 \n",
    "                    P[i][j][k] = P[i-1][j-1][k-1]+X[i-1]\n",
    "                else:\n",
    "                    \n",
    "                    L[i][j][k] = L[i-1][j][k]\n",
    "                    P[i][j][k] = P[i-1][j][k]\n",
    "                    if L[i][j-1][k] > L[i][j][k]:                        \n",
    "                        L[i][j][k] = L[i][j-1][k]\n",
    "                        P[i][j][k] = P[i][j-1][k]\n",
    "                    if L[i][j][k-1] > L[i][j][k]:                        \n",
    "                        L[i][j][k] = L[i][j][k-1]\n",
    "                        P[i][j][k] = P[i][j][k-1]\n",
    "                        \n",
    "    \n",
    "    return P[m][n][o]\n"
   ]
  },
  {
   "cell_type": "markdown",
   "metadata": {},
   "source": [
    "### Tests:"
   ]
  },
  {
   "cell_type": "markdown",
   "metadata": {},
   "source": [
    "##### Run example test case 1:"
   ]
  },
  {
   "cell_type": "code",
   "execution_count": 7,
   "metadata": {},
   "outputs": [
    {
     "name": "stdout",
     "output_type": "stream",
     "text": [
      "leap\n"
     ]
    }
   ],
   "source": [
    "input_value = [\"le2ap\",\"3le2apto\",\"l1eaptoleap\"]\n",
    "print (lcs(input_value))"
   ]
  },
  {
   "cell_type": "markdown",
   "metadata": {},
   "source": [
    "##### Run example test case 2:"
   ]
  },
  {
   "cell_type": "code",
   "execution_count": 8,
   "metadata": {},
   "outputs": [
    {
     "name": "stdout",
     "output_type": "stream",
     "text": [
      "x1e\n"
     ]
    }
   ],
   "source": [
    "input_value = [\"xyzk1e2\",\"xc17ef\",\"xx1ex\"]\n",
    "print (lcs(input_value))"
   ]
  },
  {
   "cell_type": "markdown",
   "metadata": {},
   "source": [
    "#### Automatic Evaluation:"
   ]
  },
  {
   "cell_type": "markdown",
   "metadata": {},
   "source": [
    "<i><b><font color='red'>Do not forget to run on all test cases when your final implementation is finished!</font></b></i>"
   ]
  },
  {
   "cell_type": "code",
   "execution_count": 9,
   "metadata": {},
   "outputs": [
    {
     "name": "stdout",
     "output_type": "stream",
     "text": [
      "----------------------------------\n",
      "Evaluating question 1, part d\n",
      "Running question 1, part d, test id: 1\n",
      "Input:\n",
      "['le2ap', '3le2apto', 'l1eaptoleap']\n",
      "Obtained output:\n",
      "leap\n",
      "<<CORRECT>>\n",
      "Running question 1, part d, test id: 2\n",
      "Input:\n",
      "['xyzk1e2', 'xc17ef', 'xx1ex']\n",
      "Obtained output:\n",
      "x1e\n",
      "<<CORRECT>>\n",
      "Running question 1, part d, test id: 3\n",
      "Input:\n",
      "['a', 'b', 'c']\n",
      "Obtained output:\n",
      "\n",
      "<<CORRECT>>\n",
      "Running question 1, part d, test id: 4\n",
      "Input:\n",
      "['gfedcba', 'abcdefga', 'abacdefg']\n",
      "Obtained output:\n",
      "ba\n",
      "<<CORRECT>>\n",
      "Running question 1, part d, test id: 5\n",
      "Input:\n",
      "['a1b1c1d1e1f1g1aaaaaaaaaaa', 'ttctt1tuuduuu1uuuaaaaaaaaaaaaaaa', 'yyyyyyc1yyyyyyyrrrrrrd1rrrrrrrrrrr']\n",
      "Obtained output:\n",
      "c1d1\n",
      "<<CORRECT>>\n",
      "-----------------\n",
      "Total correct outputs:\n",
      "5 out of 5\n",
      "----------------------------------\n"
     ]
    }
   ],
   "source": [
    "#DO NOT EDIT THIS CODE!\n",
    "from evaluation_script import evaluate_solution \n",
    "evaluate_solution(question_id=1,question_part_id='d',function=lcs,\n",
    "                  test_case_list=[1,2,3,4,5],verbose=True)"
   ]
  },
  {
   "cell_type": "markdown",
   "metadata": {},
   "source": [
    "<hr>\n",
    "<br>\n",
    "<br>"
   ]
  },
  {
   "cell_type": "markdown",
   "metadata": {},
   "source": [
    "## 2. "
   ]
  },
  {
   "cell_type": "markdown",
   "metadata": {},
   "source": [
    "A Binary Search Tree (BST) is a general-purpose data structure for storing keys.  In the question below, you may assume that all keys stored in a Binary Search Tree will be unique integers."
   ]
  },
  {
   "cell_type": "markdown",
   "metadata": {},
   "source": [
    "(a) Implement a function to construct a Binary Search Tree from a given list of keys, $keys$, by completing the <b>construct_tree</b>($keys$) function below.  Your function should make use of the `Node` class provided. It should return a list of the keys in the resulting Binary Search Tree in the order visited by a postorder traversal. <div style=\"text-align: right\">[30%]</div>"
   ]
  },
  {
   "cell_type": "markdown",
   "metadata": {},
   "source": [
    "### Examples:"
   ]
  },
  {
   "cell_type": "markdown",
   "metadata": {},
   "source": [
    "**Input:** `[4, 2, 5]` <br>\n",
    "**Output:** `[2, 5, 4]` <br>\n",
    "**Explanation:** the tree structure is visualised below<br>"
   ]
  },
  {
   "cell_type": "markdown",
   "metadata": {},
   "source": [
    "<img src=\"bst-with-4-2-5.png\" width=\"200px\">"
   ]
  },
  {
   "cell_type": "markdown",
   "metadata": {},
   "source": [
    "**Input:** `[4, 2, 5, 1, 3]` <br>\n",
    "**Output:** `[1, 3, 2, 5, 4]` <br>\n",
    "**Explanation:** the tree structure is visualised below<br>"
   ]
  },
  {
   "cell_type": "markdown",
   "metadata": {},
   "source": [
    "<img src=\"bst-with-4-2-5-1-3.png\" width=\"250px\">"
   ]
  },
  {
   "cell_type": "markdown",
   "metadata": {},
   "source": [
    "### Constraints:\n",
    "\n",
    "- Every key is a unique integer.\n",
    "- $0 \\leq \\text{len}(keys) \\leq 10^3$."
   ]
  },
  {
   "cell_type": "markdown",
   "metadata": {},
   "source": [
    "### Code:"
   ]
  },
  {
   "cell_type": "code",
   "execution_count": 10,
   "metadata": {},
   "outputs": [],
   "source": [
    "class Node:\n",
    "    \n",
    "    def __init__(self, key, left=None, right=None):\n",
    "        self.key = key\n",
    "        self.left = left\n",
    "        self.right = right\n",
    "\n",
    "def postorder(node, summary):\n",
    "    if node.left:\n",
    "        summary = postorder(node.left, summary)\n",
    "    if node.right:\n",
    "        summary = postorder(node.right, summary)\n",
    "    summary.append(node.key)\n",
    "    return summary\n",
    "\n",
    "def insert(root, key):\n",
    "    ptr = root\n",
    "    parent = ptr\n",
    "    while ptr:\n",
    "        parent = ptr\n",
    "        if key < ptr.key:\n",
    "            ptr = ptr.left\n",
    "        else:\n",
    "            ptr = ptr.right\n",
    "    if key < parent.key:\n",
    "        parent.left = Node(key)\n",
    "    else:\n",
    "        parent.right = Node(key)        \n",
    "        \n",
    "def construct_tree(keys):\n",
    "    # handle empty key list\n",
    "    if not keys:\n",
    "        return []\n",
    "    \n",
    "    root = Node(keys[0])\n",
    "    for key in keys[1:]:\n",
    "        insert(root, key)\n",
    "        \n",
    "    keys_in_postorder = postorder(root, [])\n",
    "    return keys_in_postorder"
   ]
  },
  {
   "cell_type": "markdown",
   "metadata": {},
   "source": [
    "### Tests:"
   ]
  },
  {
   "cell_type": "markdown",
   "metadata": {},
   "source": [
    "##### Run example test case 1:"
   ]
  },
  {
   "cell_type": "code",
   "execution_count": 11,
   "metadata": {},
   "outputs": [
    {
     "name": "stdout",
     "output_type": "stream",
     "text": [
      "[2, 5, 4]\n"
     ]
    }
   ],
   "source": [
    "keys = [4, 2, 5]\n",
    "print(construct_tree(keys))"
   ]
  },
  {
   "cell_type": "markdown",
   "metadata": {},
   "source": [
    "##### Run example test case 2:"
   ]
  },
  {
   "cell_type": "code",
   "execution_count": 12,
   "metadata": {},
   "outputs": [
    {
     "name": "stdout",
     "output_type": "stream",
     "text": [
      "[1, 3, 2, 5, 4]\n"
     ]
    }
   ],
   "source": [
    "keys = [4, 2, 5, 1, 3]\n",
    "print(construct_tree(keys))"
   ]
  },
  {
   "cell_type": "markdown",
   "metadata": {},
   "source": [
    "#### Automatic Evaluation:"
   ]
  },
  {
   "cell_type": "markdown",
   "metadata": {},
   "source": [
    "<i><b><font color='red'>Do not forget to run on all test cases when your final implementation is finished!</font></b></i>"
   ]
  },
  {
   "cell_type": "code",
   "execution_count": 13,
   "metadata": {},
   "outputs": [
    {
     "name": "stdout",
     "output_type": "stream",
     "text": [
      "----------------------------------\n",
      "Evaluating question 2, part a\n",
      "Running question 2, part a, test id: 1\n",
      "Input:\n",
      "[4, 2, 5]\n",
      "Obtained output:\n",
      "[2, 5, 4]\n",
      "<<CORRECT>>\n",
      "Running question 2, part a, test id: 2\n",
      "Input:\n",
      "[4, 2, 5, 1, 3]\n",
      "Obtained output:\n",
      "[1, 3, 2, 5, 4]\n",
      "<<CORRECT>>\n",
      "Running question 2, part a, test id: 3\n",
      "Input:\n",
      "[0, 1, 2, 3, 4, 5, 6, 7, 8, 9, 10, 11, 12, 13, 14, 15, 16, 17, 18, 19, 20, 21, 22, 23, 24, 25, 26, 27, 28, 29, 30, 31, 32, 33, 34, 35, 36, 37, 38, 39, 40, 41, 42, 43, 44, 45, 46, 47, 48, 49, 50, 51, 52, 53, 54, 55, 56, 57, 58, 59, 60, 61, 62, 63, 64, 65, 66, 67, 68, 69, 70, 71, 72, 73, 74, 75, 76, 77, 78, 79, 80, 81, 82, 83, 84, 85, 86, 87, 88, 89, 90, 91, 92, 93, 94, 95, 96, 97, 98, 99]\n",
      "Obtained output:\n",
      "[99, 98, 97, 96, 95, 94, 93, 92, 91, 90, 89, 88, 87, 86, 85, 84, 83, 82, 81, 80, 79, 78, 77, 76, 75, 74, 73, 72, 71, 70, 69, 68, 67, 66, 65, 64, 63, 62, 61, 60, 59, 58, 57, 56, 55, 54, 53, 52, 51, 50, 49, 48, 47, 46, 45, 44, 43, 42, 41, 40, 39, 38, 37, 36, 35, 34, 33, 32, 31, 30, 29, 28, 27, 26, 25, 24, 23, 22, 21, 20, 19, 18, 17, 16, 15, 14, 13, 12, 11, 10, 9, 8, 7, 6, 5, 4, 3, 2, 1, 0]\n",
      "<<CORRECT>>\n",
      "Running question 2, part a, test id: 4\n",
      "Input:\n",
      "[]\n",
      "Obtained output:\n",
      "[]\n",
      "<<CORRECT>>\n",
      "Running question 2, part a, test id: 5\n",
      "Input:\n",
      "[9, 8, 7, 6, 5, 4, 3, 2, 1, 0]\n",
      "Obtained output:\n",
      "[0, 1, 2, 3, 4, 5, 6, 7, 8, 9]\n",
      "<<CORRECT>>\n",
      "-----------------\n",
      "Total correct outputs:\n",
      "5 out of 5\n",
      "----------------------------------\n"
     ]
    }
   ],
   "source": [
    "#DO NOT EDIT THIS CODE!\n",
    "from evaluation_script import evaluate_solution \n",
    "evaluate_solution(question_id=2,question_part_id='a',function=construct_tree,\n",
    "                  test_case_list=[1,2,3,4,5],verbose=True)"
   ]
  },
  {
   "cell_type": "markdown",
   "metadata": {},
   "source": [
    "(b) Describe the asymptotic complexity of the operation implemented in Part (a) under average case and worst case assumptions. Provide an example of an input sequence of keys that induces worst case behaviour.<div style=\"text-align: right\">[15%]</div>"
   ]
  },
  {
   "cell_type": "markdown",
   "metadata": {},
   "source": [
    "<div style=\"border-width:2px;border-style:solid;border-color:black;\">\n",
    "Under average case assumptions, the complexity of tree construction is $O(\\log n)$ for each key (where $n$ is the number of keys already in the tree), so $O(n \\log n)$ to insert $n$ keys. <br><br>\n",
    "    \n",
    "In the worst case, the complexity degrades to $O(n^2)$. This can be induced by building a tree from a linearly increasing sequence of keys e.g. $0, 1, 2, 3, \\dots$.   <br><br>\n",
    "    \n",
    "The postorder traversal is $O(n)$ (so doesn't affect the overall asymptotic complexity).\n",
    "</div>"
   ]
  },
  {
   "cell_type": "markdown",
   "metadata": {},
   "source": [
    "(c) Give brief answers to the following questions."
   ]
  },
  {
   "cell_type": "markdown",
   "metadata": {},
   "source": [
    "&emsp; (i) Describe the <em>Binary Search Tree property</em>.<div style=\"text-align: right\">[5%]</div>"
   ]
  },
  {
   "cell_type": "markdown",
   "metadata": {},
   "source": [
    "<div style=\"border-width:2px;border-style:solid;border-color:black;\">\n",
    "For any node $u$ in the Binary Search Tree, any node $l$ in its left subtree satisfies $l.key \\leq u.key$ and any node $r$ in its right subtree satisfies $r.key \\geq u.key$.\n",
    "</div>"
   ]
  },
  {
   "cell_type": "markdown",
   "metadata": {},
   "source": [
    "&emsp; (ii) Describe the operation of <em>preorder</em> and <em>inorder</em> traversals and show how each can be implemented with recursion (either with a written description, pseudocode or Python code). What is the asymptotic runtime complexity for both operations?<div style=\"text-align: right\">[10%]</div>"
   ]
  },
  {
   "cell_type": "markdown",
   "metadata": {},
   "source": [
    "<div style=\"border-width:2px;border-style:solid;border-color:black;\">\n",
    "\n",
    "A preorder traversal visits each node in the tree by first processing the current node, then visiting its left and right children in turn. <br><br>\n",
    "    \n",
    "An inorder traversal visits each node in the tree by first its left child, then processing the current node, then processing its right child. <br><br>\n",
    "       \n",
    "The complexity of each traversal is $O(n)$ where $n$ is the number of keys in the tree.\n",
    "</div>"
   ]
  },
  {
   "cell_type": "code",
   "execution_count": 14,
   "metadata": {},
   "outputs": [],
   "source": [
    "def preorder(node):\n",
    "    print(node.key) # process current node in some way\n",
    "    if node.left:\n",
    "        preorder(node.left)\n",
    "    if node.right:\n",
    "        preorder(node.right)\n",
    "    \n",
    "def inorder(node):\n",
    "    if node.left:\n",
    "        inorder(node.left)\n",
    "    print(node.key) # process current node in some way    \n",
    "    if node.right:\n",
    "        inorder(node.right)"
   ]
  },
  {
   "cell_type": "markdown",
   "metadata": {},
   "source": [
    "&emsp; (iii) Explain how the inorder successor of a node is found in a Binary Search Tree. What is the average case and worst case asymptotic complexity of this operation?<div style=\"text-align: right\">[10%]</div>"
   ]
  },
  {
   "cell_type": "markdown",
   "metadata": {},
   "source": [
    "<div style=\"border-width:2px;border-style:solid;border-color:black;\">\n",
    "If the current node has a right subtree, then its inorder successor is the maximum key in this subtree. Otherwise, the successor is found by moving up the tree from the current node until a (child-parent) link is found that \"points right\" (i.e. the key of the parent is greater than the child). At this point, the search stops and the parent is returned as the successor. <br><br>\n",
    "    \n",
    "The complexity of this operation is $O(\\log n)$ on average case inputs, but $O(n)$ on worst case inputs (in which the tree is a linear chain).\n",
    "    \n",
    "</div>"
   ]
  },
  {
   "cell_type": "markdown",
   "metadata": {},
   "source": [
    "(d)  Given as input a dictionary, $traversals$, containing two lists of keys of the form `{\"preorder\": <preorder_keys>, \"inorder\": <inorder_keys>\"}` where `<preorder_keys>` is a list containing the keys produced by a preorder traversal of a Binary Tree and `<inorder_keys>` is the inorder traversal of the same tree, implement a function to construct the Binary Tree. Note that this tree will <em>not</em> necessarily be a Binary Search Tree. Your implementation should complete the <b>construct_tree_from_traversals</b>$(traversals)$ function below and should return the keys in postorder traversal order for the constructed Binary Tree.<div style=\"text-align: right\">[30%]</div>"
   ]
  },
  {
   "cell_type": "markdown",
   "metadata": {},
   "source": [
    "### Examples:"
   ]
  },
  {
   "cell_type": "markdown",
   "metadata": {},
   "source": [
    "**Input:** `{\"preorder\": [2, 7, 4], \"inorder\": [7, 2, 4]}` <br>\n",
    "**Output:** `[7, 4, 2]` <br>\n",
    "**Explanation:** the tree structure is visualised below<br>"
   ]
  },
  {
   "cell_type": "markdown",
   "metadata": {},
   "source": [
    "<img src=\"bt-with-7-4-2.png\" width=\"200px\">"
   ]
  },
  {
   "cell_type": "markdown",
   "metadata": {},
   "source": [
    "**Input:** `{\"preorder\": [2, 7, 8, 1, 4], \"inorder\": [8, 7, 1, 2, 4]}` <br>\n",
    "**Output:** `[8, 1, 7, 4, 2]` <br>\n",
    "**Explanation:** the tree structure is visualised below<br>"
   ]
  },
  {
   "cell_type": "markdown",
   "metadata": {},
   "source": [
    "<img src=\"bt-with-8-1-7-4-2.png\" width=\"250px\">"
   ]
  },
  {
   "cell_type": "code",
   "execution_count": 15,
   "metadata": {},
   "outputs": [],
   "source": [
    "class Node:\n",
    "    \n",
    "    def __init__(self, key, left=None, right=None):\n",
    "        self.key = key\n",
    "        self.left = left\n",
    "        self.right = right\n",
    "\n",
    "def insert_with_relation(root, key, greater_than):\n",
    "    ptr = root\n",
    "    parent = ptr\n",
    "    while ptr:\n",
    "        parent = ptr\n",
    "        if key in greater_than[ptr.key]:\n",
    "            ptr = ptr.right\n",
    "        else:\n",
    "            ptr = ptr.left\n",
    "    if key in greater_than[parent.key]:\n",
    "        parent.right = Node(key)                \n",
    "    else:\n",
    "        parent.left = Node(key)\n",
    "\n",
    "def postorder(node, summary):\n",
    "    if node.left:\n",
    "        summary = postorder(node.left, summary)\n",
    "    if node.right:\n",
    "        summary = postorder(node.right, summary)\n",
    "    summary.append(node.key)\n",
    "    return summary\n",
    "\n",
    "def construct_tree_from_traversals(traversals):\n",
    "    # use the inorder keys to define the less_than relation\n",
    "    if not traversals[\"preorder\"]:\n",
    "        return []\n",
    "    \n",
    "    greater_than = {}\n",
    "    for idx, key in enumerate(traversals[\"inorder\"]):\n",
    "        greater_than[key] = traversals[\"inorder\"][idx + 1:]\n",
    "    \n",
    "    root = Node(traversals[\"preorder\"][0])\n",
    "    for key in traversals[\"preorder\"][1:]:\n",
    "        insert_with_relation(root, key, greater_than)\n",
    "    \n",
    "    keys_in_postorder = postorder(root, summary=[])\n",
    "    return keys_in_postorder"
   ]
  },
  {
   "cell_type": "markdown",
   "metadata": {},
   "source": [
    "### Tests:"
   ]
  },
  {
   "cell_type": "markdown",
   "metadata": {},
   "source": [
    "##### Run example test case 1:"
   ]
  },
  {
   "cell_type": "code",
   "execution_count": 16,
   "metadata": {},
   "outputs": [
    {
     "name": "stdout",
     "output_type": "stream",
     "text": [
      "[7, 4, 2]\n"
     ]
    }
   ],
   "source": [
    "traversals = {\"preorder\": [2, 7, 4], \"inorder\": [7, 2, 4]}\n",
    "print(construct_tree_from_traversals(traversals))"
   ]
  },
  {
   "cell_type": "markdown",
   "metadata": {},
   "source": [
    "##### Run example test case 2:"
   ]
  },
  {
   "cell_type": "code",
   "execution_count": 17,
   "metadata": {},
   "outputs": [
    {
     "name": "stdout",
     "output_type": "stream",
     "text": [
      "[8, 1, 7, 4, 2]\n"
     ]
    }
   ],
   "source": [
    "traversals = {\"preorder\": [2, 7, 8, 1, 4], \"inorder\": [8, 7, 1, 2, 4]}\n",
    "print(construct_tree_from_traversals(traversals))"
   ]
  },
  {
   "cell_type": "markdown",
   "metadata": {},
   "source": [
    "#### Automatic Evaluation:"
   ]
  },
  {
   "cell_type": "markdown",
   "metadata": {},
   "source": [
    "<i><b><font color='red'>Do not forget to run on all test cases when your final implementation is finished!</font></b></i>"
   ]
  },
  {
   "cell_type": "code",
   "execution_count": 18,
   "metadata": {},
   "outputs": [
    {
     "name": "stdout",
     "output_type": "stream",
     "text": [
      "----------------------------------\n",
      "Evaluating question 2, part d\n",
      "Running question 2, part d, test id: 1\n",
      "Input:\n",
      "{'preorder': [2, 7, 4], 'inorder': [7, 2, 4]}\n",
      "Obtained output:\n",
      "[7, 4, 2]\n",
      "<<CORRECT>>\n",
      "Running question 2, part d, test id: 2\n",
      "Input:\n",
      "{'preorder': [2, 7, 8, 1, 4], 'inorder': [8, 7, 1, 2, 4]}\n",
      "Obtained output:\n",
      "[8, 1, 7, 4, 2]\n",
      "<<CORRECT>>\n",
      "Running question 2, part d, test id: 3\n",
      "Input:\n",
      "{'preorder': [], 'inorder': []}\n",
      "Obtained output:\n",
      "[]\n",
      "<<CORRECT>>\n",
      "Running question 2, part d, test id: 4\n",
      "Input:\n",
      "{'preorder': [0, 1, 3, 4], 'inorder': [4, 3, 1, 0]}\n",
      "Obtained output:\n",
      "[4, 3, 1, 0]\n",
      "<<CORRECT>>\n",
      "Running question 2, part d, test id: 5\n",
      "Input:\n",
      "{'preorder': [4, 3, 1, 0], 'inorder': [0, 1, 3, 4]}\n",
      "Obtained output:\n",
      "[0, 1, 3, 4]\n",
      "<<CORRECT>>\n",
      "-----------------\n",
      "Total correct outputs:\n",
      "5 out of 5\n",
      "----------------------------------\n"
     ]
    }
   ],
   "source": [
    "#DO NOT EDIT THIS CODE!\n",
    "from evaluation_script import evaluate_solution \n",
    "evaluate_solution(question_id=2,question_part_id='d',function=construct_tree_from_traversals,\n",
    "                  test_case_list=[1,2,3,4,5],verbose=True)"
   ]
  },
  {
   "cell_type": "markdown",
   "metadata": {},
   "source": [
    "## 3. "
   ]
  },
  {
   "cell_type": "markdown",
   "metadata": {},
   "source": [
    "(a) Write the function, **bfs_distances**($L$), which takes a list, $L$, as an input. This list contains three elements. The first element is a number, $n$, of vertices in a graph. The second element is an adjacency list, $A$, which represents an undirected graph. The third element is a single value, $s$, which represents the starting vertex. The function should perform the Breadth-First Search traversal of the graph, starting from vertex, $s$.<br> \n",
    "\n",
    "The output of the **bfs_distances** function should be a list, $O$, of $n$ elements. Element $O[i]$ is a list itself which contains vertices (in any order) that are at the distance $i$ away from the starting vertex, $s$. Note that the distance from the starting vertex, $s$, to itself is asumed to be 0.\n",
    "\n",
    "Also note that in this adjacency list representation we assume that graph vertices are numbered from $0$ to $n-1$ and the neighbours of the vertex, $u$, are stored as a list, $A[u]$. All edges, $(u,v)$, in the graph have two corresponding entries in the adjacency list (ie. $u$ being a neighbour of $v$ and $v$ being a neighbour of $u$).\n",
    "<div style=\"text-align: right\">[35%]</div>"
   ]
  },
  {
   "cell_type": "markdown",
   "metadata": {},
   "source": [
    "### Examples:"
   ]
  },
  {
   "cell_type": "markdown",
   "metadata": {},
   "source": [
    "**Input:** `[7, [[1, 2], [0, 2, 3, 4], [0, 1, 5, 6], [1], [1, 5], [2, 4], [2]], 0]` <br>\n",
    "**Output:** `[[0], [1, 2], [3, 4, 5, 6], [], [], [], []]` <br>"
   ]
  },
  {
   "cell_type": "markdown",
   "metadata": {},
   "source": [
    "**Input:** `[10,[[3,4,8,9],[2,9],[1,4,5,6],[0,7],[0,2],[2,7],[2],[3,5],[0],[0,1]],9]` <br>\n",
    "**Output:** `[[9], [0, 1], [3, 4, 8, 2], [7, 5, 6], [], [], [], [], [], []]` <br>"
   ]
  },
  {
   "cell_type": "markdown",
   "metadata": {},
   "source": [
    "### Constraints:\n",
    "\n",
    "- $1\\leq n \\leq 100$."
   ]
  },
  {
   "cell_type": "markdown",
   "metadata": {},
   "source": [
    "### Code:"
   ]
  },
  {
   "cell_type": "code",
   "execution_count": 5,
   "metadata": {},
   "outputs": [],
   "source": [
    "import queue\n",
    "\n",
    "\n",
    "class Queue:\n",
    "    def __init__(self):\n",
    "        self.list = []\n",
    "        self.front = 0\n",
    "        \n",
    "    def put(self, a):\n",
    "        self.list.append(a)\n",
    "        \n",
    "    def get(self):\n",
    "        self.front += 1\n",
    "        return self.list[self.front - 1]\n",
    "    \n",
    "    def empty(self):\n",
    "        return self.front == len(self.list)\n",
    "\n",
    "\n",
    "def bfs_distances(L):\n",
    "    \n",
    "    N, adjacency, source = L\n",
    "    q = Queue()\n",
    "    c = set()\n",
    "    r = [ [] for _ in adjacency ]\n",
    "    \n",
    "    r[0] = [ source ]\n",
    "    q.put( (source, 0) )\n",
    "    c.add( source )\n",
    "    \n",
    "    while not q.empty():\n",
    "        \n",
    "        current, d = q.get()\n",
    "        \n",
    "        for connection in adjacency[current]:\n",
    "            if connection not in c:\n",
    "                q.put( (connection, d+1) )\n",
    "                c.add( connection )\n",
    "                r[d+1].append( connection )\n",
    "        \n",
    "    return r"
   ]
  },
  {
   "cell_type": "code",
   "execution_count": 19,
   "metadata": {},
   "outputs": [],
   "source": [
    "def bfs_distances(L):\n",
    "    n, adj, s  = L[0], L[1], L[2]\n",
    "\n",
    "    #Write your code here\n",
    "    \n",
    "    visited = [False for i in range(n)] # to keep track of already visited nodes\n",
    "    queue = [s]\n",
    "    visited[s] = True\n",
    "    distance=[0 for i in range(n)]\n",
    "    \n",
    "    result = [[] for i in range(n)]\n",
    "    while len(queue)>0:\n",
    "    \n",
    "        u = queue.pop(0)\n",
    "        result[distance[u]].append(u)\n",
    "\n",
    "        for v in adj[u]:\n",
    "            if  visited[v] == False:\n",
    "                visited[v] = True\n",
    "                queue.append(v)\n",
    "                distance[v]=distance[u]+1\n",
    "  \n",
    "    return result"
   ]
  },
  {
   "cell_type": "markdown",
   "metadata": {},
   "source": [
    "### Tests:"
   ]
  },
  {
   "cell_type": "markdown",
   "metadata": {},
   "source": [
    "##### Run example test case 1:"
   ]
  },
  {
   "cell_type": "code",
   "execution_count": 6,
   "metadata": {},
   "outputs": [
    {
     "name": "stdout",
     "output_type": "stream",
     "text": [
      "[[0], [1, 2], [3, 4, 5, 6], [], [], [], []]\n"
     ]
    }
   ],
   "source": [
    "input_value = [7, [[1, 2], [0, 2, 3, 4], [0, 1, 5, 6], [1], [1, 5], [2, 4], [2]], 0]\n",
    "print (bfs_distances(input_value))"
   ]
  },
  {
   "cell_type": "markdown",
   "metadata": {},
   "source": [
    "##### Run example test case 2:"
   ]
  },
  {
   "cell_type": "code",
   "execution_count": 10,
   "metadata": {},
   "outputs": [
    {
     "name": "stdout",
     "output_type": "stream",
     "text": [
      "[[9], [0, 1], [3, 4, 8, 2], [7, 5, 6], [], [], [], [], [], []]\n"
     ]
    }
   ],
   "source": [
    "input_value = [10,[[3,4,8,9],[2,9],[1,4,5,6],[0,7],[0,2],[2,7],[2],[3,5],[0],[0,1]],9]\n",
    "print (bfs_distances(input_value))"
   ]
  },
  {
   "cell_type": "markdown",
   "metadata": {},
   "source": [
    "#### Automatic Evaluation:"
   ]
  },
  {
   "cell_type": "markdown",
   "metadata": {},
   "source": [
    "<i><b><font color='red'>Do not forget to run on all test cases when your final implementation is finished!</font></b></i>"
   ]
  },
  {
   "cell_type": "code",
   "execution_count": 7,
   "metadata": {},
   "outputs": [
    {
     "name": "stdout",
     "output_type": "stream",
     "text": [
      "----------------------------------\n",
      "Evaluating question 3, part a\n",
      "Running question 3, part a, test id: 1\n",
      "Input:\n",
      "[7, [[1, 2], [0, 2, 3, 4], [0, 1, 5, 6], [1], [1, 5], [2, 4], [2]], 0]\n",
      "Obtained output:\n",
      "[[0], [1, 2], [3, 4, 5, 6], [], [], [], []]\n",
      "<<CORRECT>>\n",
      "Running question 3, part a, test id: 2\n",
      "Input:\n",
      "[10, [[3, 4, 8, 9], [2, 9], [1, 4, 5, 6], [0, 7], [0, 2], [2, 7], [2], [3, 5], [0], [0, 1]], 9]\n",
      "Obtained output:\n",
      "[[9], [0, 1], [3, 4, 8, 2], [7, 5, 6], [], [], [], [], [], []]\n",
      "<<CORRECT>>\n",
      "Running question 3, part a, test id: 3\n",
      "Input:\n",
      "[2, [[1], [0]], 0]\n",
      "Obtained output:\n",
      "[[0], [1]]\n",
      "<<CORRECT>>\n",
      "Running question 3, part a, test id: 4\n",
      "Input:\n",
      "[2, [[1], [0]], 1]\n",
      "Obtained output:\n",
      "[[1], [0]]\n",
      "<<CORRECT>>\n",
      "Running question 3, part a, test id: 5\n",
      "Input:\n",
      "[10, [[1], [0, 2], [1, 3], [2, 4], [3, 5], [4, 6], [5, 7], [6, 8], [7, 9], [8]], 0]\n",
      "Obtained output:\n",
      "[[0], [1], [2], [3], [4], [5], [6], [7], [8], [9]]\n",
      "<<CORRECT>>\n",
      "-----------------\n",
      "Total correct outputs:\n",
      "5 out of 5\n",
      "----------------------------------\n"
     ]
    }
   ],
   "source": [
    "#DO NOT EDIT THIS CODE!\n",
    "from evaluation_script import evaluate_solution, bfs_equivalent\n",
    "evaluate_solution(question_id=3,question_part_id='a',function=bfs_distances,comparison_function=bfs_equivalent,\n",
    "                  test_case_list=[1,2,3,4,5],verbose=True)"
   ]
  },
  {
   "cell_type": "markdown",
   "metadata": {},
   "source": [
    "(b) Give brief answers to the following questions.\n",
    "    \n",
    "&emsp; (i) Explain why your algorithm described in Part (a) is correct. Derive its run time complexity in detail. <div style=\"text-align: right\">[10%]</div>"
   ]
  },
  {
   "cell_type": "markdown",
   "metadata": {},
   "source": [
    "<div style=\"border-width:2px;border-style:solid;border-color:black;\">\n",
    "The algorithm provided above is a Breadth-First Search (BFS) traversal of an undirected graph, starting from a given vertex, $s$. The BFS algorithm traverses the graph level by level, visiting all the nodes at distance 1 from the starting node, then all the nodes at distance 2, and so on, until all nodes have been visited. <br><br>\n",
    "\n",
    "To explain why this algorithm is correct, we can observe that during the BFS traversal, the algorithm processes all vertices that are reachable from the starting vertex. This is because BFS guarantees (by using a queue to store the most recently discovered vertices) that all vertices that are at distance $k$ from the starting vertex will be visited before any vertices at distance $k+1$. <br><br>\n",
    "\n",
    "The algorithm initializes multiple lists and a queue, which takes $O(n)$ time. It then visits each vertex in the graph once, which takes $O(n)$ time. For each visited vertex, the algorithm processes its neighbours and updates their distances, which takes $O(m)$ time, where $m$ is the total number of edges in the graph. Each edge is examined twice (once for each endpoint).<br><br>\n",
    "\n",
    "The total run time complexity of the algorithm is $O(n+m)$.<br><br>\n",
    "</div>"
   ]
  },
  {
   "cell_type": "markdown",
   "metadata": {},
   "source": [
    "&emsp; (ii) Why is it said that Floyd-Warshall algorithm for all-pairs shortest path computation is a dynamic programming algorithm? What makes Dijkstra's algorithm a greedy algorithm? Justify your answers.  <div style=\"text-align: right\">[10%]</div>"
   ]
  },
  {
   "cell_type": "markdown",
   "metadata": {},
   "source": [
    "<div style=\"border-width:2px;border-style:solid;border-color:black;\">\n",
    "\n",
    "\n",
    "Floyd-Warshall is a dynamic programming algorithm because it uses the principle of optimal substructure to build up a solution to a larger problem using solutions to subproblems. This algorithm computes all-pairs shortest path in a weighted graph by considering every pair of vertices, and computing the shortest path between them using the principle of dynamic programming. In particular it relies on the following property that a shortest path, $d^{k}_{i,j}$, from vertex, $i$, to vertex, $j$, made only of intermediate vertices $\\{1,\\cdots, k\\}$ is the minimum of: (1) some path $i\\leadsto k \\leadsto j$ and (2) a shortest path,$d^{k-1}_{i,j}$, from $i$ to $j$ which does not go through vertex, $k$, and only uses intermediate vertices in $\\{1,\\cdots,k-1\\}$. <br><br>\n",
    "\n",
    "Dijkstra's algorithm can be classified as a greedy algorithm because it selects the shortest path from a source vertex to all other vertices in the graph by making the locally optimal choice at each step. It starts by selecting the vertex with the smallest distance from the source vertex and then iteratively builds the shortest path tree by selecting the next vertex with the smallest distance to the so far computed shortest path tree. This process continues until all vertices have been added to the shortest path tree. <br><br>\n",
    "</div>"
   ]
  },
  {
   "cell_type": "markdown",
   "metadata": {},
   "source": [
    "(c) Answer questions about the graph illustrated below.\n",
    "\n",
    "<img src=\"graph.png\" border=\"0\" class=\"bg-primary\" width=\"300px\">"
   ]
  },
  {
   "cell_type": "markdown",
   "metadata": {},
   "source": [
    "&emsp; (i) Calculate the maximum flow from vertex A to vertex F. Provide the detailed steps of your computation. <div style=\"text-align: right\">[5%]</div>"
   ]
  },
  {
   "cell_type": "markdown",
   "metadata": {},
   "source": [
    "<div style=\"border-width:2px;border-style:solid;border-color:black;\">\n",
    "Augmenting path A-B-D-F with capacity 12. <br>\n",
    "Augmenting path A-C-E-F with capacity 4.  <br>\n",
    "Augmenting path A-C-E-D-F with capacity 7. <br><br>\n",
    "    \n",
    "Max flow is 23.\n",
    "</div>"
   ]
  },
  {
   "cell_type": "markdown",
   "metadata": {},
   "source": [
    "&emsp;(ii) Perform a topological sort of this graph. Any valid ordering of vertices can be provided. <div style=\"text-align: right\">[5%]</div>"
   ]
  },
  {
   "cell_type": "markdown",
   "metadata": {},
   "source": [
    "<div style=\"border-width:2px;border-style:solid;border-color:black;\">\n",
    "A valid topological sort of this graph does not exist since there is a loop B->D->C->B.\n",
    "    \n",
    "</div>"
   ]
  },
  {
   "cell_type": "markdown",
   "metadata": {},
   "source": [
    "&emsp; (iii) Assume this graph is transformed into an undirected graph by replacing all directed edges with equivalent undirected edges with corresponding weights. Write out the edges of the minimum spanning tree (MST) discovered by Kruskal's algorithm in the same order as they would be seleted to form the MST. <div style=\"text-align: right\">[5%]</div>"
   ]
  },
  {
   "cell_type": "markdown",
   "metadata": {},
   "source": [
    "<div style=\"border-width:2px;border-style:solid;border-color:black;\">\n",
    "\n",
    "E-F (4), B-C (4), D-E (7), D-C (9), A-C (13). <br><br>\n",
    "    \n",
    "MST weight is 37.\n",
    "</div>"
   ]
  },
  {
   "cell_type": "markdown",
   "metadata": {},
   "source": [
    "(d) Write the function, **strongly_connected**($L$), which takes in a list, $L$, of 2 elements as an input. The first element, $\\lvert V \\rvert$, is the total number of vertices, $V$, in a directed graph. The second element, $A$, is a list where each element $A[u]$ in this list, is itself a list of vertex indexes. Element, $A[u][i]$, represents a directed edge, $(u,A[u][i])$, in the graph. Note that vertices in the graph are represented as integer numbers between 0 and $\\lvert V \\rvert-1$.\n",
    "\n",
    "Your function should output the number of strongly connected components in the graph. Run time complexity of your solution should be $O(\\lvert V \\rvert+\\lvert E \\rvert)$, where $\\lvert E \\rvert$ is the number of edges in the graph.\n",
    "\n",
    "<div style=\"text-align: right\">[20%]</div>"
   ]
  },
  {
   "cell_type": "markdown",
   "metadata": {},
   "source": [
    "### Examples:"
   ]
  },
  {
   "cell_type": "markdown",
   "metadata": {},
   "source": [
    "**Input:** `[3,[[1],[0,2],[]]]` <br>\n",
    "**Output:** `2` "
   ]
  },
  {
   "cell_type": "markdown",
   "metadata": {},
   "source": [
    "**Input:**  `[4,[[1],[2],[3],[0]]]` <br>\n",
    "**Output:**  `1`"
   ]
  },
  {
   "cell_type": "markdown",
   "metadata": {},
   "source": [
    "### Constraints:\n",
    "\n",
    "- $1\\leq \\lvert V \\rvert \\leq 100$.\n",
    "- $1\\leq \\lvert E \\rvert \\leq 1000$."
   ]
  },
  {
   "cell_type": "markdown",
   "metadata": {},
   "source": [
    "### Code:"
   ]
  },
  {
   "cell_type": "code",
   "execution_count": 66,
   "metadata": {},
   "outputs": [],
   "source": [
    "def dfs(A, i, seen, discovered):\n",
    "    \n",
    "    if i in seen:\n",
    "        return discovered\n",
    "    seen.add(i)\n",
    "    \n",
    "    for j in A[i]:\n",
    "        dfs(A, j, seen, discovered)\n",
    "        \n",
    "    discovered.append(i)\n",
    "        \n",
    "    return discovered\n",
    "\n",
    "\n",
    "def transpose(A):\n",
    "    \n",
    "    AT = [ [] for _ in A ]\n",
    "    \n",
    "    for i, us in enumerate(A):\n",
    "        for u in us:\n",
    "            AT[u].append(i)\n",
    "        \n",
    "    return AT\n",
    "    \n",
    "\n",
    "def strongly_connected( L ):\n",
    "    \n",
    "    V, A = L\n",
    "    \n",
    "    seen = set()\n",
    "    forward = []\n",
    "    \n",
    "    for i in range(V):\n",
    "        dfs( A, i, seen, forward )\n",
    "        \n",
    "    AT = transpose(A)\n",
    "    \n",
    "    reseen = set()\n",
    "    return sum([ 1 for x in [ dfs(AT, i, reseen, []) for i in reversed(forward) ] if x ])"
   ]
  },
  {
   "cell_type": "markdown",
   "metadata": {},
   "source": [
    "def DFS_visit(dfs_tree, time, v,v_list):\n",
    "    v['start_time']=time\n",
    "    assert v['color']=='white'\n",
    "    if v['color']=='white':\n",
    "        v['color']='gray'\n",
    "        for i in range(len(v['neighbours'])):\n",
    "            v_n = dfs_tree[v['neighbours'][i]]\n",
    "            if v_n['color'] == 'white':\n",
    "                time = time+1               \n",
    "                time,v_list=DFS_visit(dfs_tree,time,v_n,v_list)\n",
    "        v['color']='black'\n",
    "        time+=1\n",
    "        v['stop_time']=time\n",
    "        v_list= [v]+v_list\n",
    "    return time,v_list\n",
    "\n",
    "def DFS(order,dfs_tree):\n",
    "    time=0\n",
    "    v_list=[]\n",
    "    count=0\n",
    "    for i in range(len(order)):\n",
    "        v=dfs_tree[order[i]]\n",
    "        if v['color']=='white':\n",
    "            count+=1\n",
    "            time,v_list = DFS_visit(dfs_tree,time,v,v_list)\n",
    "            time +=1\n",
    "            \n",
    "    return count,[v_list[i]['id'] for i in range(len(v_list))]\n",
    "def strongly_connected(L):\n",
    "    \n",
    "    # Insert code here\n",
    "    n, adj = L[0], L[1]\n",
    "    dfs_tree = [{'start_time':0,'stop_time':0,'color':'white','parent':-1,'id':i,'neighbours':adj[i]} for i in range(n)]\n",
    "    _,v_list=DFS([i for i in range(n)],dfs_tree)\n",
    "\n",
    "    tadj =[[] for i in range(n)]\n",
    "    for i in range(n):\n",
    "        for j in range(len(adj[i])):\n",
    "            tadj[adj[i][j]].append(i)\n",
    "    dfs_tree = [{'start_time':0,'stop_time':0,'color':'white','parent':-1,'id':i,'neighbours':tadj[i]} for i in range(n)]\n",
    "    count,_=DFS(v_list[::1],dfs_tree)\n",
    "    return count"
   ]
  },
  {
   "cell_type": "markdown",
   "metadata": {},
   "source": [
    "### Tests:"
   ]
  },
  {
   "cell_type": "markdown",
   "metadata": {},
   "source": [
    "##### Run example test case 1:"
   ]
  },
  {
   "cell_type": "code",
   "execution_count": 65,
   "metadata": {},
   "outputs": [
    {
     "name": "stdout",
     "output_type": "stream",
     "text": [
      "3\n"
     ]
    }
   ],
   "source": [
    "input_value = [3,[[1],[0,2],[]]]\n",
    "print (strongly_connected(input_value))"
   ]
  },
  {
   "cell_type": "markdown",
   "metadata": {},
   "source": [
    "##### Run example test case 2:"
   ]
  },
  {
   "cell_type": "code",
   "execution_count": 55,
   "metadata": {},
   "outputs": [
    {
     "name": "stdout",
     "output_type": "stream",
     "text": [
      "1\n"
     ]
    }
   ],
   "source": [
    "input_value = [4,[[1],[2],[3],[0]]]\n",
    "print (strongly_connected(input_value))"
   ]
  },
  {
   "cell_type": "markdown",
   "metadata": {},
   "source": [
    "#### Automatic Evaluation:"
   ]
  },
  {
   "cell_type": "markdown",
   "metadata": {},
   "source": [
    "<i><b><font color='red'>Do not forget to run on all test cases when your final implementation is finished!</font></b></i>"
   ]
  },
  {
   "cell_type": "code",
   "execution_count": 67,
   "metadata": {},
   "outputs": [
    {
     "name": "stdout",
     "output_type": "stream",
     "text": [
      "----------------------------------\n",
      "Evaluating question 3, part d\n",
      "Running question 3, part d, test id: 1\n",
      "Input:\n",
      "[3, [[1], [0, 2], []]]\n",
      "Obtained output:\n",
      "2\n",
      "<<CORRECT>>\n",
      "Running question 3, part d, test id: 2\n",
      "Input:\n",
      "[4, [[1], [2], [3], [0]]]\n",
      "Obtained output:\n",
      "1\n",
      "<<CORRECT>>\n",
      "Running question 3, part d, test id: 3\n",
      "Input:\n",
      "[6, [[1, 2], [3], [1, 4], [2, 5], [3, 5], []]]\n",
      "Obtained output:\n",
      "3\n",
      "<<CORRECT>>\n",
      "Running question 3, part d, test id: 4\n",
      "Input:\n",
      "[8, [[2, 3], [2], [3, 4], [], [1], [2], [3, 5, 7], [4, 5, 6]]]\n",
      "Obtained output:\n",
      "5\n",
      "<<CORRECT>>\n",
      "Running question 3, part d, test id: 5\n",
      "Input:\n",
      "[6, [[1, 2], [3], [1, 4], [5], [3, 5], []]]\n",
      "Obtained output:\n",
      "6\n",
      "<<CORRECT>>\n",
      "-----------------\n",
      "Total correct outputs:\n",
      "5 out of 5\n",
      "----------------------------------\n"
     ]
    }
   ],
   "source": [
    "#DO NOT EDIT THIS CODE!\n",
    "from evaluation_script import evaluate_solution \n",
    "evaluate_solution(question_id=3,question_part_id='d',function=strongly_connected,\n",
    "                  test_case_list=[1,2,3,4,5],verbose=True)"
   ]
  },
  {
   "cell_type": "markdown",
   "metadata": {},
   "source": [
    "(e) Explain why your algorithm proposed in Part (d) is correct? \n",
    "\n",
    " <div style=\"text-align: right\">[10%]</div>"
   ]
  },
  {
   "cell_type": "markdown",
   "metadata": {},
   "source": [
    "<div style=\"border-width:2px;border-style:solid;border-color:black;\">\n",
    "The algorithm for computing strongly connected components (SCC) using two depth-first search passes works as follows: <br><br>\n",
    "\n",
    "1. Perform a depth-first search in the graph, $G=(V,E)$, in arbitrary order, marking down finish times ($u.f$) for every vertex, $u$. <br>\n",
    "2. Reverse the direction of all edges in the graph to obtained transposed graph $G.T=(V,E.T)$. <br>\n",
    "3. Perform another depth-first search starting from vertex with the most recent finish time in the order of decreasing finish time. <br>\n",
    "4. The vertices belonging to the same depth-first tree obtained in step 3 will form a strongly connected component. <br><br>\n",
    "\n",
    "To prove the correctness of this algorithm, we need to prove two statements: <br><br>\n",
    "\n",
    "<i>1. For any two strongly connected components $C_1\\subseteq V$ and $C_2 \\subseteq V$ there can be either edges going from $C_1$ to $C_2$ or edges from $C_2$ to $C_1$. </i> <br><br>\n",
    "    \n",
    "&emsp; This statement is correct since if there was a pair of edges $(u,v)$ and $(v^{\\prime},u^{\\prime})$, such that $u,u^{\\prime} \\in C_1$ and $v,v^{\\prime} \\in C_2$, then one could reach all vertices of $C_2$ from any vertex of $C_1$ and vice-versa. This would mean that there is a single strongly connected component $C_1 \\cup C_2$ which is a contradiction. <br><br>\n",
    "    \n",
    "<i>2. If there is an edge $(u,v)$ from a vertex, $u$, which belongs to a strongly connected component $C_1$ to a vertex, $v$, which belongs to $C_2$, then $C_1.f>C_2.f$. Here $C_i.f = \\max(\\{v.f s.t. v\\in C_i \\})$. </i><br><br>\n",
    "    \n",
    "&emsp; Consider two cases: (a) if DFS visits a vertex in strongly connected component $C_2$ before it visits any vertex in $C_1$ and (b) if DFS visits a vertex in $C_1$ before it visits any vertex in $C_2$. <br><br>\n",
    "\n",
    "&emsp; &emsp; Case (a): due to statement 1, there are no edges going from $C_2$ to $C_1$, DFS will explore all vertices of $C_2$ before it visits any vertex of $C_1$ and hence the finish time of $C_1$ will be larger.<br><br>\n",
    "    \n",
    "&emsp; &emsp; Case (b): since there is an edge from $C_1$ to $C_2$ and no edges from $C_2$ to $C_1$, all vertices in $C_2$ will be explored before the exploration of vertex $u$ will be finished, hence $C_1.f>C_2.f$. <br><br>  \n",
    "\n",
    "\n",
    "In the transposed graph, $G.T$, performing DFS in the reverse finish time order all the vertices belonging to a particular strongly connected component will be returned and no vertices of other strongly connected components will be reached. It is so because the strongly connected component with most recent finish time can not have edges going out in to other strongly connected components in the transposed graph. Otherwise, there would be a strongly connected component with an even more recent finish time. Once the vertices in the particular SCC component are explored, the next vertex to be explored will be from another SCC which only has edges leading into the already explored SCC, and hence visiting any vertex in this SCC will visit all vertices in that SCC and no vertices in other SCC's. <br>\n",
    "\n",
    "\n",
    "</div>"
   ]
  },
  {
   "cell_type": "markdown",
   "metadata": {},
   "source": [
    "---\n",
    "<br>\n",
    "<br>\n",
    "<br>\n",
    "<br>\n",
    "<br>\n",
    "<br>\n",
    "<br>"
   ]
  },
  {
   "cell_type": "markdown",
   "metadata": {},
   "source": [
    "## 4. "
   ]
  },
  {
   "cell_type": "markdown",
   "metadata": {},
   "source": [
    "(a) You are provided as input an array $A$ of $n$ keys that has been generated by a stochastic process of the form:\n",
    "$$A(i) = i + \\mu$$\n",
    "where $\\mu$ is random noise drawn from the discrete uniform distribution, $\\mu \\sim \\mathrm{unif}\\{-k, k\\}$, for some $k$, where $k \\ll n$.  Implement an in-place variant of the quicksort algorithm as function, **quicksort**($A$), to sort the array into increasing order. Your solution should have a worst-case run time of $O(n \\log n)$.\n",
    "<div style=\"text-align: right\">[30%]</div>"
   ]
  },
  {
   "cell_type": "markdown",
   "metadata": {},
   "source": [
    "### Examples:"
   ]
  },
  {
   "cell_type": "markdown",
   "metadata": {},
   "source": [
    "**Input:** `[0, 1, 3, 2, 4]` <br>\n",
    "**Output:** `[0, 1, 2, 3, 4]` <br>\n",
    "**Explanation:** the input array has been sorted into increasing order."
   ]
  },
  {
   "cell_type": "markdown",
   "metadata": {},
   "source": [
    "**Input:** `[0, 1, 1]` <br>\n",
    "**Output:** `[0, 1, 1]` <br>\n",
    "**Explanation:** the input array was already in increasing order, so it remains unchanged."
   ]
  },
  {
   "cell_type": "markdown",
   "metadata": {},
   "source": [
    "### Constraints:\n",
    "\n",
    "- Every key is an integer."
   ]
  },
  {
   "cell_type": "markdown",
   "metadata": {},
   "source": [
    "### Code:"
   ]
  },
  {
   "cell_type": "markdown",
   "metadata": {},
   "source": [
    "def partition(nums, low, high):\n",
    "    \"\"\"Implement Lomuto\"\"\"\n",
    "    j = low\n",
    "    pivot = high\n",
    "    \n",
    "    for i in range(low, pivot):\n",
    "        if nums[i] < nums[pivot]:\n",
    "            nums[i], nums[j] = nums[j], nums[i]\n",
    "            j = j + 1\n",
    "\n",
    "    nums[j], nums[pivot] = nums[pivot], nums[j]\n",
    "    return j\n",
    "\n",
    "def qsort(A, low, high):\n",
    "    if low < high:\n",
    "        # swap the pivot and the middle element to guarantee O(n log n) time (due to input distribution)\n",
    "        mid = (high + low) // 2\n",
    "        A[mid], A[high] = A[high], A[mid]\n",
    "        \n",
    "        pivot = partition(A, low, high)\n",
    "        qsort(A, low, pivot)\n",
    "        qsort(A, pivot + 1, high)\n",
    "\n",
    "def quicksort(A):\n",
    "    qsort(A, low=0, high=len(A) - 1)\n",
    "    return A"
   ]
  },
  {
   "cell_type": "code",
   "execution_count": 162,
   "metadata": {},
   "outputs": [
    {
     "data": {
      "text/plain": [
       "(0, [0, 2, 3, 4, 5, 1])"
      ]
     },
     "execution_count": 162,
     "metadata": {},
     "output_type": "execute_result"
    }
   ],
   "source": [
    "\n",
    "def lomuto( A, low, high ):\n",
    "    \n",
    "    p = (low + high) // 2\n",
    "    pv = A[p]\n",
    "    \n",
    "    A[p], A[high-1] = A[high-1], A[p]\n",
    "    \n",
    "    i = low\n",
    "    for j in range(low, high-1):\n",
    "        if A[j] < pv:\n",
    "            A[j], A[i] = A[i], A[j]\n",
    "            i += 1\n",
    "    A[i], A[high-1] = A[high-1], A[i]\n",
    "    \n",
    "    return i\n",
    "\n",
    "\n",
    "def _quicksort(A, low, high):\n",
    "    \n",
    "    if high - low <= 1:\n",
    "        return\n",
    "\n",
    "    pivot = lomuto( A, low, high )\n",
    "    _quicksort( A, low, pivot )\n",
    "    _quicksort( A, pivot+1, high )\n",
    "    \n",
    "\n",
    "def quicksort( A ):\n",
    "    _quicksort(A, 0, len(A))\n",
    "    return A\n",
    "\n",
    "A = [1,2,3,0,5,4]\n",
    "lomuto( A, 0, 6 ), A"
   ]
  },
  {
   "cell_type": "markdown",
   "metadata": {},
   "source": [
    "### Tests:"
   ]
  },
  {
   "cell_type": "markdown",
   "metadata": {},
   "source": [
    "##### Run example test case 1:"
   ]
  },
  {
   "cell_type": "code",
   "execution_count": 163,
   "metadata": {},
   "outputs": [
    {
     "name": "stdout",
     "output_type": "stream",
     "text": [
      "[0, 1, 2, 3, 4]\n"
     ]
    }
   ],
   "source": [
    "input_value = [0, 1, 3, 2, 4]\n",
    "print(quicksort(input_value))"
   ]
  },
  {
   "cell_type": "markdown",
   "metadata": {},
   "source": [
    "##### Run example test case 2:"
   ]
  },
  {
   "cell_type": "code",
   "execution_count": 158,
   "metadata": {},
   "outputs": [
    {
     "name": "stdout",
     "output_type": "stream",
     "text": [
      "[-6, -6, -1, 0, 1, 12, 60]\n"
     ]
    }
   ],
   "source": [
    "input_value = [0, 1, -1, 60, -6, 12, -6]\n",
    "print(quicksort(input_value))"
   ]
  },
  {
   "cell_type": "markdown",
   "metadata": {},
   "source": [
    "#### Automatic Evaluation:"
   ]
  },
  {
   "cell_type": "markdown",
   "metadata": {},
   "source": [
    "<i><b><font color='red'>Do not forget to run on all test cases when your final implementation is finished!</font></b></i>"
   ]
  },
  {
   "cell_type": "code",
   "execution_count": 164,
   "metadata": {},
   "outputs": [
    {
     "name": "stdout",
     "output_type": "stream",
     "text": [
      "----------------------------------\n",
      "Evaluating question 4, part a\n",
      "Running question 4, part a, test id: 1\n",
      "Input:\n",
      "[0, 1, 3, 2, 4]\n",
      "Obtained output:\n",
      "[0, 1, 2, 3, 4]\n",
      "<<CORRECT>>\n",
      "Running question 4, part a, test id: 2\n",
      "Input:\n",
      "[0, 1, 1]\n",
      "Obtained output:\n",
      "[0, 1, 1]\n",
      "<<CORRECT>>\n",
      "Running question 4, part a, test id: 3\n",
      "Input:\n",
      "[1, 2, -3, 2, 7, 7, 7, 6, 10, 9, 14, 9, 15, 10, 13, 12, 12, 21, 17, 22, 24, 18, 21, 19, 20, 30, 26, 29, 31, 25, 30, 32, 32, 37, 39, 33, 39, 39, 40, 42, 39, 36, 45, 38, 40, 46, 51, 52, 43, 53, 52, 51, 50, 53, 50, 53, 60, 55, 56, 56, 63, 63, 58, 59, 64, 68, 68, 63, 67, 72, 69, 67, 75, 73, 77, 73, 80, 80, 82, 78, 82, 77, 86, 84, 84, 89, 84, 86, 85, 87, 87, 86, 96, 98, 93, 97, 92, 93, 103, 96]\n",
      "Obtained output:\n",
      "[-3, 1, 2, 2, 6, 7, 7, 7, 9, 9, 10, 10, 12, 12, 13, 14, 15, 17, 18, 19, 20, 21, 21, 22, 24, 25, 26, 29, 30, 30, 31, 32, 32, 33, 36, 37, 38, 39, 39, 39, 39, 40, 40, 42, 43, 45, 46, 50, 50, 51, 51, 52, 52, 53, 53, 53, 55, 56, 56, 58, 59, 60, 63, 63, 63, 64, 67, 67, 68, 68, 69, 72, 73, 73, 75, 77, 77, 78, 80, 80, 82, 82, 84, 84, 84, 85, 86, 86, 86, 87, 87, 89, 92, 93, 93, 96, 96, 97, 98, 103]\n",
      "<<CORRECT>>\n",
      "Running question 4, part a, test id: 4\n",
      "Input:\n",
      "[6, 0, 7, 10, 3, -2, 3, 8, 8, 8, 17, 16, 18, 10, 14, 13, 18, 24, 25, 15, 21, 16, 19, 18, 29, 19, 28, 32, 25, 36, 31, 35, 37, 35, 41, 30, 33, 31, 42, 33, 47, 47, 45, 41, 44, 46, 40, 45, 47, 47, 52, 54, 59, 49, 55, 55, 56, 63, 59, 56, 53, 66, 69, 64, 71, 58, 60, 71, 74, 68, 74, 77, 77, 76, 77, 68, 78, 77, 84, 85, 78, 77, 86, 81, 88, 91, 80, 83, 95, 91, 86, 87, 97, 88, 99, 96, 96, 91, 92, 97, 107, 102, 109, 103, 98, 102, 107, 104, 112, 103, 111, 109, 118, 120, 115, 111, 121, 119, 119, 121, 117, 121, 116, 125, 129, 124, 124, 129, 124, 126, 125, 127, 138, 128, 127, 137, 139, 134, 138, 133, 134, 144, 147, 138, 151, 140, 153, 140, 154, 143, 157, 155, 159, 159, 155, 158, 155, 163, 162, 160, 157, 162, 167, 159, 170, 161, 173, 170, 170, 175, 169, 173, 169, 173, 174, 178, 179, 181, 185, 184, 178, 175, 180, 185, 178, 185, 188, 190, 186, 195, 186, 187, 185, 197, 191, 189, 200, 193, 196, 204, 195, 199, 201, 209, 197, 199, 211, 202, 214, 213, 206, 204, 218, 215, 217, 222, 223, 218, 220, 222, 214, 214, 216, 226, 220, 227, 232, 229, 222, 228, 224, 229, 238, 227, 227, 237, 229, 233, 233, 243, 234, 241, 238, 247, 249, 238, 253, 250, 241, 250, 249, 253, 246, 259, 251, 249, 252, 251, 261, 256, 258, 260, 257, 256, 265, 265, 259, 269, 262, 273, 269, 267, 269, 271, 281, 279, 276, 283, 285, 286, 282, 276, 286, 286, 280, 290, 279, 292, 291, 284, 296, 286, 290, 294, 291, 289, 298, 304, 298, 302, 295, 294, 302, 306, 303, 312, 308, 313, 309, 316, 307, 314, 310, 312, 320, 318, 313, 312, 319, 323, 313, 321, 326, 317, 322, 329, 319, 328, 325, 324, 326, 336, 332, 331, 336, 332, 339, 335, 340, 346, 343, 347, 344, 338, 348, 342, 345, 351, 347, 355, 353, 345, 345, 355, 350, 359, 354, 352, 354, 355, 363, 361, 361, 367, 371, 368, 368, 373, 367, 362, 369, 377, 376, 375, 373, 380, 379, 381, 371, 374, 380, 375, 379, 387, 379, 385, 387, 394, 388, 396, 391, 393, 397, 386, 401, 388, 396, 395, 395, 405, 400, 394, 407, 409, 411, 410, 405, 403, 409, 412, 404, 417, 416, 408, 407, 414, 419, 416, 416, 412, 416, 414, 426, 428, 417, 431, 429, 428, 430, 423, 426, 425, 434, 436, 430, 441, 433, 434, 442, 434, 434, 441, 448, 450, 443, 448, 440, 440, 445, 456, 450, 456, 457, 447, 460, 452, 451, 460, 459, 465, 463, 464, 460, 457, 470, 460, 463, 473, 461, 462, 463, 467, 475, 470, 475, 473, 474, 479, 485, 485, 473, 487, 486, 487, 486, 488, 486, 491, 491, 496, 490, 494, 491, 491, 500, 496, 491, 493, 497, 501]\n",
      "Obtained output:\n",
      "[-2, 0, 3, 3, 6, 7, 8, 8, 8, 10, 10, 13, 14, 15, 16, 16, 17, 18, 18, 18, 19, 19, 21, 24, 25, 25, 28, 29, 30, 31, 31, 32, 33, 33, 35, 35, 36, 37, 40, 41, 41, 42, 44, 45, 45, 46, 47, 47, 47, 47, 49, 52, 53, 54, 55, 55, 56, 56, 58, 59, 59, 60, 63, 64, 66, 68, 68, 69, 71, 71, 74, 74, 76, 77, 77, 77, 77, 77, 78, 78, 80, 81, 83, 84, 85, 86, 86, 87, 88, 88, 91, 91, 91, 92, 95, 96, 96, 97, 97, 98, 99, 102, 102, 103, 103, 104, 107, 107, 109, 109, 111, 111, 112, 115, 116, 117, 118, 119, 119, 120, 121, 121, 121, 124, 124, 124, 125, 125, 126, 127, 127, 128, 129, 129, 133, 134, 134, 137, 138, 138, 138, 139, 140, 140, 143, 144, 147, 151, 153, 154, 155, 155, 155, 157, 157, 158, 159, 159, 159, 160, 161, 162, 162, 163, 167, 169, 169, 170, 170, 170, 173, 173, 173, 174, 175, 175, 178, 178, 178, 179, 180, 181, 184, 185, 185, 185, 185, 186, 186, 187, 188, 189, 190, 191, 193, 195, 195, 196, 197, 197, 199, 199, 200, 201, 202, 204, 204, 206, 209, 211, 213, 214, 214, 214, 215, 216, 217, 218, 218, 220, 220, 222, 222, 222, 223, 224, 226, 227, 227, 227, 228, 229, 229, 229, 232, 233, 233, 234, 237, 238, 238, 238, 241, 241, 243, 246, 247, 249, 249, 249, 250, 250, 251, 251, 252, 253, 253, 256, 256, 257, 258, 259, 259, 260, 261, 262, 265, 265, 267, 269, 269, 269, 271, 273, 276, 276, 279, 279, 280, 281, 282, 283, 284, 285, 286, 286, 286, 286, 289, 290, 290, 291, 291, 292, 294, 294, 295, 296, 298, 298, 302, 302, 303, 304, 306, 307, 308, 309, 310, 312, 312, 312, 313, 313, 313, 314, 316, 317, 318, 319, 319, 320, 321, 322, 323, 324, 325, 326, 326, 328, 329, 331, 332, 332, 335, 336, 336, 338, 339, 340, 342, 343, 344, 345, 345, 345, 346, 347, 347, 348, 350, 351, 352, 353, 354, 354, 355, 355, 355, 359, 361, 361, 362, 363, 367, 367, 368, 368, 369, 371, 371, 373, 373, 374, 375, 375, 376, 377, 379, 379, 379, 380, 380, 381, 385, 386, 387, 387, 388, 388, 391, 393, 394, 394, 395, 395, 396, 396, 397, 400, 401, 403, 404, 405, 405, 407, 407, 408, 409, 409, 410, 411, 412, 412, 414, 414, 416, 416, 416, 416, 417, 417, 419, 423, 425, 426, 426, 428, 428, 429, 430, 430, 431, 433, 434, 434, 434, 434, 436, 440, 440, 441, 441, 442, 443, 445, 447, 448, 448, 450, 450, 451, 452, 456, 456, 457, 457, 459, 460, 460, 460, 460, 461, 462, 463, 463, 463, 464, 465, 467, 470, 470, 473, 473, 473, 474, 475, 475, 479, 485, 485, 486, 486, 486, 487, 487, 488, 490, 491, 491, 491, 491, 491, 493, 494, 496, 496, 497, 500, 501]\n",
      "<<CORRECT>>\n",
      "Running question 4, part a, test id: 5\n",
      "Input:\n",
      "[]\n",
      "Obtained output:\n",
      "[]\n",
      "<<CORRECT>>\n",
      "-----------------\n",
      "Total correct outputs:\n",
      "5 out of 5\n",
      "----------------------------------\n"
     ]
    }
   ],
   "source": [
    "#DO NOT EDIT THIS CODE!\n",
    "from evaluation_script import evaluate_solution \n",
    "evaluate_solution(question_id=4,question_part_id='a',function=quicksort,\n",
    "                  test_case_list=[1,2,3,4,5],verbose=True)"
   ]
  },
  {
   "cell_type": "markdown",
   "metadata": {},
   "source": [
    "(b) Explain why code achieves the desired worst-case run time behaviour. <div style=\"text-align: right\">[10%]</div>"
   ]
  },
  {
   "cell_type": "markdown",
   "metadata": {},
   "source": [
    "<div style=\"border-width:2px;border-style:solid;border-color:black;\">\n",
    "Note that in Part (a) we use the original quicksort algorithm with Lomuto partition with only one difference - swapping the middle index and the high index values before performing the partition so that the pivot becomes the middle index element.<br><br>\n",
    "    \n",
    "Since $k < < n$, for most of the recursive calls to the <b>qsort</b> function the split will be sufficiently balanced as the middle element can only be larger than its index by the value of +k and the highest index element can only be smaller than its index by the value of -k. Note, from lecture notes even if seemingly unbalanced splits of 0.995n (left) and 0.005 (right) are used the run time of Quicksort is $O(n\\log n)$. \n",
    "    \n",
    "</div>"
   ]
  },
  {
   "cell_type": "markdown",
   "metadata": {},
   "source": [
    "(c) Suppose the stochastic process described in Part (a) is now corrupted by an additional source of noise.  Regardless of the length of the sequence, $n$, all but 3 of the entries are set to zero. Does your implementation in Part (a) still guarantee $O(n \\log n)$ worst-case runtime? Explain your answer. <div style=\"text-align: right\">[10%]</div>"
   ]
  },
  {
   "cell_type": "markdown",
   "metadata": {},
   "source": [
    "<div style=\"border-width:2px;border-style:solid;border-color:black;\">\n",
    "Quicksort implementation in Part (a) uses the Lomuto partitioning scheme. This will degrade to $O(n^2)$ complexity on duplicate inputs. It could be fixed by switching to the more intricate Hoare partitioning scheme which does not suffer from this shortcoming.\n",
    "    \n",
    "</div>"
   ]
  },
  {
   "cell_type": "markdown",
   "metadata": {},
   "source": [
    "(d) Give brief answers to the following questions."
   ]
  },
  {
   "cell_type": "markdown",
   "metadata": {},
   "source": [
    "&emsp; (i) What is the expected run time of the quicksort algorithm if the rank of the pivot selected during each recursion does not depend on the input array size? Explain your answer. <br><br>  *Note that the rank refers to 1-indexed position of an element in a list if the elements were to be sorted into increasing order (for example, in the list `[0, 4, 3]`, the rank of `3` is  2, because `3` is the second largest element in the list).* <div style=\"text-align: right\">[10%]</div>"
   ]
  },
  {
   "cell_type": "markdown",
   "metadata": {},
   "source": [
    "<div style=\"border-width:2px;border-style:solid;border-color:black;\">\n",
    "The expected run time is $O(n^2)$.  This can be seen by noting that since quicksort is recursive, we can write its complexity as: <br><br>\n",
    "$$T(n) = T(r - 1) + T(n - r) + \\Theta(n)$$ <br>\n",
    "where the first term is the cost of recursion on the left subarray, the second term is the right subarray, the partition is $\\Theta(n)$ and $r$ is the rank of the pivot.<br><br>\n",
    "    \n",
    "If $r$ is some constant $C$ that is independent of $n$, then this expression becomes: <br><br>\n",
    "$$T(n) = T(C) + T(n - C) + \\Theta(n)$$  <br>\n",
    "which has solution $\\Theta(n^2)$. \n",
    "</div>"
   ]
  },
  {
   "cell_type": "markdown",
   "metadata": {},
   "source": [
    "&emsp; (ii) What is the expected run time of the quicksort algorithm if the rank of the pivot selected during each recursion is $K \\cdot n$ for some $K$ such that $0 < K < 1$. Explain your answer. <div style=\"text-align: right\">[10%]</div>"
   ]
  },
  {
   "cell_type": "markdown",
   "metadata": {},
   "source": [
    "<div style=\"border-width:2px;border-style:solid;border-color:black;\">\n",
    "The expected run time is $O(n\\log n)$.  Again, we can write the complexity of quicksort as:\n",
    "$$T(n) = T(r - 1) + T(n - r) + \\Theta(n)$$\n",
    "where the first term is the cost of recursion on the left subarray, the second term is the right subarray, the partition is $\\Theta(n)$ and $r$ is the rank of the pivot.\n",
    "\n",
    "This time, we will produce a recursion tree of depth $\\log_{\\frac{1}{K}} n$, and so the overall complexity is $O(n \\log n)$ (we ignore the change of base in the log since it falls out as a constant factor).\n",
    "</div>"
   ]
  },
  {
   "cell_type": "markdown",
   "metadata": {},
   "source": [
    "&emsp; (iii) Describe briefly how quicksort can be modified to guarantee $O(n \\log n)$ worst-case runtime, and explain why such a modification may not be desirable in practice. <div style=\"text-align: right\">[10%]</div>"
   ]
  },
  {
   "cell_type": "markdown",
   "metadata": {},
   "source": [
    "<div style=\"border-width:2px;border-style:solid;border-color:black;\">\n",
    "We can select the pivot using the $O(n)$ \"median of medians\" algorithm to select the pivot. This guarantees that we will get a \"sufficiently good\" median. It may not be desirable in practice, however, because the overhead of this algorithm tends to be significantly greater than simpler median selection approaches (such as random selection).  \n",
    "</div>"
   ]
  },
  {
   "cell_type": "markdown",
   "metadata": {},
   "source": [
    "(e) Given an input array $B$ comprising $n$ triplets of integers $(i, j, k)$ (not necessary distinct), implement an in-place sorting algorithm that sorts the keys into increasing lexicographic order with worst-case $O(n \\log n)$. Your code should not make use of Python's builtin sort functions. <div style=\"text-align: right\">[20%]</div>"
   ]
  },
  {
   "cell_type": "markdown",
   "metadata": {},
   "source": [
    "### Examples:"
   ]
  },
  {
   "cell_type": "markdown",
   "metadata": {},
   "source": [
    "**Input:** `[[2, 1, 0], [1, 0, 2]]` <br>\n",
    "**Output:** `[[1, 0, 2], [2, 1, 0]]` <br>\n",
    "**Explanation:** the triplets of $B$ have been sorted into increasing lexicographic order.<br>"
   ]
  },
  {
   "cell_type": "markdown",
   "metadata": {},
   "source": [
    "**Input:** `[[1, 0, 2], [1, 0, 2]]` <br>\n",
    "**Output:** `[[1, 0, 2], [1, 0, 2]]` <br>\n",
    "**Explanation:** the triplets of $B$ were already in increasing lexicographic order, so the array remains unchanged.<br>"
   ]
  },
  {
   "cell_type": "markdown",
   "metadata": {},
   "source": [
    "### Constraints:\n",
    "\n",
    "- $0\\leq n\\leq 20$."
   ]
  },
  {
   "cell_type": "markdown",
   "metadata": {},
   "source": [
    "### Code:"
   ]
  },
  {
   "cell_type": "code",
   "execution_count": 31,
   "metadata": {},
   "outputs": [],
   "source": [
    "def left_child(i):\n",
    "    return 2 * i + 1\n",
    "\n",
    "def right_child(i):\n",
    "    return 2 * i + 2\n",
    "\n",
    "def is_less_than(x: list, y: list):\n",
    "    return (\n",
    "        (x[0] < y[0]) or\n",
    "        (x[0] == y[0] and x[1] < y[1]) or\n",
    "        (x[0] == y[0] and x[1] == y[1] and x[2] < y[2])\n",
    "    )\n",
    "\n",
    "def max_heapify(B, heap_size, idx):\n",
    "    left = left_child(idx)\n",
    "    right = right_child(idx)\n",
    "    max_idx = idx\n",
    "    \n",
    "    if left < heap_size and is_less_than(B[max_idx], B[left]):\n",
    "        max_idx = left\n",
    "    if right < heap_size and is_less_than(B[max_idx], B[right]):\n",
    "        max_idx = right\n",
    "        \n",
    "    if idx != max_idx:\n",
    "        B[max_idx], B[idx] = B[idx], B[max_idx]\n",
    "        max_heapify(B, heap_size=heap_size, idx=max_idx)\n",
    "        \n",
    "def build_max_heap(B):\n",
    "    heap_size = len(B)\n",
    "    for idx in range(heap_size//2 - 1, -1, -1):\n",
    "        max_heapify(B, heap_size=heap_size, idx=idx)\n",
    "        \n",
    "def heapsort(B):\n",
    "    build_max_heap(B)\n",
    "    heap_size = len(B)\n",
    "    while heap_size > 1:\n",
    "        B[0], B[heap_size - 1] = B[heap_size - 1], B[0]\n",
    "        heap_size = heap_size - 1\n",
    "        max_heapify(B, heap_size=heap_size, idx=0)\n",
    "\n",
    "def triplet_sort(B):\n",
    "    heapsort(B)\n",
    "    return B"
   ]
  },
  {
   "cell_type": "code",
   "execution_count": 177,
   "metadata": {},
   "outputs": [],
   "source": [
    "\n",
    "def expand( t ):\n",
    "    return sum([ x*1e+5**(3-i) for i, x in enumerate(t) ])\n",
    "\n",
    "def less( t1, t2 ):\n",
    "    return expand(t1) < expand(t2)\n",
    "\n",
    "def lomuto( A, low, high ):\n",
    "    \n",
    "    p = (low + high) // 2\n",
    "    pv = A[p]\n",
    "    \n",
    "    A[p], A[high-1] = A[high-1], A[p]\n",
    "    \n",
    "    i = low\n",
    "    for j in range(low, high-1):\n",
    "        if less(A[j], pv):\n",
    "            A[j], A[i] = A[i], A[j]\n",
    "            i += 1\n",
    "    A[i], A[high-1] = A[high-1], A[i]\n",
    "    \n",
    "    return i\n",
    "\n",
    "\n",
    "def _quicksort(A, low, high):\n",
    "    \n",
    "    if high - low <= 1:\n",
    "        return\n",
    "\n",
    "    pivot = lomuto( A, low, high )\n",
    "    _quicksort( A, low, pivot )\n",
    "    _quicksort( A, pivot+1, high )\n",
    "    \n",
    "\n",
    "def triplet_sort( A ):\n",
    "    _quicksort(A, 0, len(A))\n",
    "    return A\n"
   ]
  },
  {
   "cell_type": "markdown",
   "metadata": {},
   "source": [
    "### Examples:"
   ]
  },
  {
   "cell_type": "markdown",
   "metadata": {},
   "source": [
    "##### Run example test case 1:"
   ]
  },
  {
   "cell_type": "code",
   "execution_count": 175,
   "metadata": {},
   "outputs": [
    {
     "name": "stdout",
     "output_type": "stream",
     "text": [
      "[[1, 0, 2], [2, 1, 0]]\n"
     ]
    }
   ],
   "source": [
    "input_value = [[2, 1, 0], [1, 0, 2]]\n",
    "print(triplet_sort(input_value))"
   ]
  },
  {
   "cell_type": "markdown",
   "metadata": {},
   "source": [
    "##### Run example test case 2:"
   ]
  },
  {
   "cell_type": "code",
   "execution_count": 172,
   "metadata": {},
   "outputs": [
    {
     "name": "stdout",
     "output_type": "stream",
     "text": [
      "[[1, 0, 2], [1, 0, 2]]\n"
     ]
    }
   ],
   "source": [
    "input_value = [[1, 0, 2], [1, 0, 2]]\n",
    "print(triplet_sort(input_value))"
   ]
  },
  {
   "cell_type": "markdown",
   "metadata": {},
   "source": [
    "#### Automatic Evaluation:"
   ]
  },
  {
   "cell_type": "markdown",
   "metadata": {},
   "source": [
    "<i><b><font color='red'>Do not forget to run on all test cases when your final implementation is finished!</font></b></i>"
   ]
  },
  {
   "cell_type": "code",
   "execution_count": 178,
   "metadata": {},
   "outputs": [
    {
     "name": "stdout",
     "output_type": "stream",
     "text": [
      "----------------------------------\n",
      "Evaluating question 4, part e\n",
      "Running question 4, part e, test id: 1\n",
      "Input:\n",
      "[[2, 1, 0], [1, 0, 2]]\n",
      "Obtained output:\n",
      "[[1, 0, 2], [2, 1, 0]]\n",
      "<<CORRECT>>\n",
      "Running question 4, part e, test id: 2\n",
      "Input:\n",
      "[[1, 0, 2], [1, 0, 2]]\n",
      "Obtained output:\n",
      "[[1, 0, 2], [1, 0, 2]]\n",
      "<<CORRECT>>\n",
      "Running question 4, part e, test id: 3\n",
      "Input:\n",
      "[]\n",
      "Obtained output:\n",
      "[]\n",
      "<<CORRECT>>\n",
      "Running question 4, part e, test id: 4\n",
      "Input:\n",
      "[[729, -212, 552], [823, -139, -918], [-470, 977, 47], [-5, -171, 880], [605, 699, -379], [982, -24, -267], [194, 826, 859], [-553, 33, -715], [-423, -714, 547], [-806, 266, 637], [-487, 863, 90], [444, 659, 232], [847, -700, -365], [-798, 494, -849], [840, 741, 400], [-324, -34, 146], [-794, -276, -111], [-353, 251, 311], [869, -582, 979], [131, -24, -94]]\n",
      "Obtained output:\n",
      "[[-806, 266, 637], [-798, 494, -849], [-794, -276, -111], [-553, 33, -715], [-487, 863, 90], [-470, 977, 47], [-423, -714, 547], [-353, 251, 311], [-324, -34, 146], [-5, -171, 880], [131, -24, -94], [194, 826, 859], [444, 659, 232], [605, 699, -379], [729, -212, 552], [823, -139, -918], [840, 741, 400], [847, -700, -365], [869, -582, 979], [982, -24, -267]]\n",
      "<<CORRECT>>\n",
      "Running question 4, part e, test id: 5\n",
      "Input:\n",
      "[[0, 0, -1], [0, 1, 0], [0, 0, 0], [0, 1, -1], [1, -1, 0], [-1, -1, 1], [0, 1, 1], [1, -1, 0], [-1, 1, -1], [1, 0, 0], [1, -1, 0], [0, 0, 1], [1, -1, 1], [0, 0, 1], [0, -1, 1], [-1, -1, 1], [0, 1, 1], [1, -1, 1], [0, 0, -1], [1, 0, 1]]\n",
      "Obtained output:\n",
      "[[-1, -1, 1], [-1, -1, 1], [-1, 1, -1], [0, -1, 1], [0, 0, -1], [0, 0, -1], [0, 0, 0], [0, 0, 1], [0, 0, 1], [0, 1, -1], [0, 1, 0], [0, 1, 1], [0, 1, 1], [1, -1, 0], [1, -1, 0], [1, -1, 0], [1, -1, 1], [1, -1, 1], [1, 0, 0], [1, 0, 1]]\n",
      "<<CORRECT>>\n",
      "-----------------\n",
      "Total correct outputs:\n",
      "5 out of 5\n",
      "----------------------------------\n"
     ]
    }
   ],
   "source": [
    "#DO NOT EDIT THIS CODE!\n",
    "from evaluation_script import evaluate_solution \n",
    "evaluate_solution(question_id=4,question_part_id='e',function=triplet_sort,\n",
    "                  test_case_list=[1,2,3,4,5],verbose=True)"
   ]
  },
  {
   "cell_type": "markdown",
   "metadata": {},
   "source": [
    "---\n",
    "<br>\n",
    "<br>\n",
    "<br>\n",
    "<br>\n",
    "<br>\n",
    "<br>\n",
    "<br>"
   ]
  },
  {
   "cell_type": "markdown",
   "metadata": {},
   "source": [
    "<b><center>END OF PAPER</center></b>"
   ]
  }
 ],
 "metadata": {
  "kernelspec": {
   "display_name": "Python 3 (ipykernel)",
   "language": "python",
   "name": "python3"
  },
  "language_info": {
   "codemirror_mode": {
    "name": "ipython",
    "version": 3
   },
   "file_extension": ".py",
   "mimetype": "text/x-python",
   "name": "python",
   "nbconvert_exporter": "python",
   "pygments_lexer": "ipython3",
   "version": "3.10.10"
  },
  "vscode": {
   "interpreter": {
    "hash": "d1f7a2bbba71ff99ad142cbae391e4ba52f39cd113df3e04f0425508106d86e1"
   }
  }
 },
 "nbformat": 4,
 "nbformat_minor": 4
}
