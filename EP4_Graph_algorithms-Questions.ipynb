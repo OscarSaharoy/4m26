{
 "cells": [
  {
   "cell_type": "markdown",
   "metadata": {
    "hideCode": false
   },
   "source": [
    "\n",
    "# **4M26 - Examples Paper 4 - Graph Algorithms** \n"
   ]
  },
  {
   "cell_type": "markdown",
   "metadata": {},
   "source": [
    "---\n",
    "<br>\n",
    "<br>"
   ]
  },
  {
   "cell_type": "markdown",
   "metadata": {},
   "source": [
    "## 1."
   ]
  },
  {
   "cell_type": "markdown",
   "metadata": {},
   "source": [
    "Briefly answer multiple questions below."
   ]
  },
  {
   "cell_type": "markdown",
   "metadata": {},
   "source": [
    "&emsp; (i)&emsp; In your own words explain the terms, *directed graph*, *undirected graph*, *bipartite graph*, *strongly connected component*."
   ]
  },
  {
   "cell_type": "markdown",
   "metadata": {},
   "source": [
    "<div style=\"border-width:2px;border-style:solid;border-color:black;\">\n",
    "Write your answer here.\n",
    "</div>"
   ]
  },
  {
   "cell_type": "markdown",
   "metadata": {},
   "source": [
    "&emsp; (ii)&emsp; Give an example of a computational problem, to build solution for which you would prefer using breadth-first search (BFS) over depth first search (DFS). Also give another example of a problem which you would prefer to use DFS over BFS? Explain the reasoning behind your choices."
   ]
  },
  {
   "cell_type": "markdown",
   "metadata": {},
   "source": [
    "<div style=\"border-width:2px;border-style:solid;border-color:black;\">\n",
    "Write your answer here.\n",
    "</div>"
   ]
  },
  {
   "cell_type": "markdown",
   "metadata": {},
   "source": [
    "&emsp; (iii)&emsp;  Suppose you use a stack instead of a queue\n",
    "when running breadth-first search. Does it still\n",
    "compute shortest paths?"
   ]
  },
  {
   "cell_type": "markdown",
   "metadata": {},
   "source": [
    "<div style=\"border-width:2px;border-style:solid;border-color:black;\">\n",
    "Write your answer here.\n",
    "</div>"
   ]
  },
  {
   "cell_type": "markdown",
   "metadata": {},
   "source": [
    "&emsp; (iv)&emsp; Prove that every connected graph has a vertex whose removal (including all\n",
    "adjacent edges) will not disconnect the graph, and explain how to use a DFS graph traversal to find such\n",
    "a vertex. "
   ]
  },
  {
   "cell_type": "markdown",
   "metadata": {},
   "source": [
    "<div style=\"border-width:2px;border-style:solid;border-color:black;\">\n",
    "Write your answer here.\n",
    "</div>"
   ]
  },
  {
   "cell_type": "markdown",
   "metadata": {},
   "source": [
    "&emsp; (v)&emsp; A team of programmers have a graph and want to compute a minimum spanning subtree. They are worried because the graph has some edges with negative weights. So they increase the weight on each edge by an amount, $W$, such that all weights become positve. They then find the spanning subtree in the adjusted graph. Will it be minimal in the original graph? "
   ]
  },
  {
   "cell_type": "markdown",
   "metadata": {},
   "source": [
    "<div style=\"border-width:2px;border-style:solid;border-color:black;\">\n",
    "Write your answer here.\n",
    "</div>"
   ]
  },
  {
   "cell_type": "markdown",
   "metadata": {},
   "source": [
    "&emsp; (vi)&emsp;  What if the team aforementioned in Part (v) was looking for the shortest path? Ie. if the shortest path was found in a graph which had been adjusted using the same procedure, would it also be a shortest path in the original graph? "
   ]
  },
  {
   "cell_type": "markdown",
   "metadata": {},
   "source": [
    "<div style=\"border-width:2px;border-style:solid;border-color:black;\">\n",
    "Write your answer here.\n",
    "</div>"
   ]
  },
  {
   "cell_type": "markdown",
   "metadata": {},
   "source": [
    "&emsp; (vii)&emsp; Explain why Dijkstra' algorithm can be classified as a greedy algorithm and why Bellman-Ford algorithm can be classified as a dynamic programming algorithm? How would you go about proving that once terminated Belman-Ford and Dijkstra algorithms compute single source shortest paths?"
   ]
  },
  {
   "cell_type": "markdown",
   "metadata": {},
   "source": [
    "<div style=\"border-width:2px;border-style:solid;border-color:black;\">\n",
    "Write your answer here.\n",
    "</div>"
   ]
  },
  {
   "cell_type": "markdown",
   "metadata": {},
   "source": [
    "&emsp; (viii) Provide a detailed computation of run time complexity in terms of Big-O notation of Dijkstra's algorithm."
   ]
  },
  {
   "cell_type": "markdown",
   "metadata": {},
   "source": [
    "<div style=\"border-width:2px;border-style:solid;border-color:black;\">\n",
    "Write your answer here.\n",
    "</div>"
   ]
  },
  {
   "cell_type": "markdown",
   "metadata": {},
   "source": [
    "&emsp; (ix)&emsp; Show the execution of the Ford-Fulkerson and Edmonds-Karp algorithms on the graph below. Note here $s$ and $t$ are source and sink vertices of the flow network, respectively. <img src=\"./flow_network.jpeg\" border=\"0\" class=\"bg-primary\" width=\"400px\"> "
   ]
  },
  {
   "cell_type": "markdown",
   "metadata": {},
   "source": [
    "<div style=\"border-width:2px;border-style:solid;border-color:black;\">\n",
    "Write your answer here.\n",
    "</div>"
   ]
  },
  {
   "cell_type": "markdown",
   "metadata": {},
   "source": [
    "&emsp; (x)&emsp; In your own words explain why finding a maximum bipartite matching in a bipartite graph is equivalent to finding the maximum flow in some particular flow network. How you would construct such a flow network?"
   ]
  },
  {
   "cell_type": "markdown",
   "metadata": {},
   "source": [
    "<div style=\"border-width:2px;border-style:solid;border-color:black;\">\n",
    "Write your answer here.\n",
    "</div>"
   ]
  },
  {
   "cell_type": "markdown",
   "metadata": {},
   "source": [
    "---\n",
    "<br>\n",
    "<br>\n",
    "<br>"
   ]
  },
  {
   "cell_type": "markdown",
   "metadata": {},
   "source": [
    "## 2. "
   ]
  },
  {
   "cell_type": "markdown",
   "metadata": {
    "cell_style": "center"
   },
   "source": [
    "Write the function, **bfs**($L$), which takes a list, $L$, as an input. This list itself consists of an adjacency list, $A$, which represents some undirected graph and a single value, $s$, which represents the starting node. The function should perform the Breadth-First Search traversal of the graph, starting from node, $s$. The output should be a list of nodes ordered in the same order as they were removed from the BFS queue.\n",
    "\n",
    "Note that in this adjacency list representation we assume that graph nodes are numbered from $0$ to $n-1$ and the neighbours of the node, $i$, are stored as a list, $A[i]$. Also note that several orderings can be valid."
   ]
  },
  {
   "cell_type": "markdown",
   "metadata": {},
   "source": [
    "### Examples:"
   ]
  },
  {
   "cell_type": "markdown",
   "metadata": {},
   "source": [
    "**Input:** `[[[1, 2], [0, 2, 3, 4], [0, 1, 5, 6], [1], [1, 5], [2, 4], [2]], 0]` <br>\n",
    "**Output:** `[0, 1, 2, 3, 4, 5, 6]`"
   ]
  },
  {
   "cell_type": "markdown",
   "metadata": {},
   "source": [
    "**Input:**  `[[[3, 4, 8, 9], [2, 9], [1, 4, 5 ,6], [0, 7], [0, 2], [2, 7], [2], [3, 5], [0], [0, 1]], 9]` <br>\n",
    "**Output:**  `[9, 0, 1, 3, 4, 8, 2, 7, 5, 6]`"
   ]
  },
  {
   "cell_type": "markdown",
   "metadata": {},
   "source": [
    "### Constraints:\n",
    "\n",
    "- $1\\leq n \\leq 100$.\n",
    "- if $(u,v)$ is an edge in the graph then both $u \\in A[v]$ and $v \\in A[u]$."
   ]
  },
  {
   "cell_type": "markdown",
   "metadata": {},
   "source": [
    "### Code:"
   ]
  },
  {
   "cell_type": "code",
   "execution_count": 3,
   "metadata": {},
   "outputs": [],
   "source": [
    "import queue"
   ]
  },
  {
   "cell_type": "code",
   "execution_count": 12,
   "metadata": {},
   "outputs": [],
   "source": [
    "def bfs(L):\n",
    "\n",
    "    q = queue.Queue()\n",
    "    v = {}\n",
    "    A, s = L\n",
    "    res = []\n",
    "    \n",
    "    q.put( s )\n",
    "    while not q.empty():\n",
    "        \n",
    "        current = q.get()\n",
    "        \n",
    "        if v.get( current, False ):\n",
    "            continue\n",
    "            \n",
    "        v[current] = True\n",
    "        \n",
    "        res.append( current )\n",
    "        \n",
    "        for connection in A[current]:\n",
    "            q.put(connection)\n",
    "            \n",
    "    return res\n",
    "    "
   ]
  },
  {
   "cell_type": "markdown",
   "metadata": {},
   "source": [
    "### Tests:"
   ]
  },
  {
   "cell_type": "markdown",
   "metadata": {},
   "source": [
    "##### Run example test case 1:"
   ]
  },
  {
   "cell_type": "code",
   "execution_count": 13,
   "metadata": {},
   "outputs": [
    {
     "name": "stdout",
     "output_type": "stream",
     "text": [
      "[0, 1, 2, 3, 4, 5, 6]\n"
     ]
    }
   ],
   "source": [
    "input_value = [[[1, 2], [0, 2, 3, 4], [0, 1, 5, 6], [1], [1, 5], [2, 4], [2]], 0]\n",
    "print (bfs(input_value))"
   ]
  },
  {
   "cell_type": "markdown",
   "metadata": {},
   "source": [
    "##### Run example test case 2:"
   ]
  },
  {
   "cell_type": "code",
   "execution_count": 14,
   "metadata": {},
   "outputs": [
    {
     "name": "stdout",
     "output_type": "stream",
     "text": [
      "[9, 0, 1, 3, 4, 8, 2, 7, 5, 6]\n"
     ]
    }
   ],
   "source": [
    "input_value = [[[3, 4, 8, 9], [2, 9], [1, 4, 5 ,6], [0, 7], [0, 2], [2, 7], [2], [3, 5], [0], [0, 1]], 9]\n",
    "print (bfs(input_value))"
   ]
  },
  {
   "cell_type": "markdown",
   "metadata": {},
   "source": [
    "---\n",
    "<br>\n",
    "<br>\n",
    "<br>"
   ]
  },
  {
   "cell_type": "markdown",
   "metadata": {},
   "source": [
    "## 3."
   ]
  },
  {
   "cell_type": "markdown",
   "metadata": {
    "cell_style": "center",
    "hideOutput": true
   },
   "source": [
    "Diameter of a tree, $T=(V,E)$, is defined as $\\max_{u,v\\in V}\\delta(u,v)$, that is, the largest of all shortest-path distances in the tree. Implement an efficient algorithm, as part of function, **diameter**($L$), to compute the diameter of a tree. Here $L$ is an adjacency list representation of a tree. Nodes in the tree are numbered form 0 to $n-1$ (here $n$ is the number of nodes in a tree). The output of the implemented function is a single number corresponding to a diameter of the tree."
   ]
  },
  {
   "cell_type": "markdown",
   "metadata": {},
   "source": [
    "### Examples:"
   ]
  },
  {
   "cell_type": "markdown",
   "metadata": {},
   "source": [
    "**Input:** `[[1, 2], [0, 3, 4], [0, 5, 6], [1], [1], [2], [2]]` <br>\n",
    "**Output:** `4`"
   ]
  },
  {
   "cell_type": "markdown",
   "metadata": {},
   "source": [
    "**Input:**  `[[8, 9, 3, 4], [2, 9], [1, 5, 6], [0, 7], [0], [2], [2], [3], [0], [0, 1]]` <br>\n",
    "**Output:**  `6`"
   ]
  },
  {
   "cell_type": "markdown",
   "metadata": {},
   "source": [
    "### Constraints:\n",
    "\n",
    "- $1 \\leq n \\leq 1000$"
   ]
  },
  {
   "cell_type": "markdown",
   "metadata": {},
   "source": [
    "### Code:"
   ]
  },
  {
   "cell_type": "code",
   "execution_count": 1,
   "metadata": {},
   "outputs": [],
   "source": [
    "def max_depth_and_diameter( L, i, visited ):\n",
    "    \n",
    "    max_depth = 0\n",
    "    max_depth_2nd = 0\n",
    "    max_diameter = 0\n",
    "    current = L[i]\n",
    "    \n",
    "    if visited[i]:\n",
    "        return max_depth, max_diameter\n",
    "    visited[i] = True\n",
    "    \n",
    "    for j in current:\n",
    "        max_depth_j, diameter_j = max_depth_and_diameter( L, j, visited )\n",
    "        max_diameter = max( max_diameter, diameter_j )\n",
    "        \n",
    "        if max_depth_j > max_depth:\n",
    "            max_depth_2nd = max_depth\n",
    "            max_depth = max_depth_j\n",
    "            \n",
    "        elif max_depth_j > max_depth_2nd:\n",
    "            max_depth_2nd = max_depth_j\n",
    "    \n",
    "    max_diameter = max( max_diameter, max_depth + max_depth_2nd )\n",
    "        \n",
    "    return max_depth + 1, max_diameter\n",
    "        \n",
    "\n",
    "def diameter( L ):\n",
    "    \n",
    "    visited = { i:False for i,_ in enumerate(L) }\n",
    "    \n",
    "    max_depth, diameter = max_depth_and_diameter( L, 0, visited )\n",
    "    \n",
    "    return diameter\n",
    "    "
   ]
  },
  {
   "cell_type": "markdown",
   "metadata": {},
   "source": [
    "### Tests:"
   ]
  },
  {
   "cell_type": "markdown",
   "metadata": {},
   "source": [
    "##### Run example test case 1:"
   ]
  },
  {
   "cell_type": "code",
   "execution_count": 2,
   "metadata": {},
   "outputs": [
    {
     "name": "stdout",
     "output_type": "stream",
     "text": [
      "4\n"
     ]
    }
   ],
   "source": [
    "input_value = [[1, 2], [0, 3, 4], [0, 5, 6], [1], [1], [2], [2]]\n",
    "print (diameter(input_value))"
   ]
  },
  {
   "cell_type": "markdown",
   "metadata": {},
   "source": [
    "##### Run example test case 2:"
   ]
  },
  {
   "cell_type": "code",
   "execution_count": 3,
   "metadata": {},
   "outputs": [
    {
     "name": "stdout",
     "output_type": "stream",
     "text": [
      "6\n"
     ]
    }
   ],
   "source": [
    "input_value = [[8, 9, 3, 4], [2, 9], [1, 5, 6], [0, 7], [0], [2], [2], [3], [0], [0, 1]]\n",
    "print (diameter(input_value))"
   ]
  },
  {
   "cell_type": "markdown",
   "metadata": {},
   "source": [
    "---\n",
    "<br>\n",
    "<br>\n",
    "<br>"
   ]
  },
  {
   "cell_type": "markdown",
   "metadata": {},
   "source": [
    "## 4. "
   ]
  },
  {
   "cell_type": "markdown",
   "metadata": {
    "cell_style": "center"
   },
   "source": [
    "Write the function, <b>topological_sort</b>($A$), which is given a list, $A$, of two lists as an input. The first list, $T,$ enumerates tasks to be performed. The second list, $C$, enumerates pairwise task order constraints. The function should output the order of tasks which would respect all the constraints. If a valid ordering is not possible the function should output a string, `\"impossible\"`.\n",
    "\n",
    "Each task is represented as a string (e.g. `\"sport\"`). Each task order constraint is represented by a string of two tasks separated by a dash, `\"-\"` (e.g. `\"homework-sport\"`). In order to respect this particular constraint the task `\"homework\"` should be performed before the task `\"sport\"`.<br>\n",
    "\n",
    "The worst case runtime of your solution should be not worse than $O(n+m)$, where $n$ is the number of tasks and $m$ is the number of constraints. <br>\n",
    "\n",
    "Note that a function, <b>to_adjacency_representation</b>$(T,C)$, is provided to convert the constraint list into an adjacency list representation. You can ignore the costs of this operation in your reasoning.\n",
    "\n",
    "<div style=\"text-align: right\">[30%]</div>"
   ]
  },
  {
   "cell_type": "markdown",
   "metadata": {},
   "source": [
    "### Examples:"
   ]
  },
  {
   "cell_type": "markdown",
   "metadata": {},
   "source": [
    "**Input:** `[[\"homework\",\"sleep\",\"cycle\",\"eat\",\"learn\",\"sport\"],[\"homework-sport\",\"sleep-cycle\",\"eat-cycle\",\"eat-homework\",\"learn-cycle\"]]` <br>\n",
    "**Output:** `sleep-eat-learn-cycle-homework-sport`"
   ]
  },
  {
   "cell_type": "markdown",
   "metadata": {},
   "source": [
    "**Input:**  `[[\"homework\",\"sleep\",\"sport\"],[\"sleep-sport\",\"sport-homework\",\"homework-sleep\"]]` <br>\n",
    "**Output:**  `impossible`"
   ]
  },
  {
   "cell_type": "markdown",
   "metadata": {},
   "source": [
    "### Constraints:\n",
    "\n",
    "- $1\\leq n \\leq 50$.\n",
    "- $1\\leq m \\leq 50$."
   ]
  },
  {
   "cell_type": "markdown",
   "metadata": {},
   "source": [
    "### Code:"
   ]
  },
  {
   "cell_type": "code",
   "execution_count": 26,
   "metadata": {},
   "outputs": [],
   "source": [
    "class LoopException( Exception ):\n",
    "    pass\n",
    "\n",
    "def to_adjacency_representation(T,C):\n",
    "    V={}\n",
    "    Adj=[]\n",
    "    for i in range(len(T)):\n",
    "        V[T[i]]=i\n",
    "        Adj.append([])\n",
    "    for i in range(len(C)):\n",
    "        v0 = C[i].split('-')[0]\n",
    "        v1 = C[i].split('-')[1]\n",
    "        Adj[V[v0]].append(V[v1])\n",
    "    return V,Adj\n",
    "\n",
    "\n",
    "def dfs( Adj, i, start_index, finished, sorted_list ):\n",
    "    \n",
    "    if finished[i] == start_index:\n",
    "        raise LoopException\n",
    "\n",
    "    if finished[i] is not None:\n",
    "        return\n",
    "    \n",
    "    connections = Adj[i]\n",
    "    finished[i] = start_index\n",
    "    \n",
    "    for connection in connections:\n",
    "        dfs( Adj, connection, start_index, finished, sorted_list )\n",
    "    \n",
    "    sorted_list.append( i )\n",
    "    \n",
    "    \n",
    "def topological_sort(A): \n",
    "   \n",
    "    T, C = A\n",
    "    V, Adj = to_adjacency_representation(T,C)\n",
    "    finished = [ None for _ in T ]\n",
    "    sorted_list = []\n",
    "    \n",
    "    try:\n",
    "        for start_index, _ in enumerate(T):\n",
    "            dfs( Adj, start_index, start_index, finished, sorted_list )\n",
    "    except LoopException:\n",
    "        return \"impossible\"\n",
    "    \n",
    "    inv_V = {v: k for k, v in V.items()}\n",
    "    return \"-\".join([ inv_V[i] for i in reversed(sorted_list) ])\n"
   ]
  },
  {
   "cell_type": "markdown",
   "metadata": {},
   "source": [
    "### Tests:"
   ]
  },
  {
   "cell_type": "markdown",
   "metadata": {},
   "source": [
    "##### Run example test case 1:"
   ]
  },
  {
   "cell_type": "code",
   "execution_count": 27,
   "metadata": {},
   "outputs": [
    {
     "name": "stdout",
     "output_type": "stream",
     "text": [
      "learn-eat-sleep-cycle-homework-sport\n"
     ]
    }
   ],
   "source": [
    "input_value = [[\"homework\",\"sleep\",\"cycle\",\"eat\",\"learn\",\"sport\"],[\"homework-sport\",\"sleep-cycle\",\"eat-cycle\",\"eat-homework\",\"learn-cycle\"]]\n",
    "print (topological_sort(input_value))"
   ]
  },
  {
   "cell_type": "markdown",
   "metadata": {},
   "source": [
    "##### Run example test case 2:"
   ]
  },
  {
   "cell_type": "code",
   "execution_count": 28,
   "metadata": {},
   "outputs": [
    {
     "name": "stdout",
     "output_type": "stream",
     "text": [
      "impossible\n"
     ]
    }
   ],
   "source": [
    "input_value = [[\"homework\",\"sleep\",\"sport\"],[\"sleep-sport\",\"sport-homework\",\"homework-sleep\"]]\n",
    "print (topological_sort(input_value))"
   ]
  },
  {
   "cell_type": "markdown",
   "metadata": {},
   "source": [
    "---\n",
    "<br>\n",
    "<br>\n",
    "<br>"
   ]
  },
  {
   "cell_type": "markdown",
   "metadata": {},
   "source": [
    "## 5. "
   ]
  },
  {
   "cell_type": "markdown",
   "metadata": {
    "cell_style": "center"
   },
   "source": [
    "Write the function, **minimum_lenght**($L$), which takes in a list of 3 elements as an input. The first element, $n$, is the total number of vertices in the grah, the second element, $A$, is a list of triplets (lists of 3 elements) where each triplet, $[u_i,v_i,w_i]$, represents an edge from vertex, $u_i$, to vertex, $v_i$, of weight, $w_i$, in a directed graph. The final element is the starting node, $s$. \n",
    "\n",
    "Your function should output the smallest distance, $d$, for which shortest paths, $\\delta(s,v_i)$, for all vertices $v_i$ in the graph, except $s$, are of the same length or shorter than $d$. If not all vertices can be reached from $s$ then your function should output `-1`."
   ]
  },
  {
   "cell_type": "markdown",
   "metadata": {},
   "source": [
    "### Examples:"
   ]
  },
  {
   "cell_type": "markdown",
   "metadata": {},
   "source": [
    "**Input:** `[4, [[1, 0, 1], [1, 2, 1], [2, 3, 1]], 1]` <br>\n",
    "**Output:** `2`"
   ]
  },
  {
   "cell_type": "markdown",
   "metadata": {},
   "source": [
    "**Input:**  `[2, [[0, 1, 1], 1]` <br>\n",
    "**Output:**  `-1`"
   ]
  },
  {
   "cell_type": "markdown",
   "metadata": {},
   "source": [
    "### Constraints:\n",
    "\n",
    "- $1 \\leq n \\leq 100$.\n",
    "- $0 < w_i \\leq 10^6$."
   ]
  },
  {
   "cell_type": "markdown",
   "metadata": {},
   "source": [
    "### Code:"
   ]
  },
  {
   "cell_type": "code",
   "execution_count": 1,
   "metadata": {},
   "outputs": [],
   "source": [
    "import queue\n",
    "\n",
    "\n",
    "def gen_adjacency( N, connections ):\n",
    "    \n",
    "    adjacency = [ [] for _ in range(N) ]\n",
    "    \n",
    "    for i, j, weight in connections:\n",
    "        adjacency[i].append( (j, weight) )\n",
    "        \n",
    "    return adjacency\n",
    "    \n",
    "\n",
    "def minimum_length( L ):\n",
    "    \n",
    "    N, connections, source = L\n",
    "    \n",
    "    distances = [ 10e7 for _ in range(N) ]\n",
    "    distances[source] = 0\n",
    "    \n",
    "    adjacency = gen_adjacency( N, connections )\n",
    "    \n",
    "    \n",
    "    q = queue.Queue()\n",
    "    v = {}\n",
    "    \n",
    "    q.put( source )\n",
    "    while not q.empty():\n",
    "        \n",
    "        current = q.get()\n",
    "        \n",
    "        if v.get( current, False ):\n",
    "            continue\n",
    "            \n",
    "        v[current] = True\n",
    "        \n",
    "        for connected_index, weight in adjacency[current]:\n",
    "            distances[connected_index] = min( distances[connected_index], distances[current] + weight )\n",
    "            q.put(connected_index)\n",
    "    \n",
    "    return max(distances)\n",
    "    "
   ]
  },
  {
   "cell_type": "markdown",
   "metadata": {},
   "source": [
    "### Tests:"
   ]
  },
  {
   "cell_type": "markdown",
   "metadata": {},
   "source": [
    "##### Run example test case 1:"
   ]
  },
  {
   "cell_type": "code",
   "execution_count": 7,
   "metadata": {},
   "outputs": [
    {
     "name": "stdout",
     "output_type": "stream",
     "text": [
      "2\n"
     ]
    }
   ],
   "source": [
    "input_value = [4, [[1, 0, 1], [1, 2, 1], [2, 3, 1]], 1]\n",
    "print (minimum_length(input_value))"
   ]
  },
  {
   "cell_type": "markdown",
   "metadata": {},
   "source": [
    "##### Run example test case 2:"
   ]
  },
  {
   "cell_type": "code",
   "execution_count": 9,
   "metadata": {},
   "outputs": [
    {
     "name": "stdout",
     "output_type": "stream",
     "text": [
      "100000000.0\n"
     ]
    }
   ],
   "source": [
    "input_value = [2, [[0, 1, 1]], 1]\n",
    "print (minimum_length(input_value))"
   ]
  },
  {
   "cell_type": "markdown",
   "metadata": {},
   "source": [
    "---\n",
    "<br>\n",
    "<br>\n",
    "<br>"
   ]
  },
  {
   "cell_type": "markdown",
   "metadata": {},
   "source": [
    "## 6."
   ]
  },
  {
   "cell_type": "markdown",
   "metadata": {
    "cell_style": "center"
   },
   "source": [
    "Write the the function **multi_source_flow**($A$), which takes a list, $A$, as an input. The first element of this list is $n$ - the total number of vertices in the graph. The second element is $A$ - a list of triplets (lists of 3 elements) where each triplet, $[u_i,v_i,c_i]$, represents an edge from vertex, $u_i$, to vertex, $v_i$, of capacity, $c_i$, in a flow network. The final two elements are lists, $S$, and $T$, each of which represent a set of source nodes and sink nodes, respectively. The function should find the maximum flow that can flow through the flow network described in the input. <br>\n",
    "\n",
    "Note that the flow network may contain anti-parallel edges (e.g. $(u,v)$ and $(v,u)$ at the same time). <br>\n",
    "\n",
    "Also note, we assume that graph nodes are represented by integers from $0$ to $n-1$. "
   ]
  },
  {
   "cell_type": "markdown",
   "metadata": {},
   "source": [
    "### Examples:"
   ]
  },
  {
   "cell_type": "markdown",
   "metadata": {},
   "source": [
    "**Input:** `[7,[[0, 2, 5], [1, 3, 1],[2,3,1],[3,2,2],[2,4,6],[3,5,2],[4,6,3],[5,4,2],[5,6,3],[0,1],[6]]` <br>\n",
    "**Output:** `5`"
   ]
  },
  {
   "cell_type": "markdown",
   "metadata": {},
   "source": [
    "**Input:**  `[8,[[0,2,4],[1,3,4],[2,3,3],[2,4,6],[3,5,2],[4,6,5],[4,5,6],[5,4,4],[5,7,1]],[0,1],[6,7]],[0,1],[6,7]]` <br>\n",
    "**Output:**  `6`"
   ]
  },
  {
   "cell_type": "markdown",
   "metadata": {},
   "source": [
    "### Constraints:\n",
    "\n",
    "- $ 2\\leq n \\leq 100$.\n",
    "- The network always contains at least one source and one sink node."
   ]
  },
  {
   "cell_type": "markdown",
   "metadata": {},
   "source": [
    "### Code:"
   ]
  },
  {
   "cell_type": "code",
   "execution_count": 12,
   "metadata": {},
   "outputs": [],
   "source": [
    "import queue\n",
    "\n",
    "\n",
    "\n",
    "class Edge:\n",
    "    def __init__(self, start_index, connected_index, capacity, flow):\n",
    "        self.start_index, self.connected_index, self.capacity, self.flow = start_index, connected_index, capacity, flow\n",
    "        self.rev = None\n",
    "        \n",
    "    def data(self):\n",
    "        return self.start_index, self.connected_index, self.capacity, self.flow\n",
    "\n",
    "    \n",
    "def gen_adjacency( N, connections, sources, sinks ):\n",
    "    \n",
    "    adjacency = [ [] for _ in range(N) ]\n",
    "    antiparallel_checker = {}\n",
    "    \n",
    "    for i, j, capacity in connections:\n",
    "        \n",
    "        if antiparallel_checker.get( (i,j), False ):\n",
    "            m = len(adjacency)\n",
    "            adjacency.append([])\n",
    "            \n",
    "            forward1, backward1 = Edge( i, m, capacity, 0 ), Edge( m, i, capacity, capacity )\n",
    "            forward1.rev, backward1.rev = backward1, forward1\n",
    "            adjacency[i].append( forward1 )\n",
    "            adjacency[m].append( backward1 )\n",
    "            \n",
    "            forward2, backward2 = Edge( m, j, capacity, 0 ), Edge( j, m, capacity, capacity )\n",
    "            forward2.rev, backward2.rev = backward2, forward2\n",
    "            adjacency[m].append( forward2 )\n",
    "            adjacency[j].append( backward2 )\n",
    "            \n",
    "            \n",
    "        else:\n",
    "            forward, backward = Edge( i, j, capacity, 0 ), Edge( j, i, capacity, capacity )\n",
    "            forward.rev, backward.rev = backward, forward\n",
    "            adjacency[i].append( forward )\n",
    "            adjacency[j].append( backward )\n",
    "\n",
    "            antiparallel_checker[(i,j)] = True\n",
    "            antiparallel_checker[(j,i)] = True\n",
    "        \n",
    "    source = len(adjacency)\n",
    "    adjacency.append([])\n",
    "    for i in sources:\n",
    "\n",
    "        forward, backward = Edge( source, i, 10**9, 0 ), Edge( i, source, 10**9, 10**9 )\n",
    "        forward.rev, backward.rev = backward, forward\n",
    "        adjacency[source].append( forward )\n",
    "        adjacency[i].append( backward )\n",
    "    \n",
    "    \n",
    "    sink = len(adjacency)\n",
    "    adjacency.append([])\n",
    "    for i in sinks:\n",
    "\n",
    "        forward, backward = Edge( i, sink, 10**9, 0 ), Edge( sink, i, 10**9, 10**9 )\n",
    "        forward.rev, backward.rev = backward, forward\n",
    "        adjacency[i].append( forward )\n",
    "        adjacency[sink].append( backward )\n",
    "        \n",
    "    return len(adjacency), adjacency, source, sink\n",
    "\n",
    "\n",
    "def multi_source_flow( A ):\n",
    "\n",
    "    N, connections, sources, sinks = A\n",
    "    N, adjacency, source, sink = gen_adjacency( N, connections, sources, sinks )\n",
    "    \n",
    "    \n",
    "    flow = 0\n",
    "    \n",
    "    while True:\n",
    "        q = queue.Queue()\n",
    "        q.put( source )\n",
    "        \n",
    "        pred = [ None for _ in range(N) ]\n",
    "    \n",
    "        while not q.empty():\n",
    "            \n",
    "            current = q.get()\n",
    "            \n",
    "            for edge in adjacency[current]:\n",
    "                start_index, connected_index, capacity, flow = edge.data()\n",
    "                if pred[connected_index] is None and connected_index != source and capacity > flow:\n",
    "                    pred[connected_index] = edge\n",
    "                    q.put(connected_index)\n",
    "\n",
    "        if pred[sink] is None:\n",
    "            return flow\n",
    "        \n",
    "        df = 10 ** 9\n",
    "        edge = pred[sink]\n",
    "        \n",
    "        while edge:\n",
    "            df = min( df, edge.capacity - edge.flow )\n",
    "            edge = pred[edge.start_index]\n",
    "        \n",
    "        edge = pred[sink]\n",
    "        while edge:\n",
    "            edge.flow += df\n",
    "            edge.rev.flow -= df\n",
    "            edge = pred[edge.start_index]\n",
    "        flow += df\n",
    "        "
   ]
  },
  {
   "cell_type": "markdown",
   "metadata": {},
   "source": [
    "### Tests:"
   ]
  },
  {
   "cell_type": "markdown",
   "metadata": {},
   "source": [
    "##### Run example test case 1:"
   ]
  },
  {
   "cell_type": "code",
   "execution_count": 13,
   "metadata": {},
   "outputs": [
    {
     "name": "stdout",
     "output_type": "stream",
     "text": [
      "2\n"
     ]
    }
   ],
   "source": [
    "input_value = [7,[[0, 2, 5], [1, 3, 1],[2,3,1],[3,2,2],[2,4,6],[3,5,2],[4,6,3],[5,4,2],[5,6,3]],[0,1],[6]]\n",
    "print (multi_source_flow(input_value))"
   ]
  },
  {
   "cell_type": "markdown",
   "metadata": {},
   "source": [
    "##### Run example test case 2:"
   ]
  },
  {
   "cell_type": "code",
   "execution_count": 16,
   "metadata": {},
   "outputs": [
    {
     "name": "stdout",
     "output_type": "stream",
     "text": [
      "2\n"
     ]
    }
   ],
   "source": [
    "input_value = [8,[[0,2,4],[1,3,4],[2,3,3],[2,4,6],[3,5,2],[4,6,5],[4,5,6],[5,4,4],[5,7,1]],[0,1],[6,7]]\n",
    "print (multi_source_flow(input_value))"
   ]
  }
 ],
 "metadata": {
  "kernelspec": {
   "display_name": "Python 3 (ipykernel)",
   "language": "python",
   "name": "python3"
  },
  "language_info": {
   "codemirror_mode": {
    "name": "ipython",
    "version": 3
   },
   "file_extension": ".py",
   "mimetype": "text/x-python",
   "name": "python",
   "nbconvert_exporter": "python",
   "pygments_lexer": "ipython3",
   "version": "3.10.9"
  }
 },
 "nbformat": 4,
 "nbformat_minor": 4
}
