{
 "cells": [
  {
   "cell_type": "code",
   "execution_count": 14,
   "id": "7f8f3fb5",
   "metadata": {},
   "outputs": [
    {
     "data": {
      "text/plain": [
       "[(5, 6, 1), (4, 5, 1), (0, 3, 1), (6, 7, 2), (2, 3, 2), (1, 2, 2)]"
      ]
     },
     "execution_count": 14,
     "metadata": {},
     "output_type": "execute_result"
    }
   ],
   "source": [
    "G1_wadjl = [\n",
    "    [(1,2),(3,1)],\n",
    "    [(2,2),(4,4)],\n",
    "    [(3,2),(5,3),(6,6)],\n",
    "    [],\n",
    "    [(5,1),(7,5)],\n",
    "    [(6,1)],\n",
    "    [(7,2)],\n",
    "    []\n",
    "]\n",
    "\n",
    "\n",
    "def merge( A, B, key ):\n",
    "    \n",
    "    ia, ib, la, lb = 0, 0, len(A), len(B)\n",
    "    res = []\n",
    "    \n",
    "    while ia < la or ib < lb:\n",
    "        if ib >= lb or ia < la and key(A[ia]) < key(B[ib]):\n",
    "            res.append(A[ia])\n",
    "            ia += 1\n",
    "        \n",
    "        else:\n",
    "            res.append(B[ib])\n",
    "            ib += 1\n",
    "    \n",
    "    return res\n",
    "\n",
    "\n",
    "def mergesort( A, key=lambda x: x ):\n",
    "    \n",
    "    if len(A) == 1:\n",
    "        return A\n",
    "    \n",
    "    pivot = len(A) // 2\n",
    "    left  = mergesort( A[:pivot], key )\n",
    "    right = mergesort( A[pivot:], key )\n",
    "\n",
    "    return merge( left, right, key )\n",
    "\n",
    "\n",
    "\n",
    "    \n",
    "    \n",
    "def kruskal( G_wadjl ):\n",
    "    \n",
    "    mst = []\n",
    "    spanned = set()\n",
    "    n_spanned = 0\n",
    "    \n",
    "    wedges = [ (u,v,w) for u, connections in enumerate(G_wadjl) for v,w in connections ]\n",
    "    wedges_sorted = mergesort( wedges, key=lambda x: x[2] )\n",
    "    \n",
    "    for wedge in wedges_sorted:\n",
    "        \n",
    "        u, v, w = wedge\n",
    "        \n",
    "        if u in spanned and v in spanned:\n",
    "            continue\n",
    "            \n",
    "        spanned.add(u)\n",
    "        spanned.add(v)\n",
    "        mst.append(wedge)\n",
    "        n_spanned += 1\n",
    "        \n",
    "        if n_spanned == len(G_wadjl):\n",
    "            return mst\n",
    "    \n",
    "    return mst\n",
    "\n",
    "\n",
    "kruskal( G1_wadjl )"
   ]
  },
  {
   "cell_type": "code",
   "execution_count": 14,
   "id": "4834279a",
   "metadata": {},
   "outputs": [
    {
     "data": {
      "text/plain": [
       "[7, 6, 5, 0, 2, 4, 1, 3]"
      ]
     },
     "execution_count": 14,
     "metadata": {},
     "output_type": "execute_result"
    }
   ],
   "source": [
    "G2_adjl = [\n",
    "    [2,3],\n",
    "    [],\n",
    "    [3,4],\n",
    "    [],\n",
    "    [1],\n",
    "    [2],\n",
    "    [3,5],\n",
    "    [4,5]\n",
    "]\n",
    "\n",
    "def dfs( G_adjl, source, visited, finished ):\n",
    "    \n",
    "    if source in visited:\n",
    "        return\n",
    "    visited.add(source)\n",
    "    \n",
    "    for c in G_adjl[source]:\n",
    "        dfs( G_adjl, c, visited, finished )\n",
    "    finished.append(source)\n",
    "\n",
    "def topological_sort( G_adjl ):\n",
    "    \n",
    "    visited = set()\n",
    "    finished = []\n",
    "    for i, _ in enumerate(G_adjl):\n",
    "        dfs( G_adjl, i, visited, finished )\n",
    "    return finished[::-1]\n",
    "\n",
    "topological_sort(G2_adjl)"
   ]
  },
  {
   "cell_type": "code",
   "execution_count": 27,
   "id": "e3b40e9a",
   "metadata": {},
   "outputs": [
    {
     "data": {
      "text/plain": [
       "8"
      ]
     },
     "execution_count": 27,
     "metadata": {},
     "output_type": "execute_result"
    }
   ],
   "source": [
    "A = sorted([26,55,68,82,69,4,35,24,61,89,9,76,31,65,7])\n",
    "\n",
    "def binary_search( A, target, low=None, high=None ):\n",
    "    \n",
    "    low = 0 if low is None else low\n",
    "    high = len(A) if high is None else high\n",
    "    \n",
    "    pivot = ( low + high ) // 2\n",
    "    \n",
    "    if A[pivot] == target:\n",
    "        return pivot\n",
    "    \n",
    "    if low + 1 == high:\n",
    "        return None\n",
    "    \n",
    "    if A[pivot] < target:\n",
    "        return binary_search( A, target, pivot+1, high )\n",
    "   \n",
    "    if A[pivot] > target:\n",
    "        return binary_search( A, target, low, pivot )\n",
    "    \n",
    "binary_search(A, 61)"
   ]
  },
  {
   "cell_type": "code",
   "execution_count": null,
   "id": "f64ba0cf",
   "metadata": {},
   "outputs": [],
   "source": []
  }
 ],
 "metadata": {
  "kernelspec": {
   "display_name": "Python 3 (ipykernel)",
   "language": "python",
   "name": "python3"
  },
  "language_info": {
   "codemirror_mode": {
    "name": "ipython",
    "version": 3
   },
   "file_extension": ".py",
   "mimetype": "text/x-python",
   "name": "python",
   "nbconvert_exporter": "python",
   "pygments_lexer": "ipython3",
   "version": "3.11.2"
  }
 },
 "nbformat": 4,
 "nbformat_minor": 5
}
