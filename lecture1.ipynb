{
 "cells": [
  {
   "cell_type": "markdown",
   "id": "dba1e5fe",
   "metadata": {},
   "source": [
    "# 4m26 Lecture 1"
   ]
  },
  {
   "cell_type": "markdown",
   "id": "6297afee",
   "metadata": {},
   "source": [
    "An algorithm is a well defined procedure that maps inputs to outputs.\n",
    "\n",
    "An algorithm is correct if it produces correct outputs and terminates.\n",
    "\n",
    "Data structures are collections of data values, relationships among them, and operations that can be applied to the data. Eg min priotity queue, binary search tree"
   ]
  },
  {
   "cell_type": "markdown",
   "id": "2c4dd9dd",
   "metadata": {},
   "source": [
    "## The Shortest Path Algorithm\n",
    "\n",
    "**Example**: find shortest path by number of underground stations from hyde park corner to sloane square.\n",
    "\n",
    "**Input**: Weighted graph $G = (V,E)$ containing vertices $V$ and edges $E$ as well as start and end vertices $s$ & $d$.\n",
    "\n",
    "**Output**: A path $p = \\langle s, v_1, ... v_{k-1}, d \\rangle$ that minimises sum of edge weights between each $v_i$ and $v_{i+1}$."
   ]
  },
  {
   "cell_type": "markdown",
   "id": "d16616e0",
   "metadata": {},
   "source": [
    "## Why Should we Study Algorithms?\n",
    "\n",
    "We shouldn't really except cryptography"
   ]
  },
  {
   "cell_type": "markdown",
   "id": "61e0b634",
   "metadata": {},
   "source": [
    "## How to Design Algorithms\n",
    "\n",
    "### Design Stage\n",
    "\n",
    "- Map problem into mathematical description\n",
    "- Break into subproblems\n",
    "- Identify key properties which can be maintained throughout execution\n",
    "- Verify correctness\n",
    "\n",
    "### Implementation Stage\n",
    "\n",
    "- Convert into pseudocode\n",
    "- Write code\n",
    "- Write tests\n",
    "\n",
    "### Improvement Stage\n",
    "\n",
    "- Learn about similar algorithms\n",
    "- Propose an approach to improve\n",
    "- Iterate 3 above stages"
   ]
  },
  {
   "cell_type": "markdown",
   "id": "c3c661b6",
   "metadata": {},
   "source": [
    "## Finding Shortest Path\n",
    "\n",
    "### Formalisation:\n",
    "**Input**: Weighted graph $G = (V,E)$ containing vertices $V$ and edges $E$ as well as start and end vertices $s$ & $d$.\n",
    "\n",
    "**Output**: A path $p = \\langle s, v_1, ... v_{k-1}, d \\rangle$ that minimises sum of edge weights between each $v_i$ and $v_{i+1}$.\n",
    "\n",
    "Find a property that survives through iterations of the algorithm.\n",
    "\n",
    "For each vertex, we can find the shortest path from $s$ to that vertex.\n",
    "\n",
    "Update shortest paths by taking an edge and comparing whether that edge enables a path shorter than the current shortest known.\n",
    "\n",
    "If we order vertices by their shortest path, and a vertex doesn't have it's shortest path minimised yet, there would be a path through one of the earlier vertices to this one which is shorter, but then the path  would be longer than the path to that one."
   ]
  },
  {
   "cell_type": "code",
   "execution_count": null,
   "id": "0963e575",
   "metadata": {},
   "outputs": [],
   "source": [
    "edge_weights = [\n",
    "    [1e2, 5, 2, 1e2, 1e2, 1e2], # s\n",
    "    [1e2, 1e2, 2, 1e2, 1e2, 1e2], # a\n",
    "    [1e2, 5, 1e2, 1e2, 1e2, 1e2], # b\n",
    "    [1e2, 5, 2, 1e2, 1e2, 1e2], # c\n",
    "    [1e2, 5, 2, 1e2, 1e2, 1e2], # d\n",
    "    [1e2, 5, 2, 1e2, 1e2, 1e2], # e\n",
    "]"
   ]
  },
  {
   "cell_type": "code",
   "execution_count": 27,
   "id": "13b80895",
   "metadata": {
    "scrolled": true
   },
   "outputs": [
    {
     "name": "stdout",
     "output_type": "stream",
     "text": [
      "[0, 0, 0, 0, 0, 0, 0, 0, 0]\n",
      "[0, 1, 1, 1, 1, 1, 1, 1, 1]\n",
      "[0, 1, 2, 2, 2, 2, 2, 2, 2]\n",
      "[0, 1, 2, 2, 3, 3, 3, 3, 3]\n",
      "[0, 1, 2, 2, 3, 3, 3, 3, 3]\n",
      "[0, 1, 2, 2, 3, 3, 3, 3, 3]\n",
      "[0, 1, 2, 2, 3, 3, 3, 4, 4]\n",
      "[0, 1, 2, 2, 3, 3, 3, 4, 4]\n",
      "[0, 1, 2, 2, 3, 4, 4, 4, 4]\n",
      "[0, 1, 2, 2, 3, 4, 5, 5, 5]\n",
      "[0, 1, 2, 2, 3, 4, 5, 6, 6]\n",
      "[0, 1, 2, 3, 3, 4, 5, 6, 7]\n"
     ]
    },
    {
     "data": {
      "text/plain": [
       "7"
      ]
     },
     "execution_count": 27,
     "metadata": {},
     "output_type": "execute_result"
    }
   ],
   "source": [
    "def lcs(a, b):\n",
    "    \n",
    "    la, lb = len(a), len(b)\n",
    "    \n",
    "    sols = [[0 for _ in range(lb+1)] for _ in range(la+1)]\n",
    "    \n",
    "    for ia, ca in enumerate(a):\n",
    "        for ib, cb in enumerate(b):\n",
    "            if ca == cb:\n",
    "                sols[ia+1][ib+1] = sols[ia][ib]+1\n",
    "            else:\n",
    "                sols[ia+1][ib+1] = max(sols[ia+1][ib], sols[ia][ib+1])\n",
    "            \n",
    "    \n",
    "    for row in sols:\n",
    "        print(row)\n",
    "    \n",
    "    return sols[la][lb]\n",
    "\n",
    "lcs( \"osiosaaruab\", \"osbiruab\" )"
   ]
  }
 ],
 "metadata": {
  "kernelspec": {
   "display_name": "Python 3 (ipykernel)",
   "language": "python",
   "name": "python3"
  },
  "language_info": {
   "codemirror_mode": {
    "name": "ipython",
    "version": 3
   },
   "file_extension": ".py",
   "mimetype": "text/x-python",
   "name": "python",
   "nbconvert_exporter": "python",
   "pygments_lexer": "ipython3",
   "version": "3.11.2"
  }
 },
 "nbformat": 4,
 "nbformat_minor": 5
}
