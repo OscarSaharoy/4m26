{
 "cells": [
  {
   "cell_type": "markdown",
   "id": "10013b43",
   "metadata": {},
   "source": [
    "# 4m26 Lecture 2"
   ]
  },
  {
   "cell_type": "markdown",
   "id": "36b1fa3b",
   "metadata": {},
   "source": [
    "## Why formalise algorithms\n",
    "\n",
    "- Build intuition of why and how algorithms work\n",
    "- Prove correctness\n",
    "- Prove computational complexity\n",
    "- Inventing new algorithms\n",
    "- Teaching machines how to write new algorithms"
   ]
  },
  {
   "cell_type": "markdown",
   "id": "d4e9c2f9",
   "metadata": {},
   "source": [
    "## How to formalise\n",
    "\n",
    "- Define a model of computation\n",
    "- Define mathematical strucutres\n",
    "- Prove properties of these structures, often by defining an nivariant over the initial stae of an algorithm and proving that it holds as the algorithm progresses"
   ]
  },
  {
   "cell_type": "markdown",
   "id": "f4ab3a6a",
   "metadata": {},
   "source": [
    "## Model of computation\n",
    "\n",
    "1. sequential execution\n",
    "2. no concurrency\n",
    "3. each instruction takes constant time\n",
    "4. no mmeory model\n",
    "\n",
    "### Instructions\n",
    "\n",
    "1. arithmetic\n",
    "2. boolean ops\n",
    "3. moving data\n",
    "4. control flow\n",
    "\n",
    "### Data types\n",
    "\n",
    "1. int\n",
    "2. float\n",
    "3. bool\n",
    "4. char"
   ]
  },
  {
   "cell_type": "markdown",
   "id": "72a344ac",
   "metadata": {},
   "source": [
    "## Elementary Data Structures\n",
    "\n",
    "Dynamic sets are sets which can grow or shrink and have certian methods"
   ]
  },
  {
   "cell_type": "markdown",
   "id": "2fc67af8",
   "metadata": {},
   "source": [
    "### Stack\n",
    "\n",
    "- LIFO\n",
    "- push and pop operations\n",
    "- maybe has isempty operation and multipop\n",
    "\n",
    "### Queue\n",
    "\n",
    "- FIFO\n",
    "- enqueue and dequeue operations\n",
    "\n",
    "### Linked list\n",
    "\n",
    "- constant time insertion (if you have the part you want to insert at)\n",
    "- linear time access\n",
    "\n",
    "### Tree\n",
    "\n",
    "- each node has pointer to left and right child, maybe parent too\n",
    "- rooted tree - each node has pointer to right sibling which makes it more memory efficient, don't need to allocate array for list of children\n",
    "\n",
    "### Dictionary\n",
    "\n",
    "- supports insert, delete and search"
   ]
  },
  {
   "cell_type": "markdown",
   "id": "acbd199b",
   "metadata": {},
   "source": [
    "## Pseudocode\n",
    "\n",
    "- clearly explain algorithm\n",
    "- whatever conveys algorithm most clearly\n",
    "- 1-based index"
   ]
  },
  {
   "cell_type": "code",
   "execution_count": 4,
   "id": "dfe3ca0a",
   "metadata": {},
   "outputs": [
    {
     "name": "stdout",
     "output_type": "stream",
     "text": [
      "A =  [4, 3, 1, 4]\n",
      "Sorted A =  [1, 3, 4, 4]\n"
     ]
    }
   ],
   "source": [
    "def insertion_sort (A):\n",
    "    \n",
    "    for j in range(1,len(A)):\n",
    "        \n",
    "        key = A[j]\n",
    "        i = j - 1\n",
    "        \n",
    "        while i >= 0 and A[i] > key:\n",
    "        \n",
    "            A[i+1] = A[i]\n",
    "            i = i - 1\n",
    "            A[i+1] = key\n",
    "\n",
    "            \n",
    "A = [4, 3, 1, 4]\n",
    "print('A = ',A)\n",
    "\n",
    "insertion_sort(A)\n",
    "print('Sorted A = ',A)"
   ]
  },
  {
   "cell_type": "markdown",
   "id": "33fdf718",
   "metadata": {},
   "source": [
    "## Proof of correctness\n",
    "\n",
    "Loop invariant - something that is true before, during and after a loop\n",
    "\n",
    "**Insertion sort** loop invariant: elements `[:j]` are sorted before `j`-th iteration of loop.\n",
    "\n",
    "**Initialisation**: True for `j=1` since a 1-element list is sorted.\n",
    "\n",
    "**Maintenance**: True after `j`-th iteration since at this iteration, the `j`-th element is moved to its cirrect position within the array up to `[:j]`.\n",
    "\n",
    "**Termination**: after `n` iterations the array is sorted up to `[:n]` so the whole array is sorted."
   ]
  },
  {
   "cell_type": "markdown",
   "id": "41f24e24",
   "metadata": {},
   "source": [
    "## Runtime Analysis\n",
    "\n",
    "Assume each line takes constant time and count how many times a line is executed. We can also anaylse best and worst case. The worst case is an upper bound on the amount of time an algorithm will take to run. Average case assumes that all inputs of a given size are equally likely. The best case is rarely used.\n",
    "\n",
    "For insertion sort best case is linear and worst case is quadratic."
   ]
  },
  {
   "cell_type": "markdown",
   "id": "6e4227ec",
   "metadata": {},
   "source": [
    "## Amortised Cost\n",
    "\n",
    "Average cost per operation for the worst case time of a sequence of `n` operations. Can be less than `n` times the worst case cost, if there is some constraint that means the worst case cost is lower for some of the operations.\n",
    "\n"
   ]
  },
  {
   "cell_type": "markdown",
   "id": "6f549775",
   "metadata": {},
   "source": [
    "## Expected Runtime\n",
    "\n",
    "Expected average runtime per call for randomised algorithm."
   ]
  },
  {
   "cell_type": "markdown",
   "id": "e283e992",
   "metadata": {},
   "source": [
    "## Asymptotic Runtime\n",
    "\n",
    "Lower order terms may be insignificant for large inputs.\n",
    "\n",
    "## Big Theta\n",
    "\n",
    "Asymptotic tight bound. $\\Theta (g(n))$ is the set of possible runtimes of the algorithm $g(n)$.\n",
    "\n",
    "## Big O\n",
    "\n",
    "Asymptotic upper bound. $O(g(n))$ is the set of runtimes that could take less time than the algorithm $g(n)$.\n",
    "\n",
    "## Big Omega\n",
    "\n",
    "Asymptotic lower bound"
   ]
  },
  {
   "cell_type": "markdown",
   "id": "ca75413b",
   "metadata": {},
   "source": [
    "## Merge Sort\n",
    "\n",
    "Divide and Conquer: split problem and solve recursively, then combine solutions."
   ]
  },
  {
   "cell_type": "code",
   "execution_count": 14,
   "id": "8f4d625c",
   "metadata": {},
   "outputs": [
    {
     "data": {
      "text/plain": [
       "[1, 2, 3, 3, 5, 7]"
      ]
     },
     "execution_count": 14,
     "metadata": {},
     "output_type": "execute_result"
    }
   ],
   "source": [
    "def merge( A1, A2 ):\n",
    "    \n",
    "    i1, i2 = 0, 0\n",
    "    B = [0] * ( len(A1) + len(A2) )\n",
    "    \n",
    "    while i1 < len(A1) or i2 < len(A2):\n",
    "        \n",
    "        if i1 == len(A1):\n",
    "            B[i1 + i2] = A2[i2]\n",
    "            i2 += 1\n",
    "        \n",
    "        elif i2 == len(A2) or A1[i1] < A2[i2]:\n",
    "            B[i1 + i2] = A1[i1]\n",
    "            i1 += 1\n",
    "        \n",
    "        else:\n",
    "            B[i1 + i2] = A2[i2]\n",
    "            i2 += 1\n",
    "            \n",
    "    return B\n",
    "    \n",
    "\n",
    "def mergeSort( A ):\n",
    "    \n",
    "    length = len(A)\n",
    "    \n",
    "    if length == 1:\n",
    "        return A\n",
    "    \n",
    "    A1, A2 = A[:length//2], A[length//2:]\n",
    "    \n",
    "    return merge( mergeSort(A1), mergeSort(A2) )\n",
    "\n",
    "\n",
    "mergeSort( [3,1,2,7,5,3] )"
   ]
  },
  {
   "cell_type": "markdown",
   "id": "329f750b",
   "metadata": {},
   "source": [
    "### Analysing Cost\n",
    "\n",
    "Write down the recursion in terms of the time taken.\n",
    "\n",
    "$T(n) = 2 T(n/2) + \\Theta(n)$\n",
    "\n",
    "$T(1) = \\Theta(1)$\n",
    "\n",
    "Guess $T(n) = O(n log_2 n)$\n",
    "\n",
    "Then prove bound holds for and $m$ such that $m<n$.\n",
    "\n",
    "Can use tree diagram to make initial guess."
   ]
  }
 ],
 "metadata": {
  "kernelspec": {
   "display_name": "Python 3 (ipykernel)",
   "language": "python",
   "name": "python3"
  },
  "language_info": {
   "codemirror_mode": {
    "name": "ipython",
    "version": 3
   },
   "file_extension": ".py",
   "mimetype": "text/x-python",
   "name": "python",
   "nbconvert_exporter": "python",
   "pygments_lexer": "ipython3",
   "version": "3.10.9"
  }
 },
 "nbformat": 4,
 "nbformat_minor": 5
}
