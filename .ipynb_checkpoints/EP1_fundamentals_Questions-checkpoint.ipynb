{
 "cells": [
  {
   "cell_type": "markdown",
   "metadata": {
    "hideCode": false
   },
   "source": [
    "\n",
    "# **4M26 - Examples Paper 1 - Fundamentals** \n"
   ]
  },
  {
   "cell_type": "markdown",
   "metadata": {},
   "source": [
    "\n",
    "***\n",
    "\n",
    "<br>\n",
    "<br>"
   ]
  },
  {
   "cell_type": "markdown",
   "metadata": {},
   "source": [
    "## 1."
   ]
  },
  {
   "cell_type": "markdown",
   "metadata": {},
   "source": [
    "Briefly answer multiple questions below."
   ]
  },
  {
   "cell_type": "markdown",
   "metadata": {},
   "source": [
    "&emsp; (i)&emsp; Explain precisely the meaning of the big-O and big-Theta notations. Suppose algorithm A has cost $O(n)$ and algorithm B has cost $O(n^2)$. Could there be circumstances when it would be rational to use algorithm B?"
   ]
  },
  {
   "cell_type": "markdown",
   "metadata": {},
   "source": [
    "Big O - upper bound asymptotic runtime, O(g(n)) is a family of functions of n that are less than m g(n) for some m.\n",
    "\n",
    "Big Theta - tight bound asymtotic runtime, $\\Theta(g(n))$ means a function f(n) satisfies a g(n) < f(n) < b g(n) for some a and b.\n",
    "\n",
    "algorithm B may be faster for small inputs if the constant factor is small."
   ]
  },
  {
   "cell_type": "markdown",
   "metadata": {},
   "source": [
    "&emsp; (ii)&emsp; Derive big-Theta or big-O expressions used to characterise the following functions:\n",
    "1. $f(n)=n^4-n^2/3+2$\n",
    "2. $f(n)= 3f(\\frac{n}{3})+\\Theta(n)$ for $n>1$ and $f(1) = \\Theta(1)$.\n",
    "3. $f(n)= 2f(\\frac{n}{2})+n\\log_2 n +3n$ for $n>1$ and $f(1)=1$.\n",
    "4. $f(n)=\\sqrt{2}f(\\frac{n}{2})n^{\\sqrt(2)}$\n",
    "5. $f(n) = 5 f(\\frac{n}{8}) + \\Theta(n^{\\frac{2}{3}})$"
   ]
  },
  {
   "cell_type": "markdown",
   "metadata": {
    "hideOutput": true
   },
   "source": [
    "\n",
    "1. $\\Theta(n^{4})$, $O(n^{4})$ ?\n",
    "  "
   ]
  },
  {
   "cell_type": "markdown",
   "metadata": {},
   "source": [
    "&emsp; (iii)&emsp; Explain what is meant by the amortised cost of operations on a data structure. Contrast it with other ways of predicting performance, showing one case where it is useful and one where it is not. "
   ]
  },
  {
   "cell_type": "markdown",
   "metadata": {},
   "source": [
    "Average cost of a number of operations - can be useful if the fast that you are doing multiple operations enforces a constraint on the cost of some of them."
   ]
  },
  {
   "cell_type": "markdown",
   "metadata": {},
   "source": [
    "&emsp; (iv)&emsp; Consider building a <i>dynamic array</i> data structure. A <i>dynamic array</i> is similar to a normal array, however the capacity of the array is doubled every time it reaches full capacity. In particular, this array can be modified using **append**($v$) operation. It assigns value, $v$, to the $k+1$st element, where $k$ the largest index of elements stored in the array. If the array has empty space available then this operation is $O(1)$, like in a normal array, however when it does not, the **append** is $O(k)$ as it involves allocating a new array of size $2k$ and copying the original array into the new array (first k elements) and adding the new value $v$ for the index $k+1$. Write the pseudocode of **append** operation and analyse run time of the sequence of $n$ calls of this operation."
   ]
  },
  {
   "cell_type": "markdown",
   "metadata": {},
   "source": [
    "<div style=\"border-width:2px;border-style:solid;border-color:black;\">\n",
    "Write your answer here.\n",
    "</div>"
   ]
  },
  {
   "cell_type": "markdown",
   "metadata": {},
   "source": [
    "&emsp; (v)&emsp; Provide a detailed proof of correctness and a detailed derivation of run time complexity of the **longest common subsequence** (LCS) algorithm described in the lecture notes."
   ]
  },
  {
   "cell_type": "markdown",
   "metadata": {},
   "source": [
    "<div style=\"border-width:2px;border-style:solid;border-color:black;\">\n",
    "    Write your answer here.\n",
    "</div>"
   ]
  },
  {
   "cell_type": "markdown",
   "metadata": {},
   "source": [
    "&emsp; (vi)&emsp; Explain the differences (if any) in the run time performance and/or memory requirements between a recursive solution with memoization and a dynamic solution. In your answer use an example of a concrete dynamic programming algorithm."
   ]
  },
  {
   "cell_type": "markdown",
   "metadata": {},
   "source": [
    "<div style=\"border-width:2px;border-style:solid;border-color:black;\">\n",
    "    Write your answer here.\n",
    "</div>"
   ]
  },
  {
   "cell_type": "markdown",
   "metadata": {},
   "source": [
    "&emsp; (vii)&emsp; Are the statements below true or false. Justify your answers.\n",
    "\n",
    "1. For all positive $f(n)$, $g(n)$ and $h(n)$, if $f(n) = O(g(n))$ and $f(n) = Ω(h(n))$,\n",
    "then $g(n) + h(n) = \\Omega(f(n))$.\n",
    "2. An optimal solution to a 0-1 knapsack problem will always contain the object $i$ with the greatest value-to-weight ratio $\\frac{v_i}{w_i}$.\n",
    "3. In the worst case, merge sort runs in $O(n^2)$ time.\n",
    "4. Any problem that can be solved with a greedy algorithm can also be solved with dynamic programming."
   ]
  },
  {
   "cell_type": "markdown",
   "metadata": {},
   "source": [
    "<div style=\"border-width:2px;border-style:solid;border-color:black;\">\n",
    "Write your answer here.\n",
    "</div>"
   ]
  },
  {
   "cell_type": "markdown",
   "metadata": {},
   "source": [
    "&emsp; (viii)&emsp; Explain why the Huffman coding algorithm constructs optimal prefix codes."
   ]
  },
  {
   "cell_type": "markdown",
   "metadata": {},
   "source": [
    "<div style=\"border-width:2px;border-style:solid;border-color:black;\">\n",
    "Write your answer here.\n",
    "</div>"
   ]
  },
  {
   "cell_type": "markdown",
   "metadata": {},
   "source": [
    "&emsp; (ix)&emsp; Explain, in general terms, the main differences between the divide-and-conquer\n",
    "technique and dynamic programming."
   ]
  },
  {
   "cell_type": "markdown",
   "metadata": {},
   "source": [
    "<div style=\"border-width:2px;border-style:solid;border-color:black;\">\n",
    "Write your answer here.\n",
    "</div>"
   ]
  },
  {
   "cell_type": "markdown",
   "metadata": {
    "hideCode": true
   },
   "source": [
    "<b>The following programming questions can be solved using one of the three strategies: divide and conquer, dynamic programming or greedy programming. The order of questions is arbitrary. Question difficulty ranges significantly. Test cases are not provided in the examples papers, however they will be provided during the exam.</b>"
   ]
  },
  {
   "cell_type": "markdown",
   "metadata": {},
   "source": [
    "<h1>2.</h1>"
   ]
  },
  {
   "cell_type": "markdown",
   "metadata": {
    "cell_style": "center",
    "hideOutput": true
   },
   "source": [
    "(a) Given an integer array, $A$, write the function **maximum_subarray**$(A)$ to find the continuous subarray with the largest sum, and return its sum. Note that continuous subarray is any array derived from the original array by removing all elements except some continuous sequence of elements of the original array. Your solution should have its run time complexity strictly smaller than $O(n^2)$."
   ]
  },
  {
   "cell_type": "markdown",
   "metadata": {},
   "source": [
    "### Examples:"
   ]
  },
  {
   "cell_type": "markdown",
   "metadata": {},
   "source": [
    "**Input:** `[-3,14,-5,-8,4,5-20]` <br>\n",
    "**Output:** `10` <br>\n",
    "**Explanation:** Subarray `[14,-5,-8,4,5]` has the largest sum."
   ]
  },
  {
   "cell_type": "markdown",
   "metadata": {},
   "source": [
    "**Input:**  `[1,2,3,4,5,6,7,-1]` <br>\n",
    "**Output:**  `28`<br>\n",
    "**Explanation:** Subarray `[1,2,3,4,5,6,7]` has the largest sum."
   ]
  },
  {
   "cell_type": "markdown",
   "metadata": {},
   "source": [
    "### Constraints:\n",
    "\n",
    "- $1 \\leq len(A) \\leq 1000$\n",
    "- $1 \\leq |A[i]| \\leq 100000$"
   ]
  },
  {
   "cell_type": "markdown",
   "metadata": {},
   "source": [
    "### Code:"
   ]
  },
  {
   "cell_type": "code",
   "execution_count": 20,
   "metadata": {},
   "outputs": [],
   "source": [
    "def maximum_subarray(A):\n",
    "    \n",
    "    n = len(A)\n",
    "    sums = [ [0 for _ in range(n)] for _ in range(n) ]\n",
    "    \n",
    "    for j in range(n):\n",
    "        for i in range(n):\n",
    "            \n",
    "            if i+1 > j:\n",
    "                sums[j][i] = sums[j][i-1] + A[i]\n",
    "    \n",
    "    return max( [ x for row in sums for x in row ] )"
   ]
  },
  {
   "cell_type": "markdown",
   "metadata": {},
   "source": [
    "### Tests:"
   ]
  },
  {
   "cell_type": "markdown",
   "metadata": {},
   "source": [
    "##### Run example test case 1:"
   ]
  },
  {
   "cell_type": "code",
   "execution_count": 21,
   "metadata": {},
   "outputs": [
    {
     "name": "stdout",
     "output_type": "stream",
     "text": [
      "14\n"
     ]
    }
   ],
   "source": [
    "input_value = [-3,14,-5,-8,4,5,-20]\n",
    "print (maximum_subarray(input_value))"
   ]
  },
  {
   "cell_type": "markdown",
   "metadata": {},
   "source": [
    "##### Run example test case 2:"
   ]
  },
  {
   "cell_type": "code",
   "execution_count": 22,
   "metadata": {},
   "outputs": [
    {
     "name": "stdout",
     "output_type": "stream",
     "text": [
      "28\n"
     ]
    }
   ],
   "source": [
    "input_value = [1,2,3,4,5,6,7,-1]\n",
    "print (maximum_subarray(input_value))"
   ]
  },
  {
   "cell_type": "markdown",
   "metadata": {},
   "source": [
    "(b) Sketch a detailed proof of correctness of your algorithm described in Part (a) and derive its worst-case time complexity."
   ]
  },
  {
   "cell_type": "markdown",
   "metadata": {},
   "source": [
    "<div style=\"border-width:2px;border-style:solid;border-color:black;\">\n",
    "Write your answer here.\n",
    "</div>"
   ]
  },
  {
   "cell_type": "markdown",
   "metadata": {},
   "source": [
    "<h1>3.</h1>"
   ]
  },
  {
   "cell_type": "markdown",
   "metadata": {
    "cell_style": "center",
    "hideOutput": true
   },
   "source": [
    "You are given a 0-indexed integer array $A$. In one operation you can replace any element of the array with any two elements that sum to it. <br>\n",
    "\n",
    "For example, consider $A = \\left[1,3,2\\right]$. In one operation, we can replace $A\\left[1\\right]$ with 1 and 2 and convert nums to $\\left[1,1,2,2\\right]$. <br>\n",
    "\n",
    "Write the function, **replacement**($A)$, to return the minimum number of operations to make an array that is sorted in non-decreasing order."
   ]
  },
  {
   "cell_type": "markdown",
   "metadata": {},
   "source": [
    "### Examples:"
   ]
  },
  {
   "cell_type": "markdown",
   "metadata": {},
   "source": [
    "**Input:** `[1,3,2]` <br>\n",
    "**Output:** `1` <br>"
   ]
  },
  {
   "cell_type": "markdown",
   "metadata": {},
   "source": [
    "**Input:** `[1,3,1]` <br>\n",
    "**Output:** `1` <br>\n",
    "**Explanation:** \n",
    "- Replace the 3 with 1 and 2. The array becomes $\\left[1,1,2,1\\right]$.\n",
    "- Replace the 2 with 1 and 1. The array becomes $\\left[1,1,1,1,1\\right]$."
   ]
  },
  {
   "cell_type": "markdown",
   "metadata": {},
   "source": [
    "### Constraints:\n",
    "\n",
    "- $1 \\leq \\text{len}(A) \\leq 1000$"
   ]
  },
  {
   "cell_type": "markdown",
   "metadata": {},
   "source": [
    "### Code:"
   ]
  },
  {
   "cell_type": "code",
   "execution_count": null,
   "metadata": {},
   "outputs": [],
   "source": [
    "def replacement(A):\n",
    "    \n",
    "    "
   ]
  },
  {
   "cell_type": "markdown",
   "metadata": {},
   "source": [
    "### Tests:"
   ]
  },
  {
   "cell_type": "markdown",
   "metadata": {},
   "source": [
    "##### Run example test case 1:"
   ]
  },
  {
   "cell_type": "code",
   "execution_count": null,
   "metadata": {},
   "outputs": [],
   "source": [
    "input_value = [1,3,2]\n",
    "print (replacement(input_value))"
   ]
  },
  {
   "cell_type": "markdown",
   "metadata": {},
   "source": [
    "##### Run example test case 2:"
   ]
  },
  {
   "cell_type": "code",
   "execution_count": null,
   "metadata": {},
   "outputs": [],
   "source": [
    "input_value = [1,3,1]\n",
    "print (replacement(input_value))"
   ]
  },
  {
   "cell_type": "markdown",
   "metadata": {},
   "source": [
    "<div style=\"border-width:2px;border-style:solid;border-color:black;\">\n",
    "Write your answer here.\n",
    "</div>"
   ]
  },
  {
   "cell_type": "markdown",
   "metadata": {},
   "source": [
    "---\n",
    "<br>"
   ]
  },
  {
   "cell_type": "markdown",
   "metadata": {},
   "source": [
    "<h1>4.</h1>"
   ]
  },
  {
   "cell_type": "markdown",
   "metadata": {
    "cell_style": "center",
    "hideOutput": true
   },
   "source": [
    "Consider a row of $n$ coins of values, $v=\\left[v_0,\\cdots,v_{n-1}\\right]$, where $n$ is even. Two players make alternating turns. In each turn, a player selects either the first or last coin from the row, removes it from the row permanently, and receives the value of the coin. Write the function **coin_game**($v$) to determine the maximum possible amount of money that a player who makes the first move can win. Both players play optimally."
   ]
  },
  {
   "cell_type": "markdown",
   "metadata": {},
   "source": [
    "### Examples:"
   ]
  },
  {
   "cell_type": "markdown",
   "metadata": {},
   "source": [
    "**Input:** `[6, 3, 15, 20]` <br>\n",
    "**Output:** `26`"
   ]
  },
  {
   "cell_type": "markdown",
   "metadata": {},
   "source": [
    "**Input:**  `[1,2,3,4,20,5,6]` <br>\n",
    "**Output:**  `17`"
   ]
  },
  {
   "cell_type": "markdown",
   "metadata": {},
   "source": [
    "### Constraints:\n",
    "\n",
    "- $1 \\leq \\text{len}(v) \\leq 1000$"
   ]
  },
  {
   "cell_type": "markdown",
   "metadata": {},
   "source": [
    "### Code:"
   ]
  },
  {
   "cell_type": "code",
   "execution_count": null,
   "metadata": {},
   "outputs": [],
   "source": [
    "def coin_game(v):\n",
    "    \n",
    "    #Write your code here."
   ]
  },
  {
   "cell_type": "markdown",
   "metadata": {},
   "source": [
    "### Tests:"
   ]
  },
  {
   "cell_type": "markdown",
   "metadata": {},
   "source": [
    "##### Run example test case 1:"
   ]
  },
  {
   "cell_type": "code",
   "execution_count": null,
   "metadata": {},
   "outputs": [],
   "source": [
    "input_value = [6, 3, 15, 20]\n",
    "print (coin_game(input_value))"
   ]
  },
  {
   "cell_type": "markdown",
   "metadata": {},
   "source": [
    "##### Run example test case 2:"
   ]
  },
  {
   "cell_type": "code",
   "execution_count": null,
   "metadata": {},
   "outputs": [],
   "source": [
    "input_value = [1,2,3,4,20,5,6]\n",
    "print (coin_game(input_value))"
   ]
  },
  {
   "cell_type": "markdown",
   "metadata": {},
   "source": [
    "<div style=\"border-width:2px;border-style:solid;border-color:black;\">\n",
    "Write your answer here.\n",
    "</div>"
   ]
  },
  {
   "cell_type": "markdown",
   "metadata": {},
   "source": [
    "---\n",
    "<br>"
   ]
  },
  {
   "cell_type": "markdown",
   "metadata": {},
   "source": [
    "<h1>5.</h1>"
   ]
  },
  {
   "cell_type": "markdown",
   "metadata": {
    "cell_style": "center",
    "hideOutput": true
   },
   "source": [
    "(a) <b>Fractional Knapsack</b> problem is defined as follows. <br>\n",
    "\n",
    "Given a set of $n$ items numbered $1$ from to $n$, each with weight $w_i\\in \\mathbb{N}$ and value $v_i\\in \\mathbb{N}$, along with maximum weight capacity, $W$, maximize the total value that can be taken. I.e. Maximize $\\sum_i x_i v_i$, subject to $\\sum_i x_i w_i \\leq W$ and $x_i \\in \\left[0, 1\\right]$. <br><br>\n",
    "\n",
    "Write the function **fractional_knapsack**($L$) which given the input list $L$, where $L[0]=W$, $L[1]=w$, $L[2]=v$ outputs the maximum possible value to be taken given the aforementioned constraints."
   ]
  },
  {
   "cell_type": "markdown",
   "metadata": {},
   "source": [
    "### Examples:"
   ]
  },
  {
   "cell_type": "markdown",
   "metadata": {},
   "source": [
    "**Input:** `[10,[10,3,2,8,1],[22,6,8,6,6]]` <br>\n",
    "**Output:** `29.4` <br>\n",
    "**Explanation:** One should take items $1,3,5$ with corresponding proportions $0.7,1.0,1.0$ and total weight of $10$ units, value of $29.4$.\n"
   ]
  },
  {
   "cell_type": "markdown",
   "metadata": {},
   "source": [
    "**Input:**  `[1,[10,20,40],[1,2,5]]` <br>\n",
    "**Output:**  `1.25`<br>"
   ]
  },
  {
   "cell_type": "markdown",
   "metadata": {},
   "source": [
    "### Constraints:\n",
    "\n",
    "- $1 \\leq n \\leq 1000$"
   ]
  },
  {
   "cell_type": "markdown",
   "metadata": {},
   "source": [
    "### Code:"
   ]
  },
  {
   "cell_type": "code",
   "execution_count": null,
   "metadata": {},
   "outputs": [],
   "source": [
    "def fractional_knapsack(L):\n",
    "    \n",
    "    #Write your code here"
   ]
  },
  {
   "cell_type": "markdown",
   "metadata": {},
   "source": [
    "### Tests:"
   ]
  },
  {
   "cell_type": "markdown",
   "metadata": {},
   "source": [
    "##### Run example test case 1:"
   ]
  },
  {
   "cell_type": "code",
   "execution_count": null,
   "metadata": {},
   "outputs": [],
   "source": [
    "input_value = [10,[10,3,2,8,1],[22,6,8,6,6]]\n",
    "print (fractional_knapsack(input_value))"
   ]
  },
  {
   "cell_type": "markdown",
   "metadata": {},
   "source": [
    "##### Run example test case 2:"
   ]
  },
  {
   "cell_type": "code",
   "execution_count": null,
   "metadata": {},
   "outputs": [],
   "source": [
    "input_value = [1,[10,20,40],[1,2,5]]\n",
    "print (maximum_subarray(input_value))"
   ]
  },
  {
   "cell_type": "markdown",
   "metadata": {},
   "source": [
    "(b) Explain why your algorithm described in Part (a) is correct. What is its run time complexity?"
   ]
  },
  {
   "cell_type": "markdown",
   "metadata": {},
   "source": [
    "<div style=\"border-width:2px;border-style:solid;border-color:black;\">\n",
    "Write your answer here.\n",
    "</div>"
   ]
  },
  {
   "cell_type": "markdown",
   "metadata": {},
   "source": [
    "---\n",
    "<br>\n",
    "<br>"
   ]
  },
  {
   "cell_type": "markdown",
   "metadata": {},
   "source": [
    "<h1>6.</h1>"
   ]
  },
  {
   "cell_type": "markdown",
   "metadata": {
    "cell_style": "center",
    "hideOutput": true
   },
   "source": [
    "Consider a variant of the **activity selection problem** described in lecture notes. <br><br>\n",
    "\n",
    "Let $S=\\{a_1,a_2,\\cdots,a_n\\}$ be a set of $n$ proposed activities that we wish to use a resource (e.g. a lecture hall), which can serve only one activity at a time.<br><br>\n",
    "\n",
    "- Each activity has a start time, $s_i$, and a finish time, $f_i$, as well as value, $v_i\\in \\mathbb{N}$, where $0\\leq s_i <f_i<\\infty$. \n",
    "- If selected, activity, $a_i$, takes place during the half-open time interval $[s_i,f_i)$. \n",
    "- Activities, $a_i$ and $a_j$, are compatible if the intervals, $[s_i,f_i)$ and $[s_i,f_i)$, do not overlap. \n",
    "\n",
    "In this refined activity selection problem, we wish to select a maximum-value subset of mutually compatible activities. Write a polynomial-time algorithm to this problem. The function, **activity_selection**($A$), takes in a list of list, $A$, such that $A[i][0]=s_i$, $A[i][1]=f_i$, $A[i][2]=v_i$."
   ]
  },
  {
   "cell_type": "markdown",
   "metadata": {},
   "source": [
    "### Examples:"
   ]
  },
  {
   "cell_type": "markdown",
   "metadata": {},
   "source": [
    "**Input:** `[[1,3,1],[1,8,4],[2,6,2],[7,10,10]]` <br>\n",
    "**Output:** `12` "
   ]
  },
  {
   "cell_type": "markdown",
   "metadata": {},
   "source": [
    "**Input:** `[[0,11,1],[2,6,1],[4,7,1],[5,10,1],[7,11,1],[10,13,1],[12,14,1]]` <br>\n",
    "**Output:** `3` "
   ]
  },
  {
   "cell_type": "markdown",
   "metadata": {},
   "source": [
    "### Constraints:\n",
    "\n",
    "- $1 \\leq n \\leq 1000$"
   ]
  },
  {
   "cell_type": "markdown",
   "metadata": {},
   "source": [
    "### Code:"
   ]
  },
  {
   "cell_type": "code",
   "execution_count": null,
   "metadata": {},
   "outputs": [],
   "source": [
    "def activity_value(A):\n",
    "    \n",
    "    #Write your code here"
   ]
  },
  {
   "cell_type": "markdown",
   "metadata": {},
   "source": [
    "### Tests:"
   ]
  },
  {
   "cell_type": "markdown",
   "metadata": {},
   "source": [
    "##### Run example test case 1:"
   ]
  },
  {
   "cell_type": "code",
   "execution_count": null,
   "metadata": {},
   "outputs": [],
   "source": [
    "input_value = [[1,3,1],[1,8,4],[2,6,2],[7,10,10]]\n",
    "print (avtivity_value(input_value))"
   ]
  },
  {
   "cell_type": "markdown",
   "metadata": {},
   "source": [
    "##### Run example test case 2:"
   ]
  },
  {
   "cell_type": "code",
   "execution_count": null,
   "metadata": {},
   "outputs": [],
   "source": [
    "input_value = [[0,11,1],[2,6,1],[4,7,1],[5,10,1],[7,11,1],[10,13,1],[12,14,1]]\n",
    "print (activity_value(input_value))"
   ]
  },
  {
   "cell_type": "markdown",
   "metadata": {},
   "source": [
    "<div style=\"border-width:2px;border-style:solid;border-color:black;\">\n",
    "Write your answer here.\n",
    "</div>"
   ]
  },
  {
   "cell_type": "markdown",
   "metadata": {},
   "source": [
    "---\n",
    "<br>\n",
    "<br>"
   ]
  },
  {
   "cell_type": "markdown",
   "metadata": {},
   "source": [
    "<h1>7.</h1>"
   ]
  },
  {
   "cell_type": "markdown",
   "metadata": {
    "cell_style": "center",
    "hideOutput": true
   },
   "source": [
    "The **convex hull** of a set $Q$ of points, is the smallest convex polygon $P$ for which each point in $Q$ is either on the boundary of $P$ or in its interior. Write the function **convex_hull**($L$) which takes a list, $L$, of pairs of 2D points and outputs the total number of points in the convex hull of these points. Your solution should have its run time complexity strictly smaller than $O(n^2)$."
   ]
  },
  {
   "cell_type": "markdown",
   "metadata": {},
   "source": [
    "### Examples:"
   ]
  },
  {
   "cell_type": "markdown",
   "metadata": {},
   "source": [
    "**Input:** `[[-1,-1],[-1,1],[1,-1],[1,1],[0,0]]` <br>\n",
    "**Output:** `4`"
   ]
  },
  {
   "cell_type": "markdown",
   "metadata": {},
   "source": [
    "**Input:**  `[[-1,-1],[-1,1],[1,-1],[1,1],[0,0],[-100,100],[100,100],[0,-100]]` <br>\n",
    "**Output:**  `3`"
   ]
  },
  {
   "cell_type": "markdown",
   "metadata": {},
   "source": [
    "### Constraints:\n",
    "\n",
    "- $1 \\leq len(A) \\leq 1000$\n",
    "- $1 \\leq |A[i]| \\leq 100000$"
   ]
  },
  {
   "cell_type": "markdown",
   "metadata": {},
   "source": [
    "### Code:"
   ]
  },
  {
   "cell_type": "code",
   "execution_count": null,
   "metadata": {},
   "outputs": [],
   "source": [
    "def convex_hull(L):\n",
    "    \n",
    "    #Write your code here"
   ]
  },
  {
   "cell_type": "markdown",
   "metadata": {},
   "source": [
    "### Tests:"
   ]
  },
  {
   "cell_type": "markdown",
   "metadata": {},
   "source": [
    "##### Run example test case 1:"
   ]
  },
  {
   "cell_type": "code",
   "execution_count": null,
   "metadata": {},
   "outputs": [],
   "source": [
    "input_value = [[-1,-1],[-1,1],[1,-1],[1,1],[0,0]]\n",
    "print (convex_hull(input_value))"
   ]
  },
  {
   "cell_type": "markdown",
   "metadata": {},
   "source": [
    "##### Run example test case 2:"
   ]
  },
  {
   "cell_type": "code",
   "execution_count": null,
   "metadata": {},
   "outputs": [],
   "source": [
    "input_value = [[-1,-1],[-1,1],[1,-1],[1,1],[0,0],[-100,100],[100,100],[0,-100]]\n",
    "print (convex_hull(input_value))"
   ]
  },
  {
   "cell_type": "markdown",
   "metadata": {},
   "source": [
    "---\n",
    "<br>\n",
    "<br>\n",
    "<br>\n",
    "<br>\n",
    "<br>\n",
    "<br>\n",
    "<br>\n",
    "<center><b>END OF EXAMPLES PAPER</b></center>"
   ]
  }
 ],
 "metadata": {
  "kernelspec": {
   "display_name": "Python 3 (ipykernel)",
   "language": "python",
   "name": "python3"
  },
  "language_info": {
   "codemirror_mode": {
    "name": "ipython",
    "version": 3
   },
   "file_extension": ".py",
   "mimetype": "text/x-python",
   "name": "python",
   "nbconvert_exporter": "python",
   "pygments_lexer": "ipython3",
   "version": "3.10.9"
  }
 },
 "nbformat": 4,
 "nbformat_minor": 4
}
