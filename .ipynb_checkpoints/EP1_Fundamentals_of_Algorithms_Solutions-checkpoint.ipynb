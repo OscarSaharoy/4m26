{
 "cells": [
  {
   "cell_type": "markdown",
   "metadata": {
    "hideCode": false
   },
   "source": [
    "# **4M26 - Examples Paper 1 - Fundamentals of Algorithms** "
   ]
  },
  {
   "cell_type": "markdown",
   "metadata": {},
   "source": [
    "\n",
    "***\n",
    "\n",
    "<br>\n",
    "<br>"
   ]
  },
  {
   "cell_type": "markdown",
   "metadata": {},
   "source": [
    "## 1."
   ]
  },
  {
   "cell_type": "markdown",
   "metadata": {},
   "source": [
    "Give brief answers to the following questions."
   ]
  },
  {
   "cell_type": "markdown",
   "metadata": {},
   "source": [
    "&emsp; (i)&emsp; Provide a precise definition of the Big-O and Big-Theta notations. Suppose algorithm A has cost $O(n)$ and algorithm B has cost $O(n^2)$. Could there be circumstances when it would be rational to use algorithm B?"
   ]
  },
  {
   "cell_type": "markdown",
   "metadata": {},
   "source": [
    "<div style=\"border-width:2px;border-style:solid;border-color:black;\">\n",
    "\n",
    "Function $f(n)$ is $\\Theta(g(n))$ (more precisely $f(n)\\in \\Theta(g(n))$) if there exist $n_0\\in N^{+}$ and $c_1\\in R^{+}$, $c_2\\in R^{+}$ such that $c_1 g(n) \\leq f(n) \\leq c_2 g(n)$ for all $n\\geq n_0$. <br><br>\n",
    "\n",
    "Similarly, function $f(n)$ is $O(g(n))$ if there exist $n_0\\in N^{+}$ and $c\\in R^{+}$ such that $f(n) \\leq c g(n)$ for all $n\\geq n_0$. <br><br>\n",
    "\n",
    "Since Big-O notation provides an assymptotic upper bound only on the worst case of the algorithm, the average case of algorithm B could be significantly better. Other aspects such as ease of implementation or the small size of the test cases may favour the choice of algorithm B. However in most cases an algorithm, A with strictly better assymptotic worst-case behaviour will be favoured.\n",
    "</div>"
   ]
  },
  {
   "cell_type": "markdown",
   "metadata": {},
   "source": [
    "&emsp; (ii)&emsp; Derive big-Theta expressions used to characterise the following functions:\n",
    "1. $f(n)=n^4-n^2/3+2$\n",
    "2. $f(n)= 3f(\\lfloor\\frac{n}{3}\\rfloor)+\\Theta(n)$ for $n>2$ and $f(1) = \\Theta(1)$, $f(2) = \\Theta(1)$.\n",
    "3. $f(n)= 2f(\\frac{n}{2})+n\\log_2 n +3n$ for $n>1$ and $f(1)=1$.\n",
    "4. $f(n)=\\sqrt{2}f(\\frac{n}{2})+n^{\\sqrt(2)}$, for $n>1$ and $f(1)=\\Theta(1)$.\n",
    "5. $f(n) = 5 f(\\frac{n}{8}) + \\Theta(n^{\\frac{2}{3}})$, for $n>7$ and $f(i)=\\Theta(1)$ for $1\\leq i\\leq 7$. "
   ]
  },
  {
   "cell_type": "markdown",
   "metadata": {
    "hideOutput": true
   },
   "source": [
    "<div style=\"border-width:2px;border-style:solid;border-color:black;\">\n",
    "\n",
    "1. For all $c_1 <1$ and $c_2 \\geq 1$, we have $c_1 n^4 \\leq n^4 -n^2/3 + 2 \\leq c_2 n^4$ when $n\\geq \\max(\\lceil n_1\\rceil,\\lceil n_2\\rceil)$ where $n_{i}$ (here $i\\in\\{1,2\\}$) is the largest real root of $(1-c_i) n^4 - n^2/3 +2 = 0$. If the polynomial does not have real roots then $n_i=0$. Hence $f(n)\\in \\Theta(n^4)$. <br><br>\n",
    "    \n",
    "2. Lets use the substitution method. Guess (e.g. by using recurrence tree) that $ c_1 n\\log_3 n\\leq f(n) \\leq c_2 n \\log_3 n$, where $n\\geq n_0$ for some $c_1,c_2\\in R^{+}$,$n_0\\in N^{+}$. <br><br> Lets use mathematical induction and assume that the right hand side inequality holds for all positive $m < n$. We can prove that this holds for $n$ as follows: <br><br> $f(n)= 3 f(\\frac{n}{3})+ \\Theta(n) \\leq 3 c_2 \\frac{n}{3} \\log_3\\frac{n}{3}+c_2 n = c_2 n (\\log_3 n -1)+c_2 n = c_2 n\\log_3 n $.  To be fully precise we should also prove the correctness of the base case, however it is not required for this question. The left hand side of the inequality can be proven in a similar way.<br><br>\n",
    "\n",
    "3. Considering the recurrence tree it is easy to see that $f(n)$ is $\\Theta(n (\\log n)^2)$. This can then be proven by the substitution method. <br><br>\n",
    "    \n",
    "<i>The following two cases are rather difficult as they require a peculiar intuition and are hard to guess if not encountered before. They both are special cases of the Master theorem which was omitted from the lecture slides and hence is not examinable. Yet, Master theorem is still a very useful tool to be familiar with.</i> <br><br>\n",
    "    \n",
    "The <b>Master theorem</b> states: <br><br>\n",
    "    \n",
    "Let $a\\geq 1$ and $b\\geq 1$ be constants, let $g(n)$ be a function, and let $T(n)$ be defined on the nonnegative integers by the recurrence: $T(n)=aT(\\frac{n}{b})+g(n)$,\n",
    "where we interpret $\\frac{n}{b}$ to mean either $\\lfloor\\frac{n}{b}\\rfloor$ or $\\lceil\\frac{n}{b}\\rceil$. Then $T(n)$ has the following assymptotic bounds:<br><br>\n",
    "\n",
    "i. If $g(n)=O(n^{\\log_b a-\\epsilon})$ for some constant $\\epsilon >0$, then $T(n)=\\Theta(n^{\\log_b a})$. <br><br>\n",
    "ii. If $g(n)=\\Theta(n^{\\log_b a})$, then $T(n) = \\Theta(n^{\\log_b a}\\log n)$. <br><br>\n",
    "iii. If $g(n)=\\Omega(n^{\\log_b a+\\epsilon})$ for some constant $\\epsilon >0$, and if $a g(\\frac{n}{b})\\leq cg(n)$ for some constant $c<1$, and all sufficiently large $n$, then $T(n)=\\Theta(g(n))$. <br><br>\n",
    "    \n",
    " \n",
    "    \n",
    "4. Case iii of the <b>Master theorem</b> to obtain $\\Theta(n^{ \\sqrt (2)})$. <br>\n",
    "\n",
    "5. Case i of the <b>Master theorem</b> to obtain $\\Theta(n^{\\log_8 5} )$. \n",
    "    \n",
    "\n",
    "</div>"
   ]
  },
  {
   "cell_type": "markdown",
   "metadata": {},
   "source": [
    "&emsp; (iii)&emsp; Explain what is meant by the amortised cost of operations on a data structure. Contrast it with other ways of predicting performance, showing one case where it is useful and one where it is not. "
   ]
  },
  {
   "cell_type": "markdown",
   "metadata": {},
   "source": [
    "<div style=\"border-width:2px;border-style:solid;border-color:black;\">\n",
    "\n",
    "Amortized cost analysis is often required in cases when a sequence of operations are performed on some data structure. A direct application of worst case analysis per operation may lead to overly pesimistic evaluation of the performance.<br><br>\n",
    "    \n",
    "For example, lets consider a stack with <b>push</b>$(value)$, <b>pop</b>$()$ and <b>multipop</b>$(m)$ operations. The <b>multipop</b> operation simply performs <b>pop</b> operation for $m$ times, or terminates early if the stack becomes empty. Note that the worst case performance is $O(1), O(1), O(m)$ for each of the individual operations respectively.  Hence a simple worst case analysis would estimate $O(n^2)$ time for a sequence of $n$ operations. <br><br>\n",
    "    \n",
    "\n",
    "Amortized analysis averages the running times of operations in a sequence over that sequence instead. For a given operation of an algorithm (e.g. <b>multipop</b>), certain situations (e.g., when stack is empty) may imply a that the cost can be much smaller than expected from an individual, per operation analysis. For example, in case of stack, since each element can be pushed onto stack and poped out of the stack at most once, the actual total worst case run time cost of a sequence of $n$ operations is $O(n)$, leading to $O(1)$ amortized cost per operation. Hence while stack with multipop can have some seemingly inefficient operations such as <b>multipop</b>, considering its performance over a sequence operations, reveals that such data structure is indeed highly efficient. <br><br>\n",
    "    \n",
    "Note that amortized cost analysis is not required in cases when performing operations in a sequence does not change their cost compared to isolated execution of individual operations (e.g. a stack with only <b>push</b> and <b>pop</b> operations).   \n",
    "    \n",
    "</div>"
   ]
  },
  {
   "cell_type": "markdown",
   "metadata": {},
   "source": [
    "&emsp; (iv)&emsp; Consider building a <i>dynamic array</i> data structure. A <i>dynamic array</i> is similar to a normal array, however the capacity of the array is doubled every time it reaches full capacity. In particular, this array can be modified using **append**($v$) operation. It assigns value, $v$, to the $k+1$st element, where $k$ the largest index of elements stored in the array. If the array has empty space available then this operation is $O(1)$, like in a normal array, however when it does not, the **append** is $O(k)$ as it involves allocating a new array of size $2k$ and copying the original array into the new array (first k elements) and adding the new value $v$ for the index $k+1$. Write the pseudocode of **append** operation and analyse run time of the sequence of $n$ calls of this operation."
   ]
  },
  {
   "cell_type": "markdown",
   "metadata": {},
   "source": [
    "**Pseudocode:**\n",
    "    \n",
    "|  |  |\n",
    "| :- | :- |\n",
    "|   | **append($v$)** | \n",
    "| 1 |**if** $\\text{len}(A)$ == $k$|\n",
    "| 2 |&emsp; $A_{temp}$ = allocate_array of size $2k$| \n",
    "| 3 |&emsp; **for** $i = 1$ **to** $k$| \n",
    "| 4 |&emsp; &emsp; $A_{temp}[i]$ = $A[i]$| \n",
    "| 5 |&emsp; $A$ = $A_{temp}$| \n",
    "| 6 |$A[k+1]$ = $v$ |  \n",
    "| 7 |$k$ = $k+1$ | "
   ]
  },
  {
   "cell_type": "markdown",
   "metadata": {},
   "source": [
    "<div style=\"border-width:2px;border-style:solid;border-color:black;\">\n",
    "We can define a recurrence relationship: $T(n)= \\begin{cases} \\Theta(1) & \\text{if } n == 1,  \\\\\n",
    "                                                             T(n-1) + \\Theta(1) & \\text{if }n>1 \\text{ and } n \\text{ is not power of 2,} \\\\\n",
    "                                          T(n-1) + \\Theta(1) +\\Theta(n) &  \\text{otherwise.}\\end{cases}$    \n",
    "    for the runtime of the proposed algorithm. Hence $T(n) = \\sum_{k=1}^{n} \\Theta(1) + \\sum_{k=1}^{\\lfloor\\log_2 n\\rfloor}\\Theta(2^k) = \\Theta(n)$.\n",
    "</div>\n"
   ]
  },
  {
   "cell_type": "markdown",
   "metadata": {},
   "source": [
    "&emsp; (v)&emsp; Provide a detailed proof of correctness and a detailed derivation of run time complexity of the **longest common subsequence** (LCS) algorithm described in the lecture notes."
   ]
  },
  {
   "cell_type": "markdown",
   "metadata": {},
   "source": [
    "<div style=\"border-width:2px;border-style:solid;border-color:black;\">\n",
    "Given a string $X=\\langle x_1, \\cdots, x_m\\rangle$ and $Y=\\langle y_1, \\cdots, y_n \\rangle$ let $Z=\\langle z_1, \\cdots, z_k\\rangle$ be any longest common subsequence of strings $X$ and $Y$.  Then following 3 statements are true: <br> <br>\n",
    "1. If $x_m = y_n$, then $z_k = x_m = y_n$ and $Z_{k-1}$ is an LCS of $X_{m-1}$ and $Y_{n-1}$. <br>\n",
    "2. If $x_m \\neq y_n$ and $z_k \\neq x_m$ then $Z$ is an LCS of $X_{m-1}$ and $Y$. <br>\n",
    "3. If $x_m \\neq y_n$ and $z_k \\neq y_n$ then $Z$ is an LCS of $X$ and $Y_{n-1}$. <br><br>\n",
    "    \n",
    "Both parts of the <b>first statement</b> can be proven by contradiction. First, if $z_k\\neq x_m$  then one could make a longer common subsequence, ie $\\langle z_1, \\cdots z_k, x_m \\rangle$, of length $k+1$. Contradiction. Second, if LCS of $X_{m-1}$ and $Y_{n-1}$ is some sequence $W$ of length larger than $k-1$ then one could form an LCS for $X$ and $Y$ larger than $k$ by simply appending $x_m=y_n$ at the end of such subsequence. Contradiction. <br><br>\n",
    "    \n",
    "The <b>second statement</b> can also be proven by contradiction. If LCS of $X_{m-1}$ and $Y$ is some sequence $W$ of length larger than $k$ then it would also be an LCS for $X$ and $Y$. <br><br>\n",
    "    \n",
    "The <b>third statement</b> is symmetric to the second statement. <br><br>\n",
    "    \n",
    "The <i>optimal substructure</i> of the LCS problem gives the recursive formula: $c\\left[i,j\\right] = \\begin{cases}0 & \\text{if }i =0 \\text{ or } j=0, \\\\\n",
    "                                      c\\left[i-1,j-1\\right] + 1 & \\text{if }i,j>0 \\text{ and }x_i=y_j, \\\\\n",
    "                                      \\max\\left(c\\left[i,j\\right],c\\left[i-1,j\\right]\\right) & \\text{if }i,j>0 \\text{ and } x_i\\neq y_j.\\end{cases}$ <br><br>\n",
    "    \n",
    "The first loop in the pseudocode provided in lecture slides initialises the matrix, $c$. The following pair of nested loops over $i$ and $j$ in the pseudocode provided in the slides is filling up the values of $c$ according to the recursive formula. <i>Loop invariants</i> for both loops are that the computed values of $c$ up to the particular iteration of the loop are equal to correct/desired values before each loop iteration. Upon terminations of the loops the computed values of $c$ match the desired values of $c$ for the whole matrix, $c$. <br><br>\n",
    "    \n",
    "Since, (i) each element of $c$ takes a constant time to initialise and to compute and (ii) all elements, (ie $ (n+1) \\times (m+1)$) are initialised and computed then the run time cost is $\\Theta(nm+nm)=\\Theta(nm)$.\n",
    "\n",
    "    \n",
    "</div>"
   ]
  },
  {
   "cell_type": "markdown",
   "metadata": {},
   "source": [
    "&emsp; (vi)&emsp; Explain the differences (if any) in the run time performance and/or memory requirements between a recursive solution with memoization and a dynamic programming solution. In your answer use an example of a concrete algorithm."
   ]
  },
  {
   "cell_type": "markdown",
   "metadata": {},
   "source": [
    "<div style=\"border-width:2px;border-style:solid;border-color:black;\">\n",
    "    \n",
    "Memoization technique allows to improve the performance of recursive algorithms. When using memoization, the solutions to subproblems solved by the recursive algorithm  are stored in an array, and are loaded from such array instead of performing a recursive call if they had been computed before. This improves performance over standard recursive solution as solutions to subproblems are never computed twice. <br><br>\n",
    "\n",
    "In a typical bottom-up dynamic programming approach, solutions to problems are constructed from solutions to smaller subproblems stored in the table. This approach is slightly less intuitive than memoisation, however it has less overhead as it does not require recursive calls of functions and is usually implemented via nested <b>for</b> loops. If a solution to a particular inputs of the problem requires one to examine a sparse set of subproblems (e.g. solving 0-1 knapsack problem where all weights are integers divisible by 5) then the memoized solution may be significantly more efficient both in terms of memory usage and run time than a straight-forward bottom up dynamic programming implementation.\n",
    "    \n",
    "</div>"
   ]
  },
  {
   "cell_type": "markdown",
   "metadata": {},
   "source": [
    "&emsp; (vii)&emsp; Are the statements below true or false. Justify your answers.\n",
    "\n",
    "1. For all positive $f(n)$, $g(n)$ and $h(n)$, if $f(n) = O(g(n))$ and $f(n) = Ω(h(n))$,\n",
    "then $g(n) + h(n) = \\Omega(f(n))$.\n",
    "2. An optimal solution to a 0-1 knapsack problem will always contain the object $i$ with the greatest value-to-weight ratio $\\frac{v_i}{w_i}$.\n",
    "3. In the worst case, merge sort runs in $O(n^2)$ time.\n",
    "4. Any problem that can be solved with a greedy algorithm can also be solved with dynamic programming."
   ]
  },
  {
   "cell_type": "markdown",
   "metadata": {},
   "source": [
    "<div style=\"border-width:2px;border-style:solid;border-color:black;\">\n",
    "\n",
    "1. True. $f(n) = O(g(n))$ implies that there exists $c\\in R^{+}$ and $n_0\\in N^{+}$, s.t. $f(n)\\leq c g(n)$ for all $n\\geq n_0$.<br>\n",
    "This in turn means that $g(n)\\geq \\frac{1}{c} f(n)$, $\\forall n\\geq n_0$. Hence $g(n)= \\Omega(f(n))$, ie. $f(n) = O(g(n)) \\implies g(n) = Ω(f(n)$. <br>\n",
    "Since $h(n)$ is positive then $g(n)+h(n)\\geq \\frac{1}{c} f(n)$, $\\forall n\\geq n_0$. Hence, $g(n)+h(n) = \\Omega(f(n))$.<br><br>\n",
    "     \n",
    "2. False. Consider a counter example. If the maximum weight is 4, and there are two items, the first with weight\n",
    "2 and value 3, and the second with weight 3 and value 4, the optimal solution is to take just the second item. <br><br>\n",
    "    \n",
    "3. True. This is a \"trick\" question. Merge sort runs in $O(n \\log n)$ time which also is $O(n^2)$. <br><br> \n",
    "\n",
    "4. True. Greedy algorithms forms a subclass of dynamic programming algorithms for which the locally optimal solution of a subproblem gives a globally optimal solution. \n",
    "       \n",
    "    \n",
    "</div>"
   ]
  },
  {
   "cell_type": "markdown",
   "metadata": {},
   "source": [
    "&emsp; (viii)&emsp; Explain why the Huffman coding algorithm constructs optimal prefix codes."
   ]
  },
  {
   "cell_type": "markdown",
   "metadata": {},
   "source": [
    "<div style=\"border-width:2px;border-style:solid;border-color:black;\">\n",
    "\n",
    "<i>This is a relatively hard question to answer if a proof hasnt been seen before. Note that Huffman Coding was not discussed in lectures this year due to time constraints.</i> <br><br>\n",
    " \n",
    "<img src=\"huffman_v1.jpeg\" border=\"0\" class=\"bg-primary\" width=\"800px\">\n",
    "    \n",
    "Let $C$ bet an alphabet in which each character $c\\in C$ has frequency $c.freq$. <br><br>\n",
    "    \n",
    "<b>Property 1.</b> Let $x$ and $y$ be two characters in $C$ having the lowest frequencies. Then there exists an optimal prefix code for $C$ in which the codewords for $x$ and $y$ have the same length and differ only in last bit. <br><br>\n",
    "    \n",
    "This property can be proven as follows. We take a tree, $T$ which represents some arbitrary optimal code. Let $a$ and $b$ be characters that are sibling leaves of maximum depth in $T$. We can assume that $a.freq\\leq b.freq$ and $x.freq\\leq y.freq$. Since $x$ and $y$ are characters with two lowest frequencies, we also have $x.freq\\leq a.freq$ and $y.freq\\leq b.freq$. <br><br>\n",
    "    \n",
    "If $x.freq=b.freq$ then the property 1 holds trivially. Hence, assume that $x.freq\\neq b.freq$ (ie. characters $x$ and $b$ are diferent). If we exchange $a$ node with $x$ node we obtain a new tree, $T^{\\prime}$, and if we further exchange $b$ node with $y$ node we ontain a tree $T^{\\prime\\prime}$. Each of this change can only decrease the code cost or keep it unchanged (ie. $B(T^{\\prime\\prime})\\leq B(T^{\\prime})\\leq B(T)$). Since $T$ is optimal, we must have $B(T^{\\prime\\prime})= B(T^{\\prime})= B(T)$. See Cormen's book, Section 16.3 (Huffman codes) if it is not immediately clear why these inequalities hold. <br><br> \n",
    "    \n",
    "\n",
    "<b>Property 2.</b> Let $C^{\\prime}$ be the alphabet $C$ with the characters $x$ and $y$ removed and a new character $z$ added, ie. $C^{\\prime} = C-\\{x,y\\}\\cup \\{z\\}$. All character frequencies are the same except $z.freq = x.freq + y.freq$. Also let $T^{\\prime}$ be any tree representing an optimal prefix code for the alphabet $C^{\\prime}$. Then the tree $T$, obtained from $T^{\\prime}$ by replacing the leaf node for character, $z$, with an internal node having $x$ and $y$ as children, represents optimal prefix code for the alphabet $C$. <br><br>\n",
    "\n",
    "    \n",
    "Since all the frequencies, and most of the tree is identical, we have $B(T)=B(T^{\\prime})+x.freq+y.freq$. Lets suppose that $T$ does not represent an optimal prefix code for $C$. Then there exists an optimal tree $T^{\\prime \\prime}$ such that $B(T^{\\prime\\prime}) < B(T)$. From <b>property 1</b> we know that there exists an optimal code tree which has $x$ and $y$ as siblings. Let $T^{\\prime\\prime\\prime}$ be a tree in which these siblings are replaced with a single node $z$ with frequency $z.freq=x.freq+y.freq$. Then $B(T^{\\prime\\prime\\prime})=B(T^{\\prime\\prime})-x.freq-y.freq < B(T)-x.freq-y.freq = B(T^{\\prime})$. However, this is a contradiction as we assumed that the tree $T^{\\prime}$ was optimal. Hence $T$ must represent an optimal prefix code. <br><br>\n",
    "    \n",
    "    \n",
    "Correctness of the HUFFMAN procedure described in the slides follows from both properties trivially.\n",
    "    \n",
    "</div>"
   ]
  },
  {
   "cell_type": "markdown",
   "metadata": {},
   "source": [
    "&emsp; (ix)&emsp; Explain, in general terms, the main differences between the divide-and-conquer\n",
    "technique and dynamic programming."
   ]
  },
  {
   "cell_type": "markdown",
   "metadata": {},
   "source": [
    "<div style=\"border-width:2px;border-style:solid;border-color:black;\">\n",
    "\n",
    "<b>Divide and conquer</b> is an inherently recursive technique  which subdivides an input problem into smaller subproblems (e.g. sorting the left and the right sides of an array independently), ie. a top down approach. The solution to one subproblem does not affect the solution to another subproblem of the same level in the recursion tree. It is efficient for problems, where the overlapping of subproblems is small or non-existent as in sorting via MergeSort. <br><br>\n",
    "    \n",
    "<b>Dynamic programming</b> is an inherently non-recursive technique which constructs the solution to the problem from solutions to smaller subproblems in a bottom up fashion (e.g. as in finding the longest common subsequence for two strings). It gains its efficiency from the fact that a solution to a problem can be constructed by considering a relatively small set of solutions to smaller subproblems and no problem is solved more than once (unlike when using divide and conquer).\n",
    "\n",
    "</div>"
   ]
  },
  {
   "cell_type": "markdown",
   "metadata": {
    "hideCode": true
   },
   "source": [
    "<b>The following programming questions can be solved using one of the three strategies: divide and conquer, dynamic programming or greedy programming. The order of questions is arbitrary. Question difficulty ranges significantly.</b>"
   ]
  },
  {
   "cell_type": "markdown",
   "metadata": {},
   "source": [
    "<h1>2.</h1>"
   ]
  },
  {
   "cell_type": "markdown",
   "metadata": {
    "cell_style": "center",
    "hideOutput": true
   },
   "source": [
    "(a) Given an integer array, $A$, write the function **maximum_subarray**$(A)$ to find the continuous subarray with the largest sum, and return its sum. Note that continuous subarray is any array derived from the original array by removing all elements except some continuous sequence of elements of the original array. Your solution should have its run time complexity strictly smaller than $O(n^2)$."
   ]
  },
  {
   "cell_type": "markdown",
   "metadata": {},
   "source": [
    "### Examples:"
   ]
  },
  {
   "cell_type": "markdown",
   "metadata": {},
   "source": [
    "**Input:** `[-3,14,-5,-8,7,7,-20]` <br>\n",
    "**Output:** `15` <br>\n",
    "**Explanation:** Subarray `[14,-5,-8,7,7]` has the largest sum."
   ]
  },
  {
   "cell_type": "markdown",
   "metadata": {},
   "source": [
    "**Input:**  `[1,2,3,4,5,6,7,-1]` <br>\n",
    "**Output:**  `28`<br>\n",
    "**Explanation:** Subarray `[1,2,3,4,5,6,7]` has the largest sum."
   ]
  },
  {
   "cell_type": "markdown",
   "metadata": {},
   "source": [
    "### Constraints:\n",
    "\n",
    "- $1 \\leq \\text{len}(A) \\leq 1000$.\n",
    "- $1 \\leq |A[i]| \\leq 100000$."
   ]
  },
  {
   "cell_type": "markdown",
   "metadata": {},
   "source": [
    "### Code:"
   ]
  },
  {
   "cell_type": "code",
   "execution_count": 1,
   "metadata": {},
   "outputs": [],
   "source": [
    "#First solution is using divided and conquer technique. We find the maximum sum subarray on the left side of an array \n",
    "#and on the right side of an array. We also find the maximum sum subarray which crosses the middle (pivot). The \n",
    "#largest subarray of the three provides an output. Time complexity \\Theta(n\\log n) as in MergeSort.\n",
    "\n",
    "def find_max_sum(A, ind, pivot, delta):\n",
    "    \n",
    "    sum_temp, max_sum = A[pivot], A[pivot] #max_sum is computed including pivot value to reduce the need for explicit handling of cases when ind==pivot\n",
    "    \n",
    "    for i in range(pivot+delta, ind+delta, delta): #Finding the max cumulative sum starting from pivot and going to the left or right\n",
    "        sum_temp += A[i]\n",
    "        max_sum = max(max_sum, sum_temp)\n",
    "        \n",
    "    return max_sum\n",
    "\n",
    "def maximum_subarray_divnconq(A, left, right):\n",
    "    \n",
    "    if left>right:\n",
    "        return -1000000\n",
    "    \n",
    "    if (left == right):\n",
    "        return A[left]\n",
    "      \n",
    "    pivot = (left + right) // 2\n",
    "  \n",
    "    val_left = maximum_subarray_divnconq(A, left, pivot - 1) #Finding the max sum subarray on the left of pivot\n",
    "    val_right = maximum_subarray_divnconq(A, pivot + 1, right) #Finding the max sum subarray on the right of pivot\n",
    "    val_crossing = find_max_sum(A, left, pivot, -1) - A[pivot] + find_max_sum(A, right, pivot, 1) #Finding the max sum subarray which \n",
    "                                                #crosses the pivot. It is equal to the max sum on the left/right (including pivot) - A[pivot]\n",
    "    \n",
    "    return max(val_left, val_right, val_crossing)\n",
    "  \n",
    "def maximum_subarray(A):\n",
    "\n",
    "    #Write your code here\n",
    "    \n",
    "    return maximum_subarray_divnconq(A,0,len(A)-1)"
   ]
  },
  {
   "cell_type": "markdown",
   "metadata": {},
   "source": [
    "Note, this question can also be solved with a dynamic programming strategy, with $O(n)$ run time complexity using dynamic programming."
   ]
  },
  {
   "cell_type": "code",
   "execution_count": 2,
   "metadata": {},
   "outputs": [],
   "source": [
    "def maximum_subarray_dp(A):\n",
    "    \n",
    "    max_local_sum = 0\n",
    "    max_sum= -10000000\n",
    "    \n",
    "    for i in range(len(A)):\n",
    "        max_local_sum = max(A[i],A[i]+max_local_sum)\n",
    "        if max_local_sum > max_sum:\n",
    "            max_sum = max_local_sum\n",
    "            \n",
    "    return max_sum"
   ]
  },
  {
   "cell_type": "markdown",
   "metadata": {},
   "source": [
    "### Tests:"
   ]
  },
  {
   "cell_type": "markdown",
   "metadata": {},
   "source": [
    "##### Run example test case 1:"
   ]
  },
  {
   "cell_type": "code",
   "execution_count": 3,
   "metadata": {},
   "outputs": [
    {
     "name": "stdout",
     "output_type": "stream",
     "text": [
      "15\n"
     ]
    }
   ],
   "source": [
    "input_value = [-3,14,-5,-8,7,7,-20]\n",
    "print (maximum_subarray(input_value))"
   ]
  },
  {
   "cell_type": "markdown",
   "metadata": {},
   "source": [
    "##### Run example test case 2:"
   ]
  },
  {
   "cell_type": "code",
   "execution_count": 4,
   "metadata": {},
   "outputs": [
    {
     "name": "stdout",
     "output_type": "stream",
     "text": [
      "28\n"
     ]
    }
   ],
   "source": [
    "input_value = [1,2,3,4,5,6,7,-1]\n",
    "print (maximum_subarray(input_value))"
   ]
  },
  {
   "cell_type": "markdown",
   "metadata": {},
   "source": [
    "(b) Sketch a detailed proof of correctness of your algorithm described in Part (a) and derive its worst-case time complexity."
   ]
  },
  {
   "cell_type": "markdown",
   "metadata": {},
   "source": [
    "<div style=\"border-width:2px;border-style:solid;border-color:black;\">\n",
    "   \n",
    "The correctness of divide and conquer version of the <b>maximum_subarray</b> can be proven by considering mathematical induction on the length of the array. It is straight forward that <b>maximum_subarray</b> gives a correct result for $n=1$ as its base case. Lets assume that it is correct for any array of length, $k>1$. Since $k>1$ then two subsequent recursive <b>maximum_subarray</b> calls on $A[:pivot]$ and $A[pivot+1:]$ will obtain the maximum sum subarrays for the left and right side of the array. So it only remains to show that the maximum value of the array crossing the $pivot$ element. <br><br>\n",
    "\n",
    "The maximum sum subarray crossing the pivot is obtained by: (i) finding the largest sum subarray from the pivot element to the left side of the array; (ii) as well as the largest sum subarray from the pivot to the right side of the array. The sum of the sums of two such arrays minus the value at the pivot element gives the largest sum subarray which includes the $pivot$ element. <br><br>\n",
    " \n",
    "The <b>for</b> loop in <b>find_max_sum</b> maintains the loop invariant that variable $sum\\_temp$ contains the correct sum for all elements from $pivot$ to $i$ and element $max\\_sum$ contains the maximum sum discovered up to element $i$ so far. Once loop terminates $i$ is equal to the end of the array $max\\_sum$ variable contains the maximum sum for all arrays formed from the $pivot$ element to all possible end points. <br><br>\n",
    "    \n",
    "    \n",
    "The computation time of the <b>maximum_subarray</b> can be described using the following recursive relationship $T(n)=\\begin{cases}\n",
    "    2\\cdot T(\\lfloor n/2\\rfloor)+\\Theta(n), & \\text{if } n > 1,\\\\\n",
    "    \\Theta(1), & \\text{otherwise.}\n",
    "\\end{cases}$ <br><br>\n",
    "    \n",
    "The substitution method can be used to show that the $T(n)=\\Theta(n\\log n)$ as in MergeSort.\n",
    "    \n",
    "    \n",
    "</div>"
   ]
  },
  {
   "cell_type": "markdown",
   "metadata": {},
   "source": [
    "<h1>3.</h1>"
   ]
  },
  {
   "cell_type": "markdown",
   "metadata": {
    "cell_style": "center",
    "hideOutput": true
   },
   "source": [
    "You are given a 0-indexed integer array, $A$. In one operation you can replace any element of the array with any two elements that sum to it. <br>\n",
    "\n",
    "For example, consider $A = \\left[1,3,2\\right]$. In one operation, we can replace $A\\left[1\\right]$ with 1 and 2 and convert nums to $\\left[1,1,2,2\\right]$. <br>\n",
    "\n",
    "Write the function, **replacement**($A)$, to return the minimum number of operations to make an array that is sorted in non-decreasing order."
   ]
  },
  {
   "cell_type": "markdown",
   "metadata": {},
   "source": [
    "### Examples:"
   ]
  },
  {
   "cell_type": "markdown",
   "metadata": {},
   "source": [
    "**Input:** `[1,3,2]` <br>\n",
    "**Output:** `1`"
   ]
  },
  {
   "cell_type": "markdown",
   "metadata": {},
   "source": [
    "**Input:** `[1,3,1]` <br>\n",
    "**Output:** `2` <br>\n",
    "**Explanation:** \n",
    "- Replace the 3 with 1 and 2. The array becomes $\\left[1,1,2,1\\right]$.\n",
    "- Replace the 2 with 1 and 1. The array becomes $\\left[1,1,1,1,1\\right]$."
   ]
  },
  {
   "cell_type": "markdown",
   "metadata": {},
   "source": [
    "### Constraints:\n",
    "\n",
    "- $1 \\leq \\text{len}(A) \\leq 1000$.\n",
    "- $1 \\leq A[i] \\leq 100000$."
   ]
  },
  {
   "cell_type": "markdown",
   "metadata": {},
   "source": [
    "### Code:"
   ]
  },
  {
   "cell_type": "code",
   "execution_count": 5,
   "metadata": {},
   "outputs": [],
   "source": [
    "#This question can be solved using gready strategy in O(n) time.\n",
    "\n",
    "def replacement(A):\n",
    "    \n",
    "    count, min_val, n = 0, A[-1], len(A)\n",
    "\n",
    "    for i in range(1,n):\n",
    "        \n",
    "        val = A[n-i-1] #Traversing elements in reversed order\n",
    "        \n",
    "        if val > min_val: #If current element is larger than the value of the previous smallest element, min_val, \n",
    "            \n",
    "            times = (val + min_val - 1) // min_val #then split the current elements into chunks of size min_val\n",
    "            \n",
    "            min_val = val // times #update the value of the smallest element \n",
    "            \n",
    "            count += times - 1 #and count the number of time a split operation has to be performed\n",
    "            \n",
    "        else:\n",
    "            \n",
    "            min_val = val #otherwise, simply update the value of the smallest element seen so far.\n",
    "            \n",
    "    return count"
   ]
  },
  {
   "cell_type": "markdown",
   "metadata": {},
   "source": [
    "### Tests:"
   ]
  },
  {
   "cell_type": "markdown",
   "metadata": {},
   "source": [
    "##### Run example test case 1:"
   ]
  },
  {
   "cell_type": "code",
   "execution_count": 6,
   "metadata": {},
   "outputs": [
    {
     "name": "stdout",
     "output_type": "stream",
     "text": [
      "1\n"
     ]
    }
   ],
   "source": [
    "input_value = [1,3,2]\n",
    "print (replacement(input_value))"
   ]
  },
  {
   "cell_type": "markdown",
   "metadata": {},
   "source": [
    "##### Run example test case 2:"
   ]
  },
  {
   "cell_type": "code",
   "execution_count": 7,
   "metadata": {},
   "outputs": [
    {
     "name": "stdout",
     "output_type": "stream",
     "text": [
      "2\n"
     ]
    }
   ],
   "source": [
    "input_value = [1,3,1]\n",
    "print (replacement(input_value))"
   ]
  },
  {
   "cell_type": "markdown",
   "metadata": {},
   "source": [
    "---\n",
    "<br>"
   ]
  },
  {
   "cell_type": "markdown",
   "metadata": {},
   "source": [
    "<h1>4.</h1>"
   ]
  },
  {
   "cell_type": "markdown",
   "metadata": {
    "cell_style": "center",
    "hideOutput": true
   },
   "source": [
    "Consider a row of $n$ coins of values, $v=\\left[v_0,\\cdots,v_{n-1}\\right]$, where $n$ is even. Two players make alternating turns. In each turn, a player selects either the first or last coin from the row, removes it from the row permanently, and receives the value of the coin. Write the function **coin_game**($v$) to determine the maximum possible amount of money that a player who makes the first move can win. Both players play optimally."
   ]
  },
  {
   "cell_type": "markdown",
   "metadata": {},
   "source": [
    "### Examples:"
   ]
  },
  {
   "cell_type": "markdown",
   "metadata": {},
   "source": [
    "**Input:** `[6, 3, 15, 20]` <br>\n",
    "**Output:** `26`"
   ]
  },
  {
   "cell_type": "markdown",
   "metadata": {},
   "source": [
    "**Input:**  `[1,2,3,4,20,5,6]` <br>\n",
    "**Output:**  `17`"
   ]
  },
  {
   "cell_type": "markdown",
   "metadata": {},
   "source": [
    "### Constraints:\n",
    "\n",
    "- $1 \\leq \\text{len}(v) \\leq 1000$."
   ]
  },
  {
   "cell_type": "markdown",
   "metadata": {},
   "source": [
    "### Code:"
   ]
  },
  {
   "cell_type": "code",
   "execution_count": 8,
   "metadata": {},
   "outputs": [],
   "source": [
    "#This question can be solved using dynamic programming (e.g. recursive solution + memoization) in O(n^2) time.\n",
    "\n",
    "def coin_game(v):\n",
    "    \n",
    "    n, S = len(v), {} #S - memoized solution. \n",
    "    \n",
    "    def coin_game_rec(i, j): #Recursive memoized solution for coin game\n",
    "\n",
    "        if i > j or i >= n or j < 0:\n",
    "            return 0\n",
    " \n",
    "        if (i, j) in S:\n",
    "            return S[(i, j)]\n",
    "   \n",
    "        val1 = v[i] + min(coin_game_rec(i + 2, j), coin_game_rec (i + 1, j - 1)) # If the current player chooses i-th coin, \n",
    "        #the opponent can choose from (i+1)-th or j-th coin.\n",
    " \n",
    "        val2 = v[j] + min(coin_game_rec(i + 1, j - 1), coin_game_rec (i, j - 2)) # If the current player chooses j-th coin, \n",
    "        #the opponent can choose from i-th or (j-1)-th coin.\n",
    "         \n",
    "        S[(i, j)] = max(val1, val2) #The current player wants to chose the optimal step.\n",
    "        \n",
    "        return S[(i, j)]\n",
    " \n",
    "    return coin_game_rec(0, n-1)"
   ]
  },
  {
   "cell_type": "markdown",
   "metadata": {},
   "source": [
    "### Tests:"
   ]
  },
  {
   "cell_type": "markdown",
   "metadata": {},
   "source": [
    "##### Run example test case 1:"
   ]
  },
  {
   "cell_type": "code",
   "execution_count": 9,
   "metadata": {},
   "outputs": [
    {
     "name": "stdout",
     "output_type": "stream",
     "text": [
      "26\n"
     ]
    }
   ],
   "source": [
    "input_value = [6, 3, 15, 20]\n",
    "print (coin_game(input_value))"
   ]
  },
  {
   "cell_type": "markdown",
   "metadata": {},
   "source": [
    "##### Run example test case 2:"
   ]
  },
  {
   "cell_type": "code",
   "execution_count": 10,
   "metadata": {},
   "outputs": [
    {
     "name": "stdout",
     "output_type": "stream",
     "text": [
      "17\n"
     ]
    }
   ],
   "source": [
    "input_value = [1,2,3,4,20,5,6]\n",
    "print (coin_game(input_value))"
   ]
  },
  {
   "cell_type": "markdown",
   "metadata": {},
   "source": [
    "---\n",
    "<br>"
   ]
  },
  {
   "cell_type": "markdown",
   "metadata": {},
   "source": [
    "<h1>5.</h1>"
   ]
  },
  {
   "cell_type": "markdown",
   "metadata": {
    "cell_style": "center",
    "hideOutput": true
   },
   "source": [
    "(a) <b>Fractional Knapsack</b> problem is defined as follows. <br>\n",
    "\n",
    "Given a set of $n$ items numbered $1$ from to $n$, each with weight $w_i\\in \\mathbb{N}$ and value $v_i\\in \\mathbb{N}$, along with maximum weight capacity, $W$, maximize the total value that can be taken. I.e. Maximize $\\sum_i x_i v_i$, subject to $\\sum_i x_i w_i \\leq W$ and $x_i \\in \\left[0, 1\\right]$. <br><br>\n",
    "\n",
    "Write the function, **fractional_knapsack**($L$), which given the input list $L$, where $L[0]=W$, $L[1]=w$, $L[2]=v$ outputs the maximum possible value to be taken given the aforementioned constraints."
   ]
  },
  {
   "cell_type": "markdown",
   "metadata": {},
   "source": [
    "### Examples:"
   ]
  },
  {
   "cell_type": "markdown",
   "metadata": {},
   "source": [
    "**Input:** `[10,[10,3,2,8,1],[22,6,8,6,6]]` <br>\n",
    "**Output:** `29.4` <br>\n",
    "**Explanation:** One should take items $1,3,5$ with corresponding proportions $0.7,1.0,1.0$ and total weight of $10$ units, value of $29.4$."
   ]
  },
  {
   "cell_type": "markdown",
   "metadata": {},
   "source": [
    "**Input:**  `[1,[10,20,40],[1,2,5]]` <br>\n",
    "**Output:**  `0.125`"
   ]
  },
  {
   "cell_type": "markdown",
   "metadata": {},
   "source": [
    "### Constraints:\n",
    "\n",
    "- $1 \\leq n \\leq 1000$."
   ]
  },
  {
   "cell_type": "markdown",
   "metadata": {},
   "source": [
    "### Code:"
   ]
  },
  {
   "cell_type": "code",
   "execution_count": 11,
   "metadata": {},
   "outputs": [],
   "source": [
    "#This problem is solved using greedy strategy on presorted array of value to weight fractions v[i]/w[i].\n",
    "#Ie. O(n log n) runtime if mergesort is used. \n",
    "\n",
    "def merge(arr, l, r, pivot, attribute): \n",
    "    \n",
    "    temp = [arr[i] for i in range(l,r+1)]\n",
    "    \n",
    "    c, i, j = 0, l, pivot+1\n",
    "\n",
    "    while c <= r - l:\n",
    "        if j<= r and (i>pivot or arr[i][attribute]<arr[j][attribute]):\n",
    "            temp[c]=arr[j]\n",
    "            j += 1\n",
    "            c += 1\n",
    "        else:\n",
    "            temp[c]=arr[i]\n",
    "            i += 1\n",
    "            c += 1\n",
    "            \n",
    "    for i in range(len(temp)):\n",
    "        arr[l+i]=temp[i]\n",
    "            \n",
    "\n",
    "def merge_sort(arr, l, r, attribute):\n",
    "\n",
    "    if l>=r:\n",
    "        return\n",
    "    pivot = (l+r)//2\n",
    "    merge_sort(arr, l, pivot, attribute)\n",
    "    merge_sort(arr, pivot+1, r, attribute)\n",
    "    merge(arr, l, r, pivot, attribute)    \n",
    "\n",
    "\n",
    "def fractional_knapsack(L):\n",
    "    \n",
    "    W, w, v = L[0], L[1], L[2]\n",
    "    \n",
    "    info = []\n",
    "    \n",
    "    for i in range(len(v)):\n",
    "        info.append({'w':w[i],'v':v[i],'f':v[i]/(1.0*w[i])}) \n",
    "    \n",
    "    merge_sort(info,0, len(info) - 1,'f') #Sorting the items by fraction v[i]/w[i] (ie. value per weight unit)\n",
    "    \n",
    "    W_taken, V_taken = 0, 0\n",
    "\n",
    "    for i in range(len(info)): #Taking items starting with the one with largest v[i]/w[i] ratio until weight constraint is reached.\n",
    "        if W_taken + info[i]['w']>=W:\n",
    "            return V_taken+info[i]['v']*(W-W_taken)/(1.0*info[i]['w'])\n",
    "        else:\n",
    "            V_taken += info[i]['v']\n",
    "            W_taken += info[i]['w']\n",
    "    \n",
    "    return V_taken"
   ]
  },
  {
   "cell_type": "markdown",
   "metadata": {},
   "source": [
    "### Tests:"
   ]
  },
  {
   "cell_type": "markdown",
   "metadata": {},
   "source": [
    "##### Run example test case 1:"
   ]
  },
  {
   "cell_type": "code",
   "execution_count": 12,
   "metadata": {},
   "outputs": [
    {
     "name": "stdout",
     "output_type": "stream",
     "text": [
      "29.4\n"
     ]
    }
   ],
   "source": [
    "input_value = [10,[10,3,2,8,1],[22,6,8,6,6]]\n",
    "print (fractional_knapsack(input_value))"
   ]
  },
  {
   "cell_type": "markdown",
   "metadata": {},
   "source": [
    "##### Run example test case 2:"
   ]
  },
  {
   "cell_type": "code",
   "execution_count": 13,
   "metadata": {},
   "outputs": [
    {
     "name": "stdout",
     "output_type": "stream",
     "text": [
      "0.125\n"
     ]
    }
   ],
   "source": [
    "input_value = [1,[10,20,40],[1,2,5]]\n",
    "print (fractional_knapsack(input_value))"
   ]
  },
  {
   "cell_type": "markdown",
   "metadata": {},
   "source": [
    "(b) Explain why your algorithm described in Part (a) is correct. What is its run time complexity?"
   ]
  },
  {
   "cell_type": "markdown",
   "metadata": {},
   "source": [
    "<div style=\"border-width:2px;border-style:solid;border-color:black;\">\n",
    "Let $m$ the the item with the largest value-to-weight ratio $\\frac{v_m}{w_m}$. Lets assume that some optimal selection of items includes a non-zero fraction of some other item $k$ with ratio  $\\frac{v_k}{w_k}$ which is lower than the one for item $m$. If such selection has not taken the full weight of item, $m$, it can be improved by taking more of item, $m$, instead of item, $k$. This would lead to a contradiction, hence the optimal selection contains as much of the item with the highest value-to-weight ratio as possible. This dictates the gready strategy as, once the item with the highest ratio is chosen the problem can be transformed to another fractional knapsack problem which does not allow for taking item, $m$, and the weight constrained is reduced by the weight of item, $m$. <br><br>\n",
    "    \n",
    "The runtime of MergeSort is $\\Theta(n\\log n)$. Since the selection of the knapsack from the sorted items is $O(n)$, then the total run time is $\\Theta(n\\log n)$.\n",
    "</div>"
   ]
  },
  {
   "cell_type": "markdown",
   "metadata": {},
   "source": [
    "---\n",
    "<br>\n",
    "<br>"
   ]
  },
  {
   "cell_type": "markdown",
   "metadata": {},
   "source": [
    "<h1>6.</h1>"
   ]
  },
  {
   "cell_type": "markdown",
   "metadata": {
    "cell_style": "center",
    "hideOutput": true
   },
   "source": [
    "Consider a variant of the **activity selection problem** described in lecture notes. <br><br>\n",
    "\n",
    "Let $S=\\{a_1,a_2,\\cdots,a_n\\}$ be a set of $n$ proposed activities that we wish to use a resource (e.g. a lecture hall), which can serve only one activity at a time.<br><br>\n",
    "\n",
    "- Each activity has a start time, $s_i$, and a finish time, $f_i$, as well as value, $v_i\\in \\mathbb{N}$, where $0\\leq s_i <f_i<\\infty$. \n",
    "- If selected, activity, $a_i$, takes place during the half-open time interval $[s_i,f_i)$. \n",
    "- Activities, $a_i$ and $a_j$, are compatible if the intervals, $[s_i,f_i)$ and $[s_i,f_i)$, do not overlap. \n",
    "\n",
    "In this refined activity selection problem, we wish to select a maximum-value subset of mutually compatible activities. Write a polynomial-time algorithm to this problem. The function, **activity_selection**($A$), takes in a list of list, $A$, such that $A[i][0]=s_i$, $A[i][1]=f_i$, $A[i][2]=v_i$."
   ]
  },
  {
   "cell_type": "markdown",
   "metadata": {},
   "source": [
    "### Examples:"
   ]
  },
  {
   "cell_type": "markdown",
   "metadata": {},
   "source": [
    "**Input:** `[[1,3,1],[1,8,4],[2,6,2],[7,10,10]]` <br>\n",
    "**Output:** `12` "
   ]
  },
  {
   "cell_type": "markdown",
   "metadata": {},
   "source": [
    "**Input:** `[[0,11,1],[2,6,1],[4,7,1],[5,10,1],[7,11,1],[10,13,1],[12,14,1]]` <br>\n",
    "**Output:** `3` "
   ]
  },
  {
   "cell_type": "markdown",
   "metadata": {},
   "source": [
    "### Constraints:\n",
    "\n",
    "- $1 \\leq n \\leq 1000$."
   ]
  },
  {
   "cell_type": "markdown",
   "metadata": {},
   "source": [
    "### Code:"
   ]
  },
  {
   "cell_type": "code",
   "execution_count": 14,
   "metadata": {},
   "outputs": [],
   "source": [
    "#As in the original problem in lecture slides we sort the activities in increasing finish times, \n",
    "#reusing the MergeSort implementation from the previous problem. We then consider activities\n",
    "#in this order and record the maximum value posible to be obtained, S[i], for activity, i,\n",
    "#We do this by considering the previous most recent activity selected to be k for all k<i \n",
    "#for which activites k and i are compatible, and choosing S[i] = max_k S[k]+v[i].\n",
    "\n",
    "def merge(arr, l, r, pivot, attribute): \n",
    "    \n",
    "    temp = [arr[i] for i in range(l,r+1)]\n",
    "    \n",
    "    c, i, j = 0, l, pivot+1\n",
    "\n",
    "    while c <= r - l:\n",
    "        if j<= r and (i>pivot or arr[i][attribute]>arr[j][attribute]):\n",
    "            temp[c]=arr[j]\n",
    "            j += 1\n",
    "            c += 1\n",
    "        else:\n",
    "            temp[c]=arr[i]\n",
    "            i += 1\n",
    "            c += 1\n",
    "            \n",
    "    for i in range(len(temp)):\n",
    "        arr[l+i]=temp[i]\n",
    "            \n",
    "\n",
    "def merge_sort(arr, l, r, attribute):\n",
    "\n",
    "    if l>=r:\n",
    "        return\n",
    "    pivot = (l+r)//2\n",
    "    merge_sort(arr, l, pivot, attribute)\n",
    "    merge_sort(arr, pivot+1, r, attribute)\n",
    "    merge(arr, l, r, pivot, attribute)    \n",
    "    \n",
    "def compatible(int1, int2): #Checking if two intervals are compatible\n",
    "    if int1[0]>int2[1] or int1[1]<int2[0]:\n",
    "        return True\n",
    "    return False\n",
    "\n",
    "def activity_value(A):\n",
    "    \n",
    "    #Write your code here\n",
    "    \n",
    "    MAX_VAL = 1000000\n",
    "    A.append([MAX_VAL,MAX_VAL,0]) #Dummy activity with the largest finish time is added to \n",
    "                                  #avoid the need finding the max value of S[i] at the end.\n",
    "\n",
    "    merge_sort(A, 0, len(A) - 1, 1) #Sorting the array of list in increasing finish time order.\n",
    "\n",
    "    S =[0 for i in range(len(A) + 1)] #Initialising the orginal value array S.\n",
    "   \n",
    "    for i in range(1, len(A) + 1):\n",
    "        for k in range(0, i):            \n",
    "            if k == 0 or compatible(A[k - 1], A[i - 1]): #If activties are compatible or k==0 (ie. only activity i is considered)\n",
    "                S[i] = max(S[i], S[k] + A[i - 1][2]) #update the value array with a cost of taking activity k and i.\n",
    "\n",
    "    return S[len(A)]"
   ]
  },
  {
   "cell_type": "markdown",
   "metadata": {},
   "source": [
    "### Tests:"
   ]
  },
  {
   "cell_type": "markdown",
   "metadata": {},
   "source": [
    "##### Run example test case 1:"
   ]
  },
  {
   "cell_type": "code",
   "execution_count": 15,
   "metadata": {},
   "outputs": [
    {
     "name": "stdout",
     "output_type": "stream",
     "text": [
      "12\n"
     ]
    }
   ],
   "source": [
    "input_value = [[1,3,1],[1,8,4],[2,6,2],[7,10,10]]\n",
    "print (activity_value(input_value))"
   ]
  },
  {
   "cell_type": "markdown",
   "metadata": {},
   "source": [
    "##### Run example test case 2:"
   ]
  },
  {
   "cell_type": "code",
   "execution_count": 16,
   "metadata": {},
   "outputs": [
    {
     "name": "stdout",
     "output_type": "stream",
     "text": [
      "3\n"
     ]
    }
   ],
   "source": [
    "input_value = [[0,11,1],[2,6,1],[4,7,1],[5,10,1],[7,11,1],[10,13,1],[12,14,1]]\n",
    "print (activity_value(input_value))"
   ]
  },
  {
   "cell_type": "markdown",
   "metadata": {},
   "source": [
    "---\n",
    "<br>\n",
    "<br>"
   ]
  },
  {
   "cell_type": "markdown",
   "metadata": {},
   "source": [
    "<h1>7.</h1>"
   ]
  },
  {
   "cell_type": "markdown",
   "metadata": {
    "cell_style": "center",
    "hideOutput": true
   },
   "source": [
    "The **convex hull** of a set $Q$ of points, is the smallest convex polygon $P$ for which each point in $Q$ is either on the boundary of $P$ or in its interior. Write the function **convex_hull**($L$) which takes a list, $L$, of pairs of 2D points and outputs the total number of points in the convex hull of these points. Your solution should have its run time complexity strictly smaller than $O(n^2)$."
   ]
  },
  {
   "cell_type": "markdown",
   "metadata": {},
   "source": [
    "### Examples:"
   ]
  },
  {
   "cell_type": "markdown",
   "metadata": {},
   "source": [
    "**Input:** `[[-1,-1],[-1,1],[1,-1],[1,1],[0,0]]` <br>\n",
    "**Output:** `4`"
   ]
  },
  {
   "cell_type": "markdown",
   "metadata": {},
   "source": [
    "**Input:**  `[[-1,-1],[-1,1],[1,-1],[1,1],[0,0],[-100,100],[100,100],[0,-100]]` <br>\n",
    "**Output:**  `3`"
   ]
  },
  {
   "cell_type": "markdown",
   "metadata": {},
   "source": [
    "### Constraints:\n",
    "\n",
    "- $1 \\leq \\text{len}(A) \\leq 1000$.\n",
    "- $1 \\leq |A[i]| \\leq 100000$."
   ]
  },
  {
   "cell_type": "markdown",
   "metadata": {},
   "source": [
    "### Code:"
   ]
  },
  {
   "cell_type": "code",
   "execution_count": 17,
   "metadata": {},
   "outputs": [],
   "source": [
    "#Note, this is a very tedious question to implement, hence it would not be used during the exam. Yet, it nicely\n",
    "#demonstrates the use of divide and conquer approach to building a convex hull in 2D. It works by recursively finding \n",
    "#the convex hull on the points on the left and the right sides of a chosen vertical line. The two convex hulls\n",
    "#are then merged into a single one by O(n) traversal of the points. See [1] for an intuitive explanation.\n",
    "\n",
    "#[1] - https://iq.opengenus.org/divide-and-conquer-convex-hull/#:~:text=The%20key%20idea%20is%20that,results%20to%20a%20complete%20solution.\n",
    "\n",
    "#Note, some commented lines are left in the code to facilitate an easier debugging and understanding\n",
    "#of how proposed algorithm works.\n",
    "\n",
    "from matplotlib import pyplot as plt\n",
    "def dot(a,b):\n",
    "    return a[0]*b[0]+a[1]*b[1]\n",
    "\n",
    "def right_most(left):\n",
    "    max_id = 0\n",
    "    for i in range(len(left)):\n",
    "        if left[i][0]>left[max_id][0]:\n",
    "            max_id=i\n",
    "    return max_id\n",
    "def left_most(left):\n",
    "    min_id = 0\n",
    "    for i in range(len(left)):\n",
    "        if left[i][0]<left[min_id][0]:\n",
    "            min_id=i\n",
    "    return min_id\n",
    "def find_tangent(left,right,delta):\n",
    "    s_i = right_most(left)\n",
    "    s_j = left_most(right)\n",
    "    i, j = s_i, s_j\n",
    "    n, m = len(left), len(right)\n",
    "    \n",
    "    changed = True\n",
    "    \n",
    "    while changed == True:\n",
    "    \n",
    "        changed = False\n",
    "        \n",
    "        while is_left(left[i],right[j],right[(j+delta+m)% m])*delta>=0:\n",
    "            j = (j + delta + m)% m\n",
    "            changed = True\n",
    "        \n",
    "        while is_left(right[j],left[i],left[(i-delta+n)% n])*delta<=0:\n",
    "            i = (i - delta + n)% n\n",
    "            changed = True\n",
    "            \n",
    "    return [i,j]\n",
    "def merge_convex_hulls(left,right):\n",
    "    \n",
    "    upper_tangent = find_tangent(left,right,1)\n",
    "    \n",
    "    lower_tangent = find_tangent(left,right,-1)\n",
    "    \n",
    "    #print('upper tangent',upper_tangent,'lower tangent' ,lower_tangent)\n",
    "    \n",
    "    result=[]\n",
    "    j = upper_tangent[1]\n",
    "    \n",
    "    while j != lower_tangent[1]:\n",
    "        result.append(right[j])\n",
    "        j = (j +1 )% len(right)\n",
    "        \n",
    "    result.append(right[lower_tangent[1]])    \n",
    "    \n",
    "    j = lower_tangent[0]\n",
    "    \n",
    "    while j != upper_tangent[0]:\n",
    "        result.append(left[j])\n",
    "        j = (j + 1) % len(left)\n",
    "\n",
    "    result.append(left[upper_tangent[0]]) \n",
    "    \n",
    "    #plt.plot([h[0] for h in left+[left[0]]],[h[1] for h in left+[left[0]]],color='y',linewidth=3)\n",
    "    #plt.plot([h[0] for h in right+[right[0]]],[h[1] for h in right+[right[0]]],color='m',linewidth=3)\n",
    "    \n",
    "    #plt.plot([h[0] for h in result+[result[0]]],[h[1] for h in result+[result[0]]],color='r',linewidth=5)\n",
    "\n",
    "    #plt.plot([left[upper_tangent[0]][0],right[upper_tangent[1]][0]], [left[upper_tangent[0]][1],right[upper_tangent[1]][1]],color='g'  )\n",
    "    #plt.plot([left[lower_tangent[0]][0],right[lower_tangent[1]][0]], [left[lower_tangent[0]][1],right[lower_tangent[1]][1]],color='b'  )\n",
    "\n",
    "    #plt.scatter([h[0] for h in left+[left[0]]],[h[1] for h in left+[left[0]]],color='b',linewidth=3)\n",
    "\n",
    "    #plt.scatter([h[0] for h in right+[right[0]]],[h[1] for h in right+[right[0]]],color='b',linewidth=3)\n",
    "   \n",
    "    #plt.show()\n",
    "    \n",
    "    test_hull(result)   \n",
    "    \n",
    "       \n",
    "    return result\n",
    "\n",
    "def is_left(p1,p2,p3):\n",
    "    return (p2[0]-p1[0])*(p3[1]-p1[1])-(p2[1]-p1[1])*(p3[0]-p1[0])\n",
    "def base_hull(A):\n",
    "    assert len(A) >= 3\n",
    "    \n",
    "    side_edges=[-1 for i in range(len(A))]\n",
    "\n",
    "    for i in range(len(A)-1):\n",
    "        for j in range(i+1,len(A)):\n",
    "            found_pos = False\n",
    "            found_neg = False\n",
    "            for k in range(len(A)):\n",
    "                if k == i or k == j:\n",
    "                    continue\n",
    "                if is_left(A[i],A[j],A[k])>0:\n",
    "                    found_pos = True\n",
    "                if is_left(A[i],A[j],A[k])<0:\n",
    "                    found_neg = True\n",
    "            \n",
    "            assert found_pos or found_neg\n",
    "            \n",
    "            #print('i, j ', i , j, found_pos,found_neg)\n",
    "            if found_neg and found_pos:\n",
    "                continue\n",
    "            if found_neg:\n",
    "                side_edges[i] = j\n",
    "            else:\n",
    "                side_edges[j] = i\n",
    "    #print('side edges',side_edges)\n",
    "   \n",
    "    #assert side_edges[0]>=0\n",
    "    \n",
    "    j =0 \n",
    "    while side_edges[j]<0:\n",
    "        j=j+1\n",
    "    \n",
    "    j_start=0\n",
    "    result =[A[j]]\n",
    "    \n",
    "    while side_edges[j]!= j_start:\n",
    "        #print(j)\n",
    "        j = side_edges[j]\n",
    "        result.append(A[j])\n",
    "           \n",
    "    #print('result',result)\n",
    "    assert len(result) >= 3\n",
    "    \n",
    "    test_hull(result)\n",
    "    return result\n",
    "\n",
    "def test_hull(A):\n",
    "\n",
    "    for i in range(len(A)):\n",
    "        assert is_left(A[i],A[(i+1) % len(A)],A[(i+2)% len(A)])<=0\n",
    "def convex_hull_divconq(A):\n",
    "\n",
    "    #If the number of points is less than 6 then the\n",
    "    #function uses the brute algorithm to find the\n",
    "    #convex hull\n",
    "    \n",
    "    if (len(A) <= 5):\n",
    "        \n",
    "        result = base_hull(A)\n",
    "        #print('hull',result)\n",
    "        #plt.plot([h[0] for h in result+[result[0]]],[h[1] for h in result+[result[0]]],color='k',linewidth=5)\n",
    "        #plt.show()\n",
    "        test_hull(result)\n",
    "        return result\n",
    "    \n",
    "    pivot = len(A)//2\n",
    "    left = A[:pivot]\n",
    "    right = A[pivot:]\n",
    "    \n",
    "    #print(left, right)\n",
    "    left_hull = convex_hull_divconq(left)\n",
    "    right_hull = convex_hull_divconq(right)\n",
    "    #print(len(left_hull),len(right_hull))\n",
    "    return merge_convex_hulls(left_hull, right_hull)\n",
    "\n",
    "def convex_hull(A):\n",
    "    merge_sort(A,0,len(A)-1,0)\n",
    "    #print(A)\n",
    "    plt.scatter([a[0] for a in A],[a[1] for a in A])\n",
    "    hull = convex_hull_divconq(A)\n",
    "    #print(hull)\n",
    "    plt.plot([h[0] for h in hull+[hull[0]]],[h[1] for h in hull+[hull[0]]])\n",
    "    plt.show()\n",
    "    test_hull(hull)\n",
    "    return len(hull)"
   ]
  },
  {
   "cell_type": "markdown",
   "metadata": {},
   "source": [
    "### Tests:"
   ]
  },
  {
   "cell_type": "markdown",
   "metadata": {},
   "source": [
    "##### Run example test case 1:"
   ]
  },
  {
   "cell_type": "code",
   "execution_count": 18,
   "metadata": {},
   "outputs": [
    {
     "data": {
      "image/png": "[encoded data removed]",
      "text/plain": [
       "<Figure size 432x288 with 1 Axes>"
      ]
     },
     "metadata": {
      "needs_background": "light"
     },
     "output_type": "display_data"
    },
    {
     "name": "stdout",
     "output_type": "stream",
     "text": [
      "4\n"
     ]
    }
   ],
   "source": [
    "input_value = [[-1,-1],[-1,1],[1,-1],[1,1],[0,0]]\n",
    "print (convex_hull(input_value))"
   ]
  },
  {
   "cell_type": "markdown",
   "metadata": {},
   "source": [
    "##### Run example test case 2:"
   ]
  },
  {
   "cell_type": "code",
   "execution_count": 19,
   "metadata": {},
   "outputs": [
    {
     "data": {
      "image/png": "[encoded data removed]",
      "text/plain": [
       "<Figure size 432x288 with 1 Axes>"
      ]
     },
     "metadata": {
      "needs_background": "light"
     },
     "output_type": "display_data"
    },
    {
     "name": "stdout",
     "output_type": "stream",
     "text": [
      "3\n"
     ]
    }
   ],
   "source": [
    "input_value = [[-1,-1],[-1,1],[1,-1],[1,1],[0,0],[-100,100],[100,100],[0,-100]]\n",
    "print (convex_hull(input_value))"
   ]
  },
  {
   "cell_type": "markdown",
   "metadata": {},
   "source": [
    "##### Run example test case 3:"
   ]
  },
  {
   "cell_type": "code",
   "execution_count": 20,
   "metadata": {},
   "outputs": [
    {
     "data": {
      "image/png": "[encoded data removed]",
      "text/plain": [
       "<Figure size 432x288 with 1 Axes>"
      ]
     },
     "metadata": {
      "needs_background": "light"
     },
     "output_type": "display_data"
    },
    {
     "name": "stdout",
     "output_type": "stream",
     "text": [
      "7\n"
     ]
    },
    {
     "data": {
      "image/png": "[encoded data removed]",
      "text/plain": [
       "<Figure size 432x288 with 1 Axes>"
      ]
     },
     "metadata": {
      "needs_background": "light"
     },
     "output_type": "display_data"
    },
    {
     "name": "stdout",
     "output_type": "stream",
     "text": [
      "7\n"
     ]
    },
    {
     "data": {
      "image/png": "[encoded data removed]",
      "text/plain": [
       "<Figure size 432x288 with 1 Axes>"
      ]
     },
     "metadata": {
      "needs_background": "light"
     },
     "output_type": "display_data"
    },
    {
     "name": "stdout",
     "output_type": "stream",
     "text": [
      "8\n"
     ]
    },
    {
     "data": {
      "image/png": "[encoded data removed]",
      "text/plain": [
       "<Figure size 432x288 with 1 Axes>"
      ]
     },
     "metadata": {
      "needs_background": "light"
     },
     "output_type": "display_data"
    },
    {
     "name": "stdout",
     "output_type": "stream",
     "text": [
      "11\n"
     ]
    },
    {
     "data": {
      "image/png": "[encoded data removed]",
      "text/plain": [
       "<Figure size 432x288 with 1 Axes>"
      ]
     },
     "metadata": {
      "needs_background": "light"
     },
     "output_type": "display_data"
    },
    {
     "name": "stdout",
     "output_type": "stream",
     "text": [
      "9\n"
     ]
    }
   ],
   "source": [
    "import numpy as np\n",
    "for i in range(5):\n",
    "    input_value = [list(np.random.rand(2)) for i in range(30)]\n",
    "    print (convex_hull(input_value))"
   ]
  },
  {
   "cell_type": "markdown",
   "metadata": {},
   "source": [
    "---\n",
    "<br>\n",
    "<br>\n",
    "<br>\n",
    "<br>\n",
    "<br>\n",
    "<br>\n",
    "<br>\n",
    "<center><b>END OF EXAMPLES PAPER</b></center>"
   ]
  }
 ],
 "metadata": {
  "kernelspec": {
   "display_name": "Python 3 (ipykernel)",
   "language": "python",
   "name": "python3"
  },
  "language_info": {
   "codemirror_mode": {
    "name": "ipython",
    "version": 3
   },
   "file_extension": ".py",
   "mimetype": "text/x-python",
   "name": "python",
   "nbconvert_exporter": "python",
   "pygments_lexer": "ipython3",
   "version": "3.10.9"
  }
 },
 "nbformat": 4,
 "nbformat_minor": 4
}
