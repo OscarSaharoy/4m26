{
 "cells": [
  {
   "cell_type": "markdown",
   "id": "95e9e4a5",
   "metadata": {},
   "source": [
    "# 4m26 lecture 4"
   ]
  },
  {
   "cell_type": "markdown",
   "id": "077f6ee2",
   "metadata": {},
   "source": [
    "## Binary Search Trees (BSTs)\n",
    "\n",
    "- Fast search, insertion, deletion\n",
    "- max, min, successor, predeccessor ops\n",
    "- Dumey, 1952 NSA first published\n",
    "- Wheeler 1957\n",
    "\n",
    "avg search, insert, delete: O(log n)\n",
    "\n",
    "Worst case search, insert, delete: $\\Theta(n)$\n",
    "\n"
   ]
  }
 ],
 "metadata": {
  "kernelspec": {
   "display_name": "Python 3 (ipykernel)",
   "language": "python",
   "name": "python3"
  },
  "language_info": {
   "codemirror_mode": {
    "name": "ipython",
    "version": 3
   },
   "file_extension": ".py",
   "mimetype": "text/x-python",
   "name": "python",
   "nbconvert_exporter": "python",
   "pygments_lexer": "ipython3",
   "version": "3.10.9"
  }
 },
 "nbformat": 4,
 "nbformat_minor": 5
}
