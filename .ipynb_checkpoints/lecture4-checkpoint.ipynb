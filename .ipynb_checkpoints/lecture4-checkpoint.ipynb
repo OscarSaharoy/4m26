{
 "cells": [
  {
   "cell_type": "markdown",
   "id": "95e9e4a5",
   "metadata": {},
   "source": [
    "# 4m26 lecture 4"
   ]
  },
  {
   "cell_type": "markdown",
   "id": "077f6ee2",
   "metadata": {},
   "source": [
    "## Binary Search Trees (BSTs)\n",
    "\n",
    "- Fast search, insertion, deletion\n",
    "- max, min, successor, predeccessor ops\n",
    "- Dumey, 1952 NSA first published\n",
    "- Wheeler 1957\n",
    "\n",
    "avg search, insert, delete: O(log n)\n",
    "\n",
    "Worst case search, insert, delete: $\\Theta(n)$\n",
    "\n"
   ]
  },
  {
   "cell_type": "code",
   "execution_count": 28,
   "id": "c36bb99c",
   "metadata": {},
   "outputs": [],
   "source": [
    "class Node:\n",
    "    def __init__(self, key):\n",
    "        self.key = key\n",
    "        self.right = self.left = None\n",
    "\n",
    "class BST:\n",
    "    \n",
    "    def __init__(self, keys):\n",
    "        self.root = None\n",
    "        map( self.insert, keys )\n",
    "        \n",
    "    def __repr__(self):\n",
    "        out = \"\"\n",
    "        layer = [self.root]\n",
    "        while [x for x in layer if x]:\n",
    "            out += \"\\n\" + str([node.key if node else None for node in layer])\n",
    "            layer = self.build_layer( layer )\n",
    "        return out\n",
    "    \n",
    "    def build_layer( self, prev_layer ):\n",
    "        return [ x for node in prev_layer for x in ([node.right, node.left] if node else [None, None]) ]\n",
    "    \n",
    "    def insert(self, key):\n",
    "        \n",
    "        node = Node(key)\n",
    "        \n",
    "        if self.root is None:\n",
    "            self.root = node\n",
    "            \n",
    "        else:\n",
    "            find_insert( self, node, self.root )\n",
    "    \n",
    "    def find_insert(self, new_node, search_node):\n",
    "        \n",
    "        branch = search_node.right if new_node.key >= search_node.key else search_node.left\n",
    "        \n",
    "        if branch is None:\n",
    "            branch = new_node\n",
    "        \n",
    "        else:\n",
    "            self.find_insert( new_node, branch )"
   ]
  },
  {
   "cell_type": "code",
   "execution_count": 26,
   "id": "d3cd4541",
   "metadata": {},
   "outputs": [
    {
     "data": {
      "text/plain": []
     },
     "execution_count": 26,
     "metadata": {},
     "output_type": "execute_result"
    }
   ],
   "source": [
    "BST([1,2,3,4,7,8,5,3,3,5,8,2,3,4,5,4])"
   ]
  }
 ],
 "metadata": {
  "kernelspec": {
   "display_name": "Python 3 (ipykernel)",
   "language": "python",
   "name": "python3"
  },
  "language_info": {
   "codemirror_mode": {
    "name": "ipython",
    "version": 3
   },
   "file_extension": ".py",
   "mimetype": "text/x-python",
   "name": "python",
   "nbconvert_exporter": "python",
   "pygments_lexer": "ipython3",
   "version": "3.10.10"
  }
 },
 "nbformat": 4,
 "nbformat_minor": 5
}
