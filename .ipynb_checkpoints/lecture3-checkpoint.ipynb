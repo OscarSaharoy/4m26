{
 "cells": [
  {
   "cell_type": "markdown",
   "id": "ddc0c546",
   "metadata": {},
   "source": [
    "# 4m26 Lecture 3"
   ]
  },
  {
   "cell_type": "markdown",
   "id": "1aad1aa7",
   "metadata": {},
   "source": [
    "## How to Design an Algorithm\n",
    "\n",
    "- Divide and Conquer\n",
    "- Dynamic Programming\n",
    "- Greedy Algorithms\n",
    "\n",
    "### Divide and Conquer\n",
    "\n",
    "Split problem and combine solutions.\n",
    "\n",
    "### Dynamic Programming\n",
    "\n",
    "Solving one problem helps solving a bigger problem.\n",
    "\n",
    "### Greedy Algorithms\n",
    "\n",
    "1 step to do and you get to the correct solution - combination step can be performed in locally optimal manner."
   ]
  },
  {
   "cell_type": "code",
   "execution_count": 14,
   "id": "eee6093e",
   "metadata": {},
   "outputs": [
    {
     "data": {
      "text/plain": [
       "2"
      ]
     },
     "execution_count": 14,
     "metadata": {},
     "output_type": "execute_result"
    }
   ],
   "source": [
    "def binary_search( A, p, r, k ):\n",
    "    \n",
    "    if p >= r:\n",
    "        return -1\n",
    "    \n",
    "    m = (p + r) // 2\n",
    "    \n",
    "    if A[m] == k:\n",
    "        return m\n",
    "    \n",
    "    if A[m] > k:\n",
    "        return binary_search( A, p, m, k )\n",
    "    \n",
    "    else:\n",
    "        return binary_search( A, m, r, k )\n",
    "\n",
    "    \n",
    "A = [1,2,3,5,6,7,8]\n",
    "binary_search( A, 0, len(A), 3 )"
   ]
  },
  {
   "cell_type": "code",
   "execution_count": null,
   "id": "e7b80e88",
   "metadata": {},
   "outputs": [],
   "source": [
    "def closest_pair( A ):\n",
    "    \n",
    "    if len(A) == 2:\n",
    "        return "
   ]
  },
  {
   "cell_type": "markdown",
   "id": "6b1cbc59",
   "metadata": {},
   "source": [
    "## Closest Pair\n",
    "\n",
    "idk"
   ]
  },
  {
   "cell_type": "markdown",
   "id": "8e305772",
   "metadata": {},
   "source": [
    "## Dynamic Programming\n",
    "\n",
    "Use solutions to subproblems to solve whole problem. Memoisation can be used to reduce runtime."
   ]
  },
  {
   "cell_type": "code",
   "execution_count": 33,
   "id": "096cce8a",
   "metadata": {},
   "outputs": [
    {
     "data": {
      "text/plain": [
       "16"
      ]
     },
     "execution_count": 33,
     "metadata": {},
     "output_type": "execute_result"
    }
   ],
   "source": [
    "def knapsack( W, V, w, r, S ):\n",
    "    \n",
    "    if r < 0 or w <= 0:\n",
    "        return 0\n",
    "        \n",
    "    if S[r][w] != 0:\n",
    "        return S[r][w]\n",
    "\n",
    "    res = max(\n",
    "        knapsack( W, V, w - W[r], r-1, S ) + V[r],\n",
    "        knapsack( W, V, w, r-1, S )\n",
    "    )\n",
    "    S[r][w] = res # memoisation\n",
    "    return res\n",
    "\n",
    "S = [[0] * 11] * 5\n",
    "W = [1, 3, 4, 8, 1]\n",
    "V = [2, 4, 1, 6, 6]\n",
    "knapsack( W, V, 10, 4, S )"
   ]
  }
 ],
 "metadata": {
  "kernelspec": {
   "display_name": "Python 3 (ipykernel)",
   "language": "python",
   "name": "python3"
  },
  "language_info": {
   "codemirror_mode": {
    "name": "ipython",
    "version": 3
   },
   "file_extension": ".py",
   "mimetype": "text/x-python",
   "name": "python",
   "nbconvert_exporter": "python",
   "pygments_lexer": "ipython3",
   "version": "3.10.9"
  }
 },
 "nbformat": 4,
 "nbformat_minor": 5
}
