{
 "cells": [
  {
   "cell_type": "markdown",
   "metadata": {
    "hideCode": false
   },
   "source": [
    "# **4M26 - Examples Paper 3 - Sorting Algorithms** "
   ]
  },
  {
   "cell_type": "markdown",
   "metadata": {},
   "source": [
    "---\n",
    "<br>\n",
    "<br>"
   ]
  },
  {
   "cell_type": "markdown",
   "metadata": {},
   "source": [
    "## 1."
   ]
  },
  {
   "cell_type": "markdown",
   "metadata": {},
   "source": [
    "Briefly answer multiple questions below."
   ]
  },
  {
   "cell_type": "markdown",
   "metadata": {},
   "source": [
    "&emsp; (i)&emsp; Why is it often said that sorting $n$ values must necessarily cost $n \\log n$ steps? In which cases this assertion is false?"
   ]
  },
  {
   "cell_type": "markdown",
   "metadata": {},
   "source": [
    "<div style=\"border-width:2px;border-style:solid;border-color:black;\">\n",
    "When the statement above is made, it usually intends to convey that the comparison sort algorithms (e.g. quicksort, heapsort, insertion sort, etc) must have an average-case as well as worst-case lower bound of $\\Omega(n \\log n)$ comparison operations. <br><br>\n",
    "\n",
    "Lower bounds can be established by considering that there are $n!$ possible permutations of any set of unique numbers. Running a comparison sort algorithm on a particular input corresponds to traversing a comparison tree described in lecture notes. Since the tree has at least $n!$ leaf nodes, it's longest path has to be at least $\\Omega(n\\log n)$ since $n!= \\left( \\frac{n}{e}\\right)^n \\sqrt{2\\pi n}\\left(1+\\Theta\\left(\\frac{1}{n}\\right)\\right)\\geq \\left(\\frac{n}{e}\\right)^n$. Also, since the average height of a tree is smallest when the tree is completely balanced it is straight-forwards to show that $\\Omega(n \\log n)$ comparisons are also needed in average case.<br><br>\n",
    "    \n",
    "    \n",
    "If a non-coparison based sorting method is used (e.g. counting sort or radix sort) or if you can exploit the knowledge about which orderings are probable or if the items sorted have many repeats then analysis above does not hold.\n",
    "</div>"
   ]
  },
  {
   "cell_type": "markdown",
   "metadata": {},
   "source": [
    "&emsp; (ii)&emsp; In the context of Heapsort, explain how to take initially unordered data and rearrange it so that the heap property applies."
   ]
  },
  {
   "cell_type": "markdown",
   "metadata": {},
   "source": [
    "<div style=\"border-width:2px;border-style:solid;border-color:black;\">\n",
    "One can build a max-heap from an unsorted array in linear time. This is achieved by applying the $max\\_heapify$ procedure for the top half of the array, starting from the element with the largest index (ie. $n/2$) and finishing with the element with the smallest index (i.e. 0). <br><br>\n",
    "    \n",
    "The $max\\_heapify$ procedure starts at a particular node and checks if that node satisfies the max-heap property (ie. checks if the key value of the particular node is larger than key values of both of its children). If the max-heap property is satisfied then the procedure termintates, otherwise it swaps the current node with its child with largest key value and recursively applies the max-heapify procedure on the subtree of the swapped node. <br><br>\n",
    "\n",
    "The procedure for building a min-heap is similar with the only difference being that the min-heap property would need to be satisfied and the child with smallest key value would be swapped.\n",
    "</div>"
   ]
  },
  {
   "cell_type": "code",
   "execution_count": 1,
   "metadata": {},
   "outputs": [],
   "source": [
    "def max_heapify(A, heap_size, i):\n",
    "    left = left_child(i)\n",
    "    right = right_child(i)\n",
    "    max_i = i\n",
    "    if left < heap_size and A[left] > A[max_i]:\n",
    "        max_i = left\n",
    "    if right < heap_size and A[right] > A[max_i]:\n",
    "        max_i = right\n",
    "    if max_i != i:\n",
    "        A[i], A[max_i] = A[max_i], A[i]\n",
    "        max_heapify(A, heap_size, max_i)\n",
    "\n",
    "def build_max_heap(A):\n",
    "    heap_size = len(A)\n",
    "    for i in range(heap_size // 2 - 1, -1, -1):\n",
    "        max_heapify(A, heap_size, i)"
   ]
  },
  {
   "cell_type": "markdown",
   "metadata": {},
   "source": [
    "&emsp; (iii)&emsp; Explain how to reinstate the heap property if one of the values in the heap is changed. What is the cost of such operation? Does it matter whether the value is increased or decreased?"
   ]
  },
  {
   "cell_type": "markdown",
   "metadata": {},
   "source": [
    "<div style=\"border-width:2px;border-style:solid;border-color:black;\">\n",
    "Lets assume that we are dealing with a max-heap. Similar steps (with cases reversed) can be applied for the min-heap.<br><br>\n",
    "    \n",
    "1. If the key value of a particular node has been decreased we know that the max-heap property has not been violated from the perspective of the parent of the node of interest. Hence, we simply need to run a max-heapify procedure described in Part (ii) which has run time cost of $O(\\log n)$ for a max-heap which stores $n$ values.  <br><br>\n",
    "    \n",
    "2. If the key value has increased then we simply need to swap it with its parent value (if the new value is larger than the parent node value) and repeat this procedure for the updated parent node recursively. This procedure also has a runtime cost of $O(\\log n)$ as the maximum depth of the heap is $\\log n$.\n",
    "</div>"
   ]
  },
  {
   "cell_type": "markdown",
   "metadata": {},
   "source": [
    "&emsp; (iv)&emsp;  In bad cases Quicksort can be much more costly than Heapsort. Why, then, is it still very often used?  "
   ]
  },
  {
   "cell_type": "markdown",
   "metadata": {},
   "source": [
    "<div style=\"border-width:2px;border-style:solid;border-color:black;\">\n",
    "The bad cases for quicksort are fairly rare, and with input array randomisation especially common cases of data that is almost sorted already would not cause trouble. In average case Quicksort has a smaller constant factor despite having the same assymptotic runtime cost of $O(n \\log n)$ as Heapsort. Accross a series of uses it is liable to win even if bad case happens occasionally. Quicksort is also easier to implement and is an in-place sorting algorithm which reduces the requirements for memory.\n",
    "</div>"
   ]
  },
  {
   "cell_type": "markdown",
   "metadata": {},
   "source": [
    "&emsp; (v)&emsp; In the context of Quicksort, you are given an array of lenght, $n$, containing arbitrary data in an arbitrary order and a selected value, $p$, taken from that data (*the pivot*). Explain two strategies of how to rearrange the data so that all values less than the pivot end up to its left, and all values greater than it, to its right."
   ]
  },
  {
   "cell_type": "code",
   "execution_count": 158,
   "metadata": {},
   "outputs": [
    {
     "data": {
      "text/plain": [
       "[0, 1, 1, 2, 3, 4, 5, 6, 7, 8]"
      ]
     },
     "execution_count": 158,
     "metadata": {},
     "output_type": "execute_result"
    }
   ],
   "source": [
    "def lomuto( A, low, high ):\n",
    "    \n",
    "    p = high - 1\n",
    "    pv = A[p]\n",
    "    \n",
    "    i = low\n",
    "    for j in range(low, p):\n",
    "        if A[j] <= pv:\n",
    "            A[j], A[i] = A[i], A[j]\n",
    "            i += 1\n",
    "    A[i], A[p] = A[p], A[i]\n",
    "    \n",
    "    return i\n",
    "\n",
    "\n",
    "def hoare(nums, low, high):\n",
    "    \n",
    "    pivot = nums[(high + low) // 2]\n",
    "    i = low - 1\n",
    "    j = high + 1\n",
    "\n",
    "    while True:\n",
    "        i += 1\n",
    "        j -= 1\n",
    "\n",
    "        while nums[i] < pivot:\n",
    "            i += 1\n",
    "        while nums[j] > pivot:\n",
    "            j -= 1\n",
    "\n",
    "        if i >= j:\n",
    "            return j#, nums\n",
    "\n",
    "        nums[i], nums[j] = nums[j], nums[i]    \n",
    "        \n",
    "\n",
    "def quicksort( A, low, high ):\n",
    "\n",
    "    if high - low < 1:\n",
    "        return A\n",
    "    \n",
    "    pivot = hoare( A, low, high )\n",
    "    quicksort( A, low, pivot )\n",
    "    quicksort( A, pivot+1, high )\n",
    "    \n",
    "    return A\n",
    "    \n",
    "    \n",
    "quicksort([0, 1, 6, 4, 2, 7, 8, 3, 1, 5], 0, 9 )"
   ]
  },
  {
   "cell_type": "markdown",
   "metadata": {},
   "source": [
    "<div style=\"border-width:2px;border-style:solid;border-color:black;\">\n",
    "Lomuto's or Hoare's partition can be used. Assume that the sub-array $A[low:high+1]$ of array $A$ has to be partitioned.<br><br>\n",
    "\n",
    "In Lomuto partition scheme, element with the largest index (ie. $p =A[high]$) is selected as pivot and the array is then is split into four regions ordered from the start of the subarray to the end: (1) array of elements $\\leq p$, (2) array of elements $>p$, (3) undecided elements and (4) final element $A[high]$ which is swaped with the first element of the second type of array after the partitioning loop is completed. Regions (1) and (2) are empty at the start and are grown by scanning the array from the $low$ index to $high$ index. See python code below. <br><br><br>\n",
    "    \n",
    "In Hoare partition scheme, the element with the smallest index (ie. $p=A[low]$) is selected as a pivot and array is split into 3 regions ordered from the start of the subarray to the end: (1) array of elements $<p$, (2) undecided region, (3) array of elements $>p$. Regions (1) and (2) are grown repeateadly from the ends of the array inwards with swaps being performed when elements which should not belong to these regions are encountered (see code below).<br><br>\n",
    "    \n",
    "Note, it is possible to show Hoare’s scheme is more efficient than Lomuto’s partition scheme on average. Also note, in Hoare's partitioning scheme, the final location of the pivot is not necessarily at the index that is returned.\n",
    "\n",
    "</div>"
   ]
  },
  {
   "cell_type": "code",
   "execution_count": 2,
   "metadata": {},
   "outputs": [
    {
     "name": "stdout",
     "output_type": "stream",
     "text": [
      "[5, 4, 2, 6, 12, 8, 7, 19, 11, 9, 21, 13] \n",
      " 3 6\n"
     ]
    }
   ],
   "source": [
    "def lomuto_partition(A, low, high): \n",
    "    pivot = high\n",
    "    pivot_val = A[pivot]\n",
    "    i = low\n",
    "    for j in range(low,high):\n",
    "        if A[j] <= pivot_val:\n",
    "            A [i], A[j] = A[j], A[i]\n",
    "            i = i + 1\n",
    "    A[i], A[pivot] = A[pivot], A[i]\n",
    "    return i #new pivot\n",
    "A = [13,19,9,5,12,8,7,4,11,2,21,6]\n",
    "p_new = lomuto_partition(A,0,11)\n",
    "print(A, '\\n', p_new, A[p_new])"
   ]
  },
  {
   "cell_type": "code",
   "execution_count": 53,
   "metadata": {},
   "outputs": [
    {
     "name": "stdout",
     "output_type": "stream",
     "text": [
      "[6, 2, 9, 5, 12, 8, 7, 4, 11, 19, 21, 13] \n",
      " 8 11\n"
     ]
    }
   ],
   "source": [
    "def hoare_partition(A, low, high):\n",
    "    x = A[low]\n",
    "    i = low - 1\n",
    "    j = high + 1\n",
    "    while True:\n",
    "        j = j - 1\n",
    "        \n",
    "        while  A[j]> x:\n",
    "            j = j - 1\n",
    "        \n",
    "        i = i + 1\n",
    "        while  A[i]<x:\n",
    "            i = i + 1\n",
    "        \n",
    "        if i < j:\n",
    "            A[i], A[j] = A[j], A[i]\n",
    "        else:\n",
    "            return j #new pivot\n",
    "A = [13,19,9,5,12,8,7,4,11,2,21,6]\n",
    "p_new = hoare_partition(A,0,11)\n",
    "print(A,'\\n',p_new,A[p_new])"
   ]
  },
  {
   "cell_type": "markdown",
   "metadata": {},
   "source": [
    "&emsp; (vi)&emsp; List a set of operations that you would expect to form an implementation of a priority queue. Name a data structure suitable for implementing a priority queue, and explain how much time it should take to perform the aforementioned operations. Why this data structure would be prefered over Red-Black trees?"
   ]
  },
  {
   "cell_type": "markdown",
   "metadata": {},
   "source": [
    "<div style=\"border-width:2px;border-style:solid;border-color:black;\">\n",
    "Operations for a max-priority queue: <br><br>\n",
    "\n",
    "1. <b>get_max</b>() - return value with the largest key. <br>\n",
    "2. <b>pop_max</b>() - pop and return value with largest key. <br>\n",
    "3. <b>insert</b>($value$, $key$) - insert $value$ with a key of $key$ into the priority queue. <br>\n",
    "4. <b>increase_key</b>($value$, $key$) - increase the key associated with $value$ to $key$.  <br> <br>\n",
    "\n",
    "    \n",
    "A max-heap can be used to implement a max-priority queue. Run-time complexity for a queue with $n$ items:<br><br>\n",
    "1. <b>get_max</b> - $\\Theta(1)$. Max value is always at the top of the max-heap. <br>\n",
    "2. <b>pop_max</b> - $O(\\log n)$. Moves the final element in the heap array to the first place and calls <b>max_heapify</b> for the root node. <br>\n",
    "3. <b>insert</b> - $O(\\log n)$. Appends an element to the end of the heap array and calls increase_key function for that element. <br>\n",
    "4. <b>increase_key</b> - $O(\\log n)$. Discussed in Part iii.  <br><br>\n",
    "    \n",
    "Red-Black trees would have the same cost as Heap for all operations except for <b>get_max</b> which would have $O(\\log n)$ runtime as opposed to $\\Theta(1)$. Hence one should prefer using heap data strucure for implementing a priority queue.\n",
    "</div>"
   ]
  },
  {
   "cell_type": "markdown",
   "metadata": {},
   "source": [
    "&emsp; (vii)&emsp; Both quicksort and mergesort have an average case run time performance of $O(n \\log n)$\n",
    "to sort a list containing $n$ items. However, in the worst case, Quicksort can require $O(n^2)$\n",
    "time, while Mergesort’s worst case running time is the same as its average case time: $O(n \\log n)$.  What accounts for the difference in worst case times? How is it that Quicksort can\n",
    "require $O(n^2)$ time, while Mergesort always guarantees $O(n \\log n)$ run time? Why would one prefer to\n",
    "use Quicksort over Mergesort despite a worse worst-case run time performance?  "
   ]
  },
  {
   "cell_type": "markdown",
   "metadata": {},
   "source": [
    "<div style=\"border-width:2px;border-style:solid;border-color:black;\">\n",
    "In Mergesort, the list of $n$ elements is always divided in half. Two subproblems of size $n/2$ then need to be solved for a maximum recursion depth of $\\log n$. This leads to a total running time of $O(n \\log n)$. <br><br>\n",
    "    \n",
    "Quicksort’s partition function does not always, divide the list in half, when it picks the pivot element. Particularly in the worst case if the largest or the smallest element is chosen, Quicksort performs $n$ recursive calls, with $O(m)$ cost each (here $m$ is the length of the array to be merged), giving the total running time of $O(n^2)$. <br><br>\n",
    "    \n",
    "As also mentioned in the answer to Part (iv), Quicksort can sort a list in place. In contrast, Mergesort needs additional memory to merge the sorted sublist. Also, similar arguments as in Part(iv) can be applied that the worst case behaviour in Quicksort is not very likely and it is relatively straight-forward to implement.\n",
    "</div>"
   ]
  },
  {
   "cell_type": "markdown",
   "metadata": {},
   "source": [
    "&emsp; (viii)&emsp; How would you sort data in each of the following circumstances? Justify or comment on your choices of method. <br>\n",
    "\n",
    "&emsp; 1. The data is a set of 10 entries in the high-table list for a video-game console, to be sorted by the score. <br>\n",
    "\n",
    "&emsp; 2. You have 10 million people to sort based on their age in years. If two people have the same age, it does not matter in which order they appear in the output list. <br>\n",
    "\n",
    "&emsp; 3. Your data consists of a large file of names. The first (about) 90% of it is already believed to be in sorted order from last time (but you are not 100% confident about that). The remaining 10% is new data that has been written onto the end of the original file in a chaotic, unordered state. You want a single file consisting of the old and new data all neatly sorted."
   ]
  },
  {
   "cell_type": "markdown",
   "metadata": {},
   "source": [
    "<div style=\"border-width:2px;border-style:solid;border-color:black;\">\n",
    "    \n",
    "1. For just 10 values a simple insertion sort will be good enough. Since this is only a tiny amount of data performance does not matter much but simplicity does. It could be that the order in the list changes only slowly and that too suggests a simple insertion sort. <br><br>\n",
    "\n",
    "2. The key issue here is that there are only around 100 distinct keys. One pass could be performed to compute the total number of people in each bucket. The second pass could move them in the right place. <br><br>\n",
    "    \n",
    "3. This seems best sorted by splitting the data where it stops being well sorted. Then use insertion sort on the almost sorted bit (linear cost since the array is nearly sorted already) and quicksort on the rest followed by a merge to put them together. Simple insertion sort on the whole lot does not seem sensible. \n",
    "</div>"
   ]
  },
  {
   "cell_type": "code",
   "execution_count": 4,
   "metadata": {},
   "outputs": [
    {
     "data": {
      "text/plain": [
       "246"
      ]
     },
     "execution_count": 4,
     "metadata": {},
     "output_type": "execute_result"
    }
   ],
   "source": [
    "import random\n",
    "\n",
    "nums = [ random.randint(0,99) for _ in range(1000) ]\n",
    "\n",
    "def preprocess( nums, k ):\n",
    "    preprocessed = [ 0 for _ in range(k) ]\n",
    "\n",
    "    for n in nums:\n",
    "        preprocessed[n] += 1\n",
    "        \n",
    "    for i in range(1,k):\n",
    "        preprocessed[i] += preprocessed[i-1]\n",
    "        \n",
    "    return preprocessed\n",
    "        \n",
    "    \n",
    "def cumulation( preprocessed, a, b ):\n",
    "    \n",
    "    return preprocessed[b] - (preprocessed[a-1] if a > 0 else 0)\n",
    "\n",
    "cumulation( preprocess(nums, 100), 29, 53 )\n"
   ]
  },
  {
   "cell_type": "markdown",
   "metadata": {},
   "source": [
    "&emsp; (ix)&emsp; Describe an algorithm that given $n$ integers in the range $0$ to $k$, preprocesses its input and then answers any query about how many of the $n$ integers fall into a range $[a\\cdots b]$ in $O(1)$ time. Your algorithm should use $\\Theta(n+k)$ preprocessing time."
   ]
  },
  {
   "cell_type": "markdown",
   "metadata": {},
   "source": [
    "<div style=\"border-width:2px;border-style:solid;border-color:black;\">\n",
    "The algorithm will begin by preprocessing exactly as counting sort does, so that $counts[i]$ contains the number of elements less than or equal to $i$ in the original array. The number of integers that fall into a range $[a\\cdots b]$ can be simply answered by computing $counts[b]-counts[a-1]$ in $O(1)$ time.\n",
    "</div>"
   ]
  },
  {
   "cell_type": "markdown",
   "metadata": {},
   "source": [
    "&emsp; (x)&emsp; Explain how to sort $n$ integers in the range $0$ to $n^4 -1$ in $O(n)$ time."
   ]
  },
  {
   "cell_type": "markdown",
   "metadata": {},
   "source": [
    "<div style=\"border-width:2px;border-style:solid;border-color:black;\">\n",
    "Convert each integer to base $n$ and then perform radix sort. Each number will have at most $\\log_n (n^4) = 4$ digits so there will only need to be 4 passes. Each pass we can use counting sort to sort each digit in $O(n)$ time. This gives a total $O(4n)=O(n)$ run time.\n",
    "</div>"
   ]
  },
  {
   "cell_type": "markdown",
   "metadata": {},
   "source": [
    "&emsp; (xi)&emsp; Explain why the worst-case running time for bucket sort is $\\Theta(n^2)$. What simple change to the algorithm preserves its linear average-case running time and makes its worst-case running time of $O(n \\log n)$?"
   ]
  },
  {
   "cell_type": "markdown",
   "metadata": {},
   "source": [
    "<div style=\"border-width:2px;border-style:solid;border-color:black;\">\n",
    "The worst for bucket sort is achieved when all numbers fall into the same bucket (i.e. a total of $n$ values). Since insertion sort has worst case running time $O(n^2)$, so does Bucket sort. We can reduce the worst-case runnign time by using mergesort instead. Such an algorithm would have the worst case running time of $O(n\\log n)$.\n",
    "</div>"
   ]
  },
  {
   "cell_type": "markdown",
   "metadata": {},
   "source": [
    "## 2."
   ]
  },
  {
   "cell_type": "markdown",
   "metadata": {
    "cell_style": "center"
   },
   "source": [
    "Write the function, **sort**($L$), which takes an unsorted list, $L$, of $n$ real numbers and outputs a sorted list of these numbers. Your solution should have average case runtime of $O(n \\log n)$."
   ]
  },
  {
   "cell_type": "markdown",
   "metadata": {},
   "source": [
    "### Examples:"
   ]
  },
  {
   "cell_type": "markdown",
   "metadata": {},
   "source": [
    "**Input:** `[5, 3, 2, 7, 1, 8, 9, 12]` <br>\n",
    "**Output:** `[1, 2, 3, 5, 7, 8, 9, 12]`"
   ]
  },
  {
   "cell_type": "markdown",
   "metadata": {},
   "source": [
    "**Input:**  `[2.0, 1.01, 1.2, -3]` <br>\n",
    "**Output:**  `[-3, 1.01, 1.2, 2.0]`"
   ]
  },
  {
   "cell_type": "markdown",
   "metadata": {},
   "source": [
    "### Constraints:\n",
    "\n",
    "- $1\\leq n \\leq 1000$. \n",
    "- $-10^6\\leq L[i] \\leq 10^6$. "
   ]
  },
  {
   "cell_type": "markdown",
   "metadata": {},
   "source": [
    "### Code:"
   ]
  },
  {
   "cell_type": "code",
   "execution_count": 20,
   "metadata": {
    "scrolled": true
   },
   "outputs": [
    {
     "name": "stdout",
     "output_type": "stream",
     "text": [
      "[-40, -58, 20, 13, 59, 18, -67, 66, -84, -51, -22, 98, -39, -30, -33, -13, 16, 60, -4, 7, 70, 97, 82, 93, -60, 66, 32, -25, 80, 70, 77, -46, 21, 19, -61, 35, 19, -97, -79, 79, -39, -21, -56, 19, -37, -16, -16, -90, -77, -60]\n",
      "[-60, -58, -77, -90, -56, -79, -67, -97, -84, -51, -61, -46, -60]\n",
      "[-61, -84, -77, -90, -97, -79, -67]\n",
      "[-67, -84, -77, -90, -97, -79]\n",
      "[-79, -84, -77, -90, -97]\n",
      "[-97, -84, -90]\n",
      "[-84, -90]\n",
      "[-77, -79]\n",
      "[-56, -58, -51, -60, -46, -60]\n",
      "[-60, -58, -60]\n",
      "[-58, -60]\n",
      "[-51, -46, -56]\n",
      "[-46, -51]\n",
      "[-30, -33, -13, 16, 60, -4, 7, 70, 97, 82, 93, -39, 66, 32, -25, 80, 70, 77, 98, 21, 19, -22, 35, 19, 66, 18, 79, -39, -21, 59, 19, -37, -16, -16, 13, 20, -40]\n",
      "[-40, -33, -37, -39, -39]\n",
      "[-33, -37, -39, -39]\n",
      "[-39, -37, -39]\n",
      "[-37, -39]\n",
      "[-4, 7, 70, 97, 82, 93, 60, 66, 32, -25, 80, 70, 77, 98, 21, 19, -22, 35, 19, 66, 18, 79, 16, -21, 59, 19, -13, -16, -16, 13, 20, -30]\n",
      "[-30, -16, -16, -13, -21, -22, -25]\n",
      "[-16, -16, -13, -21, -22, -25]\n",
      "[-25, -22, -21]\n",
      "[-22, -21]\n",
      "[-13, -16, -16]\n",
      "[-16, -16]\n",
      "[66, 32, 60, 80, 70, 77, 98, 21, 19, 93, 35, 19, 66, 18, 79, 16, 82, 59, 19, 97, 70, 7, 13, 20, -4]\n",
      "[-4, 32, 60, 20, 13, 7, 19, 21, 19, 59, 35, 19, 16, 18]\n",
      "[32, 60, 20, 13, 7, 19, 21, 19, 59, 35, 19, 16, 18]\n",
      "[18, 16, 20, 13, 7, 19, 21, 19, 19]\n",
      "[7, 16, 13]\n",
      "[16, 13]\n",
      "[20, 18, 19, 21, 19, 19]\n",
      "[19, 18, 19, 19]\n",
      "[19, 19, 19]\n",
      "[19, 19]\n",
      "[21, 20]\n",
      "[35, 59, 60, 32]\n",
      "[59, 60, 35]\n",
      "[60, 59]\n",
      "[79, 66, 82, 93, 98, 97, 70, 77, 70, 80, 66]\n",
      "[66, 66, 70, 77, 70]\n",
      "[66, 70, 77, 70]\n",
      "[70, 77, 70]\n",
      "[77, 70]\n",
      "[97, 98, 93, 82, 80, 79]\n",
      "[79, 80, 93, 82]\n",
      "[80, 93, 82]\n",
      "[93, 82]\n",
      "[98, 97]\n"
     ]
    },
    {
     "data": {
      "text/plain": [
       "[-97,\n",
       " -90,\n",
       " -84,\n",
       " -79,\n",
       " -77,\n",
       " -67,\n",
       " -61,\n",
       " -60,\n",
       " -60,\n",
       " -58,\n",
       " -56,\n",
       " -51,\n",
       " -46,\n",
       " -40,\n",
       " -39,\n",
       " -39,\n",
       " -37,\n",
       " -33,\n",
       " -30,\n",
       " -25,\n",
       " -22,\n",
       " -21,\n",
       " -16,\n",
       " -16,\n",
       " -13,\n",
       " -4,\n",
       " 7,\n",
       " 13,\n",
       " 16,\n",
       " 18,\n",
       " 19,\n",
       " 19,\n",
       " 19,\n",
       " 20,\n",
       " 21,\n",
       " 32,\n",
       " 35,\n",
       " 59,\n",
       " 60,\n",
       " 66,\n",
       " 66,\n",
       " 70,\n",
       " 70,\n",
       " 77,\n",
       " 79,\n",
       " 80,\n",
       " 82,\n",
       " 93,\n",
       " 97,\n",
       " 98]"
      ]
     },
     "execution_count": 20,
     "metadata": {},
     "output_type": "execute_result"
    }
   ],
   "source": [
    "import random\n",
    "\n",
    "def hoare(A, low, high):\n",
    "    \n",
    "    print(A[low:high])\n",
    "    \n",
    "    p = low\n",
    "    pv = A[low]\n",
    "    \n",
    "    i = low\n",
    "    j = high - 1\n",
    "    \n",
    "    while i < j:\n",
    "        \n",
    "        if A[i] < pv:\n",
    "            i += 1\n",
    "            \n",
    "        elif A[j] >= pv:\n",
    "            j -= 1\n",
    "            \n",
    "        else:\n",
    "            A[i], A[j] = A[j], A[i]\n",
    "            \n",
    "    if j == low:\n",
    "        return j + 1\n",
    "    \n",
    "    return j\n",
    "    \n",
    "def quicksort(A, low=None, high=None):\n",
    "    \n",
    "    low = 0 if low is None else low\n",
    "    high = len(A) if high is None else high\n",
    "    \n",
    "    if high - low <= 1:\n",
    "        return A\n",
    "    \n",
    "    pivot = hoare(A, low, high)\n",
    "    quicksort(A, low, pivot)\n",
    "    quicksort(A, pivot, high)\n",
    "    \n",
    "    return A\n",
    "\n",
    "quicksort([ random.randint(-100, 100) for _ in range(50)])"
   ]
  },
  {
   "cell_type": "code",
   "execution_count": 4,
   "metadata": {},
   "outputs": [],
   "source": [
    "#We simply implement quicksort with Lomuto partition.\n",
    "\n",
    "def lomuto_partition(A, low, high):\n",
    "\n",
    "    pivot = high\n",
    "    pivot_val = A[pivot]\n",
    "    i = low\n",
    "    for j in range(low, high):\n",
    "        if A[j] <= pivot_val:\n",
    "            A[i], A[j] = A[j], A[i]\n",
    "            i += 1\n",
    "    A[i], A[pivot] = A[pivot], A[i]\n",
    "    return i\n",
    "\n",
    "def quicksort_lomuto(A, low, high):\n",
    "\n",
    "    if high is None:\n",
    "        high = len(A) - 1\n",
    "    \n",
    "    if low < high:\n",
    "        pivot = lomuto_partition(A, low, high)\n",
    "        quicksort_lomuto(A, low, pivot - 1)\n",
    "        quicksort_lomuto(A, pivot + 1, high)\n",
    "        \n",
    "def sort(A):\n",
    "\n",
    "    #Write your code here\n",
    "    \n",
    "    quicksort_lomuto(A,0,len(A)-1)\n",
    "    return A"
   ]
  },
  {
   "cell_type": "markdown",
   "metadata": {},
   "source": [
    "### Tests:"
   ]
  },
  {
   "cell_type": "markdown",
   "metadata": {},
   "source": [
    "##### Run example test case 1:"
   ]
  },
  {
   "cell_type": "code",
   "execution_count": 5,
   "metadata": {},
   "outputs": [
    {
     "name": "stdout",
     "output_type": "stream",
     "text": [
      "[1, 2, 3, 5, 7, 8, 9, 12]\n"
     ]
    }
   ],
   "source": [
    "input_value = [5, 3, 2, 7, 1, 8, 9, 12]\n",
    "print (sort(input_value))"
   ]
  },
  {
   "cell_type": "markdown",
   "metadata": {},
   "source": [
    "##### Run example test case 2:"
   ]
  },
  {
   "cell_type": "code",
   "execution_count": 6,
   "metadata": {},
   "outputs": [
    {
     "name": "stdout",
     "output_type": "stream",
     "text": [
      "[-3, 1.01, 1.2, 2.0]\n"
     ]
    }
   ],
   "source": [
    "input_value = [2.0, 1.01, 1.2, -3]\n",
    "print (sort(input_value))"
   ]
  },
  {
   "cell_type": "markdown",
   "metadata": {},
   "source": [
    "## 3."
   ]
  },
  {
   "cell_type": "markdown",
   "metadata": {
    "cell_style": "center",
    "hideOutput": true
   },
   "source": [
    "Implement the function, **min_priority_queue**($L$), which takes a list, $L$, of $n$ elements, each of which is a dictionary. Each dictionary represents one of the three operations (with corresponding inputs), `\"insert\"`, `\"pop_min\"`, `\"decrease_key\"`, to be performed on a min-priority queue. E.g. `{\"op\":\"insert\",\"key\":5}` correspond to an insertion of key, `5`, whereas, `{\"op\":\"decrease_key\",\"new_key\":3,\"index\":2}` corresponds to decreasing the key value to `3` for an element with index, `2`, in the existing heap array. We assume that keys of the heap are stored in a zero-indexed array. *Note, in this question we only concern ourselves with storing keys and not values in the heap data structure.* <br>\n",
    "\n",
    "The function should output the keys in the same order as they are stored in the array, representing the heap data structure, after all operations provided in the input are executed."
   ]
  },
  {
   "cell_type": "markdown",
   "metadata": {},
   "source": [
    "### Examples:"
   ]
  },
  {
   "cell_type": "markdown",
   "metadata": {},
   "source": [
    "**Input:** `[{\"op\":\"insert\",\"key\":10},{\"op\":\"insert\",\"key\":5},{\"op\":\"insert\",\"key\":1},{\"op\":\"decrease_key\",\"new_key\":3,\"index\":2},{\"op\":\"pop_min\"}]` <br>\n",
    "**Output:** `[3,10]`"
   ]
  },
  {
   "cell_type": "markdown",
   "metadata": {},
   "source": [
    "**Input:**  `[{\"op\":\"insert\",\"key\":5},{\"op\":\"insert\",\"key\":4},{\"op\":\"insert\",\"key\":3},{\"op\":\"insert\",\"key\":2},{\"op\":\"decrease_key\",\"index\":2,\"new_key\":2},{\"op\":\"pop_min\"},{\"op\":\"pop_min\"},{\"op\":\"insert\",\"key\":9},{\"op\":\"insert\",\"key\":8},{\"op\":\"insert\",\"key\":7},{\"op\":\"insert\",\"key\":6}]` <br>\n",
    "**Output:**  `[3, 5, 6, 8, 7, 9]`"
   ]
  },
  {
   "cell_type": "markdown",
   "metadata": {},
   "source": [
    "### Constraints:\n",
    "\n",
    "- $1 \\leq n \\leq 1000$.\n",
    "- All operations are valid (e.g. one never attempts to decrease a key for element with $index < 0$ or $index \\geq heap\\_size $ or attempt to pop an element from an empty queue)."
   ]
  },
  {
   "cell_type": "markdown",
   "metadata": {},
   "source": [
    "### Code:"
   ]
  },
  {
   "cell_type": "code",
   "execution_count": 7,
   "metadata": {},
   "outputs": [],
   "source": [
    "#A straight-forward implementation of min-heap.\n",
    "\n",
    "class Heap:\n",
    "    def __init__(self):\n",
    "        self.H = []\n",
    "        self.size = 0\n",
    "\n",
    "    def insert(self,key):\n",
    "\n",
    "        #Write your code here\n",
    "        \n",
    "        if self.size==len(self.H):\n",
    "            self.H = self.H + [0]\n",
    "        self.size+=1\n",
    "        self.decrease_key(self.size-1,key)\n",
    "    \n",
    "    def pop_min(self):\n",
    "\n",
    "        #Write your code here\n",
    "        \n",
    "        max_key = self.H[0]\n",
    "        self.H[0] = self.H[self.size-1]\n",
    "        self.size -=1\n",
    "        self.min_heapify(0)\n",
    "        \n",
    "    def min_heapify(self,index):\n",
    "        \n",
    "        left = 2*index +1 \n",
    "        right = 2 *index +2\n",
    "        min_ind = index\n",
    "        if left < self.size and self.H[left]<self.H[min_ind]:\n",
    "            min_ind = left\n",
    "        if right < self.size and self.H[right]<self.H[min_ind]:\n",
    "            min_ind = right\n",
    "        if min_ind != index:\n",
    "            self.swap(index, min_ind)\n",
    "            self.min_heapify(min_ind)\n",
    "            \n",
    "    def swap(self,a,b):\n",
    "        temp = self.H[a]\n",
    "        self.H[a] = self.H[b]\n",
    "        self.H[b] = temp\n",
    "        \n",
    "    def decrease_key(self, index, new_key):\n",
    "\n",
    "        #Write your code here\n",
    "\n",
    "        self.H[index] = new_key\n",
    "        \n",
    "        while index > 0 and self.H[index] < self.H[(index-1)//2]:\n",
    "            self.swap(index,(index-1)//2)\n",
    "            index = (index-1)//2\n",
    "\n",
    "def min_priority_queue(C):\n",
    "\n",
    "    heap = Heap()\n",
    "    \n",
    "    for c in C:\n",
    "        if c[\"op\"] == \"insert\":\n",
    "            heap.insert(c[\"key\"])\n",
    "        elif c[\"op\"] == \"pop_min\":\n",
    "            _ = heap.pop_min()\n",
    "        elif c[\"op\"] == \"decrease_key\":\n",
    "            heap.decrease_key(c[\"index\"],c[\"new_key\"])\n",
    "        else:\n",
    "            assert False, \"Invalid operation\"\n",
    "            \n",
    "    return heap.H[:heap.size]"
   ]
  },
  {
   "cell_type": "markdown",
   "metadata": {},
   "source": [
    "### Tests:"
   ]
  },
  {
   "cell_type": "markdown",
   "metadata": {},
   "source": [
    "##### Run example test case 1:"
   ]
  },
  {
   "cell_type": "code",
   "execution_count": 8,
   "metadata": {},
   "outputs": [
    {
     "name": "stdout",
     "output_type": "stream",
     "text": [
      "[3, 10]\n"
     ]
    }
   ],
   "source": [
    "input_value = [{\"op\":\"insert\",\"key\":10},{\"op\":\"insert\",\"key\":5},{\"op\":\"insert\",\"key\":1},{\"op\":\"decrease_key\",\"new_key\":3,\"index\":2},{\"op\":\"pop_min\"}]\n",
    "print (min_priority_queue(input_value))"
   ]
  },
  {
   "cell_type": "markdown",
   "metadata": {},
   "source": [
    "##### Run example test case 2:"
   ]
  },
  {
   "cell_type": "code",
   "execution_count": 9,
   "metadata": {},
   "outputs": [
    {
     "name": "stdout",
     "output_type": "stream",
     "text": [
      "[3, 5, 6, 8, 7, 9]\n"
     ]
    }
   ],
   "source": [
    "input_value = [{\"op\":\"insert\",\"key\":5},{\"op\":\"insert\",\"key\":4},{\"op\":\"insert\",\"key\":3},{\"op\":\"insert\",\"key\":2},{\"op\":\"decrease_key\",\"index\":2,\"new_key\":2},{\"op\":\"pop_min\"},{\"op\":\"pop_min\"},{\"op\":\"insert\",\"key\":9},{\"op\":\"insert\",\"key\":8},{\"op\":\"insert\",\"key\":7},{\"op\":\"insert\",\"key\":6}]\n",
    "print (min_priority_queue(input_value))"
   ]
  },
  {
   "cell_type": "markdown",
   "metadata": {},
   "source": [
    "## 4. "
   ]
  },
  {
   "cell_type": "markdown",
   "metadata": {
    "cell_style": "center"
   },
   "source": [
    "Write the function, **pairs**($L$), which, given a list, $L$, of $n$ non-negative integers, finds the number of distinct pairs, $(i, j)$, such that $j \\geq i $ and $L[i] = L[j]$. Your solution should have a linear worst-case run time."
   ]
  },
  {
   "cell_type": "markdown",
   "metadata": {},
   "source": [
    "### Examples:"
   ]
  },
  {
   "cell_type": "markdown",
   "metadata": {},
   "source": [
    "**Input:** `[5,2,1,5]` <br>\n",
    "**Output:** `5`"
   ]
  },
  {
   "cell_type": "markdown",
   "metadata": {},
   "source": [
    "**Input:**  `[1,2,3,4,1,1,1]` <br>\n",
    "**Output:**  `13`"
   ]
  },
  {
   "cell_type": "markdown",
   "metadata": {},
   "source": [
    "### Constraints:\n",
    "\n",
    "- $1\\leq n \\leq 10^6$.\n",
    "- $1\\leq A[i] \\leq 10^6$."
   ]
  },
  {
   "cell_type": "markdown",
   "metadata": {},
   "source": [
    "### Code:"
   ]
  },
  {
   "cell_type": "code",
   "execution_count": 34,
   "metadata": {},
   "outputs": [],
   "source": [
    "def pairs(L):\n",
    "    counts = {}\n",
    "    for l in L:\n",
    "        counts[l] = counts.get(l, 0) + 1\n",
    "    return sum([ n/2 * (n+1) for n in counts.values() ])"
   ]
  },
  {
   "cell_type": "code",
   "execution_count": 26,
   "metadata": {},
   "outputs": [],
   "source": [
    "# Simply counting the number of times each different value occurs in the list \n",
    "# and computing the right number of pairs from such count.\n",
    "\n",
    "def pairs(L):\n",
    "\n",
    "    #Write your code here\n",
    "    \n",
    "    max_val=L[0]\n",
    "    for i in range(1,len(L)):\n",
    "        if L[i]>max_val:\n",
    "            max_val = L[i]\n",
    "    c = [0 for i in range(max_val+1)]\n",
    "    for i in range(len(L)):\n",
    "        c[L[i]] += 1\n",
    "    result = 0\n",
    "    for i in range(len(c)):\n",
    "        if c[i]>0:\n",
    "            result += (c[i]*(c[i]+1))//2\n",
    "    return result"
   ]
  },
  {
   "cell_type": "markdown",
   "metadata": {},
   "source": [
    "### Tests:"
   ]
  },
  {
   "cell_type": "markdown",
   "metadata": {},
   "source": [
    "##### Run example test case 1:"
   ]
  },
  {
   "cell_type": "code",
   "execution_count": 32,
   "metadata": {},
   "outputs": [
    {
     "name": "stdout",
     "output_type": "stream",
     "text": [
      "{5: 2, 2: 1, 1: 1}\n",
      "5.0\n"
     ]
    }
   ],
   "source": [
    "input_value = [5,2,1,5]\n",
    "print (pairs(input_value))"
   ]
  },
  {
   "cell_type": "markdown",
   "metadata": {},
   "source": [
    "##### Run example test case 2:"
   ]
  },
  {
   "cell_type": "code",
   "execution_count": 33,
   "metadata": {},
   "outputs": [
    {
     "name": "stdout",
     "output_type": "stream",
     "text": [
      "{1: 4, 2: 1, 3: 1, 4: 1}\n",
      "13.0\n"
     ]
    }
   ],
   "source": [
    "input_value = [1,2,3,4,1,1,1]\n",
    "print (pairs(input_value))"
   ]
  },
  {
   "cell_type": "markdown",
   "metadata": {},
   "source": [
    "## 5. "
   ]
  },
  {
   "cell_type": "markdown",
   "metadata": {
    "cell_style": "center"
   },
   "source": [
    "Write a function, **close_pairs**($L$), which takes a list, $L$, of three elements, the first of which is a list of non-negative integer numbers, $A$, and the second and third of which are positive integer values, $\\delta_{index}$ and $\\delta_{value}$, respectively. This function should output a string, `\"true\"`, if array, $A$, contains a pair of indices, $(i,j)$, such that: \n",
    "1. $i \\neq j$, \n",
    "2. $\\lvert i-j\\rvert\\leq \\delta_{index}$ and \n",
    "3. $\\lvert A[i] - A[j]\\rvert \\leq \\delta_{value}$. <br>\n",
    "\n",
    "If such pair does not exist, the implemented function should return a string, `\"false\"`. Your solution should have linear worst case run time performance. Note that you can use a python dictionary (i.e. `D = {}`) as an implementation of a hash table with an assumed constant average case run time cost for insertion, deletion and element search operations."
   ]
  },
  {
   "cell_type": "markdown",
   "metadata": {},
   "source": [
    "### Examples:"
   ]
  },
  {
   "cell_type": "markdown",
   "metadata": {},
   "source": [
    "**Input:** `[[1,50,4,8,16,12,2],1,1]` <br>\n",
    "**Output:** `\"false\"`"
   ]
  },
  {
   "cell_type": "markdown",
   "metadata": {},
   "source": [
    "**Input:**  `[[1,16,4,8,64,2,32],2,3]` <br>\n",
    "**Output:**  `\"true\"`"
   ]
  },
  {
   "cell_type": "markdown",
   "metadata": {},
   "source": [
    "### Constraints:\n",
    "\n",
    "- $1 \\leq \\text{len }(A) \\leq 10^4$.\n",
    "- $1 \\leq \\delta_{index} \\leq 10^4$.\n",
    "- $1 \\leq \\delta_{value} \\leq 10^6$.\n",
    "- $1 \\leq A[i] \\leq 10^6$."
   ]
  },
  {
   "cell_type": "markdown",
   "metadata": {},
   "source": [
    "### Code:"
   ]
  },
  {
   "cell_type": "code",
   "execution_count": 50,
   "metadata": {},
   "outputs": [],
   "source": [
    "def close_pairs(L):\n",
    "    \n",
    "    A, dind, dval = L\n",
    "    buckets = {}\n",
    "    \n",
    "    for i, l in enumerate(A):\n",
    "        bucket = l // dval\n",
    "        \n",
    "        for close in [\n",
    "            *buckets.get(bucket-1, set()),\n",
    "            *buckets.get(bucket, set()),\n",
    "            *buckets.get(bucket+1, set()),\n",
    "        ]:\n",
    "            if abs(close - l) < dval:\n",
    "                return True\n",
    "            \n",
    "        buckets[bucket] = buckets.get(bucket, set()) | set([l])\n",
    "        \n",
    "        if i > dind:\n",
    "            buckets[ A[i-dind] // dval ].remove([A[i-dind]])\n",
    "        \n",
    "    return False"
   ]
  },
  {
   "cell_type": "code",
   "execution_count": 44,
   "metadata": {},
   "outputs": [
    {
     "data": {
      "text/plain": [
       "{1, 2, 3, 4}"
      ]
     },
     "execution_count": 44,
     "metadata": {},
     "output_type": "execute_result"
    }
   ],
   "source": [
    "set([1,2,3]) | set([4])"
   ]
  },
  {
   "cell_type": "code",
   "execution_count": 13,
   "metadata": {},
   "outputs": [],
   "source": [
    "# We loop through all the elements in the array and record the count of values in buckets of size \n",
    "# d_value. If we encounter a bucket which contains more than 1 item then we know that we found a\n",
    "# close pair. If there is a neighbouring non-empty bucket then we need to to check if the value \n",
    "# in that bucket satisfies constraints (if yes, return true). As we pass through first d_index values\n",
    "# we need to make sure to remove the \"oldest\" values not within the right range from the bucket.\n",
    "# Since in this procedure each item gets added into any bucket at most once and removed at most once \n",
    "# and there is a constant number of comparisons per item, we have worst case performance to be linear.\n",
    "\n",
    "def close_pairs(L):\n",
    "        \n",
    "    #Write your code here\n",
    "    \n",
    "    A, d_index, d_value = L[0], L[1], L[2]\n",
    "    \n",
    "    D = {}\n",
    "    \n",
    "    for i in range(len(A)):\n",
    "        val = A[i]\n",
    "        bucket = val//d_value\n",
    "        if bucket in D:\n",
    "            return \"true\"\n",
    "        D[bucket] = val\n",
    "        if bucket-1 in D:\n",
    "            if abs(D[bucket-1] -val)<= d_value:\n",
    "                return \"true\"\n",
    "        if bucket+1 in D:\n",
    "            if abs(D[bucket+1] -val)<= d_value:\n",
    "                return \"true\"\n",
    "        if i-d_index>=0:\n",
    "            D.pop(A[i-d_index]//d_value)\n",
    "    return \"false\""
   ]
  },
  {
   "cell_type": "markdown",
   "metadata": {},
   "source": [
    "### Tests:"
   ]
  },
  {
   "cell_type": "markdown",
   "metadata": {},
   "source": [
    "##### Run example test case 1:"
   ]
  },
  {
   "cell_type": "code",
   "execution_count": 51,
   "metadata": {},
   "outputs": [
    {
     "ename": "TypeError",
     "evalue": "unhashable type: 'list'",
     "output_type": "error",
     "traceback": [
      "\u001b[0;31m---------------------------------------------------------------------------\u001b[0m",
      "\u001b[0;31mTypeError\u001b[0m                                 Traceback (most recent call last)",
      "Cell \u001b[0;32mIn[51], line 2\u001b[0m\n\u001b[1;32m      1\u001b[0m input_value \u001b[38;5;241m=\u001b[39m [[\u001b[38;5;241m1\u001b[39m,\u001b[38;5;241m50\u001b[39m,\u001b[38;5;241m4\u001b[39m,\u001b[38;5;241m8\u001b[39m,\u001b[38;5;241m16\u001b[39m,\u001b[38;5;241m12\u001b[39m,\u001b[38;5;241m2\u001b[39m],\u001b[38;5;241m1\u001b[39m,\u001b[38;5;241m1\u001b[39m]\n\u001b[0;32m----> 2\u001b[0m \u001b[38;5;28mprint\u001b[39m (\u001b[43mclose_pairs\u001b[49m\u001b[43m(\u001b[49m\u001b[43minput_value\u001b[49m\u001b[43m)\u001b[49m)\n",
      "Cell \u001b[0;32mIn[50], line 20\u001b[0m, in \u001b[0;36mclose_pairs\u001b[0;34m(L)\u001b[0m\n\u001b[1;32m     17\u001b[0m     buckets[bucket] \u001b[38;5;241m=\u001b[39m buckets\u001b[38;5;241m.\u001b[39mget(bucket, \u001b[38;5;28mset\u001b[39m()) \u001b[38;5;241m|\u001b[39m \u001b[38;5;28mset\u001b[39m([l])\n\u001b[1;32m     19\u001b[0m     \u001b[38;5;28;01mif\u001b[39;00m i \u001b[38;5;241m>\u001b[39m dind:\n\u001b[0;32m---> 20\u001b[0m         \u001b[43mbuckets\u001b[49m\u001b[43m[\u001b[49m\u001b[43m \u001b[49m\u001b[43mA\u001b[49m\u001b[43m[\u001b[49m\u001b[43mi\u001b[49m\u001b[38;5;241;43m-\u001b[39;49m\u001b[43mdind\u001b[49m\u001b[43m]\u001b[49m\u001b[43m \u001b[49m\u001b[38;5;241;43m/\u001b[39;49m\u001b[38;5;241;43m/\u001b[39;49m\u001b[43m \u001b[49m\u001b[43mdval\u001b[49m\u001b[43m \u001b[49m\u001b[43m]\u001b[49m\u001b[38;5;241;43m.\u001b[39;49m\u001b[43mremove\u001b[49m\u001b[43m(\u001b[49m\u001b[43m[\u001b[49m\u001b[43mA\u001b[49m\u001b[43m[\u001b[49m\u001b[43mi\u001b[49m\u001b[38;5;241;43m-\u001b[39;49m\u001b[43mdind\u001b[49m\u001b[43m]\u001b[49m\u001b[43m]\u001b[49m\u001b[43m)\u001b[49m\n\u001b[1;32m     22\u001b[0m \u001b[38;5;28;01mreturn\u001b[39;00m \u001b[38;5;28;01mFalse\u001b[39;00m\n",
      "\u001b[0;31mTypeError\u001b[0m: unhashable type: 'list'"
     ]
    }
   ],
   "source": [
    "input_value = [[1,50,4,8,16,12,2],1,1]\n",
    "print (close_pairs(input_value))"
   ]
  },
  {
   "cell_type": "markdown",
   "metadata": {},
   "source": [
    "##### Run example test case 2:"
   ]
  },
  {
   "cell_type": "code",
   "execution_count": 49,
   "metadata": {},
   "outputs": [
    {
     "name": "stdout",
     "output_type": "stream",
     "text": [
      "True\n"
     ]
    }
   ],
   "source": [
    "input_value = [[1,16,4,8,64,2,32],2,3]\n",
    "print (close_pairs(input_value))"
   ]
  },
  {
   "cell_type": "markdown",
   "metadata": {},
   "source": [
    "## 6."
   ]
  },
  {
   "cell_type": "markdown",
   "metadata": {
    "cell_style": "center"
   },
   "source": [
    "Write the function, **sort_strings**($S$), which takes a list, $S$, of strings and sorts it in the following order.\n",
    "1. If length of string, $a$, is smaller than length of string, $b$, then string, $a$, should be appearing in the output before string, $b$.\n",
    "2. If strings, $a$ and $b$, are of the same length, then string, $a$, should come before string, $b$, if $ord(a[i])$<$ord(b[i])$ where $i$ is the index of the first character for which $a[i]\\neq b[i]$. Note, $ord$, is a python function which converts a character into its ASCII integer value (e.g. `ord('a')=97`).\n",
    "\n",
    "Also note that a function, **get_character_dict**($S$), is provided. This function creates a dictionary, $char\\_dict$, which for each character used in $S$, computes its position in a ranked list of all characters used in $S$. "
   ]
  },
  {
   "cell_type": "markdown",
   "metadata": {},
   "source": [
    "### Examples:"
   ]
  },
  {
   "cell_type": "markdown",
   "metadata": {},
   "source": [
    "**Input:** `[\"abcd\", \"ab\", \"abc\", \"abcde\", \"a\",\"e\"]` <br>\n",
    "**Output:** `[\"a\", \"e\", \"ab\", \"abc\", \"abcd\", \"abcde\"]`"
   ]
  },
  {
   "cell_type": "markdown",
   "metadata": {},
   "source": [
    "**Input:**  `[\"314\", \"712\", \"632\", \"201\", \"111\",\"11\",\"1\",\"20\",\"5\",\"50\",\"1a\"]` <br>\n",
    "**Output:**  `[\"1\", \"5\", \"11\", \"1a\", \"20\", \"50\", \"111\", \"201\", \"314\", \"632\", \"712\"]`"
   ]
  },
  {
   "cell_type": "markdown",
   "metadata": {},
   "source": [
    "### Constraints:\n",
    "\n",
    "- $ 1\\leq \\text{len }(S) \\leq 100$."
   ]
  },
  {
   "cell_type": "markdown",
   "metadata": {},
   "source": [
    "### Code:"
   ]
  },
  {
   "cell_type": "code",
   "execution_count": 16,
   "metadata": {},
   "outputs": [],
   "source": [
    "# A straight-forward implementation of radix sort with additional hanling of strings of \n",
    "# varying lengths.\n",
    "\n",
    "def counting_sort_on_digit(A, k_dict, d, reverse_digit_pos):\n",
    "\n",
    "    def subkey(key):\n",
    "\n",
    "        if reverse_digit_pos> len(key):\n",
    "            return 0\n",
    "        else:\n",
    "            return k_dict[key[-reverse_digit_pos]]+1\n",
    "\n",
    "    n = len(A)\n",
    "    counts = [0 for _ in range(len(k_dict)+1)]\n",
    "    output = [None for _ in range(n)]\n",
    "    for key in A:\n",
    "        counts[subkey(key)] += 1\n",
    "    for i in range(1, len(counts)):\n",
    "        counts[i] += counts[i - 1]\n",
    "    for key in reversed(A):\n",
    "        output[counts[subkey(key)] - 1] = key\n",
    "        counts[subkey(key)] = counts[subkey(key)] - 1\n",
    "    return output\n",
    "\n",
    "\n",
    "def radix_sort_lsd(A, d, k_dict):\n",
    "\n",
    "    for digit_pos in range(1, d+1):\n",
    "        A = counting_sort_on_digit(A, k_dict, d, digit_pos)\n",
    "        \n",
    "    return A\n",
    "\n",
    "def get_character_dict(S):\n",
    "    \n",
    "    char_set = set([])\n",
    "    for s in S:\n",
    "        char_set=char_set | set(list(s))\n",
    "        \n",
    "    count = 0\n",
    "    char_dict={}\n",
    "    for c in sorted(list(char_set)):\n",
    "        char_dict[c]=count\n",
    "        count+=1\n",
    "    return char_dict\n",
    "\n",
    "def sort_strings(S):\n",
    " \n",
    "    char_dict = get_character_dict(S)\n",
    "\n",
    "    #Write your code here\n",
    "    \n",
    "    max_length=len(S[0])\n",
    "    \n",
    "    for i in range(len(S)):\n",
    "        if len(S[i])>max_length:\n",
    "            max_length = len(S[i])\n",
    "\n",
    "    B = radix_sort_lsd(S, max_length, char_dict) \n",
    "    \n",
    "    return B"
   ]
  },
  {
   "cell_type": "markdown",
   "metadata": {},
   "source": [
    "### Tests:"
   ]
  },
  {
   "cell_type": "markdown",
   "metadata": {},
   "source": [
    "##### Run example test case 1:"
   ]
  },
  {
   "cell_type": "code",
   "execution_count": 17,
   "metadata": {},
   "outputs": [
    {
     "name": "stdout",
     "output_type": "stream",
     "text": [
      "['a', 'e', 'ab', 'abc', 'abcd', 'abcde']\n"
     ]
    }
   ],
   "source": [
    "input_value = [\"abcd\", \"ab\", \"abc\", \"abcde\", \"a\",\"e\"]\n",
    "print (sort_strings(input_value))"
   ]
  },
  {
   "cell_type": "markdown",
   "metadata": {},
   "source": [
    "##### Run example test case 2:"
   ]
  },
  {
   "cell_type": "code",
   "execution_count": 18,
   "metadata": {},
   "outputs": [
    {
     "name": "stdout",
     "output_type": "stream",
     "text": [
      "['1', '5', '11', '1a', '20', '50', '111', '201', '314', '632', '712']\n"
     ]
    }
   ],
   "source": [
    "input_value = [\"314\", \"712\", \"632\", \"201\", \"111\",\"11\",\"1\",\"20\",\"5\",\"50\",\"1a\"]\n",
    "print (sort_strings(input_value))"
   ]
  }
 ],
 "metadata": {
  "kernelspec": {
   "display_name": "Python 3 (ipykernel)",
   "language": "python",
   "name": "python3"
  },
  "language_info": {
   "codemirror_mode": {
    "name": "ipython",
    "version": 3
   },
   "file_extension": ".py",
   "mimetype": "text/x-python",
   "name": "python",
   "nbconvert_exporter": "python",
   "pygments_lexer": "ipython3",
   "version": "3.11.2"
  }
 },
 "nbformat": 4,
 "nbformat_minor": 4
}
