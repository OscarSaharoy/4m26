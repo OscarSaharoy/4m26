{
 "cells": [
  {
   "cell_type": "markdown",
   "metadata": {
    "hideCode": false
   },
   "source": [
    "# **4M26 - Examples Paper 3 - Sorting Algorithms** "
   ]
  },
  {
   "cell_type": "markdown",
   "metadata": {},
   "source": [
    "---\n",
    "<br>\n",
    "<br>"
   ]
  },
  {
   "cell_type": "markdown",
   "metadata": {},
   "source": [
    "## 1."
   ]
  },
  {
   "cell_type": "markdown",
   "metadata": {},
   "source": [
    "Briefly answer multiple questions below."
   ]
  },
  {
   "cell_type": "markdown",
   "metadata": {},
   "source": [
    "&emsp; (i)&emsp; Why is it often said that sorting $n$ values must necessarily cost $n \\lg n$ steps? In which cases this assertion is false?"
   ]
  },
  {
   "cell_type": "markdown",
   "metadata": {},
   "source": [
    "<div style=\"border-width:2px;border-style:solid;border-color:black;\">\n",
    "Write your answer here.\n",
    "</div>"
   ]
  },
  {
   "cell_type": "markdown",
   "metadata": {},
   "source": [
    "&emsp; (ii)&emsp; In the context of Heapsort, explain how to take initially unordered data and rearrange it so that the heap property applies."
   ]
  },
  {
   "cell_type": "markdown",
   "metadata": {},
   "source": [
    "<div style=\"border-width:2px;border-style:solid;border-color:black;\">\n",
    "Write your answer here.\n",
    "</div>"
   ]
  },
  {
   "cell_type": "markdown",
   "metadata": {},
   "source": [
    "&emsp; (iii)&emsp; Explain how to reinstate the heap property if one of the values in the heap is changed. What is the cost of such operation? Does it matter whether the value is increased or decreased?"
   ]
  },
  {
   "cell_type": "markdown",
   "metadata": {},
   "source": [
    "<div style=\"border-width:2px;border-style:solid;border-color:black;\">\n",
    "Write your answer here.\n",
    "</div>"
   ]
  },
  {
   "cell_type": "markdown",
   "metadata": {},
   "source": [
    "&emsp; (iv)&emsp;  In bad cases Quicksort can be much more costly than Heapsort. Why, then, is it still very often used?  "
   ]
  },
  {
   "cell_type": "markdown",
   "metadata": {},
   "source": [
    "<div style=\"border-width:2px;border-style:solid;border-color:black;\">\n",
    "Write your answer here.\n",
    "</div>"
   ]
  },
  {
   "cell_type": "markdown",
   "metadata": {},
   "source": [
    "&emsp; (v)&emsp; In the context of Quicksort, you are given an array of lenght, $n$, containing arbitrary data in an arbitrary order and a selected value, $p$, taken from that data (*the pivot*). Explain two strategies of how to rearrange the data so that all values less than the pivot end up to its left, and all values greater than it, to its right."
   ]
  },
  {
   "cell_type": "markdown",
   "metadata": {},
   "source": [
    "<div style=\"border-width:2px;border-style:solid;border-color:black;\">\n",
    "Write your answer here.\n",
    "</div>"
   ]
  },
  {
   "cell_type": "markdown",
   "metadata": {},
   "source": [
    "&emsp; (vi)&emsp; List a set of operations that you would expect to form an implementation of a priority queue. Name a data structure suitable for implementing a priority queue, and explain how much time it should take to perform the aforementioned operations. Why this data structure would be prefered over Red-Black trees?"
   ]
  },
  {
   "cell_type": "markdown",
   "metadata": {},
   "source": [
    "<div style=\"border-width:2px;border-style:solid;border-color:black;\">\n",
    "Write your answer here.\n",
    "</div>"
   ]
  },
  {
   "cell_type": "markdown",
   "metadata": {},
   "source": [
    "&emsp; (vii)&emsp; Both quicksort and mergesort have an average case run time performance of $O(n \\log n)$\n",
    "to sort a list containing $n$ items. However, in the worst case, Quicksort can require $O(n^2)$\n",
    "time, while Mergesort’s worst case running time is the same as its average case time: $O(n \\log n)$.  What accounts for the difference in worst case times? How is it that Quicksort can\n",
    "require $O(n^2)$ time, while Mergesort always guarantees $O(n \\log n)$ run time? Why would one prefer to\n",
    "use Quicksort over Mergesort despite a worse worst-case performance?  "
   ]
  },
  {
   "cell_type": "markdown",
   "metadata": {},
   "source": [
    "<div style=\"border-width:2px;border-style:solid;border-color:black;\">\n",
    "Write your answer here.\n",
    "</div>"
   ]
  },
  {
   "cell_type": "markdown",
   "metadata": {},
   "source": [
    "&emsp; (viii)&emsp; How would you sort data in each of the following circumstances? Justify or comment on your choices of method. <br>\n",
    "\n",
    "&emsp; 1. The data is a set of 10 entries in the high-table list for a video-game console, to be sorted by the score. <br>\n",
    "&emsp; 2. You have 10 million people to sort based on their age in years. If two people have the same age, it does not matter in which order they appear in the output list. <br>\n",
    "&emsp; 3. Your data consists of a large file of names. The first (about) 90% of it is already believed to be in sorted order from last time (but you are not 100% confident about that). The remaining 10% is new data that has been written onto the end of the original file in a chaotic, unordered state. You want a single file consisting of the old and new data all neatly sorted."
   ]
  },
  {
   "cell_type": "markdown",
   "metadata": {},
   "source": [
    "<div style=\"border-width:2px;border-style:solid;border-color:black;\">\n",
    "Write your answer here.\n",
    "</div>"
   ]
  },
  {
   "cell_type": "markdown",
   "metadata": {},
   "source": [
    "&emsp; (ix)&emsp; Describe an algorithm that given $n$ integers in the range $0$ to $k$, preprocesses its input and then answers any query about how many of the $n$ integers fall into a range $[a\\cdots b]$ in $O(1)$ time. Your algorithm should use $\\Theta(n+k)$ preprocessing time."
   ]
  },
  {
   "cell_type": "markdown",
   "metadata": {},
   "source": [
    "<div style=\"border-width:2px;border-style:solid;border-color:black;\">\n",
    "Write your answer here.\n",
    "</div>"
   ]
  },
  {
   "cell_type": "markdown",
   "metadata": {},
   "source": [
    "&emsp; (x)&emsp; Explain how to sort $n$ integers in the range $0$ to $n^4 -1$ in $O(n)$ time."
   ]
  },
  {
   "cell_type": "markdown",
   "metadata": {},
   "source": [
    "<div style=\"border-width:2px;border-style:solid;border-color:black;\">\n",
    "Write your answer here.\n",
    "</div>"
   ]
  },
  {
   "cell_type": "markdown",
   "metadata": {},
   "source": [
    "&emsp; (xi)&emsp; Explain why the worst-case running time for bucket sort is $\\Theta(n^2)$. What simple change to the algorithm preserves its linear average-case running time and makes its worst-case running time of $O(n \\log n)$?"
   ]
  },
  {
   "cell_type": "markdown",
   "metadata": {},
   "source": [
    "<div style=\"border-width:2px;border-style:solid;border-color:black;\">\n",
    "Write your answer here.\n",
    "</div>"
   ]
  },
  {
   "cell_type": "markdown",
   "metadata": {},
   "source": [
    "## 2."
   ]
  },
  {
   "cell_type": "markdown",
   "metadata": {
    "cell_style": "center"
   },
   "source": [
    "Write the function, **sort**($L$), which takes an unsorted list, $L$, of $n$ real numbers and outputs a sorted list of these numbers. Your solution should have average case runtime of $O(n \\log n)$."
   ]
  },
  {
   "cell_type": "markdown",
   "metadata": {},
   "source": [
    "### Examples:"
   ]
  },
  {
   "cell_type": "markdown",
   "metadata": {},
   "source": [
    "**Input:** `[5, 3, 2, 7, 1, 8, 9, 12]` <br>\n",
    "**Output:** `[1, 2, 3, 5, 7, 8, 9, 12]`"
   ]
  },
  {
   "cell_type": "markdown",
   "metadata": {},
   "source": [
    "**Input:**  `[2.0, 1.01, 1.2, -3]` <br>\n",
    "**Output:**  `[-3, 1.01, 1.2, 2.0]`"
   ]
  },
  {
   "cell_type": "markdown",
   "metadata": {},
   "source": [
    "### Constraints:\n",
    "\n",
    "- $1\\leq n \\leq 1000$. \n",
    "- $-10^6\\leq L[i] \\leq 10^6$. "
   ]
  },
  {
   "cell_type": "markdown",
   "metadata": {},
   "source": [
    "### Code:"
   ]
  },
  {
   "cell_type": "code",
   "execution_count": 28,
   "metadata": {},
   "outputs": [],
   "source": [
    "import math"
   ]
  },
  {
   "cell_type": "code",
   "execution_count": 1,
   "metadata": {},
   "outputs": [],
   "source": [
    "def sort(L):\n",
    "    \n",
    "    if len(L) == 1:\n",
    "        return L\n",
    "    \n",
    "    left  = L[:len(L)//2]\n",
    "    right = L[len(L)//2:]\n",
    "    \n",
    "    return merge( sort(left), sort(right) )\n",
    "\n",
    "\n",
    "def merge( A, B ):\n",
    "    \n",
    "    ia, ib = 0, 0\n",
    "    na, nb = len(A), len(B)\n",
    "    res = [0 for _ in range(na + nb)]\n",
    "    \n",
    "    while ia < na or ib < nb:\n",
    "        \n",
    "        xa = A[ia] if ia < na else 1001\n",
    "        xb = B[ib] if ib < nb else 1001\n",
    "\n",
    "        if xa < xb:\n",
    "            res[ ia + ib ] = xa\n",
    "            ia += 1\n",
    "        \n",
    "        else:\n",
    "            res[ ia + ib ] = xb\n",
    "            ib += 1\n",
    "            \n",
    "    return res"
   ]
  },
  {
   "cell_type": "markdown",
   "metadata": {},
   "source": [
    "### Tests:"
   ]
  },
  {
   "cell_type": "markdown",
   "metadata": {},
   "source": [
    "##### Run example test case 1:"
   ]
  },
  {
   "cell_type": "code",
   "execution_count": 2,
   "metadata": {},
   "outputs": [
    {
     "name": "stdout",
     "output_type": "stream",
     "text": [
      "[1, 2, 3, 5, 7, 8, 9, 12]\n"
     ]
    }
   ],
   "source": [
    "input_value = [5, 3, 2, 7, 1, 8, 9, 12]\n",
    "print (sort(input_value))"
   ]
  },
  {
   "cell_type": "markdown",
   "metadata": {},
   "source": [
    "##### Run example test case 2:"
   ]
  },
  {
   "cell_type": "code",
   "execution_count": 3,
   "metadata": {},
   "outputs": [
    {
     "name": "stdout",
     "output_type": "stream",
     "text": [
      "[-3, 1.01, 1.2, 2.0]\n"
     ]
    }
   ],
   "source": [
    "input_value = [2.0, 1.01, 1.2, -3]\n",
    "print (sort(input_value))"
   ]
  },
  {
   "cell_type": "markdown",
   "metadata": {},
   "source": [
    "## 3."
   ]
  },
  {
   "cell_type": "markdown",
   "metadata": {
    "cell_style": "center",
    "hideOutput": true
   },
   "source": [
    "Implement the function, **min_priority_queue**($L$), which takes a list, $L$, of $n$ elements, each of which is a dictionary. Each dictionary represents one of the three operations (with corresponding inputs), `\"insert\"`, `\"pop_min\"`, `\"decrease_key\"`, to be performed on a min-priority queue. E.g. `{\"op\":\"insert\",\"key\":5}` correspond to an insertion of key, `5`, whereas, `{\"op\":\"decrease_key\",\"new_key\":3,\"index\":2}` corresponds to decreasing the key value to `3` for an element with index, `2`, in the existing heap array. We assume that keys of the heap are stored in a zero-indexed array. *Note, in this question we only concern ourselves with storing keys and not values in the heap data structure.* <br>\n",
    "\n",
    "The function should output the keys in the same order as they are stored in the array, representing the heap data structure, after all operations provided in the input are executed."
   ]
  },
  {
   "cell_type": "markdown",
   "metadata": {},
   "source": [
    "### Examples:"
   ]
  },
  {
   "cell_type": "markdown",
   "metadata": {},
   "source": [
    "**Input:** `[{\"op\":\"insert\",\"key\":10},{\"op\":\"insert\",\"key\":5},{\"op\":\"insert\",\"key\":1},{\"op\":\"decrease_key\",\"new_key\":3,\"index\":2},{\"op\":\"pop_min\"}]` <br>\n",
    "**Output:** `[3,10]`"
   ]
  },
  {
   "cell_type": "markdown",
   "metadata": {},
   "source": [
    "**Input:**  `[{\"op\":\"insert\",\"key\":5},{\"op\":\"insert\",\"key\":4},{\"op\":\"insert\",\"key\":3},{\"op\":\"insert\",\"key\":2},{\"op\":\"decrease_key\",\"index\":2,\"new_key\":2},{\"op\":\"pop_min\"},{\"op\":\"pop_min\"},{\"op\":\"insert\",\"key\":9},{\"op\":\"insert\",\"key\":8},{\"op\":\"insert\",\"key\":7},{\"op\":\"insert\",\"key\":6}]` <br>\n",
    "**Output:**  `[3, 5, 6, 8, 7, 9]`"
   ]
  },
  {
   "cell_type": "markdown",
   "metadata": {},
   "source": [
    "### Constraints:\n",
    "\n",
    "- $1 \\leq n \\leq 1000$\n",
    "- All operations are valid (e.g. one never attempts to decrease a key for element with $index < 0$ or $index \\geq heap\\_size $ or attempt to pop an element from an empty queue)."
   ]
  },
  {
   "cell_type": "markdown",
   "metadata": {},
   "source": [
    "### Code:"
   ]
  },
  {
   "cell_type": "code",
   "execution_count": 22,
   "metadata": {},
   "outputs": [],
   "source": [
    "class Heap:\n",
    "    def __init__(self):\n",
    "        self.H = []\n",
    "        \n",
    "    @property\n",
    "    def size(self):\n",
    "        return len(self.H)\n",
    "        \n",
    "    def min_heapify(self, index):\n",
    "        \n",
    "        ileft, iright = self.children(index)\n",
    "        min_i = min( [ index, ileft, iright ], \n",
    "                     key=lambda i: self.H[i] if i < self.size else 1001 )\n",
    "        \n",
    "        if min_i == index:\n",
    "            return\n",
    "        \n",
    "        self.H[min_i], self.H[index] = self.H[index], self.H[min_i]\n",
    "        self.min_heapify(min_i)\n",
    "        \n",
    "    def children(self, i):\n",
    "        return [2*i+1, 2*i+2]\n",
    "        \n",
    "    def parent(self, i):\n",
    "        return int( (i-1)/2 )\n",
    "\n",
    "    def insert(self, key):\n",
    "        \n",
    "        self.H.append(1001)\n",
    "        self.decrease_key( self.size - 1, key )\n",
    "        \n",
    "    \n",
    "    def pop_min(self):\n",
    "        \n",
    "        min_value, self.H[0] = self.H[0], self.H.pop()\n",
    "        self.min_heapify(0)\n",
    "        \n",
    "        return min_value\n",
    "    \n",
    "        \n",
    "    def decrease_key(self, index, new_key):\n",
    "\n",
    "        self.H[index] = new_key\n",
    "        \n",
    "        while index > 0 and self.H[index] < self.H[self.parent(index)]:\n",
    "            self.H[index], self.H[self.parent(index)] = self.H[self.parent(index)], self.H[index]\n",
    "            index = self.parent(index)\n",
    "\n",
    "        \n",
    "def min_priority_queue(L):\n",
    "\n",
    "    heap = Heap()\n",
    "    \n",
    "    for op in L:\n",
    "        if op[\"op\"] == \"insert\":\n",
    "            heap.insert(op[\"key\"])\n",
    "        elif op[\"op\"] == \"pop_min\":\n",
    "            _ = heap.pop_min()\n",
    "        elif op[\"op\"] == \"decrease_key\":\n",
    "            heap.decrease_key(op[\"index\"],op[\"new_key\"])\n",
    "        else:\n",
    "            assert False, \"Invalid operation\"\n",
    "            \n",
    "    return heap.H[:heap.size]"
   ]
  },
  {
   "cell_type": "markdown",
   "metadata": {},
   "source": [
    "### Tests:"
   ]
  },
  {
   "cell_type": "markdown",
   "metadata": {},
   "source": [
    "##### Run example test case 1:"
   ]
  },
  {
   "cell_type": "code",
   "execution_count": 23,
   "metadata": {},
   "outputs": [
    {
     "name": "stdout",
     "output_type": "stream",
     "text": [
      "[3, 10]\n"
     ]
    }
   ],
   "source": [
    "input_value = [{\"op\":\"insert\",\"key\":10},{\"op\":\"insert\",\"key\":5},{\"op\":\"insert\",\"key\":1},{\"op\":\"decrease_key\",\"new_key\":3,\"index\":2},{\"op\":\"pop_min\"}]\n",
    "print (min_priority_queue(input_value))"
   ]
  },
  {
   "cell_type": "markdown",
   "metadata": {},
   "source": [
    "##### Run example test case 2:"
   ]
  },
  {
   "cell_type": "code",
   "execution_count": 20,
   "metadata": {},
   "outputs": [
    {
     "name": "stdout",
     "output_type": "stream",
     "text": [
      "[3, 5, 6, 8, 7, 9]\n"
     ]
    }
   ],
   "source": [
    "input_value = [{\"op\":\"insert\",\"key\":5},{\"op\":\"insert\",\"key\":4},{\"op\":\"insert\",\"key\":3},{\"op\":\"insert\",\"key\":2},{\"op\":\"decrease_key\",\"index\":2,\"new_key\":2},{\"op\":\"pop_min\"},{\"op\":\"pop_min\"},{\"op\":\"insert\",\"key\":9},{\"op\":\"insert\",\"key\":8},{\"op\":\"insert\",\"key\":7},{\"op\":\"insert\",\"key\":6}]\n",
    "print (min_priority_queue(input_value))"
   ]
  },
  {
   "cell_type": "markdown",
   "metadata": {},
   "source": [
    "## 4. "
   ]
  },
  {
   "cell_type": "markdown",
   "metadata": {
    "cell_style": "center"
   },
   "source": [
    "Write the function, **pairs**($L$), which, given a list, $L$, of $n$ non-negative integers, finds the number of distinct pairs, $(i, j)$, such that $j \\geq i $ and $L[i] = L[j]$. Your solution should have a linear worst-case run time."
   ]
  },
  {
   "cell_type": "markdown",
   "metadata": {},
   "source": [
    "### Examples:"
   ]
  },
  {
   "cell_type": "markdown",
   "metadata": {},
   "source": [
    "**Input:** `[5,2,1,5]` <br>\n",
    "**Output:** `5`"
   ]
  },
  {
   "cell_type": "markdown",
   "metadata": {},
   "source": [
    "**Input:**  `[1,2,3,4,1,1,1]` <br>\n",
    "**Output:**  `13`"
   ]
  },
  {
   "cell_type": "markdown",
   "metadata": {},
   "source": [
    "### Constraints:\n",
    "\n",
    "- $1\\leq n \\leq 10^6$.\n",
    "- $1\\leq A[i] \\leq 10^6$."
   ]
  },
  {
   "cell_type": "markdown",
   "metadata": {},
   "source": [
    "### Code:"
   ]
  },
  {
   "cell_type": "code",
   "execution_count": 36,
   "metadata": {},
   "outputs": [],
   "source": [
    "def pairs(L):\n",
    "    \n",
    "    counter = { x:0 for x in L }\n",
    "    \n",
    "    for x in L:\n",
    "        counter[x] += 1\n",
    "        \n",
    "    return sum([ x*(x+1)//2 for x in counter.values() ])"
   ]
  },
  {
   "cell_type": "markdown",
   "metadata": {},
   "source": [
    "### Tests:"
   ]
  },
  {
   "cell_type": "markdown",
   "metadata": {},
   "source": [
    "##### Run example test case 1:"
   ]
  },
  {
   "cell_type": "code",
   "execution_count": 37,
   "metadata": {},
   "outputs": [
    {
     "name": "stdout",
     "output_type": "stream",
     "text": [
      "5\n"
     ]
    }
   ],
   "source": [
    "input_value = [5,2,1,5]\n",
    "print (pairs(input_value))"
   ]
  },
  {
   "cell_type": "markdown",
   "metadata": {},
   "source": [
    "##### Run example test case 2:"
   ]
  },
  {
   "cell_type": "code",
   "execution_count": 38,
   "metadata": {},
   "outputs": [
    {
     "name": "stdout",
     "output_type": "stream",
     "text": [
      "13\n"
     ]
    }
   ],
   "source": [
    "input_value = [1,2,3,4,1,1,1]\n",
    "print (pairs(input_value))"
   ]
  },
  {
   "cell_type": "markdown",
   "metadata": {},
   "source": [
    "## 5. "
   ]
  },
  {
   "cell_type": "markdown",
   "metadata": {
    "cell_style": "center"
   },
   "source": [
    "Write a function, **close_pairs**($L$), which takes a list, $L$, of three elements, the first of which is a list of non-negative integer numbers, $A$, and the second and third of which are positive integer values, $\\delta_{index}$ and $\\delta_{value}$, respectively. This function should output a string, `\"true\"`, if array, $A$, contains a pair of indices, $(i,j)$, such that: \n",
    "1. $i \\neq j$, \n",
    "2. $\\lvert i-j\\rvert\\leq \\delta_{index}$ and \n",
    "3. $\\lvert A[i] - A[j]\\rvert \\leq \\delta_{value}$. <br>\n",
    "\n",
    "If such pair does not exist, the implemented function should return a string, `\"false\"`. Your solution should have linear average case run time performance. Note that you can use a python dictionary (i.e. `D = {}`) as an implementation of a hash table with an assumed constant average case run time cost for insertion, deletion and element search operations."
   ]
  },
  {
   "cell_type": "markdown",
   "metadata": {},
   "source": [
    "### Examples:"
   ]
  },
  {
   "cell_type": "markdown",
   "metadata": {},
   "source": [
    "**Input:** `[[1,50,4,8,16,12,2],1,1]` <br>\n",
    "**Output:** `\"false\"`"
   ]
  },
  {
   "cell_type": "markdown",
   "metadata": {},
   "source": [
    "**Input:**  `[[1,16,4,8,64,2,32],2,3]` <br>\n",
    "**Output:**  `\"true\"`"
   ]
  },
  {
   "cell_type": "markdown",
   "metadata": {},
   "source": [
    "### Constraints:\n",
    "\n",
    "- $1 \\leq \\text{len }(A) \\leq 10^4$.\n",
    "- $1 \\leq \\delta_{index} \\leq 10^4$.\n",
    "- $1 \\leq \\delta_{value} \\leq 10^6$.\n",
    "- $1 \\leq A[i] \\leq 10^6$."
   ]
  },
  {
   "cell_type": "markdown",
   "metadata": {},
   "source": [
    "### Code:"
   ]
  },
  {
   "cell_type": "code",
   "execution_count": null,
   "metadata": {},
   "outputs": [],
   "source": [
    "def close_pairs(L):\n",
    "    \n",
    "    A, di, dv = L\n",
    "    \n",
    "    tuples = [ (i, Ai) for i, Ai in enumerate(A) ]\n",
    "    \n",
    "    "
   ]
  },
  {
   "cell_type": "code",
   "execution_count": null,
   "metadata": {},
   "outputs": [],
   "source": [
    "| A[i] - A[j] | <= dv\n",
    "=>\n",
    "-dv <= A[i] - A[j] <= dv\n",
    "=>\n",
    "A[j] - dv <= A[i] and A[i] <= A[j] + dv"
   ]
  },
  {
   "cell_type": "markdown",
   "metadata": {},
   "source": [
    "### Tests:"
   ]
  },
  {
   "cell_type": "markdown",
   "metadata": {},
   "source": [
    "##### Run example test case 1:"
   ]
  },
  {
   "cell_type": "code",
   "execution_count": null,
   "metadata": {},
   "outputs": [],
   "source": [
    "input_value = [[1,50,4,8,16,12,2],1,1]\n",
    "print (close_pairs(input_value))"
   ]
  },
  {
   "cell_type": "markdown",
   "metadata": {},
   "source": [
    "##### Run example test case 2:"
   ]
  },
  {
   "cell_type": "code",
   "execution_count": null,
   "metadata": {},
   "outputs": [],
   "source": [
    "input_value = [[1,16,4,8,64,2,32],2,3]\n",
    "print (close_pairs(input_value))"
   ]
  },
  {
   "cell_type": "markdown",
   "metadata": {},
   "source": [
    "## 6."
   ]
  },
  {
   "cell_type": "markdown",
   "metadata": {
    "cell_style": "center"
   },
   "source": [
    "Write the function, **sort_strings**($S$), which takes a list, $S$, of strings and sorts it in the following order.\n",
    "1. If length of string, $a$, is smaller than length of string, $b$, then string, $a$, should be appearing in the output before string, $b$.\n",
    "2. If strings, $a$ and $b$, are of the same length, then string, $a$, should come before string, $b$, if $ord(a[i])$<$ord(b[i])$ where $i$ is the index of the first character for which $a[i]\\neq b[i]$. Note, $ord$, is a python function which converts a character into its ASCII integer value (e.g. `ord('a')=97`).\n",
    "\n",
    "Also note that a function, **get_character_dict**($S$), is provided. This function creates a dictionary, $char\\_dict$, which for each character used in $S$, computes its position in a ranked list of all characters used in $S$. "
   ]
  },
  {
   "cell_type": "markdown",
   "metadata": {},
   "source": [
    "### Examples:"
   ]
  },
  {
   "cell_type": "markdown",
   "metadata": {},
   "source": [
    "**Input:** `[\"abcd\", \"ab\", \"abc\", \"abcde\", \"a\",\"e\"]` <br>\n",
    "**Output:** `[\"a\", \"e\", \"ab\", \"abc\", \"abcd\", \"abcde\"]`"
   ]
  },
  {
   "cell_type": "markdown",
   "metadata": {},
   "source": [
    "**Input:**  `[\"314\", \"712\", \"632\", \"201\", \"111\",\"11\",\"1\",\"20\",\"5\",\"50\",\"1a\"]` <br>\n",
    "**Output:**  `[\"1\", \"5\", \"11\", \"1a\", \"20\", \"50\", \"111\", \"201\", \"314\", \"632\", \"712\"]`"
   ]
  },
  {
   "cell_type": "markdown",
   "metadata": {},
   "source": [
    "### Constraints:\n",
    "\n",
    "- $ 1\\leq \\text{len }(S) \\leq 100$."
   ]
  },
  {
   "cell_type": "markdown",
   "metadata": {},
   "source": [
    "### Code:"
   ]
  },
  {
   "cell_type": "code",
   "execution_count": null,
   "metadata": {},
   "outputs": [],
   "source": [
    "def get_character_dict(S):\n",
    "    \n",
    "    char_set = set([])\n",
    "    for s in S:\n",
    "        char_set=char_set | set(list(s))\n",
    "        \n",
    "    count = 0\n",
    "    char_dict={}\n",
    "    for c in sorted(list(char_set)):\n",
    "        char_dict[c]=count\n",
    "        count+=1\n",
    "    return char_dict\n",
    "\n",
    "def sort_strings(S):\n",
    " \n",
    "    char_dict = get_character_dict(S)\n",
    "\n",
    "    #Write your code here"
   ]
  },
  {
   "cell_type": "markdown",
   "metadata": {},
   "source": [
    "### Tests:"
   ]
  },
  {
   "cell_type": "markdown",
   "metadata": {},
   "source": [
    "##### Run example test case 1:"
   ]
  },
  {
   "cell_type": "code",
   "execution_count": null,
   "metadata": {},
   "outputs": [],
   "source": [
    "input_value = [\"abcd\", \"ab\", \"abc\", \"abcde\", \"a\",\"e\"]\n",
    "print (sort_strings(input_value))"
   ]
  },
  {
   "cell_type": "markdown",
   "metadata": {},
   "source": [
    "##### Run example test case 2:"
   ]
  },
  {
   "cell_type": "code",
   "execution_count": null,
   "metadata": {},
   "outputs": [],
   "source": [
    "input_value = [\"314\", \"712\", \"632\", \"201\", \"111\",\"11\",\"1\",\"20\",\"5\",\"50\",\"1a\"]\n",
    "print (sort_strings(input_value))"
   ]
  }
 ],
 "metadata": {
  "kernelspec": {
   "display_name": "Python 3 (ipykernel)",
   "language": "python",
   "name": "python3"
  },
  "language_info": {
   "codemirror_mode": {
    "name": "ipython",
    "version": 3
   },
   "file_extension": ".py",
   "mimetype": "text/x-python",
   "name": "python",
   "nbconvert_exporter": "python",
   "pygments_lexer": "ipython3",
   "version": "3.10.10"
  }
 },
 "nbformat": 4,
 "nbformat_minor": 4
}
