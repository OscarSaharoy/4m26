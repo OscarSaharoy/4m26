{
 "cells": [
  {
   "cell_type": "markdown",
   "metadata": {
    "hideCode": false
   },
   "source": [
    "\n",
    "# **4M26 - Examples Paper 2 - Advanced Data Structures** \n"
   ]
  },
  {
   "cell_type": "markdown",
   "metadata": {},
   "source": [
    "---\n",
    "<br>\n",
    "<br>"
   ]
  },
  {
   "cell_type": "markdown",
   "metadata": {},
   "source": [
    "## 1."
   ]
  },
  {
   "cell_type": "markdown",
   "metadata": {},
   "source": [
    "Briefly answer multiple questions below."
   ]
  },
  {
   "cell_type": "markdown",
   "metadata": {},
   "source": [
    "(i)&emsp; Explain the general idea of a hash function. If the data you are working with involves string of characters, suggest a scheme that might be used to compute reasonable hash values."
   ]
  },
  {
   "cell_type": "markdown",
   "metadata": {},
   "source": [
    "<div style=\"border-width:2px;border-style:solid;border-color:black;\">\n",
    "Write your answer here.\n",
    "</div>"
   ]
  },
  {
   "cell_type": "markdown",
   "metadata": {},
   "source": [
    "(ii)&emsp; Assume your hash table has a space for maximum of $n$ records in it but only $k$ are in use at some stage. You can assume that the open adressing scheme with double-hashing is used and the hash function has perfect \n",
    "statistical properties. Estimate the number of table accesses (probes) needed when inserting a new entry into the table."
   ]
  },
  {
   "cell_type": "markdown",
   "metadata": {},
   "source": [
    "<div style=\"border-width:2px;border-style:solid;border-color:black;\">\n",
    "Write your answer here.\n",
    "</div>"
   ]
  },
  {
   "cell_type": "markdown",
   "metadata": {},
   "source": [
    "&emsp; (iii)&emsp;  Given a binary search tree and a key that is present in it explain an efficient procedure that can be used to update the tree so that the deletion of the given key becomes straight-forward. Indicate expected costs for your procedure. In your answer you can assume that the tree is well balanced. What if the tree is not balanced?"
   ]
  },
  {
   "cell_type": "markdown",
   "metadata": {},
   "source": [
    "<div style=\"border-width:2px;border-style:solid;border-color:black;\">\n",
    "Write your answer here.\n",
    "</div>"
   ]
  },
  {
   "cell_type": "markdown",
   "metadata": {},
   "source": [
    "&emsp; (iv)&emsp; Suppose that the search for key, $k$, in a binary search tree ends up in a leaf.\n",
    "Consider three sets: $A$ - the keys to the left of the search path; $B$ - the keys on the\n",
    "search path; and $C$ - the keys to the right of the search path. Is the following claim correct: <i>any three keys $a\\in A$, $b \\in B$, and $c \\in C$ must satisfy $a\\leq b\\leq  c$</i>? Justify your answer."
   ]
  },
  {
   "cell_type": "markdown",
   "metadata": {},
   "source": [
    "<div style=\"border-width:2px;border-style:solid;border-color:black;\">\n",
    "Write your answer here.\n",
    "</div>"
   ]
  },
  {
   "cell_type": "markdown",
   "metadata": {},
   "source": [
    "&emsp; (v)&emsp; Given a binary search tree and a key that is present in it, describe a procedure that rearranges the tree so that the specified key is in the root of the updated tree. Is this always possible?"
   ]
  },
  {
   "cell_type": "markdown",
   "metadata": {},
   "source": [
    "<div style=\"border-width:2px;border-style:solid;border-color:black;\">\n",
    "Write your answer here.\n",
    "</div>"
   ]
  },
  {
   "cell_type": "markdown",
   "metadata": {},
   "source": [
    "&emsp; (vi)&emsp; What is a *red-black tree*? What are the key properties of red-black trees and what problem do they solve?  "
   ]
  },
  {
   "cell_type": "markdown",
   "metadata": {},
   "source": [
    "<div style=\"border-width:2px;border-style:solid;border-color:black;\">\n",
    "Write your answer here.\n",
    "</div>"
   ]
  },
  {
   "cell_type": "markdown",
   "metadata": {},
   "source": [
    "&emsp; (vii) Suppose that a priority queue is to be implemented using red-black trees. How can the smallest item in the queue be found? Starting from an empty queue how much work is required to build a queue with $n$ items in it? "
   ]
  },
  {
   "cell_type": "markdown",
   "metadata": {},
   "source": [
    "<div style=\"border-width:2px;border-style:solid;border-color:black;\">\n",
    "Write your answer here.\n",
    "</div>"
   ]
  },
  {
   "cell_type": "markdown",
   "metadata": {},
   "source": [
    "&emsp; (viii)&emsp; Give an upper and a lower bound for the number of nodes in B-tree of height, $h$, and degree, $t$. Hence if a B-tree holds $n$ values find an upper bound on its height."
   ]
  },
  {
   "cell_type": "markdown",
   "metadata": {},
   "source": [
    "<div style=\"border-width:2px;border-style:solid;border-color:black;\">\n",
    "Write your answer here.\n",
    "</div>"
   ]
  },
  {
   "cell_type": "markdown",
   "metadata": {},
   "source": [
    "&emsp; (ix)&emsp; Explain how search works in a B-tree. In your answer you can ignore disk read and write operations."
   ]
  },
  {
   "cell_type": "markdown",
   "metadata": {},
   "source": [
    "<div style=\"border-width:2px;border-style:solid;border-color:black;\">\n",
    "Write your answer here.\n",
    "</div>"
   ]
  },
  {
   "cell_type": "markdown",
   "metadata": {},
   "source": [
    "## 2."
   ]
  },
  {
   "cell_type": "markdown",
   "metadata": {
    "cell_style": "center",
    "hideOutput": true
   },
   "source": [
    "Write the function, **rolling_hash(**$S$**)**, which:<br>\n",
    "\n",
    "&emsp; (i) takes a two element list, $S$, which contains two strings of length $n$ and $m$ correspondingly and; <br>\n",
    "\n",
    "&emsp; (ii) finds the index of the first location in the string, $S[1]$, starting from which the string, $S[0]$, appears in string, $S[1]$, in full. If the first string is not a substring of the second string, your function should output, `-1`. <br>\n",
    "\n",
    "The expected runtime complexity of your method should be $O(m+n)$ when a substring can not be found and the expected number of collisions in the hash table is constant for a typical input."
   ]
  },
  {
   "cell_type": "markdown",
   "metadata": {},
   "source": [
    "### Examples:"
   ]
  },
  {
   "cell_type": "markdown",
   "metadata": {},
   "source": [
    "**Input:** `[\"abc\",\"abcdefgh\"]` <br>\n",
    "**Output:** `0`"
   ]
  },
  {
   "cell_type": "markdown",
   "metadata": {},
   "source": [
    "**Input:**  `[\"fgh\",\"abcdefgh\"]` <br>\n",
    "**Output:**  `5`"
   ]
  },
  {
   "cell_type": "markdown",
   "metadata": {},
   "source": [
    "### Constraints:\n",
    "\n",
    "- $1 \\leq n \\leq 1000$.\n",
    "- $1 \\leq m \\leq 1000$."
   ]
  },
  {
   "cell_type": "markdown",
   "metadata": {},
   "source": [
    "### Code:"
   ]
  },
  {
   "cell_type": "code",
   "execution_count": null,
   "metadata": {},
   "outputs": [],
   "source": [
    "def rolling_hash(S):\n",
    "    \n",
    "    #Write your code here"
   ]
  },
  {
   "cell_type": "markdown",
   "metadata": {},
   "source": [
    "### Tests:"
   ]
  },
  {
   "cell_type": "markdown",
   "metadata": {},
   "source": [
    "##### Run example test case 1:"
   ]
  },
  {
   "cell_type": "code",
   "execution_count": null,
   "metadata": {},
   "outputs": [],
   "source": [
    "input_value = [\"abc\",\"abcdefgh\"]\n",
    "print (rolling_hash(input_value))"
   ]
  },
  {
   "cell_type": "markdown",
   "metadata": {},
   "source": [
    "##### Run example test case 2:"
   ]
  },
  {
   "cell_type": "code",
   "execution_count": null,
   "metadata": {},
   "outputs": [],
   "source": [
    "input_value = [\"fgh\",\"abcdefgh\"]\n",
    "print (rolling_hash(input_value))"
   ]
  },
  {
   "cell_type": "markdown",
   "metadata": {},
   "source": [
    "## 3."
   ]
  },
  {
   "cell_type": "markdown",
   "metadata": {
    "cell_style": "center"
   },
   "source": [
    "Write functions, **inorder**($node$), **preorder**($node$), **postorder**($node$), each of which traverses a binary search tree in the corresponding order. \n",
    "\n",
    "You are provided with the function, **bst_manipulate**($insert\\_keys$), which takes a list of keys as an input, creates a binary search tree (BST), using $BinarySearchTree$ class and calls the aforementioned BST traversal functions to be implemented. The list of three lists containing keys in the order of inorder, preorder and postorder traversal of the BST is returned as an output."
   ]
  },
  {
   "cell_type": "markdown",
   "metadata": {},
   "source": [
    "### Examples:"
   ]
  },
  {
   "cell_type": "markdown",
   "metadata": {},
   "source": [
    "**Input:** `[2, 1, 3]` <br>\n",
    "**Output:** `[[1, 2, 3],[2, 1, 3],[1, 3, 2]]`"
   ]
  },
  {
   "cell_type": "markdown",
   "metadata": {},
   "source": [
    "**Input:**  `[5, 3, 2, 7, 1, 8, 9, 12]` <br>\n",
    "**Output:**  `[[1, 2, 3, 5, 7, 8, 9, 12],[5, 3, 2, 1, 7, 8, 9, 12],[1, 2, 3, 12, 9, 8, 7, 5]]`"
   ]
  },
  {
   "cell_type": "markdown",
   "metadata": {},
   "source": [
    "### Constraints:\n",
    "\n",
    "- Keys are assumed to be unique, integer values.\n",
    "- $1\\leq \\text{len}(insert\\_keys) \\leq 100$. "
   ]
  },
  {
   "cell_type": "markdown",
   "metadata": {},
   "source": [
    "### Code:"
   ]
  },
  {
   "cell_type": "code",
   "execution_count": null,
   "metadata": {},
   "outputs": [],
   "source": [
    "from utils.binary_search_tree import BinarySearchTree, Node, insert\n",
    "\n",
    "def inorder(node):\n",
    "    \n",
    "    #Write your code here\n",
    "    \n",
    "def preorder(node):    \n",
    "    \n",
    "    #Write your code here\n",
    "    \n",
    "def postorder(node):\n",
    "    \n",
    "    #Write your code here\n",
    "    \n",
    "def bst_manipulate(insert_keys):\n",
    "    \n",
    "    bst = BinarySearchTree()\n",
    "    \n",
    "    node_list = [Node(key) for key in insert_keys]\n",
    "    \n",
    "    for node in node_list:\n",
    "        insert(bst, node)\n",
    "    \n",
    "    return [inorder(bst.root),preorder(bst.root),postorder(bst.root)]"
   ]
  },
  {
   "cell_type": "markdown",
   "metadata": {},
   "source": [
    "### Tests:"
   ]
  },
  {
   "cell_type": "markdown",
   "metadata": {},
   "source": [
    "##### Run example test case 1:"
   ]
  },
  {
   "cell_type": "code",
   "execution_count": null,
   "metadata": {},
   "outputs": [],
   "source": [
    "input_value = [5, 3, 2, 7, 1, 8, 9, 12]\n",
    "print (bst_manipulate(input_value))"
   ]
  },
  {
   "cell_type": "markdown",
   "metadata": {},
   "source": [
    "##### Run example test case 2:"
   ]
  },
  {
   "cell_type": "code",
   "execution_count": null,
   "metadata": {},
   "outputs": [],
   "source": [
    "input_value = [2, 1, 3]\n",
    "print (bst_manipulate(input_value))"
   ]
  },
  {
   "cell_type": "markdown",
   "metadata": {},
   "source": [
    "## 4. "
   ]
  },
  {
   "cell_type": "markdown",
   "metadata": {
    "cell_style": "center"
   },
   "source": [
    "Write the function, **delete**($bst$, $node$), which deletes a node, $node$, from a binary search tree, $bst$. \n",
    "\n",
    "You are provided with the function, **bst_delete**($delete\\_keys$), which takes a list of keys to be deleted as an input, creates a binary search tree (BST), using a provided $BinarySearchTree$ class, and then calls the **delete** function for nodes with keys in $delete\\_keys$ list.\n",
    "\n",
    "Note, this question can be tackled at varying diffuculty. In the easiest case, access to functions **minimum**($node$), **shift_nodes**($bst$,$old\\_node$,$new\\_node$) is allowed. The former function finds the node with the smallest key in the subtree of node, $node$. The latter function, shifts the nodes from the subtree at $new\\_node$ to the position of $old\\_node$. \n",
    "\n",
    "In the hardest case, one should attempt to implement the whole delete procedure, including the aforementioned functions."
   ]
  },
  {
   "cell_type": "markdown",
   "metadata": {},
   "source": [
    "### Examples:\n",
    "\n",
    "In all test examples it is assumed that the tree is first built by inserting nodes with the following keys: `[5, 3, 2, 7, 1, 8, 9, 12]`."
   ]
  },
  {
   "cell_type": "markdown",
   "metadata": {},
   "source": [
    "**Input:** `[5]` <br>\n",
    "**Output:** `[7, 3, 2, 1, 8, 9, 12]`"
   ]
  },
  {
   "cell_type": "markdown",
   "metadata": {},
   "source": [
    "**Input:**  `[7,1,8]` <br>\n",
    "**Output:**  `[5, 3, 2, 9, 12]`"
   ]
  },
  {
   "cell_type": "markdown",
   "metadata": {},
   "source": [
    "### Constraints:\n",
    "\n",
    "- Keys are assumed to be unique, integer values.\n",
    "- $1\\leq \\text{len}(insert\\_keys) \\leq 100$. \n",
    "- Each key that is about to be deleted is guaranteed to exist in the tree."
   ]
  },
  {
   "cell_type": "markdown",
   "metadata": {},
   "source": [
    "### Code:"
   ]
  },
  {
   "cell_type": "code",
   "execution_count": null,
   "metadata": {},
   "outputs": [],
   "source": [
    "from utils.binary_search_tree import BinarySearchTree, Node, insert, preorder, search\n",
    "from utils.binary_search_tree import minimum, shift_nodes\n",
    "\n",
    "def delete(bst, node):\n",
    "\n",
    "    #Write your code here\n",
    "\n",
    "def bst_delete(delete_keys):\n",
    "    \n",
    "    bst = BinarySearchTree()\n",
    "    \n",
    "    insert_keys = [5, 3, 2, 7, 1, 8, 9, 12]\n",
    "    node_list = [Node(key) for key in insert_keys]\n",
    "    \n",
    "    for node in node_list:\n",
    "        insert(bst, node)\n",
    "\n",
    "    for key in delete_keys:\n",
    "        node = search(key,bst.root)\n",
    "        delete(bst, node)\n",
    "        \n",
    "    return preorder(bst.root)"
   ]
  },
  {
   "cell_type": "markdown",
   "metadata": {},
   "source": [
    "### Tests:"
   ]
  },
  {
   "cell_type": "markdown",
   "metadata": {},
   "source": [
    "##### Run example test case 1:"
   ]
  },
  {
   "cell_type": "code",
   "execution_count": null,
   "metadata": {},
   "outputs": [],
   "source": [
    "input_value = [5]\n",
    "print (bst_delete(input_value))"
   ]
  },
  {
   "cell_type": "markdown",
   "metadata": {},
   "source": [
    "##### Run example test case 2:"
   ]
  },
  {
   "cell_type": "code",
   "execution_count": null,
   "metadata": {},
   "outputs": [],
   "source": [
    "input_value = [7,1,8]\n",
    "print (bst_delete(input_value))"
   ]
  },
  {
   "cell_type": "markdown",
   "metadata": {},
   "source": [
    "## 5. "
   ]
  },
  {
   "cell_type": "markdown",
   "metadata": {
    "cell_style": "center"
   },
   "source": [
    "Below you can find a partial code ($IntervalRedBlackTree$ class) to implement an interval tree by building upon a red-black tree ($RedBlackTree$ class). <br>\n",
    "\n",
    "An interval is represented by a list of two numbers (e.g. [$low$,$high$]) indicating the lower and higher end of the interval correspondingly.  An interval tree is a binary search tree in which all intervals of all the nodes on the left child subtree of a particular node have their lower value lower than the $low$ value of this node and all intervals of the nodes on the subtree of the right child have their lower value higher than the $low$ value of the interval of this particular node. Ie. it is similar to a binary search tree where keys are represented by lower ends of intervals. However, additional information is stored in the node attributes (see $IntervalNode$ class).\n",
    "\n",
    "An important operation on interval trees is finding a node which overlaps with an interval of interest. Write the function, **search_interval**($self$,$interval$), which implements the aforementioned functionality for a $IntervalRedBlackTree$ class. Note, your implementation may need a function, **update_max_value**($self$,$node$), which for a particular node and its children updates the attribute, $max\\_val$, which stores to the maximum $high$ value of all intervals in the subtree of that particular node.\n",
    "\n",
    "Note, you are provided with the function, **manipulate_interval_tree**($interval$), which creates an interval tree, calls **update_max_value** function for the root node (runtime $O(n)$, $n$ - number of intervals in a tree) and returns the output of the **search_interval** function. "
   ]
  },
  {
   "cell_type": "markdown",
   "metadata": {},
   "source": [
    "### Examples:"
   ]
  },
  {
   "cell_type": "markdown",
   "metadata": {},
   "source": [
    "**Input:** `[11,13]` <br>\n",
    "**Output:** `Node(key/low = 13, high=14 color=red, max_val=14), parent=9, left=Nil, right=Nil`"
   ]
  },
  {
   "cell_type": "markdown",
   "metadata": {},
   "source": [
    "**Input:**  `[-7,-9]` <br>\n",
    "**Output:**  `Node(Nil, color=black)`"
   ]
  },
  {
   "cell_type": "markdown",
   "metadata": {},
   "source": [
    "### Constraints:\n",
    "\n",
    "- $1 \\leq n \\leq 100$."
   ]
  },
  {
   "cell_type": "markdown",
   "metadata": {},
   "source": [
    "### Code:"
   ]
  },
  {
   "cell_type": "code",
   "execution_count": null,
   "metadata": {},
   "outputs": [],
   "source": [
    "from utils.red_black_tree import RedBlackTree, Node, Nil\n",
    "\n",
    "class IntervalNode(Node):\n",
    "\n",
    "    def __init__(self, low, high, parent=None, left=None, right=None, color=None,max_val=None):\n",
    "   \n",
    "        self.high = high #High end of an interval\n",
    "        self.max_val = max_val, #The largest high end value of all intervals of the subtree of this node\n",
    "        super().__init__(low, parent = parent, left = left, right = right, color = color)\n",
    "        \n",
    "        \n",
    "    def __repr__(self):\n",
    "        summary = f\"Node(key/low = {self.key}, high={self.high} color={self.color}, max_val={self.max_val})\"\n",
    "        \n",
    "        if self.parent:\n",
    "            summary += f\", parent={self.parent.key}\"\n",
    "        if self.left:\n",
    "            summary += f\", left={self.left.key}\"\n",
    "        if self.right:\n",
    "            summary += f\", right={self.right.key}\"\n",
    "        return summary\n",
    "    \n",
    "class IntervalRedBlackTree(RedBlackTree):\n",
    " \n",
    "    def __init__(self):\n",
    "        super().__init__()\n",
    "        \n",
    "    def update_max_value(self,node):\n",
    "        \n",
    "        #Write your code here \n",
    "                \n",
    "    def search_interval(self,interval):\n",
    "        \n",
    "        #Write your code here\n",
    "        \n",
    "def manipulate_interval_tree(interval):\n",
    "    \n",
    "    rbt = IntervalRedBlackTree()\n",
    "    \n",
    "    interval_list = [[5,6], [3,4], [2,3], [7,8], [1,2], [8,9], [9,10], [13,14]]\n",
    "                     \n",
    "    node_list = [IntervalNode(interval[0],interval[1]) for interval in interval_list]\n",
    "\n",
    "    for node in node_list:\n",
    "        rbt.insert(node)\n",
    "\n",
    "    rbt.update_max_value(rbt.root)\n",
    "    \n",
    "    return rbt.search_interval(interval)"
   ]
  },
  {
   "cell_type": "markdown",
   "metadata": {},
   "source": [
    "### Tests:"
   ]
  },
  {
   "cell_type": "markdown",
   "metadata": {},
   "source": [
    "##### Run example test case 1:"
   ]
  },
  {
   "cell_type": "code",
   "execution_count": null,
   "metadata": {},
   "outputs": [],
   "source": [
    "input_value = [11,13]\n",
    "print (manipulate_interval_tree(input_value))"
   ]
  },
  {
   "cell_type": "markdown",
   "metadata": {},
   "source": [
    "##### Run example test case 2:"
   ]
  },
  {
   "cell_type": "code",
   "execution_count": null,
   "metadata": {},
   "outputs": [],
   "source": [
    "input_value = [-7,-9]\n",
    "print (manipulate_interval_tree(input_value))"
   ]
  },
  {
   "cell_type": "markdown",
   "metadata": {},
   "source": [
    "## 6."
   ]
  },
  {
   "cell_type": "markdown",
   "metadata": {
    "cell_style": "center"
   },
   "source": [
    "A B-tree of minimum degree, $t$, is a data structure with the property that every node may contain at most $2t-1$ keys. For this question, we will assume that all keys are distinct, that all nodes contain keys but not values, and that all nodes of the B-tree fit into memory (no disk read or writes are required).\n",
    "\n",
    "Implement a function to insert a given key, $key$, in a B-tree by completing the **insert_key**($key$) function below. For a B-tree storing $n$ keys, your solution should run in $O(t\\log_t n)$ time.\n",
    "\n",
    "Note that the function, **insert_key**, is implemented for a class, $Btree\\_new$, which is derived from an original $Btree$ implementation provided with the lectures. Additional code is also provided in function, **btree_manipulate**($key\\_list$), which helps to initialise initialise a B-tree, calls your function to insert a list of keys, visualises it, and then deletes a multiple keys in a sequence from a Btree. A list $key\\_list$ containing two lists of keys to insert and keys to delete is provided as an input to **btree_manipulate**. The minimum and maximum keys left after insertion and deletion steps are performed should be returned by **btree_manipulate**. <br>\n",
    "\n",
    "<i>Remark. Insertion operation in a Btree is not examinable, however, it is a very useful exercise to implement this operation as it helps to understand the inner workings of the Btree. If you find that the implementation is taking too long, you can attempt implementing a search function instead</i>."
   ]
  },
  {
   "cell_type": "markdown",
   "metadata": {},
   "source": [
    "### Examples:"
   ]
  },
  {
   "cell_type": "markdown",
   "metadata": {},
   "source": [
    "**Input:** `[[5, 3, 2, 7, 1, 8, 9, 12, 13, 4, 0, 6, -1, 19, 24, 25, -2, -3, -4, -5],[25,24,19]]` <br>\n",
    "**Output:** `Minimum key: -5, maximum key: 24` <br>\n",
    "\n",
    "**Explanation:** <br>\n",
    "\n",
    "Tree before deletion:\n",
    "<img src=\"./utils/btree_1.png\" border=\"0\" class=\"bg-primary\" width=\"400px\">\n",
    "Tree after deletion:\n",
    "<img src=\"./utils/btree_1-after-deletions.png\" border=\"0\" class=\"bg-primary\" width=\"400px\">"
   ]
  },
  {
   "cell_type": "markdown",
   "metadata": {},
   "source": [
    "**Input:**  `[[5, 3, 2, 7, 1],[2,7]]` <br>\n",
    "**Output:**  `Minimum key: 1, maximum key: 5` <br>\n",
    "\n",
    "**Explanation:** <br>\n",
    "\n",
    "Tree before deletion:\n",
    "<img src=\"./utils/btree_2.png\" border=\"0\" class=\"bg-primary\" width=\"100px\">\n",
    "Tree after deletion:\n",
    "<img src=\"./utils/btree_2-after-deletions.png\" border=\"0\" class=\"bg-primary\" width=\"100px\">"
   ]
  },
  {
   "cell_type": "markdown",
   "metadata": {},
   "source": [
    "### Constraints:\n",
    "\n",
    "- $ 1\\leq n \\leq 100$.\n",
    "- Each key that is about to be deleted is guaranteed to exist in the B-tree."
   ]
  },
  {
   "cell_type": "markdown",
   "metadata": {},
   "source": [
    "### Code:"
   ]
  },
  {
   "cell_type": "code",
   "execution_count": null,
   "metadata": {},
   "outputs": [],
   "source": [
    "from utils.btree import Btree, Node\n",
    "from pathlib import Path\n",
    "from matplotlib import pyplot as plt\n",
    "import cv2\n",
    "\n",
    "class Btree_new(Btree):\n",
    "    def __init__(self, t):     \n",
    "        super().__init__(t,root=Node(is_leaf=True),verbose=False)\n",
    "        \n",
    "    def insert_key(self, key):\n",
    "        \n",
    "        # Write your code here\n",
    "\n",
    "def btree_manipulate(key_list):\n",
    "    \n",
    "    insert_keys, keys_to_delete = key_list[0], key_list[1]\n",
    "   \n",
    "    btree = Btree_new(t=2)\n",
    "    \n",
    "    for key in insert_keys:\n",
    "        btree.insert_key(key)\n",
    "\n",
    "    btree.viz_btree(dest_path=Path(\"btree.png\"), refresh=True)\n",
    "    \n",
    "    print('Before deletion:')\n",
    "    plt.imshow(cv2.imread(\"btree.png\")[:,:,::-1])\n",
    "    plt.show()\n",
    "   \n",
    "    print(\"Keys to be deleted:\")\n",
    "    print(keys_to_delete)\n",
    "    \n",
    "    for key in keys_to_delete:\n",
    "        btree.delete(btree.root, key) \n",
    "\n",
    "    btree.viz_btree(dest_path=Path(\"btree-after-deletions.png\"), refresh=True)\n",
    "    \n",
    "    print('After deletion:')\n",
    "    plt.imshow(cv2.imread(\"btree-after-deletions.png\")[:,:,::-1])\n",
    "    plt.show()\n",
    "    \n",
    "    return \"Minimum key: \"+str(btree.minimum(btree.root))+', maximum key: '+str(btree.maximum(btree.root))"
   ]
  },
  {
   "cell_type": "markdown",
   "metadata": {},
   "source": [
    "### Tests:"
   ]
  },
  {
   "cell_type": "markdown",
   "metadata": {},
   "source": [
    "##### Run example test case 1:"
   ]
  },
  {
   "cell_type": "code",
   "execution_count": null,
   "metadata": {},
   "outputs": [],
   "source": [
    "input_value = [[5, 3, 2, 7, 1, 8, 9, 12, 13, 4, 0, 6, -1, 19, 24, 25, -2, -3, -4, -5],[25,24,19]]\n",
    "print (btree_manipulate(input_value))"
   ]
  },
  {
   "cell_type": "markdown",
   "metadata": {},
   "source": [
    "##### Run example test case 2:"
   ]
  },
  {
   "cell_type": "code",
   "execution_count": null,
   "metadata": {},
   "outputs": [],
   "source": [
    "input_value = [[5, 3, 2, 7, 1],[2,7]]\n",
    "print (btree_manipulate(input_value))"
   ]
  }
 ],
 "metadata": {
  "kernelspec": {
   "display_name": "Python 3 (ipykernel)",
   "language": "python",
   "name": "python3"
  },
  "language_info": {
   "codemirror_mode": {
    "name": "ipython",
    "version": 3
   },
   "file_extension": ".py",
   "mimetype": "text/x-python",
   "name": "python",
   "nbconvert_exporter": "python",
   "pygments_lexer": "ipython3",
   "version": "3.10.10"
  }
 },
 "nbformat": 4,
 "nbformat_minor": 4
}
