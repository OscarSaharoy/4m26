{
 "cells": [
  {
   "cell_type": "markdown",
   "metadata": {},
   "source": [
    "<b>CANDIDATE NUMBER:</b>"
   ]
  },
  {
   "cell_type": "markdown",
   "metadata": {},
   "source": [
    "<div style=\"border-width:2px;border-style:solid;border-color:black;\">[TO FILL]</div>"
   ]
  },
  {
   "cell_type": "markdown",
   "metadata": {},
   "source": [
    "<hr>\n",
    "Version: IB/2"
   ]
  },
  {
   "cell_type": "markdown",
   "metadata": {},
   "source": [
    "EGT3<br>\n",
    "ENGINEERING TRIPOS PART IIB\n",
    "\n",
    "<br>\n",
    "\n",
    "<hr>\n",
    "<b>Thursday 16 March 2023 &emsp; 4 to 6.30</b>\n",
    "<hr>\n",
    "\n",
    "<b>Module 4M26</b> <br>\n",
    "\n",
    "<b>ALGORITHMS AND DATA STRUCTURES</b><br>\n",
    "\n",
    "<i>Answer not more than <b>three</b> questions.</i>\n",
    "\n",
    "<i>All questions carry the same number of marks.</i>\n",
    "\n",
    "<i>The <b>approximate</b> percentage of marks allocated to each part of a question is indicated in the right margin.</i>\n",
    "\n",
    "<i>Write your candidate number  <b><u>not</u></b> your name on the cover sheet.</i>\n",
    "\n",
    "<i>The runtime of a successful test case should be no longer than 10 seconds when run on a standard DPO machine.</i>\n",
    "\n",
    "<i>No access to internet or other resources is permitted.</i>\n",
    "\n",
    "<i>Solutions should not use and import any python libraries. Only default Python data structures are to be used.</i> <br>\n",
    "\n",
    "<b>STATIONERY REQUIREMENTS</b> <br>\n",
    "Single-sided script paper<br>\n",
    "\n",
    "<b>SPECIAL REQUIREMENTS TO BE SUPPLIED FOR THIS EXAM</b> <br>\n",
    "CUED approved calculator allowed<br>\n",
    "Engineering Data Book<br>\n",
    "DPO computer<br>\n",
    "\n",
    "<b>10 minutes reading time is allowed for this paper at the start of\n",
    "the test.</b><br>\n",
    "\n",
    "<b>You may not start to read the questions printed on the subsequent pages of this question paper until instructed to do so.</b><br>\n",
    "\n",
    "<b>You may not remove any stationery from the Examination Room.</b>"
   ]
  },
  {
   "cell_type": "markdown",
   "metadata": {},
   "source": [
    "<hr>\n",
    "<br>\n",
    "<br>\n",
    "<br>\n",
    "<br>\n",
    "<br>\n",
    "<br>"
   ]
  },
  {
   "cell_type": "markdown",
   "metadata": {},
   "source": [
    "<h1> 1.</h1> "
   ]
  },
  {
   "cell_type": "markdown",
   "metadata": {},
   "source": [
    "(a) Let $S=\\{a_1,a_2,\\cdots,a_n\\}$ be a set of $n$ activities that wish to use a resource (e.g. a lecture hall), which can serve only one activity at a time. The set of activities satisfies the following properties:<br><br>\n",
    "\n",
    "&emsp; (i) each activity, $a_i$, has a start time, $s_i$, and a finish time, $f_i$; <br>\n",
    "&emsp; (ii) if selected, activity, $a_i$, takes place during the half-open time interval $[s_i,f_i)$; <br>\n",
    "&emsp; (iii) activities, $a_i$ and $a_j$, are compatible if the intervals, $[s_i,f_i)$ and $[s_j,f_j)$, do not overlap.  <br><br>\n",
    "\n",
    "Write the function, **activity_selection**($A$), which takes in a list of lists, $A$, such that $A[i][0]=s_i$, $A[i][1]=f_i$, as an input and outputs the size of the maximum subset of mutually compatible activities.<br><br>\n",
    "\n",
    "Your solution should have $\\Theta(n \\log n)$ run time.\n",
    "<div style=\"text-align: right\">[30%]</div>"
   ]
  },
  {
   "cell_type": "markdown",
   "metadata": {},
   "source": [
    "### Examples:"
   ]
  },
  {
   "cell_type": "markdown",
   "metadata": {},
   "source": [
    "**Input:** `[[1,3],[1,8],[2,6],[7,10]]` <br>\n",
    "**Output:** `2`"
   ]
  },
  {
   "cell_type": "markdown",
   "metadata": {},
   "source": [
    "**Input:** `[[0,11],[2,6],[4,7],[5,10],[7,11],[10,13],[12,14]]` <br>\n",
    "**Output:** `3`"
   ]
  },
  {
   "cell_type": "markdown",
   "metadata": {},
   "source": [
    "### Constraints:\n",
    "\n",
    "- $1 \\leq n \\leq 1000$.\n",
    "- $0\\leq s_i < f_i \\leq 10^6$."
   ]
  },
  {
   "cell_type": "markdown",
   "metadata": {},
   "source": [
    "### Code:"
   ]
  },
  {
   "cell_type": "code",
   "execution_count": 1,
   "metadata": {},
   "outputs": [],
   "source": [
    "def activity_selection(A):\n",
    "        \n",
    "    sorted_by_end = sorted( A, key = lambda x: x[1] )\n",
    "    \n",
    "    end = 0\n",
    "    n = 0\n",
    "    \n",
    "    for ac in sorted_by_end:\n",
    "        if ac[0] >= end:\n",
    "            n += 1\n",
    "            end = ac[1]\n",
    "            \n",
    "    return n"
   ]
  },
  {
   "cell_type": "markdown",
   "metadata": {},
   "source": [
    "### Tests:"
   ]
  },
  {
   "cell_type": "markdown",
   "metadata": {},
   "source": [
    "##### Run example test case 1:"
   ]
  },
  {
   "cell_type": "code",
   "execution_count": 2,
   "metadata": {},
   "outputs": [
    {
     "name": "stdout",
     "output_type": "stream",
     "text": [
      "2\n"
     ]
    }
   ],
   "source": [
    "input_value = [[1,3],[1,8],[2,6],[7,10]]\n",
    "print (activity_selection(input_value))"
   ]
  },
  {
   "cell_type": "markdown",
   "metadata": {},
   "source": [
    "##### Run example test case 2:"
   ]
  },
  {
   "cell_type": "code",
   "execution_count": 3,
   "metadata": {},
   "outputs": [
    {
     "name": "stdout",
     "output_type": "stream",
     "text": [
      "3\n"
     ]
    }
   ],
   "source": [
    "input_value = [[0,11],[2,6],[4,7],[5,10],[7,11],[10,13],[12,14]]\n",
    "print (activity_selection(input_value))"
   ]
  },
  {
   "cell_type": "markdown",
   "metadata": {},
   "source": [
    "#### Automatic Evaluation:"
   ]
  },
  {
   "cell_type": "markdown",
   "metadata": {},
   "source": [
    "<i><b><font color='red'>Do not forget to run on all test cases when your final implementation is finished!</font></b></i>"
   ]
  },
  {
   "cell_type": "code",
   "execution_count": 4,
   "metadata": {},
   "outputs": [
    {
     "name": "stdout",
     "output_type": "stream",
     "text": [
      "----------------------------------\n",
      "Evaluating question 1, part a\n",
      "Running question 1, part a, test id: 1\n",
      "Input:\n",
      "[[1, 3], [1, 8], [2, 6], [7, 10]]\n",
      "Obtained output:\n",
      "2\n",
      "<<CORRECT>>\n",
      "Running question 1, part a, test id: 2\n",
      "Input:\n",
      "[[0, 11], [2, 6], [4, 7], [5, 10], [7, 11], [10, 13], [12, 14]]\n",
      "Obtained output:\n",
      "3\n",
      "<<CORRECT>>\n",
      "Running question 1, part a, test id: 3\n",
      "Input:\n",
      "[[1, 100]]\n",
      "Obtained output:\n",
      "1\n",
      "<<CORRECT>>\n",
      "Running question 1, part a, test id: 4\n",
      "Input:\n",
      "[[1, 3], [7, 9], [6, 8], [2, 4], [4, 6], [5, 7], [3, 5]]\n",
      "Obtained output:\n",
      "4\n",
      "<<CORRECT>>\n",
      "Running question 1, part a, test id: 5\n",
      "Input:\n",
      "[[1, 2], [1, 3], [1, 4], [1, 5], [1, 6], [2, 3], [1, 7], [1, 8], [1, 9], [1, 10], [1, 11], [1, 12], [1, 13]]\n",
      "Obtained output:\n",
      "2\n",
      "<<CORRECT>>\n",
      "-----------------\n",
      "Total correct outputs:\n",
      "5 out of 5\n",
      "----------------------------------\n"
     ]
    }
   ],
   "source": [
    "#DO NOT EDIT THIS CODE!\n",
    "from evaluation_script import evaluate_solution \n",
    "evaluate_solution(question_id=1,question_part_id='a',function=activity_selection,\n",
    "                  test_case_list=[1,2,3,4,5],verbose=True)"
   ]
  },
  {
   "cell_type": "markdown",
   "metadata": {},
   "source": [
    "(b) Explain why your algorithm described in Part (a) is correct. Derive its run time complexity in detail. <div style=\"text-align: right\">[15%]</div>"
   ]
  },
  {
   "cell_type": "markdown",
   "metadata": {},
   "source": [
    "<div style=\"border-width:2px;border-style:solid;border-color:black;\">\n",
    "Write your answer here.\n",
    "</div>"
   ]
  },
  {
   "cell_type": "markdown",
   "metadata": {},
   "source": [
    "(c) Give brief answers to the following questions."
   ]
  },
  {
   "cell_type": "markdown",
   "metadata": {},
   "source": [
    "&emsp; (i) A set of items are held in a linked list. The list is (already) sorted, and it contains $n$ items. What are the best, worst and average case costs of looking up an item that is already present in the list, and what are the costs of verifying that an item is not present? In case of average cost analysis, state your assumptions made about the nature of inputs to your look up procedure.  <div style=\"text-align: right\">[10%]</div>"
   ]
  },
  {
   "cell_type": "markdown",
   "metadata": {},
   "source": [
    "<div style=\"border-width:2px;border-style:solid;border-color:black;\">\n",
    "Write your answer here.\n",
    "</div>"
   ]
  },
  {
   "cell_type": "markdown",
   "metadata": {},
   "source": [
    "&emsp; (ii) Show that the solution to the recurrence $f(n)=\\begin{cases}  1 & n \\leq 2, \\\\2f(\\lfloor\\frac{n}{2}\\rfloor+1)+n & n>2 \\end{cases}$ is asymptotically bounded by $O(n\\log n)$. <div style=\"text-align: right\">[10%]</div>"
   ]
  },
  {
   "cell_type": "markdown",
   "metadata": {},
   "source": [
    "<div style=\"border-width:2px;border-style:solid;border-color:black;\">\n",
    "Write your answer here.\n",
    "</div>"
   ]
  },
  {
   "cell_type": "markdown",
   "metadata": {},
   "source": [
    "&emsp; (iii) Explain the differences (if any) in the run time performance and/or memory requirements between a recursive solution with memoization and a dynamic programming solution. In your answer use an example of a concrete algorithm. <div style=\"text-align: right\">[10%]</div>"
   ]
  },
  {
   "cell_type": "markdown",
   "metadata": {},
   "source": [
    "<div style=\"border-width:2px;border-style:solid;border-color:black;\">\n",
    "Write your answer here.\n",
    "</div>"
   ]
  },
  {
   "cell_type": "markdown",
   "metadata": {},
   "source": [
    "(d) Write the function **lcs**($L$), which takes a list, $L$, as an input. This list contains three strings. The function should output the longest common sub-sequence string which is present in all three given strings. If no common subsequence exist, an empty string should be returned. <br>\n",
    "\n",
    "Note, a subsequence string is a string that can be derived from another string by deleting some or no elements without changing the order of the remaining elements.\n",
    "\n",
    " <div style=\"text-align: right\">[25%]</div>"
   ]
  },
  {
   "cell_type": "markdown",
   "metadata": {},
   "source": [
    "### Examples:"
   ]
  },
  {
   "cell_type": "markdown",
   "metadata": {},
   "source": [
    "**Input:** `[\"le2ap\",\"3le2apto\",\"l1eaptoleap\"]` <br>\n",
    "**Output:** `\"leap\"`"
   ]
  },
  {
   "cell_type": "markdown",
   "metadata": {},
   "source": [
    "**Input:** `[\"xyzk1e2\",\"xc17ef\",\"xx1ex\"]` <br>\n",
    "**Output:** `\"x1e\"`"
   ]
  },
  {
   "cell_type": "markdown",
   "metadata": {},
   "source": [
    "### Constraints:\n",
    "\n",
    "- $1\\leq \\text{len}(L[i]) \\leq 100$ for $i\\in\\{0,1,2\\}$."
   ]
  },
  {
   "cell_type": "markdown",
   "metadata": {},
   "source": [
    "### Code:"
   ]
  },
  {
   "cell_type": "code",
   "execution_count": 54,
   "metadata": {},
   "outputs": [
    {
     "data": {
      "text/plain": [
       "'anathh'"
      ]
     },
     "execution_count": 54,
     "metadata": {},
     "output_type": "execute_result"
    }
   ],
   "source": [
    "def lcs_inner( A, i, B, j, C, k, memo ):\n",
    "    \n",
    "    if i == len(A) or j == len(B) or k == len(C):\n",
    "        return \"\"\n",
    "    \n",
    "    if memo[k][j][i] is not None:\n",
    "        return memo[k][j][i]\n",
    "    \n",
    "    if A[i] == B[j] == C[k]:\n",
    "        \n",
    "        memo[k][j][i] = A[i] + lcs_inner(A, i+1, B, j+1, C, k+1, memo)\n",
    "        return memo[k][j][i]\n",
    "    \n",
    "    else:\n",
    "        \n",
    "        memo[k][j][i] = max(\n",
    "            lcs_inner( A, i+1, B, j, C, k, memo ),\n",
    "            lcs_inner( A, i, B, j+1, C, k, memo ), \n",
    "            lcs_inner( A, i, B, j, C, k+1, memo ), \n",
    "            key=len \n",
    "        )\n",
    "        return memo[k][j][i]\n",
    "\n",
    "\n",
    "def lcs_outer(A, B, C):\n",
    "    \n",
    "    memo = [[[None for _ in A] for _ in B] for _ in C]\n",
    "    \n",
    "    return lcs_inner( A, 0, B, 0, C, 0, memo )\n",
    "\n",
    "\n",
    "lcs_outer(\"bananathought\", \"katanatroughh\", \"narniathinkh\")"
   ]
  },
  {
   "cell_type": "code",
   "execution_count": 59,
   "metadata": {},
   "outputs": [],
   "source": [
    "def lcs(L):\n",
    "    return lcs_outer(*L)"
   ]
  },
  {
   "cell_type": "markdown",
   "metadata": {},
   "source": [
    "### Tests:"
   ]
  },
  {
   "cell_type": "markdown",
   "metadata": {},
   "source": [
    "##### Run example test case 1:"
   ]
  },
  {
   "cell_type": "code",
   "execution_count": 60,
   "metadata": {},
   "outputs": [
    {
     "name": "stdout",
     "output_type": "stream",
     "text": [
      "leap\n"
     ]
    }
   ],
   "source": [
    "input_value = [\"le2ap\",\"3le2apto\",\"l1eaptoleap\"]\n",
    "print (lcs(input_value))"
   ]
  },
  {
   "cell_type": "markdown",
   "metadata": {},
   "source": [
    "##### Run example test case 2:"
   ]
  },
  {
   "cell_type": "code",
   "execution_count": 61,
   "metadata": {},
   "outputs": [
    {
     "name": "stdout",
     "output_type": "stream",
     "text": [
      "x1e\n"
     ]
    }
   ],
   "source": [
    "input_value = [\"xyzk1e2\",\"xc17ef\",\"xx1ex\"]\n",
    "print (lcs(input_value))"
   ]
  },
  {
   "cell_type": "markdown",
   "metadata": {},
   "source": [
    "#### Automatic Evaluation:"
   ]
  },
  {
   "cell_type": "markdown",
   "metadata": {},
   "source": [
    "<i><b><font color='red'>Do not forget to run on all test cases when your final implementation is finished!</font></b></i>"
   ]
  },
  {
   "cell_type": "code",
   "execution_count": 62,
   "metadata": {},
   "outputs": [
    {
     "name": "stdout",
     "output_type": "stream",
     "text": [
      "----------------------------------\n",
      "Evaluating question 1, part d\n",
      "Running question 1, part d, test id: 1\n",
      "Input:\n",
      "['le2ap', '3le2apto', 'l1eaptoleap']\n",
      "Obtained output:\n",
      "leap\n",
      "<<CORRECT>>\n",
      "Running question 1, part d, test id: 2\n",
      "Input:\n",
      "['xyzk1e2', 'xc17ef', 'xx1ex']\n",
      "Obtained output:\n",
      "x1e\n",
      "<<CORRECT>>\n",
      "Running question 1, part d, test id: 3\n",
      "Input:\n",
      "['a', 'b', 'c']\n",
      "Obtained output:\n",
      "\n",
      "<<CORRECT>>\n",
      "Running question 1, part d, test id: 4\n",
      "Input:\n",
      "['gfedcba', 'abcdefga', 'abacdefg']\n",
      "Obtained output:\n",
      "ba\n",
      "<<CORRECT>>\n",
      "Running question 1, part d, test id: 5\n",
      "Input:\n",
      "['a1b1c1d1e1f1g1aaaaaaaaaaa', 'ttctt1tuuduuu1uuuaaaaaaaaaaaaaaa', 'yyyyyyc1yyyyyyyrrrrrrd1rrrrrrrrrrr']\n",
      "Obtained output:\n",
      "c1d1\n",
      "<<CORRECT>>\n",
      "-----------------\n",
      "Total correct outputs:\n",
      "5 out of 5\n",
      "----------------------------------\n"
     ]
    }
   ],
   "source": [
    "#DO NOT EDIT THIS CODE!\n",
    "from evaluation_script import evaluate_solution \n",
    "evaluate_solution(question_id=1,question_part_id='d',function=lcs,\n",
    "                  test_case_list=[1,2,3,4,5],verbose=True)"
   ]
  },
  {
   "cell_type": "markdown",
   "metadata": {},
   "source": [
    "<hr>\n",
    "<br>\n",
    "<br>"
   ]
  },
  {
   "cell_type": "markdown",
   "metadata": {},
   "source": [
    "## 2. "
   ]
  },
  {
   "cell_type": "markdown",
   "metadata": {},
   "source": [
    "A Binary Search Tree (BST) is a general-purpose data structure for storing keys.  In the question below, you may assume that all keys stored in a Binary Search Tree will be unique integers."
   ]
  },
  {
   "cell_type": "markdown",
   "metadata": {},
   "source": [
    "(a) Implement a function to construct a Binary Search Tree from a given list of keys, $keys$, by completing the <b>construct_tree</b>($keys$) function below.  Your function should make use of the `Node` class provided. It should return a list of the keys in the resulting Binary Search Tree in the order visited by a postorder traversal. <div style=\"text-align: right\">[30%]</div>"
   ]
  },
  {
   "cell_type": "markdown",
   "metadata": {},
   "source": [
    "### Examples:"
   ]
  },
  {
   "cell_type": "markdown",
   "metadata": {},
   "source": [
    "**Input:** `[4, 2, 5]` <br>\n",
    "**Output:** `[2, 5, 4]` <br>\n",
    "**Explanation:** the tree structure is visualised below<br>"
   ]
  },
  {
   "cell_type": "markdown",
   "metadata": {},
   "source": [
    "<img src=\"bst-with-4-2-5.png\" width=\"200px\">"
   ]
  },
  {
   "cell_type": "markdown",
   "metadata": {},
   "source": [
    "**Input:** `[4, 2, 5, 1, 3]` <br>\n",
    "**Output:** `[1, 3, 2, 5, 4]` <br>\n",
    "**Explanation:** the tree structure is visualised below<br>"
   ]
  },
  {
   "cell_type": "markdown",
   "metadata": {},
   "source": [
    "<img src=\"bst-with-4-2-5-1-3.png\" width=\"250px\">"
   ]
  },
  {
   "cell_type": "markdown",
   "metadata": {},
   "source": [
    "### Constraints:\n",
    "\n",
    "- Every key is a unique integer.\n",
    "- $0 \\leq \\text{len}(keys) \\leq 10^3$."
   ]
  },
  {
   "cell_type": "markdown",
   "metadata": {},
   "source": [
    "### Code:"
   ]
  },
  {
   "cell_type": "code",
   "execution_count": 75,
   "metadata": {},
   "outputs": [],
   "source": [
    "class Node:\n",
    "    \n",
    "    def __init__(self, key, left=None, right=None):\n",
    "        self.key = key\n",
    "        self.left = left\n",
    "        self.right = right\n",
    "        \n",
    "\n",
    "def postorder( node ):\n",
    "    if node is None:\n",
    "        return []\n",
    "    \n",
    "    return [ *postorder(node.left), *postorder(node.right), node.key ]\n",
    "\n",
    "\n",
    "def insert( key, node ):\n",
    "    \n",
    "    if key < node.key and node.left is None:\n",
    "        node.left = Node(key)\n",
    "    \n",
    "    elif key < node.key and node.left is not None:\n",
    "        insert( key, node.left )\n",
    "    \n",
    "    if key >= node.key and node.right is None:\n",
    "        node.right = Node(key)\n",
    "    \n",
    "    elif key >= node.key and node.right is not None:\n",
    "        insert( key, node.right )\n",
    "        \n",
    "\n",
    "def construct_tree(keys):\n",
    "    \n",
    "    if not keys:\n",
    "        return keys\n",
    "    \n",
    "    root = Node(keys[0])\n",
    "    \n",
    "    for key in keys[1:]:\n",
    "        insert( key, root )\n",
    "    \n",
    "    return postorder( root )"
   ]
  },
  {
   "cell_type": "markdown",
   "metadata": {},
   "source": [
    "### Tests:"
   ]
  },
  {
   "cell_type": "markdown",
   "metadata": {},
   "source": [
    "##### Run example test case 1:"
   ]
  },
  {
   "cell_type": "code",
   "execution_count": 72,
   "metadata": {},
   "outputs": [
    {
     "name": "stdout",
     "output_type": "stream",
     "text": [
      "[2, 5, 4]\n"
     ]
    }
   ],
   "source": [
    "keys = [4, 2, 5]\n",
    "print(construct_tree(keys))"
   ]
  },
  {
   "cell_type": "markdown",
   "metadata": {},
   "source": [
    "##### Run example test case 2:"
   ]
  },
  {
   "cell_type": "code",
   "execution_count": 73,
   "metadata": {},
   "outputs": [
    {
     "name": "stdout",
     "output_type": "stream",
     "text": [
      "[1, 3, 2, 5, 4]\n"
     ]
    }
   ],
   "source": [
    "keys = [4, 2, 5, 1, 3]\n",
    "print(construct_tree(keys))"
   ]
  },
  {
   "cell_type": "markdown",
   "metadata": {},
   "source": [
    "#### Automatic Evaluation:"
   ]
  },
  {
   "cell_type": "markdown",
   "metadata": {},
   "source": [
    "<i><b><font color='red'>Do not forget to run on all test cases when your final implementation is finished!</font></b></i>"
   ]
  },
  {
   "cell_type": "code",
   "execution_count": 76,
   "metadata": {},
   "outputs": [
    {
     "name": "stdout",
     "output_type": "stream",
     "text": [
      "----------------------------------\n",
      "Evaluating question 2, part a\n",
      "Running question 2, part a, test id: 1\n",
      "Input:\n",
      "[4, 2, 5]\n",
      "Obtained output:\n",
      "[2, 5, 4]\n",
      "<<CORRECT>>\n",
      "Running question 2, part a, test id: 2\n",
      "Input:\n",
      "[4, 2, 5, 1, 3]\n",
      "Obtained output:\n",
      "[1, 3, 2, 5, 4]\n",
      "<<CORRECT>>\n",
      "Running question 2, part a, test id: 3\n",
      "Input:\n",
      "[0, 1, 2, 3, 4, 5, 6, 7, 8, 9, 10, 11, 12, 13, 14, 15, 16, 17, 18, 19, 20, 21, 22, 23, 24, 25, 26, 27, 28, 29, 30, 31, 32, 33, 34, 35, 36, 37, 38, 39, 40, 41, 42, 43, 44, 45, 46, 47, 48, 49, 50, 51, 52, 53, 54, 55, 56, 57, 58, 59, 60, 61, 62, 63, 64, 65, 66, 67, 68, 69, 70, 71, 72, 73, 74, 75, 76, 77, 78, 79, 80, 81, 82, 83, 84, 85, 86, 87, 88, 89, 90, 91, 92, 93, 94, 95, 96, 97, 98, 99]\n",
      "Obtained output:\n",
      "[99, 98, 97, 96, 95, 94, 93, 92, 91, 90, 89, 88, 87, 86, 85, 84, 83, 82, 81, 80, 79, 78, 77, 76, 75, 74, 73, 72, 71, 70, 69, 68, 67, 66, 65, 64, 63, 62, 61, 60, 59, 58, 57, 56, 55, 54, 53, 52, 51, 50, 49, 48, 47, 46, 45, 44, 43, 42, 41, 40, 39, 38, 37, 36, 35, 34, 33, 32, 31, 30, 29, 28, 27, 26, 25, 24, 23, 22, 21, 20, 19, 18, 17, 16, 15, 14, 13, 12, 11, 10, 9, 8, 7, 6, 5, 4, 3, 2, 1, 0]\n",
      "<<CORRECT>>\n",
      "Running question 2, part a, test id: 4\n",
      "Input:\n",
      "[]\n",
      "Obtained output:\n",
      "[]\n",
      "<<CORRECT>>\n",
      "Running question 2, part a, test id: 5\n",
      "Input:\n",
      "[9, 8, 7, 6, 5, 4, 3, 2, 1, 0]\n",
      "Obtained output:\n",
      "[0, 1, 2, 3, 4, 5, 6, 7, 8, 9]\n",
      "<<CORRECT>>\n",
      "-----------------\n",
      "Total correct outputs:\n",
      "5 out of 5\n",
      "----------------------------------\n"
     ]
    }
   ],
   "source": [
    "#DO NOT EDIT THIS CODE!\n",
    "from evaluation_script import evaluate_solution \n",
    "evaluate_solution(question_id=2,question_part_id='a',function=construct_tree,\n",
    "                  test_case_list=[1,2,3,4,5],verbose=True)"
   ]
  },
  {
   "cell_type": "markdown",
   "metadata": {},
   "source": [
    "(b) Describe the asymptotic complexity of the operation implemented in Part (a) under average case and worst case assumptions. Provide an example of an input sequence of keys that induces worst case behaviour.<div style=\"text-align: right\">[15%]</div>"
   ]
  },
  {
   "cell_type": "markdown",
   "metadata": {},
   "source": [
    "<div style=\"border-width:2px;border-style:solid;border-color:black;\">\n",
    "Write your answer here.\n",
    "</div>"
   ]
  },
  {
   "cell_type": "markdown",
   "metadata": {},
   "source": [
    "(c) Give brief answers to the following questions."
   ]
  },
  {
   "cell_type": "markdown",
   "metadata": {},
   "source": [
    "&emsp; (i) Describe the <em>Binary Search Tree property</em>.<div style=\"text-align: right\">[5%]</div>"
   ]
  },
  {
   "cell_type": "markdown",
   "metadata": {},
   "source": [
    "<div style=\"border-width:2px;border-style:solid;border-color:black;\">\n",
    "Write your answer here.\n",
    "</div>"
   ]
  },
  {
   "cell_type": "markdown",
   "metadata": {},
   "source": [
    "&emsp; (ii) Describe the operation of <em>preorder</em> and <em>inorder</em> traversals and show how each can be implemented with recursion (either with a written description, pseudocode or Python code). What is the asymptotic runtime complexity for both operations?<div style=\"text-align: right\">[10%]</div>"
   ]
  },
  {
   "cell_type": "markdown",
   "metadata": {},
   "source": [
    "<div style=\"border-width:2px;border-style:solid;border-color:black;\">\n",
    "Write your answer here.\n",
    "</div>"
   ]
  },
  {
   "cell_type": "markdown",
   "metadata": {},
   "source": [
    "&emsp; (iii) Explain how the inorder successor of a node is found in a Binary Search Tree. What is the average case and worst case asymptotic complexity of this operation?<div style=\"text-align: right\">[10%]</div>"
   ]
  },
  {
   "cell_type": "markdown",
   "metadata": {},
   "source": [
    "<div style=\"border-width:2px;border-style:solid;border-color:black;\">\n",
    "Write your answer here.\n",
    "</div>"
   ]
  },
  {
   "cell_type": "markdown",
   "metadata": {},
   "source": [
    "(d)  Given as input a dictionary, $traversals$, containing two lists of keys of the form `{\"preorder\": <preorder_keys>, \"inorder\": <inorder_keys>\"}` where `<preorder_keys>` is a list containing the keys produced by a preorder traversal of a Binary Tree and `<inorder_keys>` is the inorder traversal of the same tree, implement a function to construct the Binary Tree. Note that this tree will <em>not</em> necessarily be a Binary Search Tree. Your implementation should complete the <b>construct_tree_from_traversals</b>$(traversals)$ function below and should return the keys in postorder traversal order for the constructed Binary Tree.<div style=\"text-align: right\">[30%]</div>"
   ]
  },
  {
   "cell_type": "markdown",
   "metadata": {},
   "source": [
    "### Examples:"
   ]
  },
  {
   "cell_type": "markdown",
   "metadata": {},
   "source": [
    "**Input:** `{\"preorder\": [2, 7, 4], \"inorder\": [7, 2, 4]}` <br>\n",
    "**Output:** `[7, 4, 2]` <br>\n",
    "**Explanation:** the tree structure is visualised below<br>"
   ]
  },
  {
   "cell_type": "markdown",
   "metadata": {},
   "source": [
    "<img src=\"bt-with-7-4-2.png\" width=\"200px\">"
   ]
  },
  {
   "cell_type": "markdown",
   "metadata": {},
   "source": [
    "**Input:** `{\"preorder\": [2, 7, 8, 1, 4], \"inorder\": [8, 7, 1, 2, 4]}` <br>\n",
    "**Output:** `[8, 1, 7, 4, 2]` <br>\n",
    "**Explanation:** the tree structure is visualised below<br>"
   ]
  },
  {
   "cell_type": "markdown",
   "metadata": {},
   "source": [
    "<img src=\"bt-with-8-1-7-4-2.png\" width=\"250px\">"
   ]
  },
  {
   "cell_type": "code",
   "execution_count": 77,
   "metadata": {},
   "outputs": [],
   "source": [
    "class Node:\n",
    "    \n",
    "    def __init__(self, key, left=None, right=None):\n",
    "        self.key = key\n",
    "        self.left = left\n",
    "        self.right = right\n",
    "\n",
    "\n",
    "def construct_tree_from_traversals(traversals):\n",
    "    \n",
    "    preorder, inroder = traversals[\"preorder\"], traversals[\"inorder\"]\n",
    "    \n",
    "    "
   ]
  },
  {
   "cell_type": "markdown",
   "metadata": {},
   "source": [
    "### Tests:"
   ]
  },
  {
   "cell_type": "markdown",
   "metadata": {},
   "source": [
    "##### Run example test case 1:"
   ]
  },
  {
   "cell_type": "code",
   "execution_count": 78,
   "metadata": {},
   "outputs": [
    {
     "name": "stdout",
     "output_type": "stream",
     "text": [
      "None\n"
     ]
    }
   ],
   "source": [
    "traversals = {\"preorder\": [2, 7, 4], \"inorder\": [7, 2, 4]}\n",
    "print(construct_tree_from_traversals(traversals))"
   ]
  },
  {
   "cell_type": "markdown",
   "metadata": {},
   "source": [
    "##### Run example test case 2:"
   ]
  },
  {
   "cell_type": "code",
   "execution_count": null,
   "metadata": {},
   "outputs": [],
   "source": [
    "traversals = {\"preorder\": [2, 7, 8, 1, 4], \"inorder\": [8, 7, 1, 2, 4]}\n",
    "print(construct_tree_from_traversals(traversals))"
   ]
  },
  {
   "cell_type": "markdown",
   "metadata": {},
   "source": [
    "#### Automatic Evaluation:"
   ]
  },
  {
   "cell_type": "markdown",
   "metadata": {},
   "source": [
    "<i><b><font color='red'>Do not forget to run on all test cases when your final implementation is finished!</font></b></i>"
   ]
  },
  {
   "cell_type": "code",
   "execution_count": null,
   "metadata": {},
   "outputs": [],
   "source": [
    "#DO NOT EDIT THIS CODE!\n",
    "from evaluation_script import evaluate_solution \n",
    "evaluate_solution(question_id=2,question_part_id='d',function=construct_tree_from_traversals,\n",
    "                  test_case_list=[1,2,3,4,5],verbose=True)"
   ]
  },
  {
   "cell_type": "markdown",
   "metadata": {},
   "source": [
    "## 3. "
   ]
  },
  {
   "cell_type": "markdown",
   "metadata": {},
   "source": [
    "(a) Write the function, **bfs_distances**($L$), which takes a list, $L$, as an input. This list contains three elements. The first element is a number, $n$, of vertices in a graph. The second element is an adjacency list, $A$, which represents an undirected graph. The third element is a single value, $s$, which represents the starting vertex. The function should perform the Breadth-First Search traversal of the graph, starting from vertex, $s$.<br> \n",
    "\n",
    "The output of the **bfs_distances** function should be a list, $O$, of $n$ elements. Element $O[i]$ is a list itself which contains vertices (in any order) that are at the distance $i$ away from the starting vertex, $s$. Note that the distance from the starting vertex, $s$, to itself is asumed to be 0.\n",
    "\n",
    "Also note that in this adjacency list representation we assume that graph vertices are numbered from $0$ to $n-1$ and the neighbours of the vertex, $u$, are stored as a list, $A[u]$. All edges, $(u,v)$, in the graph have two corresponding entries in the adjacency list (ie. $u$ being a neighbour of $v$ and $v$ being a neighbour of $u$).\n",
    "<div style=\"text-align: right\">[35%]</div>"
   ]
  },
  {
   "cell_type": "markdown",
   "metadata": {},
   "source": [
    "### Examples:"
   ]
  },
  {
   "cell_type": "markdown",
   "metadata": {},
   "source": [
    "**Input:** `[7, [[1, 2], [0, 2, 3, 4], [0, 1, 5, 6], [1], [1, 5], [2, 4], [2]], 0]` <br>\n",
    "**Output:** `[[0], [1, 2], [3, 4, 5, 6], [], [], [], []]` <br>"
   ]
  },
  {
   "cell_type": "markdown",
   "metadata": {},
   "source": [
    "**Input:** `[10,[[3,4,8,9],[2,9],[1,4,5,6],[0,7],[0,2],[2,7],[2],[3,5],[0],[0,1]],9]` <br>\n",
    "**Output:** `[[9], [0, 1], [3, 4, 8, 2], [7, 5, 6], [], [], [], [], [], []]` <br>"
   ]
  },
  {
   "cell_type": "markdown",
   "metadata": {},
   "source": [
    "### Constraints:\n",
    "\n",
    "- $1\\leq n \\leq 100$."
   ]
  },
  {
   "cell_type": "markdown",
   "metadata": {},
   "source": [
    "### Code:"
   ]
  },
  {
   "cell_type": "code",
   "execution_count": null,
   "metadata": {},
   "outputs": [],
   "source": [
    "def bfs_distances(L):\n",
    "\n",
    "    # Insert code here"
   ]
  },
  {
   "cell_type": "markdown",
   "metadata": {},
   "source": [
    "### Tests:"
   ]
  },
  {
   "cell_type": "markdown",
   "metadata": {},
   "source": [
    "##### Run example test case 1:"
   ]
  },
  {
   "cell_type": "code",
   "execution_count": null,
   "metadata": {},
   "outputs": [],
   "source": [
    "input_value = [7, [[1, 2], [0, 2, 3, 4], [0, 1, 5, 6], [1], [1, 5], [2, 4], [2]], 0]\n",
    "print (bfs_distances(input_value))"
   ]
  },
  {
   "cell_type": "markdown",
   "metadata": {},
   "source": [
    "##### Run example test case 2:"
   ]
  },
  {
   "cell_type": "code",
   "execution_count": null,
   "metadata": {},
   "outputs": [],
   "source": [
    "input_value = [10,[[3,4,8,9],[2,9],[1,4,5,6],[0,7],[0,2],[2,7],[2],[3,5],[0],[0,1]],9]\n",
    "print (bfs_distances(input_value))"
   ]
  },
  {
   "cell_type": "markdown",
   "metadata": {},
   "source": [
    "#### Automatic Evaluation:"
   ]
  },
  {
   "cell_type": "markdown",
   "metadata": {},
   "source": [
    "<i><b><font color='red'>Do not forget to run on all test cases when your final implementation is finished!</font></b></i>"
   ]
  },
  {
   "cell_type": "code",
   "execution_count": null,
   "metadata": {},
   "outputs": [],
   "source": [
    "#DO NOT EDIT THIS CODE!\n",
    "from evaluation_script import evaluate_solution, bfs_equivalent\n",
    "evaluate_solution(question_id=3,question_part_id='a',function=bfs_distances,comparison_function=bfs_equivalent,\n",
    "                  test_case_list=[1,2,3,4,5],verbose=True)"
   ]
  },
  {
   "cell_type": "markdown",
   "metadata": {},
   "source": [
    "(b) Give brief answers to the following questions.\n",
    "    \n",
    "&emsp; (i) Explain why your algorithm described in Part (a) is correct. Derive its run time complexity in detail. <div style=\"text-align: right\">[10%]</div>"
   ]
  },
  {
   "cell_type": "markdown",
   "metadata": {},
   "source": [
    "<div style=\"border-width:2px;border-style:solid;border-color:black;\">\n",
    "Write your answer here.\n",
    "</div>"
   ]
  },
  {
   "cell_type": "markdown",
   "metadata": {},
   "source": [
    "&emsp; (ii) Why is it said that Floyd-Warshall algorithm for all-pairs shortest path computation is a dynamic programming algorithm? What makes Dijkstra's algorithm a greedy algorithm? Justify your answers.  <div style=\"text-align: right\">[10%]</div>"
   ]
  },
  {
   "cell_type": "markdown",
   "metadata": {},
   "source": [
    "<div style=\"border-width:2px;border-style:solid;border-color:black;\">\n",
    "Write your answer here.\n",
    "</div>"
   ]
  },
  {
   "cell_type": "markdown",
   "metadata": {},
   "source": [
    "(c) Answer questions about the graph illustrated below.\n",
    "\n",
    "<img src=\"graph.png\" border=\"0\" class=\"bg-primary\" width=\"300px\">"
   ]
  },
  {
   "cell_type": "markdown",
   "metadata": {},
   "source": [
    "&emsp; (i) Calculate the maximum flow from vertex A to vertex F. Provide the detailed steps of your computation. <div style=\"text-align: right\">[5%]</div>"
   ]
  },
  {
   "cell_type": "markdown",
   "metadata": {},
   "source": [
    "<div style=\"border-width:2px;border-style:solid;border-color:black;\">\n",
    "Write your answer here.\n",
    "</div>"
   ]
  },
  {
   "cell_type": "markdown",
   "metadata": {},
   "source": [
    "&emsp;(ii) Perform a topological sort of this graph. Any valid ordering of vertices can be provided. <div style=\"text-align: right\">[5%]</div>"
   ]
  },
  {
   "cell_type": "markdown",
   "metadata": {},
   "source": [
    "<div style=\"border-width:2px;border-style:solid;border-color:black;\">\n",
    "Write your answer here.\n",
    "</div>"
   ]
  },
  {
   "cell_type": "markdown",
   "metadata": {},
   "source": [
    "&emsp; (iii) Assume this graph is transformed into an undirected graph by replacing all directed edges with equivalent undirected edges with corresponding weights. Write out the edges of the minimum spanning tree (MST) discovered by Kruskal's algorithm in the same order as they would be seleted to form the MST. <div style=\"text-align: right\">[5%]</div>"
   ]
  },
  {
   "cell_type": "markdown",
   "metadata": {},
   "source": [
    "<div style=\"border-width:2px;border-style:solid;border-color:black;\">\n",
    "Write your answer here.\n",
    "</div>"
   ]
  },
  {
   "cell_type": "markdown",
   "metadata": {},
   "source": [
    "(d) Write the function, **strongly_connected**($L$), which takes in a list, $L$, of 2 elements as an input. The first element, $\\lvert V \\rvert$, is the total number of vertices, $V$, in a directed graph. The second element, $A$, is a list where each element $A[u]$ in this list, is itself a list of vertex indexes. Element, $A[u][i]$, represents a directed edge, $(u,A[u][i])$, in the graph. Note that vertices in the graph are represented as integer numbers between 0 and $\\lvert V \\rvert-1$.\n",
    "\n",
    "Your function should output the number of strongly connected components in the graph. Run time complexity of your solution should be $O(\\lvert V \\rvert+\\lvert E \\rvert)$, where $\\lvert E \\rvert$ is the number of edges in the graph.\n",
    "\n",
    "<div style=\"text-align: right\">[20%]</div>"
   ]
  },
  {
   "cell_type": "markdown",
   "metadata": {},
   "source": [
    "### Examples:"
   ]
  },
  {
   "cell_type": "markdown",
   "metadata": {},
   "source": [
    "**Input:** `[3,[[1],[0,2],[]]]` <br>\n",
    "**Output:** `2` "
   ]
  },
  {
   "cell_type": "markdown",
   "metadata": {},
   "source": [
    "**Input:**  `[4,[[1],[2],[3],[0]]]` <br>\n",
    "**Output:**  `1`"
   ]
  },
  {
   "cell_type": "markdown",
   "metadata": {},
   "source": [
    "### Constraints:\n",
    "\n",
    "- $1\\leq \\lvert V \\rvert \\leq 100$.\n",
    "- $1\\leq \\lvert E \\rvert \\leq 1000$."
   ]
  },
  {
   "cell_type": "markdown",
   "metadata": {},
   "source": [
    "### Code:"
   ]
  },
  {
   "cell_type": "code",
   "execution_count": null,
   "metadata": {},
   "outputs": [],
   "source": [
    "def strongly_connected(L):\n",
    "    \n",
    "    # Insert code here"
   ]
  },
  {
   "cell_type": "markdown",
   "metadata": {},
   "source": [
    "### Tests:"
   ]
  },
  {
   "cell_type": "markdown",
   "metadata": {},
   "source": [
    "##### Run example test case 1:"
   ]
  },
  {
   "cell_type": "code",
   "execution_count": null,
   "metadata": {},
   "outputs": [],
   "source": [
    "input_value = [3,[[1],[0,2],[]]]\n",
    "print (strongly_connected(input_value))"
   ]
  },
  {
   "cell_type": "markdown",
   "metadata": {},
   "source": [
    "##### Run example test case 2:"
   ]
  },
  {
   "cell_type": "code",
   "execution_count": null,
   "metadata": {},
   "outputs": [],
   "source": [
    "input_value = [4,[[1],[2],[3],[0]]]\n",
    "print (strongly_connected(input_value))"
   ]
  },
  {
   "cell_type": "markdown",
   "metadata": {},
   "source": [
    "#### Automatic Evaluation:"
   ]
  },
  {
   "cell_type": "markdown",
   "metadata": {},
   "source": [
    "<i><b><font color='red'>Do not forget to run on all test cases when your final implementation is finished!</font></b></i>"
   ]
  },
  {
   "cell_type": "code",
   "execution_count": null,
   "metadata": {},
   "outputs": [],
   "source": [
    "#DO NOT EDIT THIS CODE!\n",
    "from evaluation_script import evaluate_solution \n",
    "evaluate_solution(question_id=3,question_part_id='d',function=strongly_connected,\n",
    "                  test_case_list=[1,2,3,4,5],verbose=True)"
   ]
  },
  {
   "cell_type": "markdown",
   "metadata": {},
   "source": [
    "(e) Explain why your algorithm proposed in Part (d) is correct? \n",
    "\n",
    " <div style=\"text-align: right\">[10%]</div>"
   ]
  },
  {
   "cell_type": "markdown",
   "metadata": {},
   "source": [
    "<div style=\"border-width:2px;border-style:solid;border-color:black;\">\n",
    "Write your answer here.\n",
    "</div>"
   ]
  },
  {
   "cell_type": "markdown",
   "metadata": {},
   "source": [
    "---\n",
    "<br>\n",
    "<br>\n",
    "<br>\n",
    "<br>\n",
    "<br>\n",
    "<br>\n",
    "<br>"
   ]
  },
  {
   "cell_type": "markdown",
   "metadata": {},
   "source": [
    "## 4. "
   ]
  },
  {
   "cell_type": "markdown",
   "metadata": {},
   "source": [
    "(a) You are provided as input an array $A$ of $n$ keys that has been generated by a stochastic process of the form:\n",
    "$$A(i) = i + \\mu$$\n",
    "where $\\mu$ is random noise drawn from the discrete uniform distribution, $\\mu \\sim \\mathrm{unif}\\{-k, k\\}$, for some $k$, where $k \\ll n$.  Implement an in-place variant of the quicksort algorithm as function, **quicksort**($A$), to sort the array into increasing order. Your solution should have a worst-case run time of $O(n \\log n)$.\n",
    "<div style=\"text-align: right\">[30%]</div>"
   ]
  },
  {
   "cell_type": "markdown",
   "metadata": {},
   "source": [
    "### Examples:"
   ]
  },
  {
   "cell_type": "markdown",
   "metadata": {},
   "source": [
    "**Input:** `[0, 1, 3, 2, 4]` <br>\n",
    "**Output:** `[0, 1, 2, 3, 4]` <br>\n",
    "**Explanation:** the input array has been sorted into increasing order."
   ]
  },
  {
   "cell_type": "markdown",
   "metadata": {},
   "source": [
    "**Input:** `[0, 1, 1]` <br>\n",
    "**Output:** `[0, 1, 1]` <br>\n",
    "**Explanation:** the input array was already in increasing order, so it remains unchanged."
   ]
  },
  {
   "cell_type": "markdown",
   "metadata": {},
   "source": [
    "### Constraints:\n",
    "\n",
    "- Every key is an integer."
   ]
  },
  {
   "cell_type": "markdown",
   "metadata": {},
   "source": [
    "### Code:"
   ]
  },
  {
   "cell_type": "code",
   "execution_count": null,
   "metadata": {},
   "outputs": [],
   "source": [
    "def quicksort(A):\n",
    "\n",
    "    # Insert code here"
   ]
  },
  {
   "cell_type": "markdown",
   "metadata": {},
   "source": [
    "### Tests:"
   ]
  },
  {
   "cell_type": "markdown",
   "metadata": {},
   "source": [
    "##### Run example test case 1:"
   ]
  },
  {
   "cell_type": "code",
   "execution_count": null,
   "metadata": {},
   "outputs": [],
   "source": [
    "input_value = [0, 1, 3, 2, 4]\n",
    "print(quicksort(input_value))"
   ]
  },
  {
   "cell_type": "markdown",
   "metadata": {},
   "source": [
    "##### Run example test case 2:"
   ]
  },
  {
   "cell_type": "code",
   "execution_count": null,
   "metadata": {},
   "outputs": [],
   "source": [
    "input_value = [0, 1, 1]\n",
    "print(quicksort(input_value))"
   ]
  },
  {
   "cell_type": "markdown",
   "metadata": {},
   "source": [
    "#### Automatic Evaluation:"
   ]
  },
  {
   "cell_type": "markdown",
   "metadata": {},
   "source": [
    "<i><b><font color='red'>Do not forget to run on all test cases when your final implementation is finished!</font></b></i>"
   ]
  },
  {
   "cell_type": "code",
   "execution_count": null,
   "metadata": {},
   "outputs": [],
   "source": [
    "#DO NOT EDIT THIS CODE!\n",
    "from evaluation_script import evaluate_solution \n",
    "evaluate_solution(question_id=4,question_part_id='a',function=quicksort,\n",
    "                  test_case_list=[1,2,3,4,5],verbose=True)"
   ]
  },
  {
   "cell_type": "markdown",
   "metadata": {},
   "source": [
    "(b) Explain why code achieves the desired worst-case run time behaviour. <div style=\"text-align: right\">[10%]</div>"
   ]
  },
  {
   "cell_type": "markdown",
   "metadata": {},
   "source": [
    "<div style=\"border-width:2px;border-style:solid;border-color:black;\">\n",
    "Write your answer here.\n",
    "</div>"
   ]
  },
  {
   "cell_type": "markdown",
   "metadata": {},
   "source": [
    "(c) Suppose the stochastic process described in Part (a) is now corrupted by an additional source of noise.  Regardless of the length of the sequence, $n$, all but 3 of the entries are set to zero. Does your implementation in Part (a) still guarantee $O(n \\log n)$ worst-case runtime? Explain your answer. <div style=\"text-align: right\">[10%]</div>"
   ]
  },
  {
   "cell_type": "markdown",
   "metadata": {},
   "source": [
    "<div style=\"border-width:2px;border-style:solid;border-color:black;\">\n",
    "Write your answer here.\n",
    "</div>"
   ]
  },
  {
   "cell_type": "markdown",
   "metadata": {},
   "source": [
    "(d) Give brief answers to the following questions."
   ]
  },
  {
   "cell_type": "markdown",
   "metadata": {},
   "source": [
    "&emsp; (i) What is the expected run time of the quicksort algorithm if the rank of the pivot selected during each recursion does not depend on the input array size? Explain your answer. <br><br>  *Note that the rank refers to 1-indexed position of an element in a list if the elements were to be sorted into increasing order (for example, in the list `[0, 4, 3]`, the rank of `3` is  2, because `3` is the second largest element in the list).* <div style=\"text-align: right\">[10%]</div>"
   ]
  },
  {
   "cell_type": "markdown",
   "metadata": {},
   "source": [
    "<div style=\"border-width:2px;border-style:solid;border-color:black;\">\n",
    "Write your answer here.\n",
    "</div>"
   ]
  },
  {
   "cell_type": "markdown",
   "metadata": {},
   "source": [
    "&emsp; (ii) What is the expected run time of the quicksort algorithm if the rank of the pivot selected during each recursion is $K \\cdot n$ for some $K$ such that $0 < K < 1$. Explain your answer. <div style=\"text-align: right\">[10%]</div>"
   ]
  },
  {
   "cell_type": "markdown",
   "metadata": {},
   "source": [
    "<div style=\"border-width:2px;border-style:solid;border-color:black;\">\n",
    "Write your answer here.\n",
    "</div>"
   ]
  },
  {
   "cell_type": "markdown",
   "metadata": {},
   "source": [
    "&emsp; (iii) Describe briefly how quicksort can be modified to guarantee $O(n \\log n)$ worst-case runtime, and explain why such a modification may not be desirable in practice. <div style=\"text-align: right\">[10%]</div>"
   ]
  },
  {
   "cell_type": "markdown",
   "metadata": {},
   "source": [
    "<div style=\"border-width:2px;border-style:solid;border-color:black;\">\n",
    "Write your answer here.\n",
    "</div>"
   ]
  },
  {
   "cell_type": "markdown",
   "metadata": {},
   "source": [
    "(e) Given an input array $B$ comprising $n$ triplets of integers $(i, j, k)$ (not necessary distinct), implement an in-place sorting algorithm that sorts the keys into increasing lexicographic order with worst-case $O(n \\log n)$. Your code should not make use of Python's builtin sort functions. <div style=\"text-align: right\">[20%]</div>"
   ]
  },
  {
   "cell_type": "markdown",
   "metadata": {},
   "source": [
    "### Examples:"
   ]
  },
  {
   "cell_type": "markdown",
   "metadata": {},
   "source": [
    "**Input:** `[[2, 1, 0], [1, 0, 2]]` <br>\n",
    "**Output:** `[[1, 0, 2], [2, 1, 0]]` <br>\n",
    "**Explanation:** the triplets of $B$ have been sorted into increasing lexicographic order.<br>"
   ]
  },
  {
   "cell_type": "markdown",
   "metadata": {},
   "source": [
    "**Input:** `[[1, 0, 2], [1, 0, 2]]` <br>\n",
    "**Output:** `[[1, 0, 2], [1, 0, 2]]` <br>\n",
    "**Explanation:** the triplets of $B$ were already in increasing lexicographic order, so the array remains unchanged.<br>"
   ]
  },
  {
   "cell_type": "markdown",
   "metadata": {},
   "source": [
    "### Constraints:\n",
    "\n",
    "- $0\\leq n\\leq 20$."
   ]
  },
  {
   "cell_type": "markdown",
   "metadata": {},
   "source": [
    "### Code:"
   ]
  },
  {
   "cell_type": "code",
   "execution_count": null,
   "metadata": {},
   "outputs": [],
   "source": [
    "def triplet_sort(B):\n",
    "    \n",
    "    # Insert code here"
   ]
  },
  {
   "cell_type": "markdown",
   "metadata": {},
   "source": [
    "### Examples:"
   ]
  },
  {
   "cell_type": "markdown",
   "metadata": {},
   "source": [
    "##### Run example test case 1:"
   ]
  },
  {
   "cell_type": "code",
   "execution_count": null,
   "metadata": {},
   "outputs": [],
   "source": [
    "input_value = [[2, 1, 0], [1, 0, 2]]\n",
    "print(triplet_sort(input_value))"
   ]
  },
  {
   "cell_type": "markdown",
   "metadata": {},
   "source": [
    "##### Run example test case 2:"
   ]
  },
  {
   "cell_type": "code",
   "execution_count": null,
   "metadata": {},
   "outputs": [],
   "source": [
    "input_value = [[1, 0, 2], [1, 0, 2]]\n",
    "print(triplet_sort(input_value))"
   ]
  },
  {
   "cell_type": "markdown",
   "metadata": {},
   "source": [
    "#### Automatic Evaluation:"
   ]
  },
  {
   "cell_type": "markdown",
   "metadata": {},
   "source": [
    "<i><b><font color='red'>Do not forget to run on all test cases when your final implementation is finished!</font></b></i>"
   ]
  },
  {
   "cell_type": "code",
   "execution_count": null,
   "metadata": {},
   "outputs": [],
   "source": [
    "#DO NOT EDIT THIS CODE!\n",
    "from evaluation_script import evaluate_solution \n",
    "evaluate_solution(question_id=4,question_part_id='e',function=triplet_sort,\n",
    "                  test_case_list=[1,2,3,4,5],verbose=True)"
   ]
  },
  {
   "cell_type": "markdown",
   "metadata": {},
   "source": [
    "---\n",
    "<br>\n",
    "<br>\n",
    "<br>\n",
    "<br>\n",
    "<br>\n",
    "<br>\n",
    "<br>"
   ]
  },
  {
   "cell_type": "markdown",
   "metadata": {},
   "source": [
    "<b><center>END OF PAPER</center></b>"
   ]
  }
 ],
 "metadata": {
  "kernelspec": {
   "display_name": "Python 3 (ipykernel)",
   "language": "python",
   "name": "python3"
  },
  "language_info": {
   "codemirror_mode": {
    "name": "ipython",
    "version": 3
   },
   "file_extension": ".py",
   "mimetype": "text/x-python",
   "name": "python",
   "nbconvert_exporter": "python",
   "pygments_lexer": "ipython3",
   "version": "3.10.10"
  },
  "vscode": {
   "interpreter": {
    "hash": "d1f7a2bbba71ff99ad142cbae391e4ba52f39cd113df3e04f0425508106d86e1"
   }
  }
 },
 "nbformat": 4,
 "nbformat_minor": 4
}
