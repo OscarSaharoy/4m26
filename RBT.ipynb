{
 "cells": [
  {
   "cell_type": "code",
   "execution_count": null,
   "id": "a39dd85b",
   "metadata": {},
   "outputs": [],
   "source": [
    "red = \"red\"\n",
    "black = \"black\"\n",
    "\n",
    "class RBNode:\n",
    "    def __init__(self, key, colour=None):\n",
    "        self.key = key\n",
    "        self.colour = colour\n",
    "        self.parent = None\n",
    "        self.left = self.right = nil\n",
    "\n",
    "nil = RBNode(-999, black)"
   ]
  },
  {
   "cell_type": "code",
   "execution_count": null,
   "id": "b73e8ebe",
   "metadata": {},
   "outputs": [],
   "source": [
    "class RBT:\n",
    "    def __init__(self, keys):\n",
    "        self.root = nil\n",
    "        for key in keys:\n",
    "            self.insert(key)\n",
    "            \n",
    "    def insert(self, key):\n",
    "        \n",
    "    def rotate_right(self, node):\n",
    "        if node.left == nil:\n",
    "            raise ValueError\n",
    "        \n",
    "        new_subroot = node.left\n",
    "        subtree_to_move = new_subroot.right\n",
    "        \n",
    "        new_subroot.right, node.parent, subtree_to_move.parent\n",
    "        \n",
    "        parent = node.parent\n",
    "        node_is_rightchild = par\n",
    "        \n",
    "    def rotate_left(self, node):"
   ]
  }
 ],
 "metadata": {
  "kernelspec": {
   "display_name": "Python 3 (ipykernel)",
   "language": "python",
   "name": "python3"
  },
  "language_info": {
   "codemirror_mode": {
    "name": "ipython",
    "version": 3
   },
   "file_extension": ".py",
   "mimetype": "text/x-python",
   "name": "python",
   "nbconvert_exporter": "python",
   "pygments_lexer": "ipython3",
   "version": "3.11.2"
  }
 },
 "nbformat": 4,
 "nbformat_minor": 5
}
