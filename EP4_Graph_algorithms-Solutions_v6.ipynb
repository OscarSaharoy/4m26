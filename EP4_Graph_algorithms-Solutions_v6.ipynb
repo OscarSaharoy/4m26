{
 "cells": [
  {
   "cell_type": "markdown",
   "metadata": {
    "hideCode": false
   },
   "source": [
    "\n",
    "# **4M26 - Examples Paper 4 - Graph Algorithms** \n"
   ]
  },
  {
   "cell_type": "markdown",
   "metadata": {},
   "source": [
    "---\n",
    "<br>\n",
    "<br>"
   ]
  },
  {
   "cell_type": "markdown",
   "metadata": {},
   "source": [
    "## 1."
   ]
  },
  {
   "cell_type": "markdown",
   "metadata": {},
   "source": [
    "Briefly answer multiple questions below."
   ]
  },
  {
   "cell_type": "markdown",
   "metadata": {},
   "source": [
    "&emsp; (i)&emsp; In your own words explain the terms, *directed graph*, *undirected graph*, *bipartite graph*, *strongly connected component*."
   ]
  },
  {
   "cell_type": "markdown",
   "metadata": {},
   "source": [
    "<div style=\"border-width:2px;border-style:solid;border-color:black;\">\n",
    "    \n",
    "    \n",
    "    \n",
    "Graph, $G=(V,E)$, is a mathematical object consisting of a set of vertices, $V$, and a set of edges, $E$, connecting these vertices. When creating graph based models of conmputational problems, usually, $V$, corresponds to a set of objects, some pairs of which, $E$, are in some sense related.<br><br>\n",
    "    \n",
    "\n",
    "- <b>Undirected graph.</b> In a directed graph the edges have no direction associated with them. For example, a social network of friendships between people or existence of a wiring connection between electronic components on a circuit board. <br><br>\n",
    "\n",
    "- <b>Directed graph.</b> In a directed graph, relationships between vertices have a direction associated with them, such as order of execution in scheduling problems (perform task 1 before task 2) or traffic flow direction in a (potentially one way) street. <br><br>\n",
    "    \n",
    "- <b>Bipartite graph.</b> A bipartite graph $G=(V,E)$, is a graph vertex set, $V$, of which can be partitioned into two nonempty subsets $A$ and $B$ such that each edge of $G$ has one endpoint in $A$ and one endpoint in $B$. Bipartite graphs often arise in applications involving matching problems, such as assigning tasks to workers or allocating resources to projects.<br><br>\n",
    "    \n",
    "- <b>Strongly connected component.</b> A strongly connected component of a directed graph, $G=(V,E)$, is a maximal set of vertices, $C\\subseteq V$, such that for every pair of vertices, $u$ and $v$ in $C$, we have both $u\\leadsto v$ and $v \\leadsto u$. Strongly connected components are often used as a tool for understanding the structure and connectivity of directed graphs in various real-world applications (e.g. social network analysis).\n",
    "</div>"
   ]
  },
  {
   "cell_type": "markdown",
   "metadata": {},
   "source": [
    "&emsp; (ii)&emsp; Give an example of a computational problem, to build solution for which you would prefer using breadth-first search (BFS) over depth first search (DFS). Also give another example of a problem which you would prefer to use DFS over BFS? Explain the reasoning behind your choices."
   ]
  },
  {
   "cell_type": "markdown",
   "metadata": {},
   "source": [
    "<div style=\"border-width:2px;border-style:solid;border-color:black;\">\n",
    "A good example of a computational problem for which BFS could be preferred is finding the shortest path between two nodes in an unweighted graph. If the shortest path is significantly shorter than the possible longest simple path (ie. path without loops) then BFS would terminate much earlier before all nodes are explored. Note if DFS was used for such a problem, it could also find a path from a start node to a desired destination note, however one would not know if it is the shortest possible path. <br><br>\n",
    "    \n",
    "An example of a computational problem that is well-suited for DFS is finding a path between two nodes in a maze or labyrinth with obstacles. In this case, DFS can be used to explore all possible paths in the maze and find a solution which is not necessarily the most optimal one.\n",
    "</div>"
   ]
  },
  {
   "cell_type": "markdown",
   "metadata": {},
   "source": [
    "&emsp; (iii)&emsp;  Suppose you use a stack instead of a queue\n",
    "when running breadth-first search. Does it still\n",
    "compute shortest paths?"
   ]
  },
  {
   "cell_type": "markdown",
   "metadata": {},
   "source": [
    "<div style=\"border-width:2px;border-style:solid;border-color:black;\">\n",
    "\n",
    "If a stack is used instead of a queue in the breadth-first search traversal, there is no guarantee that the modified algorithm will compute the shortest paths. It is so, because BFS relies on visiting all neighbours of a vertex before visiting their neighbours. When a queue is used then the oldest vertex that has not yet been processed is visited first. However, when using a stack, the modified algorithm will prioritize recently discovered neighbours, which will result in longer paths. A simple example could be constructed by executing BFS with a stack implementation instead of a queue implementation on an undirected graph with edges \"0-1, 0-2, 1-4, 2-3, 3-4\".  Starting from node 0, the stack edit operations would be as follows:<br><br>\n",
    "    \n",
    "<b>push 0</b>&emsp; &emsp; # stack [0] <br>\n",
    "<b>pop   </b> &emsp; &emsp; # stack []  <br>\n",
    "<b>push 1</b>&emsp; &emsp; # stack [1] <br>\n",
    "<b>push 2</b>&emsp; &emsp; # stack [1,2] <br>\n",
    "<b>pop   </b>&emsp; &emsp; # stack [1] <br>\n",
    "<b>push 3</b>&emsp; &emsp; # stack [1,3] <br>\n",
    "<b>pop   </b>&emsp; &emsp; # stack [1] <br>\n",
    "<b>push 4</b>&emsp; &emsp; # stack [1,4] <br>\n",
    "<b>pop   </b>&emsp; &emsp; # stack [1] <br>\n",
    "<b>pop   </b>&emsp; &emsp; # stack [] <br><br>\n",
    "\n",
    "Hence the path discovered to node 4 would be 0-2-3-4 (as in DFS) as opposed to 0-1-4.  \n",
    "</div>"
   ]
  },
  {
   "cell_type": "markdown",
   "metadata": {},
   "source": [
    "&emsp; (iv)&emsp; Prove that every connected graph has a vertex whose removal (including all\n",
    "adjacent edges) will not disconnect the graph, and explain how to use a DFS graph traversal to find such\n",
    "a vertex. "
   ]
  },
  {
   "cell_type": "markdown",
   "metadata": {},
   "source": [
    "<div style=\"border-width:2px;border-style:solid;border-color:black;\">\n",
    "Consider the vertex of color white being visited. If all the neighbours of such a vertex are already marked with gray or black color, it means that all of its neighbours can be reached without going through this particular vertex. Hence this vertex can be removed without disconnecting the graph. Once the DFS algorithm finishes, all the vertices are black. Hence, the graph must have at least one vertex (the last one to be coloured in gray), neighbours of which at the time of this vertex becoming gray, were already coloured either gray or black.\n",
    "</div>"
   ]
  },
  {
   "cell_type": "markdown",
   "metadata": {},
   "source": [
    "&emsp; (v)&emsp; A team of programmers have a graph and want to compute a minimum spanning subtree. They are worried because the graph has some edges with negative weights. So they increase the weight on each edge by an amount, $W$, such that all weights become positive. They then find the spanning subtree in the adjusted graph. Will it be minimal in the original graph? "
   ]
  },
  {
   "cell_type": "markdown",
   "metadata": {},
   "source": [
    "<div style=\"border-width:2px;border-style:solid;border-color:black;\">\n",
    "If the graph has $n$ vertices then the MST will have $n-1$ edges and the adjusted tree will have $(n-1)W$ excess weight. Because the number of edges in the MST is known and fixed the weight adjustment does not hurt and the same MST would be found.\n",
    "</div>"
   ]
  },
  {
   "cell_type": "markdown",
   "metadata": {},
   "source": [
    "&emsp; (vi)&emsp;  What if the team aforementioned in Part (v) was looking for the shortest path? Ie. if the shortest path was found in a graph which had been adjusted using the same procedure, would it also be a shortest path in the original graph? "
   ]
  },
  {
   "cell_type": "markdown",
   "metadata": {},
   "source": [
    "<div style=\"border-width:2px;border-style:solid;border-color:black;\">\n",
    "No it might not be, mainly because the lengths of paths in the adjusted graph depend on the number of edges traversed, so in the adjusted graph there can be an undue penalty on paths that involve many short steps. \n",
    "</div>"
   ]
  },
  {
   "cell_type": "markdown",
   "metadata": {},
   "source": [
    "&emsp; (vii)&emsp; Explain why Dijkstra's algorithm can be classified as a greedy algorithm and why Bellman-Ford algorithm can be classified as a dynamic programming algorithm? How would you go around proving that once terminated Belman-Ford and Dijkstra algorithms compute single source shortest paths?"
   ]
  },
  {
   "cell_type": "markdown",
   "metadata": {},
   "source": [
    "<div style=\"border-width:2px;border-style:solid;border-color:black;\">\n",
    "Dijkstra's algorithm can be classified as a greedy algorithm because it selects the shortest path from a source vertex to all other vertices in the graph by making the locally optimal choice at each step. It starts by selecting the vertex with the smallest distance from the source vertex and then iteratively builds the shortest path tree by selecting the next vertex with the smallest distance to the so far computed shortest path tree. This process continues until all vertices have been added to the shortest path tree. <br><br>\n",
    "\n",
    "Bellman-Ford algorithm can be classified as a dynamic programming algorithm because it solves subproblems by breaking down the larger problem into smaller subproblems and solving each subproblem just once. It achieves that by iterating over all edges and vertices several times until the optimal solution is achieved. <br><br>\n",
    "\n",
    "Proof of correctness for Dijkstra's algorithm can be obtained by proving the following loop invariant over the minimum element of the min priority queue.<br><br>\n",
    "\n",
    "<b>Invariant.</b> At the start of the while loop, the node, $u$, with the minimum distance $u.d$ from start node, $s$, found so far, but yet to be explored, has already its shortest path computed, ie $u.d=\\delta(s,u)$, where $\\delta(s,u)$ is the length of the shortest path from $s$ to $u$.<br><br>\n",
    "    \n",
    "<u>Proof.</u> Lets prove this by contradiction. Lets assume that $u$ is the first vertex that has the minimum distance from $s$ and is a member of the min-priority queue but $u.d > \\delta(s,u)$. Note $u\\neq s$, since $\\delta(s,s)=0$. Since $u.d>\\delta(s,u)$ there exists a path $s\\leadsto x \\leadsto y \\leadsto u$, such that $x$ has already been explored (removed from the queue) and $y$ has not yet been explored. If $y = u$ then $u.d=\\delta(s,u)$ as vertex $u$ should have been relaxed after the vertex $x$ had been explored. If $y\\neq u$ then $y.d < u.d$ since we only consider non-negative edges and $u.d > \\delta(s,u)$. Which is a contradiction. <br><br>\n",
    " \n",
    "Proof of correctness for Bellman-Ford algorithm can be obtained by considering the <i>path relaxation property</i> mentioned in lecture slides. This property states: if $p=\\langle v_0,v_1,\\cdots,v_k \\rangle$ is a shortest path from $s=v_0$ to $v_k$, and we relax all the edges of $p$ in the order $(v_0,v_1),(v_1,v_2),\\cdots,(v_{k-1},v_k)$, then $v.k=\\delta(s,v_k)$. This property holds regardless any other relaxations steps that occur. Since the outer loop runs $\\lvert V -1\\rvert$ times and any shortest path is not longer than $\\lvert V -1 \\rvert$ edges, after running the Bellman-Ford algorithm $u.d=\\delta(s,u)$ for all $v\\in V$.\n",
    " \n",
    "</div>"
   ]
  },
  {
   "cell_type": "markdown",
   "metadata": {},
   "source": [
    "&emsp; (viii) Provide a detailed computation of run time complexity in terms of Big-O notation of Dijkstra's algorithm."
   ]
  },
  {
   "cell_type": "markdown",
   "metadata": {},
   "source": [
    "<div style=\"border-width:2px;border-style:solid;border-color:black;\">\n",
    "\n",
    "Key steps of Dijkstra's algorithm (assuming min-heap being used as a min-priority queue) on a graph $G=(V,E)$:<br><br>\n",
    "\n",
    "1. Initialization: $O(\\lvert V\\rvert)$. This is a simple for loop over all vertices, setting the current shortest distance to infinity and parent nodes to None. There is also a constant time cost for setting the source node current shortest distance to 0. <br><br>\n",
    "    \n",
    "2. Creation of priority queue based on shortest distances: $O(\\lvert V \\rvert)$ - time to create a binary min-heap. <br><br>\n",
    "\n",
    "3. Loop until the priority queue is empty: $O((\\lvert E \\rvert +\\lvert V \\rvert) \\log \\lvert V \\rvert)$. <br><br>\n",
    "&emsp; a. Extract vertex with the minimum distance from the source: $O(\\log \\lvert V \\rvert)$ performed $\\lvert V\\rvert$ times. <br><br>\n",
    "&emsp; b. For each adjacent vertex:  <br><br>\n",
    "&emsp; &emsp; i. Calculate the tentative distance: $O(1)$. Performed in total $\\lvert E\\rvert$ times. <br><br>\n",
    "&emsp; &emsp; ii. If the tentative distance is shorter than the current distance, update the distance: $O(\\log \\lvert V\\rvert)$. Performed in total $\\lvert E \\rvert$ times. <br><br>        \n",
    "       \n",
    "Hence total time complexity: $O( (\\lvert E \\rvert+\\lvert V\\rvert)\\log \\lvert V\\rvert) = O(\\lvert E\\rvert \\log \\lvert V \\rvert)$ since $\\lvert E \\rvert +1 \\geq \\lvert V\\rvert$ if all vertices are reachable from the source.\n",
    "\n",
    "</div>"
   ]
  },
  {
   "cell_type": "markdown",
   "metadata": {},
   "source": [
    "&emsp; (ix)&emsp; Illustrate the execution of the Ford-Fulkerson method and Edmonds-Karp algorithm on the graph below. Note here $s$ and $t$ are source and sink vertices of the flow network respectively. <img src=\"./flow_network.jpeg\" border=\"0\" class=\"bg-primary\" width=\"400px\"> "
   ]
  },
  {
   "cell_type": "markdown",
   "metadata": {},
   "source": [
    "<div style=\"border-width:2px;border-style:solid;border-color:black;\">\n",
    "We first fix the anti-parallel edges by introducing an additional vertex, $m$. We then construct the residual graph and start looking for augmenting paths. Any valid path on the residual graph is acceptable in Ford-Fulkerson's method. <br><br>\n",
    "<img src=\"./ford_fulkerson_1.jpeg\" border=\"0\" class=\"bg-primary\" width=\"800px\">  \n",
    "<img src=\"./ford_fulkerson_2.jpeg\" border=\"0\" class=\"bg-primary\" width=\"800px\"> \n",
    "<img src=\"./ford_fulkerson_3.jpeg\" border=\"0\" class=\"bg-primary\" width=\"800px\"> <br><br>\n",
    "    \n",
    "Maximum flow is 14. <br><br>\n",
    "\n",
    "Edmonds-Karp algorithm is able to find the maximum flow in fewer steps by looking for valid augmented paths with shortest path length in terms of number of edges/vertices. <br><br>\n",
    "    \n",
    "<img src=\"./edmonds_karp.jpeg\" border=\"0\" class=\"bg-primary\" width=\"800px\"> \n",
    "</div>"
   ]
  },
  {
   "cell_type": "markdown",
   "metadata": {},
   "source": [
    "&emsp; (x)&emsp; In your own words explain why finding a maximum bipartite matching in a bipartite graph is equivalent to finding the maximum flow in some particular flow network. How you would construct such a flow network?"
   ]
  },
  {
   "cell_type": "markdown",
   "metadata": {},
   "source": [
    "<div style=\"border-width:2px;border-style:solid;border-color:black;\">\n",
    " \n",
    "A bipartite graph consists of two sets, say $A$ and $B$, of vertices, where each vertex in one set is only connected to vertices in the other set. A matching in a bipartite graph is a set of edges in which no two edges share a common vertex. A maximum matching is the largest possible matching that can be achieved in such a graph. <br><br>\n",
    "\n",
    "The flow network can be constructed by adding source vertex, $s$, and a sink vertex, $t$, and adding directed edges from $s$ to all vertices in $A$ as well as edges from all vertices in $B$ to the vertex $t$. These edges as well as directed edges from vertices in $A$ to vertices in $B$ are set to have weight 1. <br><br>\n",
    "\n",
    "The value of the maximum flow found for this flow network will be equal to the maximum bipartite matching in the original bipartite graph. <br><br>\n",
    "\n",
    "The intuition behind this is as follows:<br><br>\n",
    "&emsp; 1. Any valid set of matches can be represented as a corresponding valid flow in the flow network (i.e. a particular match $a-b$ would be represented as a flow $s-a-b-t$ of size 1).<br><br>\n",
    "&emsp; 2. Any valid integer valued flow in the flow network can be represented by a set of matches. Since the flow is limited to a capacity of 1 for each edge, no two edges share a common vertex, which is the definition of a matching in a bipartite graph.\n",
    "</div>"
   ]
  },
  {
   "cell_type": "markdown",
   "metadata": {},
   "source": [
    "## 2. "
   ]
  },
  {
   "cell_type": "markdown",
   "metadata": {
    "cell_style": "center"
   },
   "source": [
    "Write the function, **bfs**($L$), which takes a list, $L$, as an input. This list itself consists of an adjacency list, $A$, which represents some undirected graph and a single value, $s$, which represents the starting node. The function should perform the Breadth-First Search traversal of the graph, starting from node, $s$. The output should be a list of nodes ordered in the same order as they were removed from the BFS queue.\n",
    "\n",
    "Note that in this adjacency list representation we assume that graph nodes are numbered from $0$ to $n-1$ and the neighbours of the node $i$ are stored as a list, $A[i]$. Also note that several orderings can be valid."
   ]
  },
  {
   "cell_type": "markdown",
   "metadata": {},
   "source": [
    "### Examples:"
   ]
  },
  {
   "cell_type": "markdown",
   "metadata": {},
   "source": [
    "**Input:** `[[[1, 2],[0,2,3,4],[0,1,5,6],[1],[1,5],[2,4],[2]],0]` <br>\n",
    "**Output:** `[0,1,2,3,4,5,6]`"
   ]
  },
  {
   "cell_type": "markdown",
   "metadata": {},
   "source": [
    "**Input:**  `[[[3,4,8,9],[2,9],[1,4,5,6],[0,7],[0,2],[2,7],[2],[3,5],[0],[0,1]],9]` <br>\n",
    "**Output:**  `[9,0,1,3,4,8,2,7,5,6]`"
   ]
  },
  {
   "cell_type": "markdown",
   "metadata": {},
   "source": [
    "### Constraints:\n",
    "\n",
    "- $1\\leq n \\leq 100$.\n",
    "- if $(u,v)$ is an edge in the graph then both $u \\in A[v]$ and $v \\in A[u]$."
   ]
  },
  {
   "cell_type": "markdown",
   "metadata": {},
   "source": [
    "### Code:"
   ]
  },
  {
   "cell_type": "code",
   "execution_count": 1,
   "metadata": {},
   "outputs": [],
   "source": [
    "# A straight-forward implementation of the BFS.\n",
    "\n",
    "def bfs(L):\n",
    "    \n",
    "    A, s = L[0], L[1]\n",
    "    n = len(A)\n",
    "    \n",
    "    color = [\"white\" for i in range(n)]\n",
    "    color[s] = \"gray\"\n",
    "    \n",
    "    queue = [s]\n",
    "    result = []\n",
    "    \n",
    "    while queue:\n",
    "        \n",
    "        u = queue.pop(0)\n",
    "        \n",
    "        for v in A[u]:\n",
    "            if color[v]==\"white\":\n",
    "                color[v] = \"gray\" \n",
    "                queue.append(v)\n",
    "                \n",
    "        color[u] = \"black\"\n",
    "        result.append(u)\n",
    "        \n",
    "    return result"
   ]
  },
  {
   "cell_type": "markdown",
   "metadata": {},
   "source": [
    "### Tests:"
   ]
  },
  {
   "cell_type": "markdown",
   "metadata": {},
   "source": [
    "##### Run example test case 1:"
   ]
  },
  {
   "cell_type": "code",
   "execution_count": 2,
   "metadata": {},
   "outputs": [
    {
     "name": "stdout",
     "output_type": "stream",
     "text": [
      "[0, 1, 2, 3, 4, 5, 6]\n"
     ]
    }
   ],
   "source": [
    "input_value = [[[1, 2],[0,2,3,4],[0,1,5,6],[1],[1,5],[2,4],[2]],0]\n",
    "print (bfs(input_value))"
   ]
  },
  {
   "cell_type": "markdown",
   "metadata": {},
   "source": [
    "##### Run example test case 2:"
   ]
  },
  {
   "cell_type": "code",
   "execution_count": 3,
   "metadata": {},
   "outputs": [
    {
     "name": "stdout",
     "output_type": "stream",
     "text": [
      "[9, 0, 1, 3, 4, 8, 2, 7, 5, 6]\n"
     ]
    }
   ],
   "source": [
    "input_value = [[[3,4,8,9],[2,9],[1,4,5,6],[0,7],[0,2],[2,7],[2],[3,5],[0],[0,1]],9]\n",
    "print (bfs(input_value))"
   ]
  },
  {
   "cell_type": "markdown",
   "metadata": {},
   "source": [
    "## 3."
   ]
  },
  {
   "cell_type": "markdown",
   "metadata": {
    "cell_style": "center",
    "hideOutput": true
   },
   "source": [
    "Diameter of a tree, $T=(V,E)$, is defined as $\\max_{u,v\\in V}\\delta(u,v)$, that is, the largest of all shortest-path distances in the tree. Implement an efficient algorithm, as part of function, **diameter**($L$), to compute the diameter of a tree. Here $L$ is an adjacency list representation of a tree. Nodes in the tree are numbered form 0 to $n-1$ (here $n$ is the number of nodes in a tree). The output of the implemented function is a single number corresponding to a diameter of the tree."
   ]
  },
  {
   "cell_type": "markdown",
   "metadata": {},
   "source": [
    "### Examples:"
   ]
  },
  {
   "cell_type": "markdown",
   "metadata": {},
   "source": [
    "**Input:** `[[1, 2], [0, 3, 4], [0, 5, 6], [1], [1], [2], [2]]` <br>\n",
    "**Output:** `4`"
   ]
  },
  {
   "cell_type": "markdown",
   "metadata": {},
   "source": [
    "**Input:**  `[[8, 9, 3, 4], [2, 9], [1, 5, 6], [0, 7], [0], [2], [2], [3], [0], [0, 1]]` <br>\n",
    "**Output:**  `6`"
   ]
  },
  {
   "cell_type": "markdown",
   "metadata": {},
   "source": [
    "### Constraints:\n",
    "\n",
    "- $1 \\leq n \\leq 1000$"
   ]
  },
  {
   "cell_type": "markdown",
   "metadata": {},
   "source": [
    "### Code:"
   ]
  },
  {
   "cell_type": "code",
   "execution_count": 4,
   "metadata": {},
   "outputs": [],
   "source": [
    "# A straight forward approach would be to run breadth first search from all nodes \n",
    "# and choose the longest distance found. This would result in O(n^2) runtime. \n",
    "# However, it turns out that two BFS passes are enough, leading to O(n) runtime \n",
    "# complexity. \n",
    "#\n",
    "# We first choose any arbitrary node, s, on a tree (e.g. node with index 0) and find\n",
    "# the farthest node on a tree, k, from node s. Then run BFS again starting from node\n",
    "# k and choose the largest distance found from node k as the diameter of a tree. \n",
    "#\n",
    "# The correctness of the aforementioned procedure can be proven as follows.\n",
    "#\n",
    "# Lets denote a and b to be the end points of some path which forms the diameter\n",
    "# of a tree, ie. d(a,b)>= d(v1,v2) for all v1, v2 \\in V. \n",
    "#\n",
    "# Then we have two cases that the first, arbitrarily chosen stating node s is on \n",
    "# some path from a to b (case 1) that forms a diameter of a tree or is not on such\n",
    "# path (case 2).\n",
    "#\n",
    "# Case 1: Lets consider, vertex k (ie. d(s,k)>=d(s,v) for all v \\in V). If path\n",
    "#         s->k shares no edges with paths s->a and s->b then  d(k,v)<= \n",
    "#         max(d(s,a),d(s,b)), otherwise we would get a larger diameter path. But\n",
    "#         since v is the farthest node from s we also have d(s,k)>=max(d(s,a),d(s,b)).\n",
    "#         Hence d(s,v)=max(d(s,a),d(s,b)) and the furthest node from k will be \n",
    "#         giving the right diameter after the BFS (ie either k->s->a or k->s->b).\n",
    "#         If path s->k shares some edges towards node a or towards node b then \n",
    "#         d(s,k)= d(s,a) or d(s,k)=d(s,b) using similar reasoning and the run of \n",
    "#         the second BFS will return a correct diameter of a tree.\n",
    "# Case 2: If s is not on some path a->b which forms a diameter of the graph then\n",
    "#         we know that paths s->a and s->b should reach this path at some node m\n",
    "#         (since the graph is a tree). If path s->k shares at least one vertex \n",
    "#         (say t) on path a->b then d(t,k)>=d(t,a) or d(t,k)>=d(t,b) (depending if \n",
    "#         a or b is reachable from vertex m via vertex t, which means that k can \n",
    "#         form a diameter of a graph (ie a->m-t->k or b->m->t->k). Otherwise, lets \n",
    "#         take vertex t (note t could equal s) which is the final vertex on path s->k\n",
    "#         which is also shared by paths s->a, s->b then d(s,t)+d(t,k)>= d(s,t)+d(t,m)\n",
    "#         + max(d(m,a),d(m,b)). Hence, d(t,k)>=d(t,m)+max(d(t,a),d(t,b)) and k is on\n",
    "#         a diameter path k->t->m->a or k->t->m->b.\n",
    "\n",
    "\n",
    "\n",
    "def bfs_distances(L):\n",
    "    \n",
    "    A, s = L[0], L[1]\n",
    "    n = len(A)\n",
    "    \n",
    "    color = [\"white\" for i in range(n)]\n",
    "    color[s] = \"gray\"\n",
    "    \n",
    "    queue = [s]\n",
    "    result = []\n",
    "    distance=[-1 for i in range(n)]\n",
    "    distance[s]=0\n",
    "    \n",
    "    while queue:\n",
    "        \n",
    "        u = queue.pop(0)\n",
    "        \n",
    "        for v in A[u]:\n",
    "            if color[v]==\"white\":\n",
    "                color[v] = \"gray\" \n",
    "                distance[v]=distance[u]+1\n",
    "                queue.append(v)\n",
    "                \n",
    "        color[u] = \"black\"\n",
    "        result.append(u)\n",
    "        \n",
    "    return distance\n",
    "\n",
    "def diameter(L):\n",
    "    A = L\n",
    "    n = len(A)\n",
    "\n",
    "    distances= bfs_distances([A,0])\n",
    "\n",
    "    max_dist = distances[0]\n",
    "    v = 0\n",
    "    \n",
    "    for i in range(1,n):\n",
    "        if max_dist<distances[i]:\n",
    "            max_dist=distances[i]\n",
    "            v = i\n",
    "    \n",
    "    distances_v = bfs_distances([A,v])\n",
    "    \n",
    "    return max(distances_v)"
   ]
  },
  {
   "cell_type": "markdown",
   "metadata": {},
   "source": [
    "### Tests:"
   ]
  },
  {
   "cell_type": "markdown",
   "metadata": {},
   "source": [
    "##### Run example test case 1:"
   ]
  },
  {
   "cell_type": "code",
   "execution_count": 5,
   "metadata": {},
   "outputs": [
    {
     "name": "stdout",
     "output_type": "stream",
     "text": [
      "4\n"
     ]
    }
   ],
   "source": [
    "input_value = [[1, 2], [0, 3, 4], [0, 5, 6], [1], [1], [2], [2]]\n",
    "print (diameter(input_value))"
   ]
  },
  {
   "cell_type": "markdown",
   "metadata": {},
   "source": [
    "##### Run example test case 2:"
   ]
  },
  {
   "cell_type": "code",
   "execution_count": 6,
   "metadata": {},
   "outputs": [
    {
     "name": "stdout",
     "output_type": "stream",
     "text": [
      "6\n"
     ]
    }
   ],
   "source": [
    "input_value = [[8, 9, 3, 4], [2, 9], [1, 5, 6], [0, 7], [0], [2], [2], [3], [0], [0, 1]]\n",
    "print (diameter(input_value))"
   ]
  },
  {
   "cell_type": "markdown",
   "metadata": {},
   "source": [
    "## 4. "
   ]
  },
  {
   "cell_type": "markdown",
   "metadata": {
    "cell_style": "center"
   },
   "source": [
    "Write the function, <b>topological_sort</b>($A$), which is given a list, $A$, of two lists as an input. The first list, $T,$ enumerates tasks to be performed. The second list, $C$, enumerates pairwise task order constraints. The function should output the order of tasks which would respect all the constraints. If a valid ordering is not possible the function should output a string, `\"impossible\"`.\n",
    "\n",
    "Each task is represented as a string (e.g. `\"sport\"`). Each task order constraint is represented by a string of two tasks separated by a dash, `\"-\"` (e.g. `\"homework-sport\"`). In order to respect this particular constraint the task `\"homework\"` should be performed before the task `\"sport\"`.<br>\n",
    "\n",
    "The worst case runtime of your solution should be not worse than $O(n+m)$, where $n$ is the number of tasks and $m$ is the number of constraints. <br>\n",
    "\n",
    "Note that a function, <b>to_adjacency_representation</b>$(T,C)$, is provided to convert the constraint list into an adjacency list representation. You can ignore the costs of this operation in your reasoning."
   ]
  },
  {
   "cell_type": "markdown",
   "metadata": {},
   "source": [
    "### Examples:"
   ]
  },
  {
   "cell_type": "markdown",
   "metadata": {},
   "source": [
    "**Input:** `[[\"homework\",\"sleep\",\"cycle\",\"eat\",\"learn\",\"sport\"],[\"homework-sport\",\"sleep-cycle\",\"eat-cycle\",\"eat-homework\",\"learn-cycle\"]]` <br>\n",
    "**Output:** `sleep-eat-learn-cycle-homework-sport`"
   ]
  },
  {
   "cell_type": "markdown",
   "metadata": {},
   "source": [
    "**Input:**  `[[\"homework\",\"sleep\",\"sport\"],[\"sleep-sport\",\"sport-homework\",\"homework-sleep\"]]` <br>\n",
    "**Output:**  `impossible`"
   ]
  },
  {
   "cell_type": "markdown",
   "metadata": {},
   "source": [
    "### Constraints:\n",
    "\n",
    "- $1\\leq n \\leq 50$.\n",
    "- $1\\leq m \\leq 50$."
   ]
  },
  {
   "cell_type": "markdown",
   "metadata": {},
   "source": [
    "### Code:"
   ]
  },
  {
   "cell_type": "code",
   "execution_count": 7,
   "metadata": {},
   "outputs": [],
   "source": [
    "# Straight-forward implementation of the topological sort.\n",
    "\n",
    "def to_adjacency_representation(T,C):\n",
    "    V={}\n",
    "    Adj=[]\n",
    "    for i in range(len(T)):\n",
    "        V[T[i]]=i\n",
    "        Adj.append([])\n",
    "    for i in range(len(C)):\n",
    "        v0 = C[i].split('-')[0]\n",
    "        v1 = C[i].split('-')[1]\n",
    "        Adj[V[v0]].append(V[v1])\n",
    "    return V,Adj\n",
    "\n",
    "def DFS(dfs_tree, time, v,v_list):\n",
    "    v['start_time']=time\n",
    "    assert v['color']=='white'\n",
    "    if v['color']=='white':\n",
    "        v['color']='gray'\n",
    "        for i in range(len(v['neighbours'])):\n",
    "            v_n = dfs_tree[v['neighbours'][i]]\n",
    "            if v_n['color'] == 'white':\n",
    "                time = time+1\n",
    "                v_n['parent']=v['id']\n",
    "                time,v_list=DFS(dfs_tree,time,v_n,v_list)\n",
    "                \n",
    "            elif v_n['color'] == 'gray':\n",
    "                v['loop_detected']=True\n",
    "        v['color']='black'\n",
    "        time+=1\n",
    "        v['stop_time']=time\n",
    "        v_list= [v]+v_list\n",
    "    return time,v_list\n",
    "\n",
    "def topological_sort(A): \n",
    "   \n",
    "    T, C = A[0], A[1]\n",
    "    V, Adj = to_adjacency_representation(T,C)\n",
    "   \n",
    "    # Insert code here\n",
    "    \n",
    "    dfs_tree = [{'name': T[i],'id':i,'parent':-1,'neighbours':Adj[i], 'loop_detected':False,'color':'white','start_time':0,'stop_time':0} for i in range(len(T))]\n",
    "\n",
    "    time=0\n",
    "    v_list=[]\n",
    "    for v in dfs_tree:\n",
    "        if v['color']=='white':\n",
    "            time,v_list = DFS(dfs_tree,time,v,v_list)\n",
    "            time +=1\n",
    "\n",
    "    result=v_list[0]['name']\n",
    "    if v_list[0]['loop_detected']==True:\n",
    "        return \"impossible\"\n",
    "    for i in range(1,len(v_list)):\n",
    "        if v_list[i]['loop_detected']==True:\n",
    "            return \"impossible\"\n",
    "        result+=\"-\"+v_list[i]['name']\n",
    "    return result"
   ]
  },
  {
   "cell_type": "markdown",
   "metadata": {},
   "source": [
    "### Tests:"
   ]
  },
  {
   "cell_type": "markdown",
   "metadata": {},
   "source": [
    "##### Run example test case 1:"
   ]
  },
  {
   "cell_type": "code",
   "execution_count": 8,
   "metadata": {},
   "outputs": [
    {
     "name": "stdout",
     "output_type": "stream",
     "text": [
      "learn-eat-sleep-cycle-homework-sport\n"
     ]
    }
   ],
   "source": [
    "input_value = [[\"homework\",\"sleep\",\"cycle\",\"eat\",\"learn\",\"sport\"],[\"homework-sport\",\"sleep-cycle\",\"eat-cycle\",\"eat-homework\",\"learn-cycle\"]]\n",
    "print (topological_sort(input_value))"
   ]
  },
  {
   "cell_type": "markdown",
   "metadata": {},
   "source": [
    "##### Run example test case 2:"
   ]
  },
  {
   "cell_type": "code",
   "execution_count": 9,
   "metadata": {},
   "outputs": [
    {
     "name": "stdout",
     "output_type": "stream",
     "text": [
      "impossible\n"
     ]
    }
   ],
   "source": [
    "input_value = [[\"homework\",\"sleep\",\"sport\"],[\"sleep-sport\",\"sport-homework\",\"homework-sleep\"]]\n",
    "print (topological_sort(input_value))"
   ]
  },
  {
   "cell_type": "markdown",
   "metadata": {},
   "source": [
    "## 5. "
   ]
  },
  {
   "cell_type": "markdown",
   "metadata": {
    "cell_style": "center"
   },
   "source": [
    "Write the function, **minimum_lenght**($L$), which takes in a list of 3 elements as an input. The first element, $n$, is the total number of vertices in the graph, the second element, $A$, is a list of triplets (lists of 3 elements) where each triplet, $[u_i,v_i,w_i]$, represent an edge from vertex $u_i$ to vertex $v_i$ of weight $w_i$ in a directed graph. The final element is the starting node, $s$. \n",
    "\n",
    "Your function should output the smallest distance, $d$, for which shortest paths, $\\delta(s,v_i)$, for all vertices $v_i$ in the graph, except $s$, are of the same length or shorter than $d$. If not all vertices can be reached from $s$ then your function should output `-1`."
   ]
  },
  {
   "cell_type": "markdown",
   "metadata": {},
   "source": [
    "### Examples:"
   ]
  },
  {
   "cell_type": "markdown",
   "metadata": {},
   "source": [
    "**Input:** `[4,[[1,0,1],[1,2,1],[2,3,1]], 1]` <br>\n",
    "**Output:** `2`"
   ]
  },
  {
   "cell_type": "markdown",
   "metadata": {},
   "source": [
    "**Input:**  `[2,[[0,1,1],1]` <br>\n",
    "**Output:**  `-1`"
   ]
  },
  {
   "cell_type": "markdown",
   "metadata": {},
   "source": [
    "### Constraints:\n",
    "\n",
    "- $1 \\leq n \\leq 100$.\n",
    "- $0 < w_i \\leq 10^6$."
   ]
  },
  {
   "cell_type": "markdown",
   "metadata": {},
   "source": [
    "### Code:"
   ]
  },
  {
   "cell_type": "code",
   "execution_count": 10,
   "metadata": {},
   "outputs": [],
   "source": [
    "# Implementing Bellman-Ford algorithm using the provided input structure is a very simple solution, yet,\n",
    "# not the most efficient one. A more efficient solution would be to implement Dijkstra's algorithm with \n",
    "# min-heap based min-priority queua which students are recommended to attempt.\n",
    "\n",
    "def minimum_length(L):\n",
    "    \n",
    "    n, A, s = L [0], L[1], L[2]\n",
    "    \n",
    "    # Initialize distances to large values, except for starting node s\n",
    "    \n",
    "    MAXVAL = 1000000000\n",
    "    distances = [MAXVAL for i in range(n)]\n",
    "    distances[s] = 0\n",
    "    \n",
    "    # Perform n-1 iterations of Bellman-Ford algorithm\n",
    "    \n",
    "    for i in range(n-1):\n",
    "        for u, v, w in A:\n",
    "            if distances[u] + w < distances[v]:\n",
    "                distances[v] = distances[u] + w\n",
    "    \n",
    "\n",
    "    max_distance = max(distances)\n",
    "    \n",
    "    if max_distance>=MAXVAL:\n",
    "        return -1\n",
    "    \n",
    "    return max_distance"
   ]
  },
  {
   "cell_type": "markdown",
   "metadata": {},
   "source": [
    "### Tests:"
   ]
  },
  {
   "cell_type": "markdown",
   "metadata": {},
   "source": [
    "##### Run example test case 1:"
   ]
  },
  {
   "cell_type": "code",
   "execution_count": 11,
   "metadata": {},
   "outputs": [
    {
     "name": "stdout",
     "output_type": "stream",
     "text": [
      "2\n"
     ]
    }
   ],
   "source": [
    "input_value = [4,[[1,0,1],[1,2,1],[2,3,1]], 1]\n",
    "print (minimum_length(input_value))"
   ]
  },
  {
   "cell_type": "markdown",
   "metadata": {},
   "source": [
    "##### Run example test case 2:"
   ]
  },
  {
   "cell_type": "code",
   "execution_count": 12,
   "metadata": {},
   "outputs": [
    {
     "name": "stdout",
     "output_type": "stream",
     "text": [
      "-1\n"
     ]
    }
   ],
   "source": [
    "input_value = [2,[[0,1,1]],1]\n",
    "print (minimum_length(input_value))"
   ]
  },
  {
   "cell_type": "markdown",
   "metadata": {},
   "source": [
    "## 6."
   ]
  },
  {
   "cell_type": "markdown",
   "metadata": {
    "cell_style": "center"
   },
   "source": [
    "Write the the function **multi_source_flow**($A$), which takes a list, $A$, as an input. The first element of this list is $n$ - the total number of vertices in the graph. The second element is $A$ - a list of triplets (lists of 3 elements) where each triplet, $[u_i,v_i,c_i]$, represents an edge from vertex, $u_i$, to vertex, $v_i$, of capacity, $c_i$, in some flow network. The final two elements are lists, $S$, and $T$, each of which represent a set of source nodes and sink nodes, respectively. The function should find the maximum flow that can flow through the flow network described in the input. Note that the flow network may contain anti-parallel edges (e.g. $(u,v)$ and $(v,u)$ at the same time).\n",
    "\n",
    "Also note, we assume that graph nodes are represented by integers from $0$ to $n-1$. "
   ]
  },
  {
   "cell_type": "markdown",
   "metadata": {},
   "source": [
    "### Examples:"
   ]
  },
  {
   "cell_type": "markdown",
   "metadata": {},
   "source": [
    "**Input:** `[7,[[0, 2, 5], [1, 3, 1],[2,3,1],[3,2,2],[2,4,6],[3,5,2],[4,6,3],[5,4,2],[5,6,3]],[0,1],[6]]` <br>\n",
    "**Output:** `5`"
   ]
  },
  {
   "cell_type": "markdown",
   "metadata": {},
   "source": [
    "**Input:**  `[8,[[0,2,4],[1,3,4],[2,3,3],[2,4,6],[3,5,2],[4,6,5],[4,5,6],[5,4,4],[5,7,1]],[0,1],[6,7]]` <br>\n",
    "**Output:**  `6`"
   ]
  },
  {
   "cell_type": "markdown",
   "metadata": {},
   "source": [
    "### Constraints:\n",
    "\n",
    "- $ 2\\leq n \\leq 100$.\n",
    "- The network always contains at least one source and one sink node."
   ]
  },
  {
   "cell_type": "markdown",
   "metadata": {},
   "source": [
    "### Code:"
   ]
  },
  {
   "cell_type": "code",
   "execution_count": 13,
   "metadata": {},
   "outputs": [],
   "source": [
    "# Simple application of Edmonds-Karp algorithm. The only changes required are to introduce a super-source node\n",
    "# and super-sink node as well as handling of anti-parallel edges.\n",
    "\n",
    "def bfs(graph,residual,source, sink, parent):\n",
    "    visited = [False for i in range(len(graph))]\n",
    "    q = []\n",
    "    q.append(source)\n",
    "    visited[source] = True\n",
    "    \n",
    "    while len(q)>0:\n",
    "        u = q.pop(0)\n",
    "        for idx, v in enumerate(graph[u]):\n",
    "            if not visited[v] and residual[u][v] > 0:\n",
    "                q.append(v)\n",
    "                visited[v] = True\n",
    "                parent[v] = u\n",
    "                if v == sink:\n",
    "                    return True\n",
    "                \n",
    "    return False\n",
    "\n",
    "def multi_source_flow(A):\n",
    "    \n",
    "    MAXVALUE=100000000\n",
    "    \n",
    "    n, edges, sources, sinks = A[0], A[1], A[2], A[3]\n",
    "    \n",
    "    # Add supersource and supersink\n",
    "\n",
    "    for v in sources:\n",
    "        edges.append([n,v,MAXVALUE])\n",
    "        \n",
    "    for v in sinks:\n",
    "        edges.append([v,n+1,MAXVALUE])\n",
    "    n = n + 2\n",
    "    \n",
    "    source, sink = n-2, n-1\n",
    "\n",
    "    # Build graph and residual graph\n",
    "    \n",
    "    graph = [[] for _ in range(n)]\n",
    "    residual = [[0 for _ in range(n)] for _ in range(n)]\n",
    "    \n",
    "    for edge in edges:\n",
    "        u = edge[0]\n",
    "        v = edge[1]\n",
    "        c = edge[2]\n",
    "        if residual[v][u]>0: #Anti-parallel edge detected\n",
    "            t = n\n",
    "            n=n+1\n",
    "            graph.append([])\n",
    "            graph[u].append(t)\n",
    "            graph[t].append(u)\n",
    "            graph[t].append(v)\n",
    "            graph[v].append(t)\n",
    "            for r in residual:\n",
    "                r.append(0)\n",
    "            residual.append([0 for _ in range(n)])\n",
    "            \n",
    "            residual[u][t] = c\n",
    "            residual[t][v]= c\n",
    "            \n",
    "        else:\n",
    "            graph[u].append(v)\n",
    "            graph[v].append(u)\n",
    "            residual[u][v] = c\n",
    "        \n",
    "    \n",
    "    # Finding maximum flow\n",
    "    \n",
    "    max_flow = 0\n",
    "    \n",
    "    parent = [-1 for _ in range(n)]\n",
    "    while bfs(graph,residual,source, sink, parent):\n",
    "        path_flow = MAXVALUE\n",
    "        s = sink\n",
    "        while s != source:\n",
    "            path_flow = min(path_flow, residual[parent[s]][s])\n",
    "            s = parent[s]\n",
    "                \n",
    "        max_flow += path_flow\n",
    "                \n",
    "        v = sink\n",
    "        while v != source:\n",
    "            u = parent[v]\n",
    "            residual[u][v] -= path_flow\n",
    "            residual[v][u] += path_flow\n",
    "            v = parent[v]\n",
    "        \n",
    "    return max_flow"
   ]
  },
  {
   "cell_type": "code",
   "execution_count": 112,
   "metadata": {},
   "outputs": [],
   "source": [
    "import queue\n",
    "\n",
    "class Wedge:\n",
    "    def __init__(self, start, end, capacity, flow):\n",
    "        self.start = start\n",
    "        self.end = end\n",
    "        self.capacity = capacity\n",
    "        self.flow = flow\n",
    "        self.prev = None\n",
    "        self.rev = None\n",
    "\n",
    "    def __repr__(self):\n",
    "        return f\"Wedge(start={self.start}, end={self.end}, capacity={self.capacity}, flow={self.flow})\"\n",
    "    \n",
    "    \n",
    "def bfs( G_wadjl, start, super_sink ):\n",
    "    \n",
    "    q = queue.Queue()\n",
    "    v = set()\n",
    "    q.put( (start, None) )\n",
    "    \n",
    "    while not q.empty():\n",
    "        \n",
    "        current, prev_wedge = q.get()\n",
    "        \n",
    "        for wedge in G_wadjl[current]:\n",
    "            if wedge.end in v or wedge.flow >= wedge.capacity:\n",
    "                continue\n",
    "            \n",
    "            wedge.prev = prev_wedge\n",
    "            v.add(wedge.end)\n",
    "            q.put( (wedge.end, wedge) )\n",
    "            \n",
    "            if wedge.end == super_sink:\n",
    "                return wedge\n",
    "    \n",
    "\n",
    "def add_wedge( G_wadjl, start, end, capacity ):\n",
    "    \n",
    "    forward = Wedge(start, end, capacity, 0)\n",
    "    backward = Wedge(start, end, capacity, capacity)\n",
    "    \n",
    "    forward.rev, backward.rev = backward, forward\n",
    "    \n",
    "    G_wadjl[start].append( forward ) \n",
    "    G_wadjl[end].append( backward )\n",
    "    \n",
    "    \n",
    "def make_wadjl( n, G_wedgl, sources, sinks ):\n",
    "    \n",
    "    N = n+2\n",
    "    super_source = N-2\n",
    "    super_sink = N-1\n",
    "    \n",
    "    G_wadjl = [ [] for _ in range(N) ]\n",
    "    \n",
    "    for u, v, w in G_wedgl:\n",
    "        \n",
    "        if [ w for w in G_wadjl[v] if w.end == u ]:\n",
    "            \n",
    "            G_wadjl.append([])\n",
    "            m = len(G_wadjl) - 1\n",
    "            \n",
    "            add_wedge( G_wadjl, u, m, w )\n",
    "            add_wedge( G_wadjl, m, v, w )\n",
    "            \n",
    "        else:\n",
    "            add_wedge( G_wadjl, u, v, w )\n",
    "        \n",
    "    for s in sources:\n",
    "        add_wedge( G_wadjl, super_source, s, 1000 )\n",
    "        \n",
    "    for s in sinks:\n",
    "        add_wedge( G_wadjl, s, super_sink, 1000 )\n",
    "        \n",
    "    return G_wadjl, super_source, super_sink\n",
    "\n",
    "\n",
    "\n",
    "def multi_source_flow( I ):\n",
    "    \n",
    "    N, G_wedgl, sources, sinks = I\n",
    "    G_wadjl, super_source, super_sink = make_wadjl( N, G_wedgl, sources, sinks )\n",
    "    \n",
    "    total_flow = 0\n",
    "    while True:\n",
    "\n",
    "        wedge = bfs( G_wadjl, super_source, super_sink )\n",
    "        \n",
    "        if wedge is None:\n",
    "            break\n",
    "        \n",
    "        flow = 1000\n",
    "        wedges = []\n",
    "        while wedge is not None:\n",
    "            flow = min(flow, wedge.capacity - wedge.flow)\n",
    "            wedges.append(wedge)\n",
    "            wedge = wedge.prev\n",
    "            \n",
    "        for wedge in wedges:\n",
    "            wedge.flow += flow\n",
    "            wedge.rev.flow -= flow\n",
    "        \n",
    "        total_flow += flow\n",
    "    \n",
    "    return total_flow\n",
    "    "
   ]
  },
  {
   "cell_type": "markdown",
   "metadata": {},
   "source": [
    "### Tests:"
   ]
  },
  {
   "cell_type": "markdown",
   "metadata": {},
   "source": [
    "##### Run example test case 1:"
   ]
  },
  {
   "cell_type": "code",
   "execution_count": 113,
   "metadata": {},
   "outputs": [
    {
     "name": "stdout",
     "output_type": "stream",
     "text": [
      "5\n"
     ]
    }
   ],
   "source": [
    "input_value = [7,[[0, 2, 5],[1, 3, 1],[2,3,1],[3,2,2],[2,4,6],[3,5,2],[4,6,3],[5,4,2],[5,6,3]],[0,1],[6]]\n",
    "print (multi_source_flow(input_value))"
   ]
  },
  {
   "cell_type": "markdown",
   "metadata": {},
   "source": [
    "##### Run example test case 2:"
   ]
  },
  {
   "cell_type": "code",
   "execution_count": 114,
   "metadata": {},
   "outputs": [
    {
     "name": "stdout",
     "output_type": "stream",
     "text": [
      "6\n"
     ]
    }
   ],
   "source": [
    "input_value = [8,[[0,2,4],[1,3,4],[2,3,3],[2,4,6],[3,5,2],[4,6,5],[4,5,6],[5,4,4],[5,7,1]],[0,1],[6,7]]\n",
    "print (multi_source_flow(input_value))"
   ]
  }
 ],
 "metadata": {
  "kernelspec": {
   "display_name": "Python 3 (ipykernel)",
   "language": "python",
   "name": "python3"
  },
  "language_info": {
   "codemirror_mode": {
    "name": "ipython",
    "version": 3
   },
   "file_extension": ".py",
   "mimetype": "text/x-python",
   "name": "python",
   "nbconvert_exporter": "python",
   "pygments_lexer": "ipython3",
   "version": "3.11.2"
  }
 },
 "nbformat": 4,
 "nbformat_minor": 4
}
