{
 "cells": [
  {
   "cell_type": "code",
   "execution_count": 21,
   "id": "69d90dd3",
   "metadata": {},
   "outputs": [],
   "source": [
    "adjacency_list = [\n",
    "    [1,2,3],\n",
    "    [0,2,3],\n",
    "    [0,1,3],\n",
    "    [0,1,2],\n",
    "    [0,3]\n",
    "]\n",
    "\n",
    "edge_list = [\n",
    "    \n",
    "]\n",
    "\n",
    "adjacency_matrix = [\n",
    "    [0,1,1,1,0],\n",
    "    [1,0,1,1,0],\n",
    "    [1,1,0,1,0],\n",
    "    [1,1,1,0,0],\n",
    "    [1,0,0,1,0],\n",
    "]\n",
    "\n",
    "def adj_list_to_mat( adj_list ):\n",
    "    \n",
    "    return [ [1 if i in row else 0 for i, _ in enumerate(adj_list) ] \n",
    "            for row in adj_list ]\n",
    "    \n",
    "\n",
    "def adj_list_to_edge_list( adj_list ):\n",
    "    \n",
    "    return [ (i,j) for i, E in enumerate(adj_list) for j in E ]\n",
    "\n",
    "\n",
    "def adj_mat_to_list( adj_mat ):\n",
    "    \n",
    "    return [ [i for i, v in enumerate(row) if v] \n",
    "            for row in adj_mat ]\n"
   ]
  },
  {
   "cell_type": "code",
   "execution_count": 22,
   "id": "27f908c6",
   "metadata": {},
   "outputs": [
    {
     "data": {
      "text/plain": [
       "[(0, 1),\n",
       " (0, 2),\n",
       " (0, 3),\n",
       " (1, 0),\n",
       " (1, 2),\n",
       " (1, 3),\n",
       " (2, 0),\n",
       " (2, 1),\n",
       " (2, 3),\n",
       " (3, 0),\n",
       " (3, 1),\n",
       " (3, 2),\n",
       " (4, 0),\n",
       " (4, 3)]"
      ]
     },
     "execution_count": 22,
     "metadata": {},
     "output_type": "execute_result"
    }
   ],
   "source": [
    "adj_list_to_edge_list( adjacency_list )"
   ]
  },
  {
   "cell_type": "code",
   "execution_count": 40,
   "id": "5be48691",
   "metadata": {},
   "outputs": [],
   "source": [
    "G1_adjl = [\n",
    "    [1, 2], # 0\n",
    "    [2, 3], # 1\n",
    "    [3, 4], # 2\n",
    "    [5], # 3\n",
    "    [5], # 4\n",
    "    [], # 5\n",
    "]"
   ]
  },
  {
   "cell_type": "code",
   "execution_count": 36,
   "id": "435b7b10",
   "metadata": {},
   "outputs": [],
   "source": [
    "class Queue:\n",
    "    def __init__(self):\n",
    "        self.list = []\n",
    "        self.set = set()\n",
    "        self.front = 0\n",
    "        \n",
    "    def push( self, x ):\n",
    "        self.list.append(x)\n",
    "        self.set.add(x)\n",
    "    \n",
    "    def pop( self ):\n",
    "        if self.empty():\n",
    "            return None\n",
    "        self.front += 1\n",
    "        return self.list[self.front - 1]\n",
    "    \n",
    "    def empty( self ):\n",
    "        return self.front == len(self.list)\n",
    "    \n",
    "    def has_contained( self, x ):\n",
    "        return x in self.set"
   ]
  },
  {
   "cell_type": "code",
   "execution_count": 38,
   "id": "505386d1",
   "metadata": {},
   "outputs": [],
   "source": [
    "def bfs( G_adjl, s ):\n",
    "    \n",
    "    queue = Queue()\n",
    "    \n",
    "    queue.push(s)\n",
    "    \n",
    "    while not queue.empty():\n",
    "        \n",
    "        current = queue.pop()\n",
    "        print(current)\n",
    "        \n",
    "        for connection in G_adjl[current]:\n",
    "            if queue.has_contained(connection):\n",
    "                continue\n",
    "            queue.push(connection)"
   ]
  },
  {
   "cell_type": "code",
   "execution_count": 43,
   "id": "72ca1237",
   "metadata": {},
   "outputs": [
    {
     "name": "stdout",
     "output_type": "stream",
     "text": [
      "4\n",
      "5\n"
     ]
    }
   ],
   "source": [
    "bfs(G1_adjl, 4)"
   ]
  },
  {
   "cell_type": "code",
   "execution_count": 24,
   "id": "f8b55a4d",
   "metadata": {},
   "outputs": [],
   "source": [
    "G_adjl = [\n",
    "    [(1,6),(2,1),(3,1)],\n",
    "    [(0,1),(2,1),(3,1)],\n",
    "    [(0,1),(1,1),(3,1)],\n",
    "    [(0,1),(1,1),(2,1)]\n",
    "]\n",
    "\n",
    "\n",
    "def mst( G_adjl, source_index=0 ):\n",
    "    \n",
    "    N = len( G_adjl )\n",
    "    frontier = [ source_index ]\n",
    "    \n",
    "    spanning_tree = []\n",
    "    \n",
    "    \n",
    "    while True:\n",
    "        \n",
    "        candidates = [\n",
    "            (i,j,w) for i, connections in enumerate([G_adjl[i] for i in frontier])\n",
    "            for (j,w) in connections\n",
    "            if j not in frontier and i != j\n",
    "        ]\n",
    "        \n",
    "        if not candidates:\n",
    "            return spanning_tree\n",
    "        \n",
    "        print(candidates)\n",
    "        \n",
    "        min_edge = min( candidates, key=lambda e: e[2] )\n",
    "        \n",
    "        spanning_tree.append( min_edge )\n",
    "        frontier.append( min_edge[1] )"
   ]
  },
  {
   "cell_type": "code",
   "execution_count": 25,
   "id": "e4318df4",
   "metadata": {},
   "outputs": [
    {
     "name": "stdout",
     "output_type": "stream",
     "text": [
      "[(0, 1, 6), (0, 2, 1), (0, 3, 1)]\n",
      "[(0, 1, 6), (0, 3, 1), (1, 3, 1)]\n",
      "[(0, 1, 6), (2, 1, 1)]\n"
     ]
    },
    {
     "data": {
      "text/plain": [
       "[(0, 2, 1), (0, 3, 1), (2, 1, 1)]"
      ]
     },
     "execution_count": 25,
     "metadata": {},
     "output_type": "execute_result"
    }
   ],
   "source": [
    "mst( G_adjl )"
   ]
  }
 ],
 "metadata": {
  "kernelspec": {
   "display_name": "Python 3 (ipykernel)",
   "language": "python",
   "name": "python3"
  },
  "language_info": {
   "codemirror_mode": {
    "name": "ipython",
    "version": 3
   },
   "file_extension": ".py",
   "mimetype": "text/x-python",
   "name": "python",
   "nbconvert_exporter": "python",
   "pygments_lexer": "ipython3",
   "version": "3.11.2"
  }
 },
 "nbformat": 4,
 "nbformat_minor": 5
}
